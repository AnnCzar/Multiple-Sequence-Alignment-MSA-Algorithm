{
 "cells": [
  {
   "cell_type": "markdown",
   "metadata": {},
   "source": [
    "# Lista 3 - MULTIPLE SEQUENCE ALIGNMENT - MSA"
   ]
  },
  {
   "cell_type": "code",
   "execution_count": 1,
   "metadata": {},
   "outputs": [],
   "source": [
    "import numpy as np\n",
    "import matplotlib.pyplot as plt\n",
    "import seaborn as sns\n",
    "import uniprot\n",
    "import pprint\n",
    "import requests\n",
    "import re\n",
    "import seaborn as sns \n",
    "import os\n",
    "import plotly.graph_objects as go\n",
    "import pandas as pd"
   ]
  },
  {
   "cell_type": "code",
   "execution_count": 2,
   "metadata": {},
   "outputs": [],
   "source": [
    "def open_seq(path_or_id):\n",
    "\n",
    "    \"\"\"\n",
    "    Opening a file based on the provided path or fetching data from the Uniprot website based on the given ID and extracting the sequence.\n",
    "\n",
    "    Args:\n",
    "    path_or_id (str): Path to the file or protein ID\n",
    "\n",
    "    Returns:\n",
    "    str: Extracted sequence\n",
    "\n",
    "    Raises:\n",
    "    FileNotFoundError: If the file is not found\n",
    "    ValueError: If the extracted sequence does not have a valid format\n",
    "    \"\"\"\n",
    "\n",
    "    url=\"http://www.uniprot.org/uniprot/\"\n",
    "        # url = f\"https://www.uniprot.org/uniprot/{path_or_id}.fasta\"\n",
    "    seq = \" \"\n",
    "    read = ''\n",
    "\n",
    "    if \".fasta\" in path_or_id:\n",
    "        try:\n",
    "            with open(path_or_id, \"r\") as f:\n",
    "                read = f.read()\n",
    "\n",
    "        except FileNotFoundError:\n",
    "                print(\"Not found your file\")\n",
    "    else:\n",
    "            currentUrl = url + path_or_id + \".fasta\"\n",
    "            response = r.post(currentUrl)\n",
    "            read= response.text\n",
    "\n",
    "    seq_alf = r'[ACDEFGHIKLMNPQRSTUVWY]+' \n",
    "\n",
    "\n",
    "    if \">\" in read:\n",
    "        sequence = ''.join(read.split('\\n')[1:])\n",
    "        sequence.upper()\n",
    "\n",
    "        if bool(re.fullmatch( seq_alf , sequence)) == False:\n",
    "            raise ValueError(\"Sequence contains unacceptable characters\")\n",
    "        else:  \n",
    "            return sequence\n",
    "    else:\n",
    "        raise ValueError(\"Header do not start with >\")\n"
   ]
  },
  {
   "cell_type": "markdown",
   "metadata": {},
   "source": [
    "# Algorytm Needelmana Wuncha"
   ]
  },
  {
   "cell_type": "code",
   "execution_count": 3,
   "metadata": {},
   "outputs": [],
   "source": [
    "\n",
    "def generate_matrix(seq1, seq2, gap):\n",
    "    \"\"\"\n",
    "    Generates two matrices for global sequence alignment.\n",
    "\n",
    "    Parameters:\n",
    "    seq1 (str): The first sequence.\n",
    "    seq2 (str): The second sequence.\n",
    "    gap (int): Gap penalty value.\n",
    "\n",
    "    Returns:\n",
    "    tuple: A tuple containing two matrices: scoring matrix and traceback matrix.\n",
    "    \"\"\"\n",
    "\n",
    "    n = len(seq1)\n",
    "    m = len(seq2)\n",
    "    matrix = np.zeros((n + 1, m + 1))\n",
    "    matrix_str = np.zeros((n + 1, m + 1))\n",
    "\n",
    "    # Initialize the first row and column with gap penalties and direction indicators\n",
    "    for i in range(1, n + 1):\n",
    "        matrix[i, 0] = matrix[i - 1, 0] + gap\n",
    "        matrix_str[i, 0] = 1  # 'U' indicates upward direction\n",
    "\n",
    "    for j in range(1, m + 1):\n",
    "        matrix[0, j] = matrix[0, j - 1] + gap\n",
    "        matrix_str[0, j] = 2  # 'L' indicates leftward direction\n",
    "\n",
    "    return matrix, matrix_str\n",
    "\n",
    "def global_alignment(seq1, seq2, gap, match, mismatch):\n",
    "    \"\"\"\n",
    "    Performs global sequence alignment using dynamic programming.\n",
    "\n",
    "    Parameters:\n",
    "    seq1 (str): The first sequence.\n",
    "    seq2 (str): The second sequence.\n",
    "    gap (int): Gap penalty value.\n",
    "    match (int): Score for a match.\n",
    "    mismatch (int): Penalty for a mismatch.\n",
    "\n",
    "    Returns:\n",
    "    tuple: A tuple containing two matrices: scoring matrix and traceback matrix.\n",
    "    \"\"\"\n",
    "\n",
    "    matrix, matrix_str = generate_matrix(seq1, seq2, gap)\n",
    "    str_track = {\"U\": 1, \"L\": 2, \"D\": 3}  # Direction indicators\n",
    "\n",
    "    for i in range(1, len(seq1) + 1):\n",
    "        for j in range(1, len(seq2) + 1):\n",
    "            # Calculate the scores for three possible moves\n",
    "            match1 = matrix[i - 1, j - 1] + (match if seq1[i - 1] == seq2[j - 1] else mismatch)\n",
    "            matrix[i, j] = max(matrix[i - 1, j] + gap, matrix[i, j - 1] + gap, match1)\n",
    "\n",
    "            # Determine the direction for traceback based on the maximum score\n",
    "            if matrix[i, j] == matrix[i - 1, j] + gap:\n",
    "                matrix_str[i, j] = str_track[\"U\"]\n",
    "            elif matrix[i, j] == matrix[i, j - 1] + gap:\n",
    "                matrix_str[i, j] = str_track[\"L\"]\n",
    "            else:\n",
    "                matrix_str[i, j] = str_track[\"D\"]\n",
    "\n",
    "    return matrix, matrix_str\n",
    "\n",
    "def traceback_global(seq1, seq2, matrix_str, gap):\n",
    "    \"\"\"\n",
    "    Performs traceback to retrieve the aligned sequences from the traceback matrix.\n",
    "\n",
    "    Parameters:\n",
    "    seq1 (str): The first sequence.\n",
    "    seq2 (str): The second sequence.\n",
    "    matrix_str (numpy.ndarray): The traceback matrix obtained from global alignment.\n",
    "    gap (int): Gap penalty value.\n",
    "\n",
    "    Returns:\n",
    "    tuple: A tuple containing the aligned sequences.\n",
    "    \"\"\"\n",
    "\n",
    "    str_track = {\"U\": 1, \"L\": 2, \"D\": 3}  # Direction indicators\n",
    "    new_seq1 = []\n",
    "    new_seq2 = []\n",
    "    i, j = len(seq1), len(seq2)\n",
    "\n",
    "    # Traceback from the bottom-right cell to reconstruct aligned sequences\n",
    "    while i > 0 or j > 0:\n",
    "        if matrix_str[i, j] == str_track[\"D\"]:\n",
    "            new_seq1.append(seq1[i - 1])\n",
    "            new_seq2.append(seq2[j - 1])\n",
    "            i -= 1\n",
    "            j -= 1\n",
    "        elif matrix_str[i, j] == str_track[\"U\"]:\n",
    "            new_seq1.append(seq1[i - 1])\n",
    "            new_seq2.append('-')  # Gap in seq2\n",
    "            i -= 1\n",
    "        elif matrix_str[i, j] == str_track[\"L\"]:\n",
    "            new_seq1.append('-')  # Gap in seq1\n",
    "            new_seq2.append(seq2[j - 1])\n",
    "            j -= 1\n",
    "\n",
    "    return ''.join(new_seq1[::-1]), ''.join(new_seq2[::-1])\n"
   ]
  },
  {
   "cell_type": "markdown",
   "metadata": {},
   "source": [
    "## Generowanie macierzy z scorem z wszystkich dopasowań, oraz znalezienie sekwencji centralnej"
   ]
  },
  {
   "cell_type": "code",
   "execution_count": 4,
   "metadata": {},
   "outputs": [],
   "source": [
    "def central_aligment(seqs, gap, match, mismatch):\n",
    "    \"\"\"\n",
    "    Performs central sequence alignment for a list of sequences.\n",
    "\n",
    "    This function aligns a list of sequences against each other to find a central alignment,\n",
    "    maximizing the overall alignment score.\n",
    "\n",
    "    Parameters:\n",
    "    seqs (list of str): List of sequences to be aligned.\n",
    "    gap (int): Gap penalty value.\n",
    "    match (int): Score for a match.\n",
    "    mismatch (int): Penalty for a mismatch.\n",
    "\n",
    "    Returns:\n",
    "    tuple: A tuple containing:\n",
    "        - numpy.ndarray: Matrix of alignment scores between sequences.\n",
    "        - int: Score of the central alignment.\n",
    "        - int: Index of the sequence chosen as the central alignment.\n",
    "    \"\"\"\n",
    "\n",
    "    number_of_seqs = len(seqs)   # liczba seq\n",
    "    matrix_of_score = np.zeros((number_of_seqs, number_of_seqs+1))  #wyniki dopasowania\n",
    "\n",
    "    for i in range(number_of_seqs):   # dopasowania kazda z kazda\n",
    "        for j in range(number_of_seqs):\n",
    "            mat, mat_track = global_alignment(seqs[i], seqs[j], gap, match, mismatch)\n",
    "            score = mat[len(seqs[i]), len(seqs[j])]\n",
    "\n",
    "            if i==j:\n",
    "                matrix_of_score[i,j] = 0\n",
    "            else:\n",
    "                matrix_of_score[i,j] = score\n",
    "                matrix_of_score[i, number_of_seqs] += score  \n",
    "            \n",
    "    msa_score = 0\n",
    "    index_of_aligment = 0\n",
    "    for i in range(number_of_seqs):\n",
    "        msa_sc = matrix_of_score[i, number_of_seqs]  # sumowanie dla danej seq dopsaowania\n",
    "\n",
    "        if (msa_sc > msa_score):\n",
    "            msa_score = msa_sc\n",
    "            index_of_aligment = i\n",
    "\n",
    "    return matrix_of_score, msa_score, index_of_aligment\n",
    "\n",
    "\n"
   ]
  },
  {
   "cell_type": "code",
   "execution_count": 5,
   "metadata": {},
   "outputs": [],
   "source": [
    "def get_MSA(seqs, index_of_aligment):\n",
    "    \"\"\"\n",
    "    Retrieves the central sequence from a list of sequences based on the index of alignment.\n",
    "\n",
    "    This function retrieves the central sequence from a list of sequences based on the index\n",
    "    of the alignment chosen as the central alignment.\n",
    "\n",
    "    Parameters:\n",
    "    seqs (list of str): List of sequences.\n",
    "    index_of_alignment (int): Index of the sequence chosen as the central alignment.\n",
    "\n",
    "    Returns:\n",
    "    str: The central sequence.\n",
    "    \"\"\"\n",
    "    # Pobranie centralnej sekwencji na podstawie indeksu wybranej sekwencji\n",
    "    number_of_seqs = len(seqs)\n",
    "    \n",
    "    return seqs[index_of_aligment]\n",
    "\n"
   ]
  },
  {
   "cell_type": "markdown",
   "metadata": {},
   "source": [
    "## Ponowne porównanie sekwencji w prach z sekwnecją centralną"
   ]
  },
  {
   "cell_type": "code",
   "execution_count": 6,
   "metadata": {},
   "outputs": [],
   "source": [
    "def final_MSA(seqs, MSA,  gap, match, mismatch):\n",
    "    \"\"\"\n",
    "    Performs final multiple sequence alignment (MSA) against a central alignment.\n",
    "\n",
    "    This function performs the final multiple sequence alignment (MSA) against a central alignment\n",
    "    for a list of sequences. It aligns each sequence with the central alignment sequence (MSA)\n",
    "    using global alignment and retrieves the aligned sequences.\n",
    "\n",
    "    Parameters:\n",
    "    seqs (list of str): List of sequences to be aligned.\n",
    "    MSA (str): Central alignment sequence.\n",
    "    gap (int): Gap penalty value.\n",
    "    match (int): Score for a match.\n",
    "    mismatch (int): Penalty for a mismatch.\n",
    "\n",
    "    Returns:\n",
    "    dict: A dictionary containing aligned sequences for each input sequence index.\n",
    "          Each key corresponds to the index of the input sequence, and the value is a tuple\n",
    "          containing the aligned sequences with the central alignment sequence.\n",
    "    \"\"\"\n",
    "    number_of_seqs = len(seqs)\n",
    "    final_MSA = {}  # Inicjalizacja słownika do przechowywania dopasowanych sekwencji\n",
    "    i = 0\n",
    "    while i < number_of_seqs:\n",
    "        if (MSA == seqs[i]):\n",
    "            i += 1\n",
    "        else:\n",
    "            # Wykonanie globalnego dopasowania między MSA a bieżącą sekwencją\n",
    "            matrix, matrix_str = global_alignment(MSA, seqs[i], gap, match, mismatch)\n",
    "             # Pobranie dopasowanych sekwencji\n",
    "            seq1, seq2 = traceback_global(MSA, seqs[i], matrix_str, gap)\n",
    "            # Zapisanie dopasowanych sekwencji w słowniku final_MSA\n",
    "            final_MSA[i] = seq1,seq2\n",
    "\n",
    "            i += 1\n",
    "    return final_MSA\n",
    "\n",
    "        \n"
   ]
  },
  {
   "cell_type": "markdown",
   "metadata": {},
   "source": [
    "# Dopasowanie końcowe"
   ]
  },
  {
   "cell_type": "code",
   "execution_count": 7,
   "metadata": {},
   "outputs": [],
   "source": [
    "def final_final_version(MSA, seqs):\n",
    "    \"\"\"\n",
    "    Performs final adjustments to multiple sequence alignment (MSA) relative to the central alignment.\n",
    "\n",
    "    This function performs final adjustments to multiple sequence alignment (MSA) relative to the central alignment.\n",
    "    The adjustments involve inserting \"-\" characters in sequences that contain gaps relative to the central sequence.\n",
    "\n",
    "    Parameters:\n",
    "    MSA (str): The central alignment sequence.\n",
    "    seqs (dict): A dictionary containing aligned sequences for each input sequence index.\n",
    "                 Each key corresponds to the index of the input sequence, and the value is a tuple\n",
    "                 containing aligned sequences with respect to the central alignment sequence.\n",
    "\n",
    "    Returns:\n",
    "    list: List of sequences after final adjustment of alignment.\n",
    "    \"\"\"\n",
    "    MSA_new = MSA\n",
    "    seq_msa =[]\n",
    "    seq_another = []\n",
    "\n",
    "    # Przypisanie sekwencji MSA do nowej zmiennej MSA_new\n",
    "    # oraz zapisanie sekwencji z sekwencji MSA i innych sekwencji do osobnych list\n",
    "    for k11, v11 in seqs.items():\n",
    "        seq_msa.append(v11[0])  \n",
    "        seq_another.append(v11[1])\n",
    "\n",
    "    for i in seq_msa:    # Iteracja po sekwencjach w seq_msa (sekwencjach pochodzących z MSA)\n",
    "\n",
    "        indexi = seq_msa.index(i)\n",
    "        if i !=MSA_new:   # Sprawdzenie, czy sekwencja jest różna od sekwencji MSA_new\n",
    "            temp_msa = i\n",
    "            temp_seq = 'proba'\n",
    "\n",
    "            for j in range(len(temp_msa)):    # Iteracja po indeksach w sekwencji temp_msa\n",
    "                \n",
    "                # Jeśli w temp_msa jest znak \"-\", to zostanie wstawiony w MSA_new i odpowiednich sekwencjach\n",
    "                if temp_msa[j] == '-' and j < len(MSA_new) and MSA_new[j] != '-':\n",
    "\n",
    "                    MSA_new = MSA_new[:j] + '-' + MSA_new[j:] # jak w temp_msa jest - to wsadzamy go do MSA_new j to index\n",
    "                    \n",
    "                    for k, string in enumerate(seq_another):\n",
    "     \n",
    "\n",
    "                        if k != indexi:\n",
    "                            seq_another[k] = seq_another[k][:j] + '-' + seq_another[k][j:]\n",
    "                # Jeśli temp_msa ma dłuższy indeks niż MSA_new, to znak \"-\" zostanie dołączony na końcu MSA_new\n",
    "                elif  temp_msa[j] == '-' and j >= len(MSA_new) :\n",
    "                    MSA_new = MSA_new + '-'\n",
    "\n",
    "                    for k, string in enumerate(seq_another):\n",
    "\n",
    "                        if k != indexi:\n",
    "                            seq_another[k] = seq_another[k][:j] + '-' + seq_another[k][j:]\n",
    "     # Dodanie MSA_new na początku listy seq_another\n",
    "    seq_another = [MSA_new]+ seq_another\n",
    "\n",
    "    return seq_another"
   ]
  },
  {
   "cell_type": "markdown",
   "metadata": {},
   "source": [
    "# Wyświetlenie graficzne"
   ]
  },
  {
   "cell_type": "code",
   "execution_count": 8,
   "metadata": {},
   "outputs": [],
   "source": [
    "# def grafic_show(seq_another, gap, match, mismatch):\n",
    "#     \"\"\"\n",
    "#     Visualizes the multiple sequence alignment (MSA) using a heatmap.\n",
    "\n",
    "#     This function visualizes the multiple sequence alignment (MSA) using a heatmap,\n",
    "#     where each amino acid or gap symbol is represented by a unique color.\n",
    "\n",
    "#     Parameters:\n",
    "#     seq_another (list): List of sequences after final adjustment of alignment.\n",
    "\n",
    "#     Returns:\n",
    "#     None\n",
    "#     \"\"\"\n",
    "#     aminoacids = {  # Słownik mapujący aminokwasy i symbol luki na wartości numeryczne\n",
    "#         \"A\": 1,\n",
    "#         \"C\": 2,\n",
    "#         \"D\": 3,\n",
    "#         \"E\": 4,\n",
    "#         \"F\": 5,\n",
    "#         \"G\": 6,\n",
    "#         \"H\": 7,\n",
    "#         \"I\": 8,\n",
    "#         \"K\": 9,\n",
    "#         \"L\": 10,\n",
    "#         \"M\": 11,\n",
    "#         \"N\": 12,\n",
    "#         \"P\": 13,\n",
    "#         \"Q\": 14,\n",
    "#         \"R\": 15,\n",
    "#         \"S\": 16,\n",
    "#         \"T\": 17,\n",
    "#         \"V\": 18,\n",
    "#         \"W\": 19,\n",
    "#         \"Y\": 20,\n",
    "#         \"-\":50      \n",
    "#     }\n",
    "#     converted_sequences = []\n",
    "#     # Konwersja sekwencji na reprezentacje numeryczne za pomocą słownika aminoacids\n",
    "#     for sequence in seq_another:\n",
    "#         converted_sequence = [aminoacids[letter] for letter in sequence]\n",
    "#         converted_sequences.append(converted_sequence)   # cyferki\n",
    "\n",
    "#     split_sequences = [list(sequence) for sequence in seq_another]   # Podział sekwencji na listy pojedynczych znaków\n",
    "\n",
    "\n",
    "#     fig, ax = plt.subplots() \n",
    "#     ax.xaxis.set_ticks_position('none') \n",
    "#     ax.yaxis.set_ticks_position('none') \n",
    "#     ax.tick_params(length=0) \n",
    "    \n",
    "\n",
    "#     sns.heatmap(converted_sequences, annot=split_sequences, fmt=\"\", cbar=False, ax=ax)\n",
    "\n",
    "#     # ax.set_xticklabels(list(range(1, len(seq_another[0]) + 1)))\n",
    "#     ax.set_xticks(range(len(seq_another[0])))\n",
    "#     ax.set_xticklabels(list(range(1, len(seq_another[0]) + 1)), rotation=90) \n",
    "#     ax.set_yticklabels(['MSA'] + [f\"seq{i+1}\" for i in range(1, len(seq_another))])\n",
    "#     ax.set_xlabel('Position')\n",
    "#     ax.set_title(f'Multiple Sequence Alignment (MSA) \\n gap: {gap}, match: {match}, mismatch: {mismatch} ')\n",
    "#     mplcursors.cursor(hover=True)\n",
    "\n",
    "#     plt.show()\n",
    "\n",
    "# import plotly.graph_objects as go\n",
    "# def grafic_show(seq_another, gap, match, mismatch):\n",
    "#     aminoacids = {\n",
    "#         \"A\": 1, \"C\": 2, \"D\": 3, \"E\": 4, \"F\": 5, \"G\": 6, \"H\": 7, \"I\": 8, \"K\": 9, \"L\": 10,\n",
    "#         \"M\": 11, \"N\": 12, \"P\": 13, \"Q\": 14, \"R\": 15, \"S\": 16, \"T\": 17, \"V\": 18, \"W\": 19,\n",
    "#         \"Y\": 20, \"-\": 50\n",
    "#     }\n",
    "\n",
    "#     converted_sequences = np.zeros((len(seq_another), len(seq_another[0])))\n",
    "#     for i, sequence in enumerate(seq_another):\n",
    "#         for j, letter in enumerate(sequence):\n",
    "#             converted_sequences[i, j] = aminoacids[letter]\n",
    "\n",
    "#     fig = go.Figure()\n",
    "\n",
    "#     fig.add_trace(go.Heatmap(z=converted_sequences,\n",
    "#                              colorscale='Magma',  # Zmiana na przyjemniejszy zestaw kolorów\n",
    "#                              showscale=False,\n",
    "#                              x0=0,\n",
    "#                              dx=1,\n",
    "#                              y0=0,\n",
    "#                              dy=1,\n",
    "#                              hoverinfo='text',\n",
    "#                              text=seq_another))  # Użyj oryginalnych sekwencji jako tekstu\n",
    "\n",
    "#     fig.update_layout(title=f'Multiple Sequence Alignment (MSA)\\ngap: {gap}, match: {match}, mismatch: {mismatch}',\n",
    "#                       xaxis_title='Position',\n",
    "#                       yaxis_title='Sequence',\n",
    "#                       xaxis=dict(ticks='outside', tickangle=90),\n",
    "#                       yaxis=dict(ticks='outside', tickmode='array', tickvals=list(range(len(seq_another))), ticktext=[\"MSA\"] + [f'seq{i+2}' for i in range(len(seq_another) - 1)]))\n",
    "\n",
    "#     fig.show()\n",
    "# import plotly.graph_objects as go\n",
    "# import pandas as pd\n",
    "\n",
    "# def grafic_show(seq_another, gap, match, mismatch):\n",
    "#     \"\"\"\n",
    "#     Visualizes the multiple sequence alignment (MSA) using an interactive heatmap with Plotly,\n",
    "#     with annotations for each amino acid.\n",
    "\n",
    "#     Parameters:\n",
    "#     seq_another (list of str): List of sequences after final adjustment of alignment.\n",
    "#     gap (int): Numeric value representing a gap in the alignment.\n",
    "#     match (int): Numeric value representing a match in the alignment.\n",
    "#     mismatch (int): Numeric value representing a mismatch in the alignment.\n",
    "\n",
    "#     Returns:\n",
    "#     None\n",
    "#     \"\"\"\n",
    "#     aminoacids = {\n",
    "#         \"A\": 1, \"C\": 2, \"D\": 3, \"E\": 4, \"F\": 5, \"G\": 6, \"H\": 7, \"I\": 8, \n",
    "#         \"K\": 9, \"L\": 10, \"M\": 11, \"N\": 12, \"P\": 13, \"Q\": 14, \"R\": 15, \n",
    "#         \"S\": 16, \"T\": 17, \"V\": 18, \"W\": 19, \"Y\": 20, \"-\": 50      \n",
    "#     }\n",
    "#     # Convert sequences to numeric representation using the aminoacids dictionary\n",
    "#     numeric_sequences = [[aminoacids[aa] for aa in seq] for seq in seq_another]\n",
    "#     # Prepare DataFrame for easier annotation handling\n",
    "#     df = pd.DataFrame(numeric_sequences, columns=[f\"Pos {i+1}\" for i in range(len(seq_another[0]))], index=[f\"Seq {i+1}\" for i in range(len(seq_another))])\n",
    "\n",
    "#     # Prepare annotations\n",
    "#     annotations = []\n",
    "#     for y, sequence in enumerate(seq_another):\n",
    "#         for x, char in enumerate(sequence):\n",
    "#             annotations.append(\n",
    "#                 dict(\n",
    "#                     showarrow=False,\n",
    "#                     x=x,\n",
    "#                     y=y,\n",
    "#                     text=char,\n",
    "#                     xref=\"x\",\n",
    "#                     yref=\"y\"\n",
    "#                 )\n",
    "#             )\n",
    "\n",
    "#     # Create the heatmap with annotations\n",
    "#     fig = go.Figure(data=go.Heatmap(\n",
    "#         z=df.values,\n",
    "#         x=df.columns,\n",
    "#         y=df.index,\n",
    "#         showscale=True,\n",
    "#         colorscale=\"Viridis\"\n",
    "#     ))\n",
    "#     fig.update_layout(\n",
    "#         title=f\"Multiple Sequence Alignment (MSA) Visualization<br>Gap: {gap}, Match: {match}, Mismatch: {mismatch}\",\n",
    "#         annotations=annotations,\n",
    "#         xaxis=dict(ticks=\"\", side=\"top\"),\n",
    "#         yaxis=dict(ticks=\"\")\n",
    "#     )\n",
    "\n",
    "#     fig.show()\n",
    "\n",
    "\n",
    "\n",
    "\n",
    "\n",
    "def grafic_show(seq_another, gap, match, mismatch):\n",
    "    \"\"\"\n",
    "    Visualizes the multiple sequence alignment (MSA) using an interactive heatmap with Plotly,\n",
    "    with annotations for each amino acid, customized labels, and without a color scale.\n",
    "\n",
    "    Parameters:\n",
    "    seq_another (list of str): List of sequences after final adjustment of alignment.\n",
    "    gap (int): Numeric value representing a gap in the alignment.\n",
    "    match (int): Numeric value representing a match in the alignment.\n",
    "    mismatch (int): Numeric value representing a mismatch in the alignment.\n",
    "\n",
    "    Returns:\n",
    "    None\n",
    "    \"\"\"\n",
    "    aminoacids = {\n",
    "        \"A\": 1, \"C\": 2, \"D\": 3, \"E\": 4, \"F\": 5, \"G\": 6, \"H\": 7, \"I\": 8, \n",
    "        \"K\": 9, \"L\": 10, \"M\": 11, \"N\": 12, \"P\": 13, \"Q\": 14, \"R\": 15, \n",
    "        \"S\": 16, \"T\": 17, \"V\": 18, \"W\": 19, \"Y\": 20, \"-\": 50      \n",
    "    }\n",
    "\n",
    "    numeric_sequences = [[aminoacids[aa] for aa in seq] for seq in seq_another]\n",
    "\n",
    "    df = pd.DataFrame(numeric_sequences, columns=[f\"{i+1}\" for i in range(len(seq_another[0]))])\n",
    "    df.index = [\"MSA\"] + [f\"Seq {i+1}\" for i in range(1, len(seq_another))]\n",
    "\n",
    "\n",
    "    annotations = []\n",
    "    for y, sequence in enumerate(seq_another):\n",
    "        for x, char in enumerate(sequence):\n",
    "            annotations.append(\n",
    "                dict(\n",
    "                    showarrow=False,\n",
    "                    x=x,\n",
    "                    y=y,\n",
    "                    text=char,\n",
    "                    xref=\"x\",\n",
    "                    yref=\"y\"\n",
    "                )\n",
    "            )\n",
    "\n",
    "    fig = go.Figure(data=go.Heatmap(\n",
    "        z=df.values,\n",
    "        x=df.columns,\n",
    "        y=df.index,\n",
    "        showscale=False,  # Remove the color scale\n",
    "        colorscale=\"RdBu\"\n",
    "\n",
    "    ))\n",
    "    fig.update_layout(\n",
    "        title=f\"Multiple Sequence Alignment (MSA) Visualization<br>Gap: {gap}, Match: {match}, Mismatch: {mismatch}\",\n",
    "        annotations=annotations,\n",
    "        xaxis=dict(ticks=\"\", side=\"bottom\"),  # Position x-axis ticks at the bottom\n",
    "        yaxis=dict(ticks=\"\")\n",
    "    )\n",
    "\n",
    "    fig.show()\n",
    "\n",
    "\n"
   ]
  },
  {
   "cell_type": "markdown",
   "metadata": {},
   "source": [
    "# Zapis do pliku"
   ]
  },
  {
   "cell_type": "code",
   "execution_count": 9,
   "metadata": {},
   "outputs": [],
   "source": [
    "\n",
    "\n",
    "def save_results_global(seqs, aligned_seqs_dict, gap_count, mismatch_count, matching_positions, matrix, MSA, globalAligment, final, file_name=\"results.txt\"):\n",
    "\n",
    "    results = [\n",
    "        f\"Sequences before alignment: {seqs}\\n\",\n",
    "        f\"Gap: {gap_count}\\n\",\n",
    "        f\"Mismatch: {mismatch_count}\\n\",\n",
    "        f\"Match: {matching_positions}\\n\",\n",
    "        f\"Sequence aligment results:\\n {matrix}\\n\",\n",
    "        f\"MSA sequence: {MSA}\\n\",\n",
    "        f\"Sequences after needleman wunsch matching: {globalAligment}\\n\",\n",
    "        f\"Final version: {final}\\n\",\n",
    "    ]\n",
    "\n",
    "    # Zmiana nazwy pliku, jeśli już istnieje\n",
    "    if os.path.exists(file_name):\n",
    "        file_name, file_extension = os.path.splitext(file_name)\n",
    "        i = 1\n",
    "        while os.path.exists(f\"{file_name}_{i}{file_extension}\"):\n",
    "            i += 1\n",
    "        file_name = f\"{file_name}_{i}{file_extension}\"\n",
    "    \n",
    "    # Zapis danych do pliku\n",
    "    with open(file_name, \"w\") as file:\n",
    "        for line in results:\n",
    "            file.write(line + \"\\n\")\n"
   ]
  },
  {
   "cell_type": "markdown",
   "metadata": {},
   "source": [
    "# Wywołanie - zwykle"
   ]
  },
  {
   "cell_type": "code",
   "execution_count": 10,
   "metadata": {},
   "outputs": [
    {
     "name": "stdout",
     "output_type": "stream",
     "text": [
      "MSA: ATTGCCATT\n",
      "Matching sequences each with each{1: ('ATTGCCATT', 'ATGGCCATT'), 2: ('ATTGCCATT--', 'ATC-CAATTTT'), 3: ('ATTGCCATT', 'ATCTTC-TT'), 4: ('ATTGCCATT', 'ACTGACC--')}\n"
     ]
    },
    {
     "data": {
      "application/vnd.plotly.v1+json": {
       "config": {
        "plotlyServerURL": "https://plot.ly"
       },
       "data": [
        {
         "colorscale": [
          [
           0,
           "rgb(103,0,31)"
          ],
          [
           0.1,
           "rgb(178,24,43)"
          ],
          [
           0.2,
           "rgb(214,96,77)"
          ],
          [
           0.3,
           "rgb(244,165,130)"
          ],
          [
           0.4,
           "rgb(253,219,199)"
          ],
          [
           0.5,
           "rgb(247,247,247)"
          ],
          [
           0.6,
           "rgb(209,229,240)"
          ],
          [
           0.7,
           "rgb(146,197,222)"
          ],
          [
           0.8,
           "rgb(67,147,195)"
          ],
          [
           0.9,
           "rgb(33,102,172)"
          ],
          [
           1,
           "rgb(5,48,97)"
          ]
         ],
         "showscale": false,
         "type": "heatmap",
         "x": [
          "1",
          "2",
          "3",
          "4",
          "5",
          "6",
          "7",
          "8",
          "9",
          "10",
          "11"
         ],
         "y": [
          "MSA",
          "Seq 2",
          "Seq 3",
          "Seq 4",
          "Seq 5"
         ],
         "z": [
          [
           1,
           17,
           17,
           6,
           2,
           2,
           1,
           17,
           17,
           50,
           50
          ],
          [
           1,
           17,
           6,
           6,
           2,
           2,
           1,
           17,
           17,
           50,
           50
          ],
          [
           1,
           17,
           2,
           50,
           2,
           1,
           1,
           17,
           17,
           17,
           17
          ],
          [
           1,
           17,
           2,
           17,
           17,
           2,
           50,
           17,
           17,
           50,
           50
          ],
          [
           1,
           2,
           17,
           6,
           1,
           2,
           2,
           50,
           50,
           50,
           50
          ]
         ]
        }
       ],
       "layout": {
        "annotations": [
         {
          "showarrow": false,
          "text": "A",
          "x": 0,
          "xref": "x",
          "y": 0,
          "yref": "y"
         },
         {
          "showarrow": false,
          "text": "T",
          "x": 1,
          "xref": "x",
          "y": 0,
          "yref": "y"
         },
         {
          "showarrow": false,
          "text": "T",
          "x": 2,
          "xref": "x",
          "y": 0,
          "yref": "y"
         },
         {
          "showarrow": false,
          "text": "G",
          "x": 3,
          "xref": "x",
          "y": 0,
          "yref": "y"
         },
         {
          "showarrow": false,
          "text": "C",
          "x": 4,
          "xref": "x",
          "y": 0,
          "yref": "y"
         },
         {
          "showarrow": false,
          "text": "C",
          "x": 5,
          "xref": "x",
          "y": 0,
          "yref": "y"
         },
         {
          "showarrow": false,
          "text": "A",
          "x": 6,
          "xref": "x",
          "y": 0,
          "yref": "y"
         },
         {
          "showarrow": false,
          "text": "T",
          "x": 7,
          "xref": "x",
          "y": 0,
          "yref": "y"
         },
         {
          "showarrow": false,
          "text": "T",
          "x": 8,
          "xref": "x",
          "y": 0,
          "yref": "y"
         },
         {
          "showarrow": false,
          "text": "-",
          "x": 9,
          "xref": "x",
          "y": 0,
          "yref": "y"
         },
         {
          "showarrow": false,
          "text": "-",
          "x": 10,
          "xref": "x",
          "y": 0,
          "yref": "y"
         },
         {
          "showarrow": false,
          "text": "A",
          "x": 0,
          "xref": "x",
          "y": 1,
          "yref": "y"
         },
         {
          "showarrow": false,
          "text": "T",
          "x": 1,
          "xref": "x",
          "y": 1,
          "yref": "y"
         },
         {
          "showarrow": false,
          "text": "G",
          "x": 2,
          "xref": "x",
          "y": 1,
          "yref": "y"
         },
         {
          "showarrow": false,
          "text": "G",
          "x": 3,
          "xref": "x",
          "y": 1,
          "yref": "y"
         },
         {
          "showarrow": false,
          "text": "C",
          "x": 4,
          "xref": "x",
          "y": 1,
          "yref": "y"
         },
         {
          "showarrow": false,
          "text": "C",
          "x": 5,
          "xref": "x",
          "y": 1,
          "yref": "y"
         },
         {
          "showarrow": false,
          "text": "A",
          "x": 6,
          "xref": "x",
          "y": 1,
          "yref": "y"
         },
         {
          "showarrow": false,
          "text": "T",
          "x": 7,
          "xref": "x",
          "y": 1,
          "yref": "y"
         },
         {
          "showarrow": false,
          "text": "T",
          "x": 8,
          "xref": "x",
          "y": 1,
          "yref": "y"
         },
         {
          "showarrow": false,
          "text": "-",
          "x": 9,
          "xref": "x",
          "y": 1,
          "yref": "y"
         },
         {
          "showarrow": false,
          "text": "-",
          "x": 10,
          "xref": "x",
          "y": 1,
          "yref": "y"
         },
         {
          "showarrow": false,
          "text": "A",
          "x": 0,
          "xref": "x",
          "y": 2,
          "yref": "y"
         },
         {
          "showarrow": false,
          "text": "T",
          "x": 1,
          "xref": "x",
          "y": 2,
          "yref": "y"
         },
         {
          "showarrow": false,
          "text": "C",
          "x": 2,
          "xref": "x",
          "y": 2,
          "yref": "y"
         },
         {
          "showarrow": false,
          "text": "-",
          "x": 3,
          "xref": "x",
          "y": 2,
          "yref": "y"
         },
         {
          "showarrow": false,
          "text": "C",
          "x": 4,
          "xref": "x",
          "y": 2,
          "yref": "y"
         },
         {
          "showarrow": false,
          "text": "A",
          "x": 5,
          "xref": "x",
          "y": 2,
          "yref": "y"
         },
         {
          "showarrow": false,
          "text": "A",
          "x": 6,
          "xref": "x",
          "y": 2,
          "yref": "y"
         },
         {
          "showarrow": false,
          "text": "T",
          "x": 7,
          "xref": "x",
          "y": 2,
          "yref": "y"
         },
         {
          "showarrow": false,
          "text": "T",
          "x": 8,
          "xref": "x",
          "y": 2,
          "yref": "y"
         },
         {
          "showarrow": false,
          "text": "T",
          "x": 9,
          "xref": "x",
          "y": 2,
          "yref": "y"
         },
         {
          "showarrow": false,
          "text": "T",
          "x": 10,
          "xref": "x",
          "y": 2,
          "yref": "y"
         },
         {
          "showarrow": false,
          "text": "A",
          "x": 0,
          "xref": "x",
          "y": 3,
          "yref": "y"
         },
         {
          "showarrow": false,
          "text": "T",
          "x": 1,
          "xref": "x",
          "y": 3,
          "yref": "y"
         },
         {
          "showarrow": false,
          "text": "C",
          "x": 2,
          "xref": "x",
          "y": 3,
          "yref": "y"
         },
         {
          "showarrow": false,
          "text": "T",
          "x": 3,
          "xref": "x",
          "y": 3,
          "yref": "y"
         },
         {
          "showarrow": false,
          "text": "T",
          "x": 4,
          "xref": "x",
          "y": 3,
          "yref": "y"
         },
         {
          "showarrow": false,
          "text": "C",
          "x": 5,
          "xref": "x",
          "y": 3,
          "yref": "y"
         },
         {
          "showarrow": false,
          "text": "-",
          "x": 6,
          "xref": "x",
          "y": 3,
          "yref": "y"
         },
         {
          "showarrow": false,
          "text": "T",
          "x": 7,
          "xref": "x",
          "y": 3,
          "yref": "y"
         },
         {
          "showarrow": false,
          "text": "T",
          "x": 8,
          "xref": "x",
          "y": 3,
          "yref": "y"
         },
         {
          "showarrow": false,
          "text": "-",
          "x": 9,
          "xref": "x",
          "y": 3,
          "yref": "y"
         },
         {
          "showarrow": false,
          "text": "-",
          "x": 10,
          "xref": "x",
          "y": 3,
          "yref": "y"
         },
         {
          "showarrow": false,
          "text": "A",
          "x": 0,
          "xref": "x",
          "y": 4,
          "yref": "y"
         },
         {
          "showarrow": false,
          "text": "C",
          "x": 1,
          "xref": "x",
          "y": 4,
          "yref": "y"
         },
         {
          "showarrow": false,
          "text": "T",
          "x": 2,
          "xref": "x",
          "y": 4,
          "yref": "y"
         },
         {
          "showarrow": false,
          "text": "G",
          "x": 3,
          "xref": "x",
          "y": 4,
          "yref": "y"
         },
         {
          "showarrow": false,
          "text": "A",
          "x": 4,
          "xref": "x",
          "y": 4,
          "yref": "y"
         },
         {
          "showarrow": false,
          "text": "C",
          "x": 5,
          "xref": "x",
          "y": 4,
          "yref": "y"
         },
         {
          "showarrow": false,
          "text": "C",
          "x": 6,
          "xref": "x",
          "y": 4,
          "yref": "y"
         },
         {
          "showarrow": false,
          "text": "-",
          "x": 7,
          "xref": "x",
          "y": 4,
          "yref": "y"
         },
         {
          "showarrow": false,
          "text": "-",
          "x": 8,
          "xref": "x",
          "y": 4,
          "yref": "y"
         },
         {
          "showarrow": false,
          "text": "-",
          "x": 9,
          "xref": "x",
          "y": 4,
          "yref": "y"
         },
         {
          "showarrow": false,
          "text": "-",
          "x": 10,
          "xref": "x",
          "y": 4,
          "yref": "y"
         }
        ],
        "template": {
         "data": {
          "bar": [
           {
            "error_x": {
             "color": "#2a3f5f"
            },
            "error_y": {
             "color": "#2a3f5f"
            },
            "marker": {
             "line": {
              "color": "#E5ECF6",
              "width": 0.5
             },
             "pattern": {
              "fillmode": "overlay",
              "size": 10,
              "solidity": 0.2
             }
            },
            "type": "bar"
           }
          ],
          "barpolar": [
           {
            "marker": {
             "line": {
              "color": "#E5ECF6",
              "width": 0.5
             },
             "pattern": {
              "fillmode": "overlay",
              "size": 10,
              "solidity": 0.2
             }
            },
            "type": "barpolar"
           }
          ],
          "carpet": [
           {
            "aaxis": {
             "endlinecolor": "#2a3f5f",
             "gridcolor": "white",
             "linecolor": "white",
             "minorgridcolor": "white",
             "startlinecolor": "#2a3f5f"
            },
            "baxis": {
             "endlinecolor": "#2a3f5f",
             "gridcolor": "white",
             "linecolor": "white",
             "minorgridcolor": "white",
             "startlinecolor": "#2a3f5f"
            },
            "type": "carpet"
           }
          ],
          "choropleth": [
           {
            "colorbar": {
             "outlinewidth": 0,
             "ticks": ""
            },
            "type": "choropleth"
           }
          ],
          "contour": [
           {
            "colorbar": {
             "outlinewidth": 0,
             "ticks": ""
            },
            "colorscale": [
             [
              0,
              "#0d0887"
             ],
             [
              0.1111111111111111,
              "#46039f"
             ],
             [
              0.2222222222222222,
              "#7201a8"
             ],
             [
              0.3333333333333333,
              "#9c179e"
             ],
             [
              0.4444444444444444,
              "#bd3786"
             ],
             [
              0.5555555555555556,
              "#d8576b"
             ],
             [
              0.6666666666666666,
              "#ed7953"
             ],
             [
              0.7777777777777778,
              "#fb9f3a"
             ],
             [
              0.8888888888888888,
              "#fdca26"
             ],
             [
              1,
              "#f0f921"
             ]
            ],
            "type": "contour"
           }
          ],
          "contourcarpet": [
           {
            "colorbar": {
             "outlinewidth": 0,
             "ticks": ""
            },
            "type": "contourcarpet"
           }
          ],
          "heatmap": [
           {
            "colorbar": {
             "outlinewidth": 0,
             "ticks": ""
            },
            "colorscale": [
             [
              0,
              "#0d0887"
             ],
             [
              0.1111111111111111,
              "#46039f"
             ],
             [
              0.2222222222222222,
              "#7201a8"
             ],
             [
              0.3333333333333333,
              "#9c179e"
             ],
             [
              0.4444444444444444,
              "#bd3786"
             ],
             [
              0.5555555555555556,
              "#d8576b"
             ],
             [
              0.6666666666666666,
              "#ed7953"
             ],
             [
              0.7777777777777778,
              "#fb9f3a"
             ],
             [
              0.8888888888888888,
              "#fdca26"
             ],
             [
              1,
              "#f0f921"
             ]
            ],
            "type": "heatmap"
           }
          ],
          "heatmapgl": [
           {
            "colorbar": {
             "outlinewidth": 0,
             "ticks": ""
            },
            "colorscale": [
             [
              0,
              "#0d0887"
             ],
             [
              0.1111111111111111,
              "#46039f"
             ],
             [
              0.2222222222222222,
              "#7201a8"
             ],
             [
              0.3333333333333333,
              "#9c179e"
             ],
             [
              0.4444444444444444,
              "#bd3786"
             ],
             [
              0.5555555555555556,
              "#d8576b"
             ],
             [
              0.6666666666666666,
              "#ed7953"
             ],
             [
              0.7777777777777778,
              "#fb9f3a"
             ],
             [
              0.8888888888888888,
              "#fdca26"
             ],
             [
              1,
              "#f0f921"
             ]
            ],
            "type": "heatmapgl"
           }
          ],
          "histogram": [
           {
            "marker": {
             "pattern": {
              "fillmode": "overlay",
              "size": 10,
              "solidity": 0.2
             }
            },
            "type": "histogram"
           }
          ],
          "histogram2d": [
           {
            "colorbar": {
             "outlinewidth": 0,
             "ticks": ""
            },
            "colorscale": [
             [
              0,
              "#0d0887"
             ],
             [
              0.1111111111111111,
              "#46039f"
             ],
             [
              0.2222222222222222,
              "#7201a8"
             ],
             [
              0.3333333333333333,
              "#9c179e"
             ],
             [
              0.4444444444444444,
              "#bd3786"
             ],
             [
              0.5555555555555556,
              "#d8576b"
             ],
             [
              0.6666666666666666,
              "#ed7953"
             ],
             [
              0.7777777777777778,
              "#fb9f3a"
             ],
             [
              0.8888888888888888,
              "#fdca26"
             ],
             [
              1,
              "#f0f921"
             ]
            ],
            "type": "histogram2d"
           }
          ],
          "histogram2dcontour": [
           {
            "colorbar": {
             "outlinewidth": 0,
             "ticks": ""
            },
            "colorscale": [
             [
              0,
              "#0d0887"
             ],
             [
              0.1111111111111111,
              "#46039f"
             ],
             [
              0.2222222222222222,
              "#7201a8"
             ],
             [
              0.3333333333333333,
              "#9c179e"
             ],
             [
              0.4444444444444444,
              "#bd3786"
             ],
             [
              0.5555555555555556,
              "#d8576b"
             ],
             [
              0.6666666666666666,
              "#ed7953"
             ],
             [
              0.7777777777777778,
              "#fb9f3a"
             ],
             [
              0.8888888888888888,
              "#fdca26"
             ],
             [
              1,
              "#f0f921"
             ]
            ],
            "type": "histogram2dcontour"
           }
          ],
          "mesh3d": [
           {
            "colorbar": {
             "outlinewidth": 0,
             "ticks": ""
            },
            "type": "mesh3d"
           }
          ],
          "parcoords": [
           {
            "line": {
             "colorbar": {
              "outlinewidth": 0,
              "ticks": ""
             }
            },
            "type": "parcoords"
           }
          ],
          "pie": [
           {
            "automargin": true,
            "type": "pie"
           }
          ],
          "scatter": [
           {
            "fillpattern": {
             "fillmode": "overlay",
             "size": 10,
             "solidity": 0.2
            },
            "type": "scatter"
           }
          ],
          "scatter3d": [
           {
            "line": {
             "colorbar": {
              "outlinewidth": 0,
              "ticks": ""
             }
            },
            "marker": {
             "colorbar": {
              "outlinewidth": 0,
              "ticks": ""
             }
            },
            "type": "scatter3d"
           }
          ],
          "scattercarpet": [
           {
            "marker": {
             "colorbar": {
              "outlinewidth": 0,
              "ticks": ""
             }
            },
            "type": "scattercarpet"
           }
          ],
          "scattergeo": [
           {
            "marker": {
             "colorbar": {
              "outlinewidth": 0,
              "ticks": ""
             }
            },
            "type": "scattergeo"
           }
          ],
          "scattergl": [
           {
            "marker": {
             "colorbar": {
              "outlinewidth": 0,
              "ticks": ""
             }
            },
            "type": "scattergl"
           }
          ],
          "scattermapbox": [
           {
            "marker": {
             "colorbar": {
              "outlinewidth": 0,
              "ticks": ""
             }
            },
            "type": "scattermapbox"
           }
          ],
          "scatterpolar": [
           {
            "marker": {
             "colorbar": {
              "outlinewidth": 0,
              "ticks": ""
             }
            },
            "type": "scatterpolar"
           }
          ],
          "scatterpolargl": [
           {
            "marker": {
             "colorbar": {
              "outlinewidth": 0,
              "ticks": ""
             }
            },
            "type": "scatterpolargl"
           }
          ],
          "scatterternary": [
           {
            "marker": {
             "colorbar": {
              "outlinewidth": 0,
              "ticks": ""
             }
            },
            "type": "scatterternary"
           }
          ],
          "surface": [
           {
            "colorbar": {
             "outlinewidth": 0,
             "ticks": ""
            },
            "colorscale": [
             [
              0,
              "#0d0887"
             ],
             [
              0.1111111111111111,
              "#46039f"
             ],
             [
              0.2222222222222222,
              "#7201a8"
             ],
             [
              0.3333333333333333,
              "#9c179e"
             ],
             [
              0.4444444444444444,
              "#bd3786"
             ],
             [
              0.5555555555555556,
              "#d8576b"
             ],
             [
              0.6666666666666666,
              "#ed7953"
             ],
             [
              0.7777777777777778,
              "#fb9f3a"
             ],
             [
              0.8888888888888888,
              "#fdca26"
             ],
             [
              1,
              "#f0f921"
             ]
            ],
            "type": "surface"
           }
          ],
          "table": [
           {
            "cells": {
             "fill": {
              "color": "#EBF0F8"
             },
             "line": {
              "color": "white"
             }
            },
            "header": {
             "fill": {
              "color": "#C8D4E3"
             },
             "line": {
              "color": "white"
             }
            },
            "type": "table"
           }
          ]
         },
         "layout": {
          "annotationdefaults": {
           "arrowcolor": "#2a3f5f",
           "arrowhead": 0,
           "arrowwidth": 1
          },
          "autotypenumbers": "strict",
          "coloraxis": {
           "colorbar": {
            "outlinewidth": 0,
            "ticks": ""
           }
          },
          "colorscale": {
           "diverging": [
            [
             0,
             "#8e0152"
            ],
            [
             0.1,
             "#c51b7d"
            ],
            [
             0.2,
             "#de77ae"
            ],
            [
             0.3,
             "#f1b6da"
            ],
            [
             0.4,
             "#fde0ef"
            ],
            [
             0.5,
             "#f7f7f7"
            ],
            [
             0.6,
             "#e6f5d0"
            ],
            [
             0.7,
             "#b8e186"
            ],
            [
             0.8,
             "#7fbc41"
            ],
            [
             0.9,
             "#4d9221"
            ],
            [
             1,
             "#276419"
            ]
           ],
           "sequential": [
            [
             0,
             "#0d0887"
            ],
            [
             0.1111111111111111,
             "#46039f"
            ],
            [
             0.2222222222222222,
             "#7201a8"
            ],
            [
             0.3333333333333333,
             "#9c179e"
            ],
            [
             0.4444444444444444,
             "#bd3786"
            ],
            [
             0.5555555555555556,
             "#d8576b"
            ],
            [
             0.6666666666666666,
             "#ed7953"
            ],
            [
             0.7777777777777778,
             "#fb9f3a"
            ],
            [
             0.8888888888888888,
             "#fdca26"
            ],
            [
             1,
             "#f0f921"
            ]
           ],
           "sequentialminus": [
            [
             0,
             "#0d0887"
            ],
            [
             0.1111111111111111,
             "#46039f"
            ],
            [
             0.2222222222222222,
             "#7201a8"
            ],
            [
             0.3333333333333333,
             "#9c179e"
            ],
            [
             0.4444444444444444,
             "#bd3786"
            ],
            [
             0.5555555555555556,
             "#d8576b"
            ],
            [
             0.6666666666666666,
             "#ed7953"
            ],
            [
             0.7777777777777778,
             "#fb9f3a"
            ],
            [
             0.8888888888888888,
             "#fdca26"
            ],
            [
             1,
             "#f0f921"
            ]
           ]
          },
          "colorway": [
           "#636efa",
           "#EF553B",
           "#00cc96",
           "#ab63fa",
           "#FFA15A",
           "#19d3f3",
           "#FF6692",
           "#B6E880",
           "#FF97FF",
           "#FECB52"
          ],
          "font": {
           "color": "#2a3f5f"
          },
          "geo": {
           "bgcolor": "white",
           "lakecolor": "white",
           "landcolor": "#E5ECF6",
           "showlakes": true,
           "showland": true,
           "subunitcolor": "white"
          },
          "hoverlabel": {
           "align": "left"
          },
          "hovermode": "closest",
          "mapbox": {
           "style": "light"
          },
          "paper_bgcolor": "white",
          "plot_bgcolor": "#E5ECF6",
          "polar": {
           "angularaxis": {
            "gridcolor": "white",
            "linecolor": "white",
            "ticks": ""
           },
           "bgcolor": "#E5ECF6",
           "radialaxis": {
            "gridcolor": "white",
            "linecolor": "white",
            "ticks": ""
           }
          },
          "scene": {
           "xaxis": {
            "backgroundcolor": "#E5ECF6",
            "gridcolor": "white",
            "gridwidth": 2,
            "linecolor": "white",
            "showbackground": true,
            "ticks": "",
            "zerolinecolor": "white"
           },
           "yaxis": {
            "backgroundcolor": "#E5ECF6",
            "gridcolor": "white",
            "gridwidth": 2,
            "linecolor": "white",
            "showbackground": true,
            "ticks": "",
            "zerolinecolor": "white"
           },
           "zaxis": {
            "backgroundcolor": "#E5ECF6",
            "gridcolor": "white",
            "gridwidth": 2,
            "linecolor": "white",
            "showbackground": true,
            "ticks": "",
            "zerolinecolor": "white"
           }
          },
          "shapedefaults": {
           "line": {
            "color": "#2a3f5f"
           }
          },
          "ternary": {
           "aaxis": {
            "gridcolor": "white",
            "linecolor": "white",
            "ticks": ""
           },
           "baxis": {
            "gridcolor": "white",
            "linecolor": "white",
            "ticks": ""
           },
           "bgcolor": "#E5ECF6",
           "caxis": {
            "gridcolor": "white",
            "linecolor": "white",
            "ticks": ""
           }
          },
          "title": {
           "x": 0.05
          },
          "xaxis": {
           "automargin": true,
           "gridcolor": "white",
           "linecolor": "white",
           "ticks": "",
           "title": {
            "standoff": 15
           },
           "zerolinecolor": "white",
           "zerolinewidth": 2
          },
          "yaxis": {
           "automargin": true,
           "gridcolor": "white",
           "linecolor": "white",
           "ticks": "",
           "title": {
            "standoff": 15
           },
           "zerolinecolor": "white",
           "zerolinewidth": 2
          }
         }
        },
        "title": {
         "text": "Multiple Sequence Alignment (MSA) Visualization<br>Gap: -2, Match: 1, Mismatch: -1"
        },
        "xaxis": {
         "side": "bottom",
         "ticks": ""
        },
        "yaxis": {
         "ticks": ""
        }
       }
      }
     },
     "metadata": {},
     "output_type": "display_data"
    }
   ],
   "source": [
    "\n",
    "seq1 = \"ATTGCCATT\"\n",
    "seq2 = \"ATGGCCATT\"\n",
    "seq3 = \"ATCCAATTTT\"\n",
    "seq4 = \"ATCTTCTT\"\n",
    "seq5 = \"ACTGACC\"\n",
    "\n",
    "seqs = [seq1, seq2, seq3, seq4, seq5]\n",
    "\n",
    "gap = -2\n",
    "match = 1\n",
    "mismatch = -1\n",
    "\n",
    "\n",
    "matrix_of_score, msa_score, index_of_aligment= central_aligment(seqs, gap, match, mismatch)\n",
    "\n",
    "MSA = get_MSA(seqs, index_of_aligment)\n",
    "print(\"MSA: \" + MSA)\n",
    "\n",
    "globalAlignment = final_MSA(seqs, MSA,  gap, match, mismatch)\n",
    "print(\"Matching sequences each with each\" + str(globalAlignment))\n",
    "\n",
    "final = final_final_version(MSA, globalAlignment)\n",
    "# print(\"Final version, first sequence is MSA\" + str(final))\n",
    "grafic_show(final, gap, match, mismatch)\n",
    "\n",
    "save_results_global(seqs, seqs, gap, mismatch, match, matrix_of_score, MSA, globalAlignment, final, file_name=\"wyniki.txt\")\n",
    "\n"
   ]
  },
  {
   "cell_type": "markdown",
   "metadata": {},
   "source": [
    "# Wywołanie - 4 sekwencje ewolucyjnie powiązane"
   ]
  },
  {
   "cell_type": "code",
   "execution_count": 11,
   "metadata": {},
   "outputs": [
    {
     "name": "stdout",
     "output_type": "stream",
     "text": [
      "MSA: MAEPRQEFEVMEDHAGTYGLGDRKDQGGYTMHQDQEGDTDAGLKESPLQTPTEDGSEEPGSETSDAKSTPTAEDVTAPLVDEGAPGKQAAAQPHTEIPEGTTAEEAGIGDTPSLEDEAAGHVTQEPESGKVVQEGFLREPGPPGLSHQLMSGMPGAPLLPEGPREATRQPSGTGPEDTEGGRHAPELLKHQLLGDLHQEGPPLKGAGGKERPGSKEEVDEDRDVDESSPQDSPPSKASPAQDGRPPQTAAREATSIPGFPAEGAIPLPVDFLSKVSTEIPASEPDGPSVGRAKGQDAPLEFTFHVEITPNVQKEQAHSEEHLGRAAFPGAPGEGPEARGPSLGEDTKEADLPEPSEKQPAAAPRGKPVSRVPQLKARMVSKSKDGTGSDDKKAKTSTRSSAKTLKNRPCLSPKHPTPGSSDPLIQPSSPAVCPEPPSSPKYVSSVTSRTGSSGAKEMKLKGADGKTKIATPRGAAPPGQKGQANATRIPAKTPPAPKTPPSSGEPPKSGDRSGYSSPGSPGTPGSRSRTPSLPTPPTREPKKVAVVRTPPKSPSSAKSRLQTAPVPMPDLKNVKSKIGSTENLKHQPGGGKVQIINKKLDLSNVQSKCGSKDNIKHVPGGGSVQIVYKPVDLSKVTSKCGSLGNIHHKPGGGQVEVKSEKLDFKDRVQSKIGSLDNITHVPGGGNKKIETHKLTFRENAKAKTDHGAEIVYKSPVVSGDTSPRHLSNVSSTGSIDMVDSPQLATLADEVSASLAKQGL\n",
      "Matching sequences each with each{1: ('MAEPRQEFEVMEDHAGTYGLGDRKDQGGYTMHQDQEGDTDAGLKESPLQTPTEDGSEEPGSETSDAKSTPTAEDVTAPLVDEGAPGKQAAAQPHTEIPEGTTAEEAGIGDTPSLEDEAAGHVTQEPESGKVVQEGFLREPGPPGLSH---QLMSGMPGAPLLPEGPREATRQPSGTGPEDTEGGRH-APELLKHQLLGDLHQEGPPLK-GAGGKERPGSKEEVDEDRDVDESSPQDSPPSKAS--PAQDGRP-PQTAAR-----E-ATSIPGFPAEGAIPLPVDFLSKVSTEIPASEPDGPSVGRAK-GQDA-PLEFTFHVEI---TPNVQKEQAHSEEHLGRAAFPGAPGEGPE--AR--GPSLGEDTKEADLPEPSEKQPAAA-PRGKPVSRVPQLKARMVSKSKDGTGSDDKKAKTSTRSSAKTLKNRPCLSPKHPTPGSSDPLIQPSSPAVCPEPPSSPKYVSSVTSRTGSSGAKEMKLKGADGKT--KIATPRGAAPPGQKGQANATRIPAKTPPAPKTPPSSGEPPKSGDRSGYSSPGSPGTPGSRSRTPSLPTPPTREPKKVAVVRTPPKSPS-SAKSRLQTAPVPMPDLKNVKSKIGSTENLKHQPGGGKVQIINKKLDLSNVQSKCGSKDNIKHVPGGGSVQIVYKPVDLSKVTSKCGSLGNIHHKPGGGQVEVKSEKLDFKDRVQSKIGSLDNITHVPGGGNKKIETHKLTFRENAKAKTDHGAEIVYKSPVVSGDTSPRHLSNVSSTGSIDMVDSPQLATLADEVSASLAKQGL', 'MADPRQEFDTMEDHAG-----D------YTLLQDQEGDMDHGLKESPPQPPADDGAEEPGSETSDAKSTPTAEDVTAPLVDERAPDKQAAAQPHTEIPEGITAEEAGIGDTPNQEDQAAGHVTQ----GRR--EGQA--PDL-GTSDWTRQQVSSMSGAPLLPQGLREATCQPSGTRPEDIEKS-HPASELLRR---G------PPQKEGWGQD-RLGSEEEVDEDLTVDESS-QDSPPSQASLTP---GRAAPQ-AGSGSVCGETA-SVPGLPTEGSVPLPADFFSKVSAETQASQPEGPGTGPMEEGHEAAP-EFTFHVEIKASTP---KEQDL-E---G-ATVVGVPGE--EQKAQTQGPSVGKGTKEASLQEPPGKQPAAGLP-GRPVSRVPQLKAR-VA-SKDRTGNDEKKAKTSTPSCAKAPSHRPCLSPTRPTLGSSDPLIKPSSPAVSPEPATSPKHVSSVTPRNGSPGTKQMKLKGADGKTGAKIATPRGAASPAQKGTSNATRIPAKTTPSPKTPPGSGEPPKSGERSGYSSPGSPGTPGSRSRTPSLPTPPTREPKKVAVVRTPPKSPSAS-KSRLQTAPVPMPDLKNVRSKIGSTENLKHQPGGGKVQIINKKLDLSNVQSKCGSKDNIKHVPGGGSVQIVYKPVDLSKVTSKCGSLGNIHHKPGGGQVEVKSEKLDFKDRVQSKIGSLDNITHVPGGGNKKIETHKLTFRENAKAKTDHGAEIVYKSPVVSGDTSPRHLSNVSSTGSIDMVDSPQLATLADEVSASLAKQGL'), 2: ('MAEPRQEFEVMEDHAGTYGLGDRKDQGGYTMHQDQEGDTDAGLKESPLQTPTEDGSEEPGSETSDAKSTPTAEDVTAPLVDEGAPGKQAAAQPHTEIPEGTTAEEAGIGDTPSLEDEAAGHVTQEP---E--SGKV-VQE-GFLREPGP-P--GLS---HQLM-SGMPGAPLLPEGPREATRQPSGTGPEDTEGGR-H-APELLKHQLLGDLHQEGPPLKGAGGKERPGSKEEVDEDRDVDESSPQDSPPSKASPAQDGRP-PQTA----AR----EATSIPGFPAEGAIPLPVDFLSKVSTEIPASEPDGPSVGRAK-GQDA-PLEFTFHVEITPNVQKEQAHSEEHLGRAAFPGAPGEGPE--ARGPSLGEDTKEADLPEPSEKQPAAA-PRGKPVSRVPQLKARMVSK-SKDGTGSDDKKAKTSTRSSAKTLKNRPCLSPKHPTPGSSDPLIQPSSPAVCPEPPSSPKYVSSVTSRTGSSGAKEMKLKGADGKT--KIATPRGAAPPGQKGQANATRIPAKTPPAPKTPPSSGEPPKSGDRSGYSSPGSPGTPGSRSRTPSLPTPPTREPKKVAVVRTPPKSPS-SAKSRLQTAPVPMPDLKNVKSKIGSTENLKHQPGGGKVQIINKKLDLSNVQSKCGSKDNIKHVPGGGSVQIVYKPVDLSKVTSKCGSLGNIHHKPGGGQVEVKSEKLDFKDRVQSKIGSLDNITHVPGGGNKKIETHKLTFRENAKAKTDHGAEIVYKSPVVSGDTSPRHLSNVSSTGSIDMVDSPQLATLADEVSASLAKQGL', 'MAEPRQEFDTMEDQAG-----D------YTMLQDQEGDMDHGLKESPPQPPADDGSEEPGSETSDAKSTPTAEDVTAPLVEERAPDKQATAQSHTEIPEGTTAEEAGIGDTPNMEDQAAGHVTQEPQKVEIFSQSLLV-EPGR-RE-GQAPDSGISDWTHQQVPS-MSGAPLPPQGLREATHQPLGTRPEDVE--RSHPASELLW-Q-------ESPQ-KEAWGKDRLGSEEEVDEDITMDESS-QESPPSQASLAP-GTATPQ-ARSVSASGVSGETTSIPGFPAEGSIPLPADFFSKVSAETQASPPEGPGTGPSEEGHEAAP-EFTFHVEIKASAPKEQDL-E---G-ATVVGAPAE--EQKARGPSVGKGTKEASLLEPTDKQPAAGLP-GRPVSRVPQLKAR-VAGVSKDRTGNDEKKAKTSTPSCAKTPSNRPCLSPTRPTPGSSDPLIKPSSPAVCPEPATSPKYVSSVTPRNGSPGTKQMKLKGADGKTGAKIATPRGAATPGQKGTSNATRIPAKTTPSPKTPPGSGEPPKSGERSGYSSPGSPGTPGSRSRTPSLPTPPTREPKKVAVVRTPPKSPSAS-KSRLQTAPVPMPDLKNVRSKIGSTENLKHQPGGGKVQIINKKLDLSNVQSKCGSKDNIKHVPGGGSVHIVYKPVDLSKVTSKCGSLGNIHHKPGGGQVEVKSEKLDFKDRVQSKIGSLDNITHVPGGGNKKIETHKLTFRENAKAKTDHGAEIVYKSPVVSGDTSPRHLSNVSSTGSIDMVDSPQLATLADEVSASLAKQGL'), 3: ('MAEPRQEFEVMEDHAGTYGLGDRKDQGGYTMHQDQEGDTDAGLKESPLQTPTEDGSEEPGSETSDAKSTPTAEDVTAPLVDEGAPGKQAAAQPHTEIPEGTTAEEAGIGDTPSLEDEAAGHVTQEPESGKVVQEGFLREPGPPGLSHQLMSGMPGAPLLPEGPREATRQPSGTGPEDTEGGRHAPELLKHQLLGDLHQEGPPLKGAGGKERPGSKEEVDEDRDVDESSPQDSPPSKASPAQDGRPPQTAAREATSIPGFPAEGAIPLPVDFLSKVSTEIPASEPDGPSVGRAKGQDAPLEFTFHVEITPNVQKEQAHSEEHLGRAAFPGAPGEGPEARGPSLGEDTKEADLPEPSEKQPAAAPRGKPVSRVPQLKARMVSKSKDGTGSDDKKAKTSTRSSAKTLKNRPCLSPKHPTPGSSDPLIQPSSPAVCPEPPSSPKYVSSVTSRTGSSGAKEMKLKGADGKTKIATPRGAAPPGQKGQANATRIPAKTPPAPKTPPSS------------G---E---PPKSGDRSGYSSPGSPGTPGSRSRTPSLPTPPTREPKKVAVVRTPPKSPSSAKSRLQTAPVPMPDLKNVKSKIGSTENLKHQPGGGKVQIINKKLDLSNVQSKCGSKDNIKHVPGGGSVQIVYKPVDLSKVTSKCGSLGNIHHKPGGGQVEVKSEKLDFKDRVQSKIGSLDNITHVPGGGNKKIETHKLTFRENAKAKTDHGAEIVYKSPVVSGDTSPRHLSNVSSTGSIDMVDSPQLATLADEVSASLAKQGL', 'MAEPRQEFEVMEDHAGTYGLGDRKDQGGYTMHQDQEGDTDAGLKESPLQTPTEDGSEEPGSETSDAKSTPTAEDVTAPLVDEGAPGKQAAAQPHTEIPEGTTAEEAGIGDTPSLEDEAAGHVTQEPESGKVVQEGFLREPGPPGLSHQLMSGMPGAPLLPEGPREATRQPSGTGPEDTEGGRHAPELLKHQLLGDLHQEGPPLKGAGGKERPGSKEEVDEDRDVDESSLQDSPPSKASPAQDGRPPQTAAREATSIPGFPAEGAIPLPVDFLSKVSTEIPASEPDGPSAGRAKGQDAHLEFTFHVEITPNVQKEQAHSEEHLGRAAFPGAPGEGPEARGPSLGEDTKEADLPEPSEKQPAAAPRGKPVSRVPQLKARMVSKSKDGTGSDDKKAKTSTRSSAKTLKNRPCLSPKHPTPGSSDPLIQPSSPAVCPEPPSSPKYVSSVTPRTGSSGAKEMKLKGADGKTKIATPRGAAPPGQKGQANATRIPAKTPPAPKTPPSSATKQVQRRPPPAGPRSERGEPPKSGDRSGYSSPGSPGTPGSRSRTPSLPTPPTREPKKVAVVRTPPKSPSSAKSRLQTAPVPMPDLKNVKSKIGSTENLKHQPGGGKVQIINKKLDLSNVQSKCGSKDNIKHVPGGGSVQIVYKPVDLSKVTSKCGSLGNIHHKPGGGQVEVKSEKLDFKDRVQSKIGSLDNITHVPGGGNKKIETHKLTFRENAKAKTDHGAEIVYKSPVVSGDTSPRHLSNVSSTGSIDMVDSPQLATLADEVSASLAKQGL')}\n"
     ]
    },
    {
     "data": {
      "application/vnd.plotly.v1+json": {
       "config": {
        "plotlyServerURL": "https://plot.ly"
       },
       "data": [
        {
         "colorscale": [
          [
           0,
           "rgb(103,0,31)"
          ],
          [
           0.1,
           "rgb(178,24,43)"
          ],
          [
           0.2,
           "rgb(214,96,77)"
          ],
          [
           0.3,
           "rgb(244,165,130)"
          ],
          [
           0.4,
           "rgb(253,219,199)"
          ],
          [
           0.5,
           "rgb(247,247,247)"
          ],
          [
           0.6,
           "rgb(209,229,240)"
          ],
          [
           0.7,
           "rgb(146,197,222)"
          ],
          [
           0.8,
           "rgb(67,147,195)"
          ],
          [
           0.9,
           "rgb(33,102,172)"
          ],
          [
           1,
           "rgb(5,48,97)"
          ]
         ],
         "showscale": false,
         "type": "heatmap",
         "x": [
          "1",
          "2",
          "3",
          "4",
          "5",
          "6",
          "7",
          "8",
          "9",
          "10",
          "11",
          "12",
          "13",
          "14",
          "15",
          "16",
          "17",
          "18",
          "19",
          "20",
          "21",
          "22",
          "23",
          "24",
          "25",
          "26",
          "27",
          "28",
          "29",
          "30",
          "31",
          "32",
          "33",
          "34",
          "35",
          "36",
          "37",
          "38",
          "39",
          "40",
          "41",
          "42",
          "43",
          "44",
          "45",
          "46",
          "47",
          "48",
          "49",
          "50",
          "51",
          "52",
          "53",
          "54",
          "55",
          "56",
          "57",
          "58",
          "59",
          "60",
          "61",
          "62",
          "63",
          "64",
          "65",
          "66",
          "67",
          "68",
          "69",
          "70",
          "71",
          "72",
          "73",
          "74",
          "75",
          "76",
          "77",
          "78",
          "79",
          "80",
          "81",
          "82",
          "83",
          "84",
          "85",
          "86",
          "87",
          "88",
          "89",
          "90",
          "91",
          "92",
          "93",
          "94",
          "95",
          "96",
          "97",
          "98",
          "99",
          "100",
          "101",
          "102",
          "103",
          "104",
          "105",
          "106",
          "107",
          "108",
          "109",
          "110",
          "111",
          "112",
          "113",
          "114",
          "115",
          "116",
          "117",
          "118",
          "119",
          "120",
          "121",
          "122",
          "123",
          "124",
          "125",
          "126",
          "127",
          "128",
          "129",
          "130",
          "131",
          "132",
          "133",
          "134",
          "135",
          "136",
          "137",
          "138",
          "139",
          "140",
          "141",
          "142",
          "143",
          "144",
          "145",
          "146",
          "147",
          "148",
          "149",
          "150",
          "151",
          "152",
          "153",
          "154",
          "155",
          "156",
          "157",
          "158",
          "159",
          "160",
          "161",
          "162",
          "163",
          "164",
          "165",
          "166",
          "167",
          "168",
          "169",
          "170",
          "171",
          "172",
          "173",
          "174",
          "175",
          "176",
          "177",
          "178",
          "179",
          "180",
          "181",
          "182",
          "183",
          "184",
          "185",
          "186",
          "187",
          "188",
          "189",
          "190",
          "191",
          "192",
          "193",
          "194",
          "195",
          "196",
          "197",
          "198",
          "199",
          "200",
          "201",
          "202",
          "203",
          "204",
          "205",
          "206",
          "207",
          "208",
          "209",
          "210",
          "211",
          "212",
          "213",
          "214",
          "215",
          "216",
          "217",
          "218",
          "219",
          "220",
          "221",
          "222",
          "223",
          "224",
          "225",
          "226",
          "227",
          "228",
          "229",
          "230",
          "231",
          "232",
          "233",
          "234",
          "235",
          "236",
          "237",
          "238",
          "239",
          "240",
          "241",
          "242",
          "243",
          "244",
          "245",
          "246",
          "247",
          "248",
          "249",
          "250",
          "251",
          "252",
          "253",
          "254",
          "255",
          "256",
          "257",
          "258",
          "259",
          "260",
          "261",
          "262",
          "263",
          "264",
          "265",
          "266",
          "267",
          "268",
          "269",
          "270",
          "271",
          "272",
          "273",
          "274",
          "275",
          "276",
          "277",
          "278",
          "279",
          "280",
          "281",
          "282",
          "283",
          "284",
          "285",
          "286",
          "287",
          "288",
          "289",
          "290",
          "291",
          "292",
          "293",
          "294",
          "295",
          "296",
          "297",
          "298",
          "299",
          "300",
          "301",
          "302",
          "303",
          "304",
          "305",
          "306",
          "307",
          "308",
          "309",
          "310",
          "311",
          "312",
          "313",
          "314",
          "315",
          "316",
          "317",
          "318",
          "319",
          "320",
          "321",
          "322",
          "323",
          "324",
          "325",
          "326",
          "327",
          "328",
          "329",
          "330",
          "331",
          "332",
          "333",
          "334",
          "335",
          "336",
          "337",
          "338",
          "339",
          "340",
          "341",
          "342",
          "343",
          "344",
          "345",
          "346",
          "347",
          "348",
          "349",
          "350",
          "351",
          "352",
          "353",
          "354",
          "355",
          "356",
          "357",
          "358",
          "359",
          "360",
          "361",
          "362",
          "363",
          "364",
          "365",
          "366",
          "367",
          "368",
          "369",
          "370",
          "371",
          "372",
          "373",
          "374",
          "375",
          "376",
          "377",
          "378",
          "379",
          "380",
          "381",
          "382",
          "383",
          "384",
          "385",
          "386",
          "387",
          "388",
          "389",
          "390",
          "391",
          "392",
          "393",
          "394",
          "395",
          "396",
          "397",
          "398",
          "399",
          "400",
          "401",
          "402",
          "403",
          "404",
          "405",
          "406",
          "407",
          "408",
          "409",
          "410",
          "411",
          "412",
          "413",
          "414",
          "415",
          "416",
          "417",
          "418",
          "419",
          "420",
          "421",
          "422",
          "423",
          "424",
          "425",
          "426",
          "427",
          "428",
          "429",
          "430",
          "431",
          "432",
          "433",
          "434",
          "435",
          "436",
          "437",
          "438",
          "439",
          "440",
          "441",
          "442",
          "443",
          "444",
          "445",
          "446",
          "447",
          "448",
          "449",
          "450",
          "451",
          "452",
          "453",
          "454",
          "455",
          "456",
          "457",
          "458",
          "459",
          "460",
          "461",
          "462",
          "463",
          "464",
          "465",
          "466",
          "467",
          "468",
          "469",
          "470",
          "471",
          "472",
          "473",
          "474",
          "475",
          "476",
          "477",
          "478",
          "479",
          "480",
          "481",
          "482",
          "483",
          "484",
          "485",
          "486",
          "487",
          "488",
          "489",
          "490",
          "491",
          "492",
          "493",
          "494",
          "495",
          "496",
          "497",
          "498",
          "499",
          "500",
          "501",
          "502",
          "503",
          "504",
          "505",
          "506",
          "507",
          "508",
          "509",
          "510",
          "511",
          "512",
          "513",
          "514",
          "515",
          "516",
          "517",
          "518",
          "519",
          "520",
          "521",
          "522",
          "523",
          "524",
          "525",
          "526",
          "527",
          "528",
          "529",
          "530",
          "531",
          "532",
          "533",
          "534",
          "535",
          "536",
          "537",
          "538",
          "539",
          "540",
          "541",
          "542",
          "543",
          "544",
          "545",
          "546",
          "547",
          "548",
          "549",
          "550",
          "551",
          "552",
          "553",
          "554",
          "555",
          "556",
          "557",
          "558",
          "559",
          "560",
          "561",
          "562",
          "563",
          "564",
          "565",
          "566",
          "567",
          "568",
          "569",
          "570",
          "571",
          "572",
          "573",
          "574",
          "575",
          "576",
          "577",
          "578",
          "579",
          "580",
          "581",
          "582",
          "583",
          "584",
          "585",
          "586",
          "587",
          "588",
          "589",
          "590",
          "591",
          "592",
          "593",
          "594",
          "595",
          "596",
          "597",
          "598",
          "599",
          "600",
          "601",
          "602",
          "603",
          "604",
          "605",
          "606",
          "607",
          "608",
          "609",
          "610",
          "611",
          "612",
          "613",
          "614",
          "615",
          "616",
          "617",
          "618",
          "619",
          "620",
          "621",
          "622",
          "623",
          "624",
          "625",
          "626",
          "627",
          "628",
          "629",
          "630",
          "631",
          "632",
          "633",
          "634",
          "635",
          "636",
          "637",
          "638",
          "639",
          "640",
          "641",
          "642",
          "643",
          "644",
          "645",
          "646",
          "647",
          "648",
          "649",
          "650",
          "651",
          "652",
          "653",
          "654",
          "655",
          "656",
          "657",
          "658",
          "659",
          "660",
          "661",
          "662",
          "663",
          "664",
          "665",
          "666",
          "667",
          "668",
          "669",
          "670",
          "671",
          "672",
          "673",
          "674",
          "675",
          "676",
          "677",
          "678",
          "679",
          "680",
          "681",
          "682",
          "683",
          "684",
          "685",
          "686",
          "687",
          "688",
          "689",
          "690",
          "691",
          "692",
          "693",
          "694",
          "695",
          "696",
          "697",
          "698",
          "699",
          "700",
          "701",
          "702",
          "703",
          "704",
          "705",
          "706",
          "707",
          "708",
          "709",
          "710",
          "711",
          "712",
          "713",
          "714",
          "715",
          "716",
          "717",
          "718",
          "719",
          "720",
          "721",
          "722",
          "723",
          "724",
          "725",
          "726",
          "727",
          "728",
          "729",
          "730",
          "731",
          "732",
          "733",
          "734",
          "735",
          "736",
          "737",
          "738",
          "739",
          "740",
          "741",
          "742",
          "743",
          "744",
          "745",
          "746",
          "747",
          "748",
          "749",
          "750",
          "751",
          "752",
          "753",
          "754",
          "755",
          "756",
          "757",
          "758",
          "759",
          "760",
          "761",
          "762",
          "763",
          "764",
          "765",
          "766",
          "767",
          "768",
          "769",
          "770",
          "771",
          "772",
          "773",
          "774",
          "775",
          "776",
          "777",
          "778",
          "779",
          "780",
          "781",
          "782",
          "783",
          "784",
          "785",
          "786",
          "787",
          "788",
          "789",
          "790",
          "791",
          "792",
          "793",
          "794",
          "795",
          "796",
          "797",
          "798",
          "799",
          "800",
          "801",
          "802",
          "803",
          "804",
          "805",
          "806",
          "807",
          "808",
          "809",
          "810",
          "811",
          "812",
          "813",
          "814",
          "815",
          "816",
          "817",
          "818",
          "819",
          "820",
          "821",
          "822",
          "823",
          "824",
          "825",
          "826",
          "827",
          "828",
          "829",
          "830",
          "831",
          "832",
          "833",
          "834",
          "835",
          "836",
          "837"
         ],
         "y": [
          "MSA",
          "Seq 2",
          "Seq 3",
          "Seq 4"
         ],
         "z": [
          [
           11,
           1,
           4,
           13,
           15,
           14,
           4,
           5,
           4,
           18,
           11,
           4,
           3,
           7,
           1,
           6,
           17,
           20,
           6,
           10,
           6,
           3,
           15,
           9,
           3,
           14,
           6,
           6,
           20,
           17,
           11,
           7,
           14,
           3,
           14,
           4,
           6,
           3,
           17,
           3,
           1,
           6,
           10,
           9,
           4,
           16,
           13,
           10,
           14,
           17,
           13,
           17,
           4,
           3,
           6,
           16,
           4,
           4,
           13,
           6,
           16,
           4,
           17,
           16,
           3,
           1,
           9,
           16,
           17,
           13,
           17,
           1,
           4,
           3,
           18,
           17,
           1,
           13,
           10,
           18,
           3,
           4,
           6,
           1,
           13,
           6,
           9,
           14,
           1,
           1,
           1,
           14,
           13,
           7,
           17,
           4,
           8,
           13,
           4,
           6,
           17,
           17,
           1,
           4,
           4,
           1,
           6,
           8,
           6,
           3,
           17,
           13,
           16,
           10,
           4,
           3,
           4,
           1,
           1,
           6,
           7,
           18,
           17,
           14,
           4,
           13,
           50,
           50,
           50,
           4,
           50,
           50,
           16,
           6,
           9,
           18,
           50,
           18,
           14,
           4,
           50,
           6,
           5,
           10,
           15,
           4,
           13,
           6,
           13,
           50,
           13,
           50,
           50,
           6,
           10,
           16,
           50,
           50,
           50,
           7,
           50,
           50,
           50,
           50,
           14,
           10,
           11,
           16,
           6,
           11,
           13,
           6,
           1,
           13,
           10,
           10,
           13,
           4,
           6,
           13,
           15,
           4,
           1,
           17,
           15,
           14,
           13,
           16,
           6,
           17,
           6,
           13,
           4,
           3,
           17,
           4,
           50,
           6,
           50,
           6,
           15,
           7,
           50,
           1,
           13,
           4,
           10,
           10,
           9,
           7,
           14,
           10,
           10,
           6,
           3,
           10,
           7,
           14,
           4,
           6,
           13,
           13,
           10,
           9,
           50,
           6,
           1,
           6,
           6,
           9,
           4,
           15,
           13,
           6,
           16,
           9,
           4,
           4,
           18,
           3,
           4,
           3,
           15,
           3,
           18,
           3,
           4,
           16,
           16,
           13,
           14,
           3,
           16,
           13,
           13,
           16,
           9,
           1,
           16,
           50,
           50,
           50,
           13,
           1,
           14,
           3,
           50,
           50,
           50,
           50,
           6,
           15,
           50,
           50,
           50,
           50,
           13,
           50,
           13,
           14,
           17,
           1,
           1,
           15,
           50,
           50,
           50,
           50,
           50,
           4,
           50,
           1,
           17,
           16,
           8,
           13,
           6,
           5,
           13,
           1,
           4,
           6,
           1,
           8,
           13,
           10,
           13,
           18,
           3,
           5,
           10,
           16,
           9,
           18,
           16,
           17,
           4,
           8,
           50,
           13,
           1,
           16,
           4,
           50,
           13,
           3,
           6,
           13,
           16,
           18,
           6,
           15,
           1,
           9,
           50,
           6,
           14,
           3,
           1,
           50,
           13,
           10,
           4,
           5,
           17,
           5,
           7,
           18,
           4,
           8,
           50,
           50,
           50,
           17,
           13,
           12,
           18,
           14,
           9,
           4,
           14,
           1,
           7,
           50,
           50,
           16,
           4,
           4,
           7,
           10,
           6,
           15,
           1,
           1,
           5,
           13,
           6,
           1,
           13,
           6,
           4,
           6,
           13,
           4,
           50,
           50,
           1,
           15,
           50,
           50,
           6,
           50,
           13,
           16,
           10,
           6,
           4,
           3,
           17,
           9,
           4,
           1,
           3,
           10,
           13,
           4,
           13,
           16,
           4,
           9,
           14,
           50,
           13,
           1,
           1,
           1,
           50,
           13,
           15,
           6,
           9,
           13,
           18,
           16,
           15,
           18,
           13,
           14,
           10,
           9,
           1,
           15,
           11,
           18,
           16,
           9,
           16,
           9,
           3,
           6,
           17,
           6,
           16,
           3,
           3,
           9,
           9,
           1,
           9,
           17,
           16,
           17,
           15,
           16,
           16,
           1,
           9,
           17,
           10,
           9,
           12,
           15,
           13,
           2,
           10,
           16,
           13,
           9,
           7,
           13,
           17,
           13,
           6,
           16,
           16,
           3,
           13,
           10,
           8,
           14,
           13,
           16,
           16,
           13,
           1,
           18,
           2,
           13,
           4,
           13,
           13,
           16,
           16,
           13,
           9,
           20,
           18,
           50,
           50,
           16,
           16,
           18,
           50,
           50,
           50,
           50,
           50,
           50,
           50,
           50,
           50,
           50,
           50,
           50,
           17,
           50,
           50,
           50,
           16,
           50,
           50,
           50,
           15,
           17,
           6,
           16,
           16,
           6,
           1,
           9,
           4,
           11,
           9,
           10,
           9,
           6,
           1,
           3,
           6,
           9,
           17,
           50,
           50,
           9,
           8,
           1,
           17,
           13,
           15,
           6,
           1,
           1,
           13,
           13,
           6,
           14,
           9,
           6,
           14,
           1,
           12,
           1,
           17,
           15,
           8,
           13,
           1,
           9,
           17,
           13,
           13,
           1,
           13,
           9,
           17,
           13,
           13,
           16,
           16,
           6,
           4,
           13,
           13,
           9,
           16,
           6,
           3,
           15,
           16,
           6,
           20,
           16,
           16,
           13,
           6,
           16,
           13,
           6,
           17,
           13,
           6,
           16,
           15,
           16,
           15,
           50,
           17,
           13,
           16,
           10,
           13,
           17,
           13,
           13,
           17,
           15,
           4,
           13,
           9,
           9,
           18,
           1,
           18,
           18,
           15,
           17,
           13,
           13,
           9,
           16,
           13,
           16,
           50,
           16,
           1,
           9,
           16,
           15,
           10,
           14,
           17,
           1,
           13,
           18,
           13,
           11,
           13,
           3,
           10,
           9,
           12,
           18,
           9,
           16,
           9,
           8,
           6,
           16,
           17,
           4,
           12,
           10,
           9,
           7,
           14,
           13,
           6,
           6,
           6,
           9,
           18,
           14,
           8,
           8,
           12,
           9,
           9,
           10,
           3,
           10,
           16,
           12,
           18,
           14,
           16,
           9,
           2,
           6,
           16,
           9,
           3,
           12,
           8,
           9,
           7,
           18,
           13,
           6,
           6,
           6,
           16,
           18,
           14,
           8,
           18,
           20,
           9,
           13,
           18,
           3,
           10,
           16,
           9,
           18,
           17,
           16,
           9,
           2,
           6,
           16,
           10,
           6,
           12,
           8,
           7,
           7,
           9,
           13,
           6,
           6,
           6,
           14,
           18,
           4,
           18,
           9,
           16,
           4,
           9,
           10,
           3,
           5,
           9,
           3,
           15,
           18,
           14,
           16,
           9,
           8,
           6,
           16,
           10,
           3,
           12,
           8,
           17,
           7,
           18,
           13,
           6,
           6,
           6,
           12,
           9,
           9,
           8,
           4,
           17,
           7,
           9,
           10,
           17,
           5,
           15,
           4,
           12,
           1,
           9,
           1,
           9,
           17,
           3,
           7,
           6,
           1,
           4,
           8,
           18,
           20,
           9,
           16,
           13,
           18,
           18,
           16,
           6,
           3,
           17,
           16,
           13,
           15,
           7,
           10,
           16,
           12,
           18,
           16,
           16,
           17,
           6,
           16,
           8,
           3,
           11,
           18,
           3,
           16,
           13,
           14,
           10,
           1,
           17,
           10,
           1,
           3,
           4,
           18,
           16,
           1,
           16,
           10,
           1,
           9,
           14,
           6,
           10
          ],
          [
           11,
           1,
           3,
           13,
           15,
           14,
           4,
           5,
           3,
           17,
           11,
           4,
           3,
           7,
           1,
           6,
           50,
           50,
           50,
           50,
           50,
           3,
           50,
           50,
           50,
           50,
           50,
           50,
           20,
           17,
           10,
           10,
           14,
           3,
           14,
           4,
           6,
           3,
           11,
           3,
           7,
           6,
           10,
           9,
           4,
           16,
           13,
           13,
           14,
           13,
           13,
           1,
           3,
           3,
           6,
           1,
           4,
           4,
           13,
           6,
           16,
           4,
           17,
           16,
           3,
           1,
           9,
           16,
           17,
           13,
           17,
           1,
           4,
           3,
           18,
           17,
           1,
           13,
           10,
           18,
           3,
           4,
           15,
           1,
           13,
           3,
           9,
           14,
           1,
           1,
           1,
           14,
           13,
           7,
           17,
           4,
           8,
           13,
           4,
           6,
           8,
           17,
           1,
           4,
           4,
           1,
           6,
           8,
           6,
           3,
           17,
           13,
           12,
           14,
           4,
           3,
           14,
           1,
           1,
           6,
           7,
           18,
           17,
           14,
           50,
           50,
           50,
           50,
           50,
           50,
           50,
           50,
           50,
           6,
           15,
           15,
           50,
           50,
           50,
           4,
           50,
           6,
           14,
           1,
           50,
           50,
           13,
           3,
           10,
           50,
           50,
           50,
           50,
           6,
           17,
           16,
           50,
           50,
           50,
           3,
           19,
           17,
           15,
           50,
           14,
           14,
           18,
           16,
           16,
           11,
           16,
           6,
           1,
           13,
           10,
           10,
           13,
           14,
           6,
           10,
           15,
           4,
           1,
           17,
           2,
           14,
           13,
           16,
           6,
           17,
           15,
           13,
           4,
           3,
           8,
           4,
           50,
           9,
           50,
           16,
           50,
           7,
           13,
           1,
           16,
           4,
           10,
           10,
           15,
           15,
           50,
           50,
           50,
           6,
           50,
           50,
           50,
           50,
           50,
           50,
           13,
           13,
           14,
           9,
           4,
           6,
           19,
           6,
           14,
           3,
           50,
           15,
           10,
           6,
           16,
           4,
           4,
           4,
           18,
           3,
           4,
           3,
           10,
           17,
           18,
           3,
           4,
           16,
           16,
           50,
           14,
           3,
           16,
           13,
           13,
           16,
           14,
           1,
           16,
           10,
           17,
           50,
           13,
           50,
           50,
           50,
           50,
           50,
           50,
           50,
           6,
           15,
           50,
           50,
           50,
           50,
           1,
           1,
           13,
           14,
           50,
           1,
           6,
           16,
           6,
           16,
           18,
           2,
           6,
           4,
           17,
           1,
           50,
           16,
           18,
           13,
           6,
           10,
           13,
           17,
           4,
           6,
           16,
           18,
           13,
           10,
           13,
           1,
           3,
           5,
           5,
           16,
           9,
           18,
           16,
           1,
           4,
           17,
           50,
           14,
           1,
           16,
           14,
           50,
           13,
           4,
           6,
           13,
           6,
           17,
           6,
           13,
           11,
           4,
           4,
           6,
           7,
           4,
           1,
           1,
           13,
           50,
           4,
           5,
           17,
           5,
           7,
           18,
           4,
           8,
           9,
           1,
           16,
           17,
           13,
           50,
           50,
           50,
           9,
           4,
           14,
           3,
           10,
           50,
           50,
           50,
           4,
           50,
           50,
           50,
           6,
           50,
           1,
           17,
           18,
           18,
           6,
           18,
           13,
           6,
           4,
           50,
           50,
           4,
           14,
           9,
           1,
           14,
           17,
           14,
           6,
           50,
           13,
           16,
           18,
           6,
           9,
           6,
           17,
           9,
           4,
           1,
           16,
           10,
           14,
           4,
           13,
           13,
           6,
           9,
           14,
           50,
           13,
           1,
           1,
           6,
           10,
           13,
           50,
           6,
           15,
           13,
           18,
           16,
           15,
           18,
           13,
           14,
           10,
           9,
           1,
           15,
           50,
           18,
           1,
           50,
           16,
           9,
           3,
           15,
           17,
           6,
           12,
           3,
           4,
           9,
           9,
           1,
           9,
           17,
           16,
           17,
           13,
           16,
           2,
           1,
           9,
           1,
           13,
           16,
           7,
           15,
           13,
           2,
           10,
           16,
           13,
           17,
           15,
           13,
           17,
           10,
           6,
           16,
           16,
           3,
           13,
           10,
           8,
           9,
           13,
           16,
           16,
           13,
           1,
           18,
           16,
           13,
           4,
           13,
           1,
           17,
           16,
           13,
           9,
           7,
           18,
           50,
           50,
           16,
           16,
           18,
           50,
           50,
           50,
           50,
           50,
           50,
           50,
           50,
           50,
           50,
           50,
           50,
           17,
           50,
           50,
           50,
           13,
           50,
           50,
           50,
           15,
           12,
           6,
           16,
           13,
           6,
           17,
           9,
           14,
           11,
           9,
           10,
           9,
           6,
           1,
           3,
           6,
           9,
           17,
           6,
           1,
           9,
           8,
           1,
           17,
           13,
           15,
           6,
           1,
           1,
           16,
           13,
           1,
           14,
           9,
           6,
           17,
           16,
           12,
           1,
           17,
           15,
           8,
           13,
           1,
           9,
           17,
           17,
           13,
           16,
           13,
           9,
           17,
           13,
           13,
           6,
           16,
           6,
           4,
           13,
           13,
           9,
           16,
           6,
           4,
           15,
           16,
           6,
           20,
           16,
           16,
           13,
           6,
           16,
           13,
           6,
           17,
           13,
           6,
           16,
           15,
           16,
           15,
           50,
           17,
           13,
           16,
           10,
           13,
           17,
           13,
           13,
           17,
           15,
           4,
           13,
           9,
           9,
           18,
           1,
           18,
           18,
           15,
           17,
           13,
           13,
           9,
           16,
           13,
           16,
           1,
           16,
           50,
           9,
           16,
           15,
           10,
           14,
           17,
           1,
           13,
           18,
           13,
           11,
           13,
           3,
           10,
           9,
           12,
           18,
           15,
           16,
           9,
           8,
           6,
           16,
           17,
           4,
           12,
           10,
           9,
           7,
           14,
           13,
           6,
           6,
           6,
           9,
           18,
           14,
           8,
           8,
           12,
           9,
           9,
           10,
           3,
           10,
           16,
           12,
           18,
           14,
           16,
           9,
           2,
           6,
           16,
           9,
           3,
           12,
           8,
           9,
           7,
           18,
           13,
           6,
           6,
           6,
           16,
           18,
           14,
           8,
           18,
           20,
           9,
           13,
           18,
           3,
           10,
           16,
           9,
           18,
           17,
           16,
           9,
           2,
           6,
           16,
           10,
           6,
           12,
           8,
           7,
           7,
           9,
           13,
           6,
           6,
           6,
           14,
           18,
           4,
           18,
           9,
           16,
           4,
           9,
           10,
           3,
           5,
           9,
           3,
           15,
           18,
           14,
           16,
           9,
           8,
           6,
           16,
           10,
           3,
           12,
           8,
           17,
           7,
           18,
           13,
           6,
           6,
           6,
           12,
           9,
           9,
           8,
           4,
           17,
           7,
           9,
           10,
           17,
           5,
           15,
           4,
           12,
           1,
           9,
           1,
           9,
           17,
           3,
           7,
           6,
           1,
           4,
           8,
           18,
           20,
           9,
           16,
           13,
           18,
           18,
           16,
           6,
           3,
           17,
           16,
           13,
           15,
           7,
           10,
           16,
           12,
           18,
           16,
           16,
           17,
           6,
           16,
           8,
           3,
           11,
           18,
           3,
           16,
           13,
           14,
           10,
           1,
           17,
           10,
           1,
           3,
           4,
           18,
           16,
           1,
           16,
           10,
           1,
           9,
           14,
           6,
           10
          ],
          [
           11,
           1,
           4,
           13,
           15,
           14,
           4,
           5,
           3,
           17,
           11,
           4,
           3,
           14,
           1,
           6,
           50,
           50,
           50,
           50,
           50,
           3,
           50,
           50,
           50,
           50,
           50,
           50,
           20,
           17,
           11,
           10,
           14,
           3,
           14,
           4,
           6,
           3,
           11,
           3,
           7,
           6,
           10,
           9,
           4,
           16,
           13,
           13,
           14,
           13,
           13,
           1,
           3,
           3,
           6,
           16,
           4,
           4,
           13,
           6,
           16,
           4,
           17,
           16,
           3,
           1,
           9,
           16,
           17,
           13,
           17,
           1,
           4,
           3,
           18,
           17,
           1,
           13,
           10,
           18,
           4,
           4,
           15,
           1,
           13,
           3,
           9,
           14,
           1,
           17,
           1,
           14,
           16,
           7,
           17,
           4,
           8,
           13,
           4,
           6,
           17,
           17,
           1,
           4,
           4,
           1,
           6,
           8,
           6,
           3,
           17,
           13,
           12,
           11,
           4,
           3,
           14,
           1,
           1,
           6,
           7,
           18,
           17,
           14,
           4,
           13,
           14,
           9,
           18,
           4,
           8,
           5,
           16,
           14,
           16,
           10,
           10,
           18,
           50,
           4,
           13,
           6,
           15,
           50,
           15,
           4,
           50,
           50,
           50,
           50,
           6,
           14,
           1,
           13,
           3,
           16,
           6,
           8,
           16,
           3,
           19,
           17,
           7,
           14,
           14,
           18,
           13,
           16,
           50,
           11,
           16,
           6,
           1,
           13,
           10,
           13,
           13,
           14,
           6,
           10,
           15,
           4,
           1,
           17,
           7,
           14,
           50,
           13,
           10,
           6,
           17,
           15,
           13,
           4,
           3,
           18,
           4,
           50,
           50,
           15,
           16,
           7,
           13,
           1,
           16,
           4,
           10,
           10,
           50,
           19,
           50,
           14,
           50,
           50,
           50,
           50,
           50,
           50,
           50,
           4,
           16,
           13,
           14,
           50,
           9,
           4,
           1,
           19,
           6,
           9,
           3,
           15,
           10,
           6,
           16,
           4,
           4,
           4,
           18,
           3,
           4,
           3,
           8,
           50,
           50,
           17,
           11,
           3,
           4,
           16,
           16,
           50,
           50,
           14,
           4,
           16,
           13,
           13,
           16,
           50,
           50,
           50,
           50,
           50,
           14,
           50,
           1,
           16,
           10,
           1,
           13,
           50,
           6,
           17,
           1,
           17,
           13,
           14,
           50,
           1,
           15,
           16,
           18,
           16,
           1,
           16,
           6,
           18,
           16,
           6,
           4,
           17,
           17,
           16,
           8,
           13,
           6,
           5,
           13,
           1,
           4,
           6,
           16,
           8,
           13,
           10,
           13,
           50,
           1,
           3,
           5,
           5,
           50,
           16,
           9,
           18,
           16,
           1,
           4,
           17,
           14,
           1,
           16,
           50,
           50,
           50,
           13,
           13,
           4,
           6,
           13,
           6,
           17,
           6,
           13,
           16,
           4,
           4,
           6,
           7,
           4,
           1,
           1,
           13,
           50,
           4,
           5,
           17,
           5,
           7,
           18,
           4,
           8,
           9,
           1,
           50,
           50,
           16,
           1,
           50,
           50,
           13,
           9,
           4,
           14,
           3,
           10,
           50,
           4,
           50,
           50,
           50,
           6,
           50,
           1,
           17,
           18,
           18,
           6,
           1,
           13,
           1,
           4,
           50,
           50,
           50,
           4,
           14,
           9,
           1,
           15,
           6,
           13,
           16,
           18,
           6,
           9,
           6,
           17,
           9,
           4,
           1,
           16,
           10,
           10,
           4,
           13,
           17,
           3,
           9,
           14,
           13,
           1,
           1,
           6,
           10,
           13,
           50,
           6,
           15,
           13,
           18,
           16,
           15,
           18,
           13,
           14,
           10,
           9,
           1,
           15,
           50,
           18,
           1,
           6,
           18,
           16,
           9,
           3,
           15,
           17,
           6,
           12,
           3,
           4,
           9,
           9,
           1,
           9,
           17,
           16,
           17,
           13,
           16,
           2,
           1,
           9,
           17,
           13,
           16,
           12,
           15,
           13,
           2,
           10,
           16,
           13,
           17,
           15,
           13,
           17,
           13,
           6,
           16,
           16,
           3,
           13,
           10,
           8,
           9,
           13,
           16,
           16,
           13,
           1,
           18,
           2,
           13,
           4,
           13,
           50,
           50,
           1,
           17,
           16,
           13,
           9,
           20,
           18,
           16,
           16,
           18,
           50,
           50,
           50,
           50,
           50,
           50,
           50,
           50,
           50,
           50,
           50,
           50,
           17,
           50,
           50,
           50,
           13,
           50,
           50,
           50,
           15,
           12,
           6,
           16,
           13,
           6,
           17,
           9,
           14,
           11,
           9,
           10,
           9,
           6,
           1,
           3,
           6,
           9,
           17,
           6,
           1,
           9,
           8,
           1,
           17,
           13,
           15,
           6,
           1,
           1,
           17,
           13,
           6,
           14,
           9,
           6,
           17,
           16,
           12,
           1,
           17,
           15,
           8,
           13,
           1,
           9,
           17,
           17,
           13,
           16,
           13,
           9,
           17,
           13,
           13,
           6,
           16,
           6,
           4,
           13,
           13,
           9,
           16,
           6,
           4,
           15,
           16,
           6,
           20,
           16,
           16,
           13,
           6,
           16,
           13,
           6,
           50,
           17,
           13,
           6,
           16,
           15,
           16,
           15,
           17,
           13,
           16,
           10,
           13,
           17,
           13,
           13,
           17,
           15,
           4,
           13,
           9,
           9,
           18,
           1,
           18,
           18,
           15,
           17,
           13,
           13,
           9,
           16,
           13,
           16,
           1,
           16,
           50,
           9,
           16,
           15,
           10,
           14,
           17,
           1,
           13,
           18,
           13,
           11,
           13,
           3,
           10,
           9,
           12,
           18,
           15,
           16,
           9,
           8,
           6,
           16,
           17,
           4,
           12,
           10,
           9,
           7,
           14,
           13,
           6,
           6,
           6,
           9,
           18,
           14,
           8,
           8,
           12,
           9,
           9,
           10,
           3,
           10,
           16,
           12,
           18,
           14,
           16,
           9,
           2,
           6,
           16,
           9,
           3,
           12,
           8,
           9,
           7,
           18,
           13,
           6,
           6,
           6,
           16,
           18,
           7,
           8,
           18,
           20,
           9,
           13,
           18,
           3,
           10,
           16,
           9,
           18,
           17,
           16,
           9,
           2,
           6,
           16,
           10,
           6,
           12,
           8,
           7,
           7,
           9,
           13,
           6,
           6,
           6,
           14,
           18,
           4,
           18,
           9,
           16,
           4,
           9,
           10,
           3,
           5,
           9,
           3,
           15,
           18,
           14,
           16,
           9,
           8,
           6,
           16,
           10,
           3,
           12,
           8,
           17,
           7,
           18,
           13,
           6,
           6,
           6,
           12,
           9,
           9,
           8,
           4,
           17,
           7,
           9,
           10,
           17,
           5,
           15,
           4,
           12,
           1,
           9,
           1,
           9,
           17,
           3,
           7,
           6,
           1,
           4,
           8,
           18,
           20,
           9,
           16,
           13,
           18,
           18,
           16,
           6,
           3,
           17,
           16,
           13,
           15,
           7,
           10,
           16,
           12,
           18,
           16,
           16,
           17,
           6,
           16,
           8,
           3,
           11,
           18,
           3,
           16,
           13,
           14,
           10,
           1,
           17,
           10,
           1,
           3,
           4,
           18,
           16,
           1,
           16,
           10,
           1,
           9,
           14,
           6,
           10
          ],
          [
           11,
           1,
           4,
           13,
           15,
           14,
           4,
           5,
           4,
           18,
           11,
           4,
           3,
           7,
           1,
           6,
           17,
           20,
           6,
           10,
           6,
           3,
           15,
           9,
           3,
           14,
           6,
           6,
           20,
           17,
           11,
           7,
           14,
           3,
           14,
           4,
           6,
           3,
           17,
           3,
           1,
           6,
           10,
           9,
           4,
           16,
           13,
           10,
           14,
           17,
           13,
           17,
           4,
           3,
           6,
           16,
           4,
           4,
           13,
           6,
           16,
           4,
           17,
           16,
           3,
           1,
           9,
           16,
           17,
           13,
           17,
           1,
           4,
           3,
           18,
           17,
           1,
           13,
           10,
           18,
           3,
           4,
           6,
           1,
           13,
           6,
           9,
           14,
           1,
           1,
           1,
           14,
           13,
           7,
           17,
           4,
           8,
           13,
           4,
           6,
           17,
           17,
           1,
           4,
           4,
           1,
           6,
           8,
           6,
           3,
           17,
           13,
           16,
           10,
           4,
           3,
           4,
           1,
           1,
           6,
           7,
           18,
           17,
           14,
           4,
           13,
           50,
           50,
           50,
           4,
           50,
           50,
           16,
           6,
           9,
           18,
           50,
           18,
           14,
           4,
           50,
           6,
           5,
           10,
           15,
           4,
           13,
           6,
           13,
           50,
           13,
           50,
           50,
           6,
           10,
           16,
           50,
           50,
           50,
           7,
           50,
           50,
           50,
           50,
           14,
           10,
           11,
           16,
           6,
           11,
           13,
           6,
           1,
           13,
           10,
           10,
           13,
           4,
           6,
           13,
           15,
           4,
           1,
           17,
           15,
           14,
           13,
           16,
           6,
           17,
           6,
           13,
           4,
           3,
           17,
           4,
           50,
           6,
           50,
           6,
           15,
           7,
           50,
           1,
           13,
           4,
           10,
           10,
           9,
           7,
           14,
           10,
           10,
           6,
           3,
           10,
           7,
           14,
           4,
           6,
           13,
           13,
           10,
           9,
           50,
           6,
           1,
           6,
           6,
           9,
           4,
           15,
           13,
           6,
           16,
           9,
           4,
           4,
           18,
           3,
           4,
           3,
           15,
           3,
           18,
           3,
           4,
           16,
           16,
           10,
           14,
           3,
           16,
           13,
           13,
           16,
           9,
           1,
           16,
           50,
           50,
           50,
           13,
           1,
           14,
           3,
           50,
           50,
           50,
           50,
           6,
           15,
           50,
           50,
           50,
           50,
           13,
           50,
           13,
           14,
           17,
           1,
           1,
           15,
           50,
           50,
           50,
           50,
           50,
           4,
           50,
           1,
           17,
           16,
           8,
           13,
           6,
           5,
           13,
           1,
           4,
           6,
           1,
           8,
           13,
           10,
           13,
           18,
           3,
           5,
           10,
           16,
           9,
           18,
           16,
           17,
           4,
           8,
           50,
           13,
           1,
           16,
           4,
           50,
           13,
           3,
           6,
           13,
           16,
           1,
           6,
           15,
           1,
           9,
           50,
           6,
           14,
           3,
           1,
           50,
           7,
           10,
           4,
           5,
           17,
           5,
           7,
           18,
           4,
           8,
           50,
           50,
           50,
           17,
           13,
           12,
           18,
           14,
           9,
           4,
           14,
           1,
           7,
           50,
           50,
           16,
           4,
           4,
           7,
           10,
           6,
           15,
           1,
           1,
           5,
           13,
           6,
           1,
           13,
           6,
           4,
           6,
           13,
           4,
           50,
           50,
           1,
           15,
           50,
           50,
           6,
           50,
           13,
           16,
           10,
           6,
           4,
           3,
           17,
           9,
           4,
           1,
           3,
           10,
           13,
           4,
           13,
           16,
           4,
           9,
           14,
           50,
           13,
           1,
           1,
           1,
           50,
           13,
           15,
           6,
           9,
           13,
           18,
           16,
           15,
           18,
           13,
           14,
           10,
           9,
           1,
           15,
           11,
           18,
           16,
           9,
           16,
           9,
           3,
           6,
           17,
           6,
           16,
           3,
           3,
           9,
           9,
           1,
           9,
           17,
           16,
           17,
           15,
           16,
           16,
           1,
           9,
           17,
           10,
           9,
           12,
           15,
           13,
           2,
           10,
           16,
           13,
           9,
           7,
           13,
           17,
           13,
           6,
           16,
           16,
           3,
           13,
           10,
           8,
           14,
           13,
           16,
           16,
           13,
           1,
           18,
           2,
           13,
           4,
           13,
           13,
           16,
           16,
           13,
           9,
           20,
           18,
           50,
           50,
           16,
           16,
           18,
           17,
           13,
           15,
           17,
           6,
           16,
           16,
           6,
           1,
           9,
           4,
           11,
           9,
           10,
           9,
           6,
           1,
           3,
           6,
           9,
           17,
           50,
           50,
           9,
           8,
           1,
           17,
           13,
           15,
           6,
           1,
           1,
           13,
           13,
           6,
           14,
           9,
           6,
           14,
           1,
           12,
           1,
           17,
           15,
           8,
           13,
           1,
           9,
           17,
           13,
           13,
           1,
           13,
           9,
           17,
           13,
           13,
           16,
           16,
           1,
           17,
           9,
           14,
           18,
           14,
           15,
           15,
           13,
           13,
           13,
           1,
           6,
           13,
           15,
           16,
           4,
           15,
           6,
           4,
           13,
           13,
           9,
           16,
           6,
           3,
           50,
           15,
           16,
           6,
           20,
           16,
           16,
           13,
           6,
           16,
           13,
           6,
           17,
           13,
           6,
           16,
           15,
           16,
           15,
           17,
           13,
           16,
           10,
           13,
           17,
           13,
           13,
           50,
           17,
           15,
           4,
           13,
           9,
           9,
           18,
           1,
           18,
           18,
           15,
           17,
           13,
           13,
           9,
           16,
           13,
           16,
           16,
           1,
           9,
           16,
           15,
           10,
           14,
           17,
           1,
           13,
           18,
           13,
           11,
           13,
           3,
           10,
           9,
           12,
           18,
           9,
           16,
           9,
           8,
           6,
           16,
           17,
           4,
           12,
           10,
           9,
           7,
           14,
           13,
           6,
           6,
           6,
           9,
           18,
           14,
           8,
           8,
           12,
           9,
           9,
           10,
           3,
           10,
           16,
           12,
           18,
           14,
           16,
           9,
           2,
           6,
           16,
           9,
           3,
           12,
           8,
           9,
           7,
           18,
           13,
           6,
           6,
           6,
           16,
           18,
           14,
           8,
           18,
           20,
           9,
           13,
           18,
           3,
           10,
           16,
           9,
           18,
           17,
           16,
           9,
           2,
           6,
           16,
           10,
           6,
           12,
           8,
           7,
           7,
           9,
           13,
           6,
           6,
           6,
           14,
           18,
           4,
           18,
           9,
           16,
           4,
           9,
           10,
           3,
           5,
           9,
           3,
           15,
           18,
           14,
           16,
           9,
           8,
           6,
           16,
           10,
           3,
           12,
           8,
           17,
           7,
           18,
           13,
           6,
           6,
           6,
           12,
           9,
           9,
           8,
           4,
           17,
           7,
           9,
           10,
           17,
           5,
           15,
           4,
           12,
           1,
           9,
           1,
           9,
           17,
           3,
           7,
           6,
           1,
           4,
           8,
           18,
           20,
           9,
           16,
           13,
           18,
           18,
           16,
           6,
           3,
           17,
           16,
           13,
           15,
           7,
           10,
           16,
           12,
           18,
           16,
           16,
           17,
           6,
           16,
           8,
           3,
           11,
           18,
           3,
           16,
           13,
           14,
           10,
           1,
           17,
           10,
           1,
           3,
           4,
           18,
           16,
           1,
           16,
           10,
           1,
           9,
           14,
           6,
           10
          ]
         ]
        }
       ],
       "layout": {
        "annotations": [
         {
          "showarrow": false,
          "text": "M",
          "x": 0,
          "xref": "x",
          "y": 0,
          "yref": "y"
         },
         {
          "showarrow": false,
          "text": "A",
          "x": 1,
          "xref": "x",
          "y": 0,
          "yref": "y"
         },
         {
          "showarrow": false,
          "text": "E",
          "x": 2,
          "xref": "x",
          "y": 0,
          "yref": "y"
         },
         {
          "showarrow": false,
          "text": "P",
          "x": 3,
          "xref": "x",
          "y": 0,
          "yref": "y"
         },
         {
          "showarrow": false,
          "text": "R",
          "x": 4,
          "xref": "x",
          "y": 0,
          "yref": "y"
         },
         {
          "showarrow": false,
          "text": "Q",
          "x": 5,
          "xref": "x",
          "y": 0,
          "yref": "y"
         },
         {
          "showarrow": false,
          "text": "E",
          "x": 6,
          "xref": "x",
          "y": 0,
          "yref": "y"
         },
         {
          "showarrow": false,
          "text": "F",
          "x": 7,
          "xref": "x",
          "y": 0,
          "yref": "y"
         },
         {
          "showarrow": false,
          "text": "E",
          "x": 8,
          "xref": "x",
          "y": 0,
          "yref": "y"
         },
         {
          "showarrow": false,
          "text": "V",
          "x": 9,
          "xref": "x",
          "y": 0,
          "yref": "y"
         },
         {
          "showarrow": false,
          "text": "M",
          "x": 10,
          "xref": "x",
          "y": 0,
          "yref": "y"
         },
         {
          "showarrow": false,
          "text": "E",
          "x": 11,
          "xref": "x",
          "y": 0,
          "yref": "y"
         },
         {
          "showarrow": false,
          "text": "D",
          "x": 12,
          "xref": "x",
          "y": 0,
          "yref": "y"
         },
         {
          "showarrow": false,
          "text": "H",
          "x": 13,
          "xref": "x",
          "y": 0,
          "yref": "y"
         },
         {
          "showarrow": false,
          "text": "A",
          "x": 14,
          "xref": "x",
          "y": 0,
          "yref": "y"
         },
         {
          "showarrow": false,
          "text": "G",
          "x": 15,
          "xref": "x",
          "y": 0,
          "yref": "y"
         },
         {
          "showarrow": false,
          "text": "T",
          "x": 16,
          "xref": "x",
          "y": 0,
          "yref": "y"
         },
         {
          "showarrow": false,
          "text": "Y",
          "x": 17,
          "xref": "x",
          "y": 0,
          "yref": "y"
         },
         {
          "showarrow": false,
          "text": "G",
          "x": 18,
          "xref": "x",
          "y": 0,
          "yref": "y"
         },
         {
          "showarrow": false,
          "text": "L",
          "x": 19,
          "xref": "x",
          "y": 0,
          "yref": "y"
         },
         {
          "showarrow": false,
          "text": "G",
          "x": 20,
          "xref": "x",
          "y": 0,
          "yref": "y"
         },
         {
          "showarrow": false,
          "text": "D",
          "x": 21,
          "xref": "x",
          "y": 0,
          "yref": "y"
         },
         {
          "showarrow": false,
          "text": "R",
          "x": 22,
          "xref": "x",
          "y": 0,
          "yref": "y"
         },
         {
          "showarrow": false,
          "text": "K",
          "x": 23,
          "xref": "x",
          "y": 0,
          "yref": "y"
         },
         {
          "showarrow": false,
          "text": "D",
          "x": 24,
          "xref": "x",
          "y": 0,
          "yref": "y"
         },
         {
          "showarrow": false,
          "text": "Q",
          "x": 25,
          "xref": "x",
          "y": 0,
          "yref": "y"
         },
         {
          "showarrow": false,
          "text": "G",
          "x": 26,
          "xref": "x",
          "y": 0,
          "yref": "y"
         },
         {
          "showarrow": false,
          "text": "G",
          "x": 27,
          "xref": "x",
          "y": 0,
          "yref": "y"
         },
         {
          "showarrow": false,
          "text": "Y",
          "x": 28,
          "xref": "x",
          "y": 0,
          "yref": "y"
         },
         {
          "showarrow": false,
          "text": "T",
          "x": 29,
          "xref": "x",
          "y": 0,
          "yref": "y"
         },
         {
          "showarrow": false,
          "text": "M",
          "x": 30,
          "xref": "x",
          "y": 0,
          "yref": "y"
         },
         {
          "showarrow": false,
          "text": "H",
          "x": 31,
          "xref": "x",
          "y": 0,
          "yref": "y"
         },
         {
          "showarrow": false,
          "text": "Q",
          "x": 32,
          "xref": "x",
          "y": 0,
          "yref": "y"
         },
         {
          "showarrow": false,
          "text": "D",
          "x": 33,
          "xref": "x",
          "y": 0,
          "yref": "y"
         },
         {
          "showarrow": false,
          "text": "Q",
          "x": 34,
          "xref": "x",
          "y": 0,
          "yref": "y"
         },
         {
          "showarrow": false,
          "text": "E",
          "x": 35,
          "xref": "x",
          "y": 0,
          "yref": "y"
         },
         {
          "showarrow": false,
          "text": "G",
          "x": 36,
          "xref": "x",
          "y": 0,
          "yref": "y"
         },
         {
          "showarrow": false,
          "text": "D",
          "x": 37,
          "xref": "x",
          "y": 0,
          "yref": "y"
         },
         {
          "showarrow": false,
          "text": "T",
          "x": 38,
          "xref": "x",
          "y": 0,
          "yref": "y"
         },
         {
          "showarrow": false,
          "text": "D",
          "x": 39,
          "xref": "x",
          "y": 0,
          "yref": "y"
         },
         {
          "showarrow": false,
          "text": "A",
          "x": 40,
          "xref": "x",
          "y": 0,
          "yref": "y"
         },
         {
          "showarrow": false,
          "text": "G",
          "x": 41,
          "xref": "x",
          "y": 0,
          "yref": "y"
         },
         {
          "showarrow": false,
          "text": "L",
          "x": 42,
          "xref": "x",
          "y": 0,
          "yref": "y"
         },
         {
          "showarrow": false,
          "text": "K",
          "x": 43,
          "xref": "x",
          "y": 0,
          "yref": "y"
         },
         {
          "showarrow": false,
          "text": "E",
          "x": 44,
          "xref": "x",
          "y": 0,
          "yref": "y"
         },
         {
          "showarrow": false,
          "text": "S",
          "x": 45,
          "xref": "x",
          "y": 0,
          "yref": "y"
         },
         {
          "showarrow": false,
          "text": "P",
          "x": 46,
          "xref": "x",
          "y": 0,
          "yref": "y"
         },
         {
          "showarrow": false,
          "text": "L",
          "x": 47,
          "xref": "x",
          "y": 0,
          "yref": "y"
         },
         {
          "showarrow": false,
          "text": "Q",
          "x": 48,
          "xref": "x",
          "y": 0,
          "yref": "y"
         },
         {
          "showarrow": false,
          "text": "T",
          "x": 49,
          "xref": "x",
          "y": 0,
          "yref": "y"
         },
         {
          "showarrow": false,
          "text": "P",
          "x": 50,
          "xref": "x",
          "y": 0,
          "yref": "y"
         },
         {
          "showarrow": false,
          "text": "T",
          "x": 51,
          "xref": "x",
          "y": 0,
          "yref": "y"
         },
         {
          "showarrow": false,
          "text": "E",
          "x": 52,
          "xref": "x",
          "y": 0,
          "yref": "y"
         },
         {
          "showarrow": false,
          "text": "D",
          "x": 53,
          "xref": "x",
          "y": 0,
          "yref": "y"
         },
         {
          "showarrow": false,
          "text": "G",
          "x": 54,
          "xref": "x",
          "y": 0,
          "yref": "y"
         },
         {
          "showarrow": false,
          "text": "S",
          "x": 55,
          "xref": "x",
          "y": 0,
          "yref": "y"
         },
         {
          "showarrow": false,
          "text": "E",
          "x": 56,
          "xref": "x",
          "y": 0,
          "yref": "y"
         },
         {
          "showarrow": false,
          "text": "E",
          "x": 57,
          "xref": "x",
          "y": 0,
          "yref": "y"
         },
         {
          "showarrow": false,
          "text": "P",
          "x": 58,
          "xref": "x",
          "y": 0,
          "yref": "y"
         },
         {
          "showarrow": false,
          "text": "G",
          "x": 59,
          "xref": "x",
          "y": 0,
          "yref": "y"
         },
         {
          "showarrow": false,
          "text": "S",
          "x": 60,
          "xref": "x",
          "y": 0,
          "yref": "y"
         },
         {
          "showarrow": false,
          "text": "E",
          "x": 61,
          "xref": "x",
          "y": 0,
          "yref": "y"
         },
         {
          "showarrow": false,
          "text": "T",
          "x": 62,
          "xref": "x",
          "y": 0,
          "yref": "y"
         },
         {
          "showarrow": false,
          "text": "S",
          "x": 63,
          "xref": "x",
          "y": 0,
          "yref": "y"
         },
         {
          "showarrow": false,
          "text": "D",
          "x": 64,
          "xref": "x",
          "y": 0,
          "yref": "y"
         },
         {
          "showarrow": false,
          "text": "A",
          "x": 65,
          "xref": "x",
          "y": 0,
          "yref": "y"
         },
         {
          "showarrow": false,
          "text": "K",
          "x": 66,
          "xref": "x",
          "y": 0,
          "yref": "y"
         },
         {
          "showarrow": false,
          "text": "S",
          "x": 67,
          "xref": "x",
          "y": 0,
          "yref": "y"
         },
         {
          "showarrow": false,
          "text": "T",
          "x": 68,
          "xref": "x",
          "y": 0,
          "yref": "y"
         },
         {
          "showarrow": false,
          "text": "P",
          "x": 69,
          "xref": "x",
          "y": 0,
          "yref": "y"
         },
         {
          "showarrow": false,
          "text": "T",
          "x": 70,
          "xref": "x",
          "y": 0,
          "yref": "y"
         },
         {
          "showarrow": false,
          "text": "A",
          "x": 71,
          "xref": "x",
          "y": 0,
          "yref": "y"
         },
         {
          "showarrow": false,
          "text": "E",
          "x": 72,
          "xref": "x",
          "y": 0,
          "yref": "y"
         },
         {
          "showarrow": false,
          "text": "D",
          "x": 73,
          "xref": "x",
          "y": 0,
          "yref": "y"
         },
         {
          "showarrow": false,
          "text": "V",
          "x": 74,
          "xref": "x",
          "y": 0,
          "yref": "y"
         },
         {
          "showarrow": false,
          "text": "T",
          "x": 75,
          "xref": "x",
          "y": 0,
          "yref": "y"
         },
         {
          "showarrow": false,
          "text": "A",
          "x": 76,
          "xref": "x",
          "y": 0,
          "yref": "y"
         },
         {
          "showarrow": false,
          "text": "P",
          "x": 77,
          "xref": "x",
          "y": 0,
          "yref": "y"
         },
         {
          "showarrow": false,
          "text": "L",
          "x": 78,
          "xref": "x",
          "y": 0,
          "yref": "y"
         },
         {
          "showarrow": false,
          "text": "V",
          "x": 79,
          "xref": "x",
          "y": 0,
          "yref": "y"
         },
         {
          "showarrow": false,
          "text": "D",
          "x": 80,
          "xref": "x",
          "y": 0,
          "yref": "y"
         },
         {
          "showarrow": false,
          "text": "E",
          "x": 81,
          "xref": "x",
          "y": 0,
          "yref": "y"
         },
         {
          "showarrow": false,
          "text": "G",
          "x": 82,
          "xref": "x",
          "y": 0,
          "yref": "y"
         },
         {
          "showarrow": false,
          "text": "A",
          "x": 83,
          "xref": "x",
          "y": 0,
          "yref": "y"
         },
         {
          "showarrow": false,
          "text": "P",
          "x": 84,
          "xref": "x",
          "y": 0,
          "yref": "y"
         },
         {
          "showarrow": false,
          "text": "G",
          "x": 85,
          "xref": "x",
          "y": 0,
          "yref": "y"
         },
         {
          "showarrow": false,
          "text": "K",
          "x": 86,
          "xref": "x",
          "y": 0,
          "yref": "y"
         },
         {
          "showarrow": false,
          "text": "Q",
          "x": 87,
          "xref": "x",
          "y": 0,
          "yref": "y"
         },
         {
          "showarrow": false,
          "text": "A",
          "x": 88,
          "xref": "x",
          "y": 0,
          "yref": "y"
         },
         {
          "showarrow": false,
          "text": "A",
          "x": 89,
          "xref": "x",
          "y": 0,
          "yref": "y"
         },
         {
          "showarrow": false,
          "text": "A",
          "x": 90,
          "xref": "x",
          "y": 0,
          "yref": "y"
         },
         {
          "showarrow": false,
          "text": "Q",
          "x": 91,
          "xref": "x",
          "y": 0,
          "yref": "y"
         },
         {
          "showarrow": false,
          "text": "P",
          "x": 92,
          "xref": "x",
          "y": 0,
          "yref": "y"
         },
         {
          "showarrow": false,
          "text": "H",
          "x": 93,
          "xref": "x",
          "y": 0,
          "yref": "y"
         },
         {
          "showarrow": false,
          "text": "T",
          "x": 94,
          "xref": "x",
          "y": 0,
          "yref": "y"
         },
         {
          "showarrow": false,
          "text": "E",
          "x": 95,
          "xref": "x",
          "y": 0,
          "yref": "y"
         },
         {
          "showarrow": false,
          "text": "I",
          "x": 96,
          "xref": "x",
          "y": 0,
          "yref": "y"
         },
         {
          "showarrow": false,
          "text": "P",
          "x": 97,
          "xref": "x",
          "y": 0,
          "yref": "y"
         },
         {
          "showarrow": false,
          "text": "E",
          "x": 98,
          "xref": "x",
          "y": 0,
          "yref": "y"
         },
         {
          "showarrow": false,
          "text": "G",
          "x": 99,
          "xref": "x",
          "y": 0,
          "yref": "y"
         },
         {
          "showarrow": false,
          "text": "T",
          "x": 100,
          "xref": "x",
          "y": 0,
          "yref": "y"
         },
         {
          "showarrow": false,
          "text": "T",
          "x": 101,
          "xref": "x",
          "y": 0,
          "yref": "y"
         },
         {
          "showarrow": false,
          "text": "A",
          "x": 102,
          "xref": "x",
          "y": 0,
          "yref": "y"
         },
         {
          "showarrow": false,
          "text": "E",
          "x": 103,
          "xref": "x",
          "y": 0,
          "yref": "y"
         },
         {
          "showarrow": false,
          "text": "E",
          "x": 104,
          "xref": "x",
          "y": 0,
          "yref": "y"
         },
         {
          "showarrow": false,
          "text": "A",
          "x": 105,
          "xref": "x",
          "y": 0,
          "yref": "y"
         },
         {
          "showarrow": false,
          "text": "G",
          "x": 106,
          "xref": "x",
          "y": 0,
          "yref": "y"
         },
         {
          "showarrow": false,
          "text": "I",
          "x": 107,
          "xref": "x",
          "y": 0,
          "yref": "y"
         },
         {
          "showarrow": false,
          "text": "G",
          "x": 108,
          "xref": "x",
          "y": 0,
          "yref": "y"
         },
         {
          "showarrow": false,
          "text": "D",
          "x": 109,
          "xref": "x",
          "y": 0,
          "yref": "y"
         },
         {
          "showarrow": false,
          "text": "T",
          "x": 110,
          "xref": "x",
          "y": 0,
          "yref": "y"
         },
         {
          "showarrow": false,
          "text": "P",
          "x": 111,
          "xref": "x",
          "y": 0,
          "yref": "y"
         },
         {
          "showarrow": false,
          "text": "S",
          "x": 112,
          "xref": "x",
          "y": 0,
          "yref": "y"
         },
         {
          "showarrow": false,
          "text": "L",
          "x": 113,
          "xref": "x",
          "y": 0,
          "yref": "y"
         },
         {
          "showarrow": false,
          "text": "E",
          "x": 114,
          "xref": "x",
          "y": 0,
          "yref": "y"
         },
         {
          "showarrow": false,
          "text": "D",
          "x": 115,
          "xref": "x",
          "y": 0,
          "yref": "y"
         },
         {
          "showarrow": false,
          "text": "E",
          "x": 116,
          "xref": "x",
          "y": 0,
          "yref": "y"
         },
         {
          "showarrow": false,
          "text": "A",
          "x": 117,
          "xref": "x",
          "y": 0,
          "yref": "y"
         },
         {
          "showarrow": false,
          "text": "A",
          "x": 118,
          "xref": "x",
          "y": 0,
          "yref": "y"
         },
         {
          "showarrow": false,
          "text": "G",
          "x": 119,
          "xref": "x",
          "y": 0,
          "yref": "y"
         },
         {
          "showarrow": false,
          "text": "H",
          "x": 120,
          "xref": "x",
          "y": 0,
          "yref": "y"
         },
         {
          "showarrow": false,
          "text": "V",
          "x": 121,
          "xref": "x",
          "y": 0,
          "yref": "y"
         },
         {
          "showarrow": false,
          "text": "T",
          "x": 122,
          "xref": "x",
          "y": 0,
          "yref": "y"
         },
         {
          "showarrow": false,
          "text": "Q",
          "x": 123,
          "xref": "x",
          "y": 0,
          "yref": "y"
         },
         {
          "showarrow": false,
          "text": "E",
          "x": 124,
          "xref": "x",
          "y": 0,
          "yref": "y"
         },
         {
          "showarrow": false,
          "text": "P",
          "x": 125,
          "xref": "x",
          "y": 0,
          "yref": "y"
         },
         {
          "showarrow": false,
          "text": "-",
          "x": 126,
          "xref": "x",
          "y": 0,
          "yref": "y"
         },
         {
          "showarrow": false,
          "text": "-",
          "x": 127,
          "xref": "x",
          "y": 0,
          "yref": "y"
         },
         {
          "showarrow": false,
          "text": "-",
          "x": 128,
          "xref": "x",
          "y": 0,
          "yref": "y"
         },
         {
          "showarrow": false,
          "text": "E",
          "x": 129,
          "xref": "x",
          "y": 0,
          "yref": "y"
         },
         {
          "showarrow": false,
          "text": "-",
          "x": 130,
          "xref": "x",
          "y": 0,
          "yref": "y"
         },
         {
          "showarrow": false,
          "text": "-",
          "x": 131,
          "xref": "x",
          "y": 0,
          "yref": "y"
         },
         {
          "showarrow": false,
          "text": "S",
          "x": 132,
          "xref": "x",
          "y": 0,
          "yref": "y"
         },
         {
          "showarrow": false,
          "text": "G",
          "x": 133,
          "xref": "x",
          "y": 0,
          "yref": "y"
         },
         {
          "showarrow": false,
          "text": "K",
          "x": 134,
          "xref": "x",
          "y": 0,
          "yref": "y"
         },
         {
          "showarrow": false,
          "text": "V",
          "x": 135,
          "xref": "x",
          "y": 0,
          "yref": "y"
         },
         {
          "showarrow": false,
          "text": "-",
          "x": 136,
          "xref": "x",
          "y": 0,
          "yref": "y"
         },
         {
          "showarrow": false,
          "text": "V",
          "x": 137,
          "xref": "x",
          "y": 0,
          "yref": "y"
         },
         {
          "showarrow": false,
          "text": "Q",
          "x": 138,
          "xref": "x",
          "y": 0,
          "yref": "y"
         },
         {
          "showarrow": false,
          "text": "E",
          "x": 139,
          "xref": "x",
          "y": 0,
          "yref": "y"
         },
         {
          "showarrow": false,
          "text": "-",
          "x": 140,
          "xref": "x",
          "y": 0,
          "yref": "y"
         },
         {
          "showarrow": false,
          "text": "G",
          "x": 141,
          "xref": "x",
          "y": 0,
          "yref": "y"
         },
         {
          "showarrow": false,
          "text": "F",
          "x": 142,
          "xref": "x",
          "y": 0,
          "yref": "y"
         },
         {
          "showarrow": false,
          "text": "L",
          "x": 143,
          "xref": "x",
          "y": 0,
          "yref": "y"
         },
         {
          "showarrow": false,
          "text": "R",
          "x": 144,
          "xref": "x",
          "y": 0,
          "yref": "y"
         },
         {
          "showarrow": false,
          "text": "E",
          "x": 145,
          "xref": "x",
          "y": 0,
          "yref": "y"
         },
         {
          "showarrow": false,
          "text": "P",
          "x": 146,
          "xref": "x",
          "y": 0,
          "yref": "y"
         },
         {
          "showarrow": false,
          "text": "G",
          "x": 147,
          "xref": "x",
          "y": 0,
          "yref": "y"
         },
         {
          "showarrow": false,
          "text": "P",
          "x": 148,
          "xref": "x",
          "y": 0,
          "yref": "y"
         },
         {
          "showarrow": false,
          "text": "-",
          "x": 149,
          "xref": "x",
          "y": 0,
          "yref": "y"
         },
         {
          "showarrow": false,
          "text": "P",
          "x": 150,
          "xref": "x",
          "y": 0,
          "yref": "y"
         },
         {
          "showarrow": false,
          "text": "-",
          "x": 151,
          "xref": "x",
          "y": 0,
          "yref": "y"
         },
         {
          "showarrow": false,
          "text": "-",
          "x": 152,
          "xref": "x",
          "y": 0,
          "yref": "y"
         },
         {
          "showarrow": false,
          "text": "G",
          "x": 153,
          "xref": "x",
          "y": 0,
          "yref": "y"
         },
         {
          "showarrow": false,
          "text": "L",
          "x": 154,
          "xref": "x",
          "y": 0,
          "yref": "y"
         },
         {
          "showarrow": false,
          "text": "S",
          "x": 155,
          "xref": "x",
          "y": 0,
          "yref": "y"
         },
         {
          "showarrow": false,
          "text": "-",
          "x": 156,
          "xref": "x",
          "y": 0,
          "yref": "y"
         },
         {
          "showarrow": false,
          "text": "-",
          "x": 157,
          "xref": "x",
          "y": 0,
          "yref": "y"
         },
         {
          "showarrow": false,
          "text": "-",
          "x": 158,
          "xref": "x",
          "y": 0,
          "yref": "y"
         },
         {
          "showarrow": false,
          "text": "H",
          "x": 159,
          "xref": "x",
          "y": 0,
          "yref": "y"
         },
         {
          "showarrow": false,
          "text": "-",
          "x": 160,
          "xref": "x",
          "y": 0,
          "yref": "y"
         },
         {
          "showarrow": false,
          "text": "-",
          "x": 161,
          "xref": "x",
          "y": 0,
          "yref": "y"
         },
         {
          "showarrow": false,
          "text": "-",
          "x": 162,
          "xref": "x",
          "y": 0,
          "yref": "y"
         },
         {
          "showarrow": false,
          "text": "-",
          "x": 163,
          "xref": "x",
          "y": 0,
          "yref": "y"
         },
         {
          "showarrow": false,
          "text": "Q",
          "x": 164,
          "xref": "x",
          "y": 0,
          "yref": "y"
         },
         {
          "showarrow": false,
          "text": "L",
          "x": 165,
          "xref": "x",
          "y": 0,
          "yref": "y"
         },
         {
          "showarrow": false,
          "text": "M",
          "x": 166,
          "xref": "x",
          "y": 0,
          "yref": "y"
         },
         {
          "showarrow": false,
          "text": "S",
          "x": 167,
          "xref": "x",
          "y": 0,
          "yref": "y"
         },
         {
          "showarrow": false,
          "text": "G",
          "x": 168,
          "xref": "x",
          "y": 0,
          "yref": "y"
         },
         {
          "showarrow": false,
          "text": "M",
          "x": 169,
          "xref": "x",
          "y": 0,
          "yref": "y"
         },
         {
          "showarrow": false,
          "text": "P",
          "x": 170,
          "xref": "x",
          "y": 0,
          "yref": "y"
         },
         {
          "showarrow": false,
          "text": "G",
          "x": 171,
          "xref": "x",
          "y": 0,
          "yref": "y"
         },
         {
          "showarrow": false,
          "text": "A",
          "x": 172,
          "xref": "x",
          "y": 0,
          "yref": "y"
         },
         {
          "showarrow": false,
          "text": "P",
          "x": 173,
          "xref": "x",
          "y": 0,
          "yref": "y"
         },
         {
          "showarrow": false,
          "text": "L",
          "x": 174,
          "xref": "x",
          "y": 0,
          "yref": "y"
         },
         {
          "showarrow": false,
          "text": "L",
          "x": 175,
          "xref": "x",
          "y": 0,
          "yref": "y"
         },
         {
          "showarrow": false,
          "text": "P",
          "x": 176,
          "xref": "x",
          "y": 0,
          "yref": "y"
         },
         {
          "showarrow": false,
          "text": "E",
          "x": 177,
          "xref": "x",
          "y": 0,
          "yref": "y"
         },
         {
          "showarrow": false,
          "text": "G",
          "x": 178,
          "xref": "x",
          "y": 0,
          "yref": "y"
         },
         {
          "showarrow": false,
          "text": "P",
          "x": 179,
          "xref": "x",
          "y": 0,
          "yref": "y"
         },
         {
          "showarrow": false,
          "text": "R",
          "x": 180,
          "xref": "x",
          "y": 0,
          "yref": "y"
         },
         {
          "showarrow": false,
          "text": "E",
          "x": 181,
          "xref": "x",
          "y": 0,
          "yref": "y"
         },
         {
          "showarrow": false,
          "text": "A",
          "x": 182,
          "xref": "x",
          "y": 0,
          "yref": "y"
         },
         {
          "showarrow": false,
          "text": "T",
          "x": 183,
          "xref": "x",
          "y": 0,
          "yref": "y"
         },
         {
          "showarrow": false,
          "text": "R",
          "x": 184,
          "xref": "x",
          "y": 0,
          "yref": "y"
         },
         {
          "showarrow": false,
          "text": "Q",
          "x": 185,
          "xref": "x",
          "y": 0,
          "yref": "y"
         },
         {
          "showarrow": false,
          "text": "P",
          "x": 186,
          "xref": "x",
          "y": 0,
          "yref": "y"
         },
         {
          "showarrow": false,
          "text": "S",
          "x": 187,
          "xref": "x",
          "y": 0,
          "yref": "y"
         },
         {
          "showarrow": false,
          "text": "G",
          "x": 188,
          "xref": "x",
          "y": 0,
          "yref": "y"
         },
         {
          "showarrow": false,
          "text": "T",
          "x": 189,
          "xref": "x",
          "y": 0,
          "yref": "y"
         },
         {
          "showarrow": false,
          "text": "G",
          "x": 190,
          "xref": "x",
          "y": 0,
          "yref": "y"
         },
         {
          "showarrow": false,
          "text": "P",
          "x": 191,
          "xref": "x",
          "y": 0,
          "yref": "y"
         },
         {
          "showarrow": false,
          "text": "E",
          "x": 192,
          "xref": "x",
          "y": 0,
          "yref": "y"
         },
         {
          "showarrow": false,
          "text": "D",
          "x": 193,
          "xref": "x",
          "y": 0,
          "yref": "y"
         },
         {
          "showarrow": false,
          "text": "T",
          "x": 194,
          "xref": "x",
          "y": 0,
          "yref": "y"
         },
         {
          "showarrow": false,
          "text": "E",
          "x": 195,
          "xref": "x",
          "y": 0,
          "yref": "y"
         },
         {
          "showarrow": false,
          "text": "-",
          "x": 196,
          "xref": "x",
          "y": 0,
          "yref": "y"
         },
         {
          "showarrow": false,
          "text": "G",
          "x": 197,
          "xref": "x",
          "y": 0,
          "yref": "y"
         },
         {
          "showarrow": false,
          "text": "-",
          "x": 198,
          "xref": "x",
          "y": 0,
          "yref": "y"
         },
         {
          "showarrow": false,
          "text": "G",
          "x": 199,
          "xref": "x",
          "y": 0,
          "yref": "y"
         },
         {
          "showarrow": false,
          "text": "R",
          "x": 200,
          "xref": "x",
          "y": 0,
          "yref": "y"
         },
         {
          "showarrow": false,
          "text": "H",
          "x": 201,
          "xref": "x",
          "y": 0,
          "yref": "y"
         },
         {
          "showarrow": false,
          "text": "-",
          "x": 202,
          "xref": "x",
          "y": 0,
          "yref": "y"
         },
         {
          "showarrow": false,
          "text": "A",
          "x": 203,
          "xref": "x",
          "y": 0,
          "yref": "y"
         },
         {
          "showarrow": false,
          "text": "P",
          "x": 204,
          "xref": "x",
          "y": 0,
          "yref": "y"
         },
         {
          "showarrow": false,
          "text": "E",
          "x": 205,
          "xref": "x",
          "y": 0,
          "yref": "y"
         },
         {
          "showarrow": false,
          "text": "L",
          "x": 206,
          "xref": "x",
          "y": 0,
          "yref": "y"
         },
         {
          "showarrow": false,
          "text": "L",
          "x": 207,
          "xref": "x",
          "y": 0,
          "yref": "y"
         },
         {
          "showarrow": false,
          "text": "K",
          "x": 208,
          "xref": "x",
          "y": 0,
          "yref": "y"
         },
         {
          "showarrow": false,
          "text": "H",
          "x": 209,
          "xref": "x",
          "y": 0,
          "yref": "y"
         },
         {
          "showarrow": false,
          "text": "Q",
          "x": 210,
          "xref": "x",
          "y": 0,
          "yref": "y"
         },
         {
          "showarrow": false,
          "text": "L",
          "x": 211,
          "xref": "x",
          "y": 0,
          "yref": "y"
         },
         {
          "showarrow": false,
          "text": "L",
          "x": 212,
          "xref": "x",
          "y": 0,
          "yref": "y"
         },
         {
          "showarrow": false,
          "text": "G",
          "x": 213,
          "xref": "x",
          "y": 0,
          "yref": "y"
         },
         {
          "showarrow": false,
          "text": "D",
          "x": 214,
          "xref": "x",
          "y": 0,
          "yref": "y"
         },
         {
          "showarrow": false,
          "text": "L",
          "x": 215,
          "xref": "x",
          "y": 0,
          "yref": "y"
         },
         {
          "showarrow": false,
          "text": "H",
          "x": 216,
          "xref": "x",
          "y": 0,
          "yref": "y"
         },
         {
          "showarrow": false,
          "text": "Q",
          "x": 217,
          "xref": "x",
          "y": 0,
          "yref": "y"
         },
         {
          "showarrow": false,
          "text": "E",
          "x": 218,
          "xref": "x",
          "y": 0,
          "yref": "y"
         },
         {
          "showarrow": false,
          "text": "G",
          "x": 219,
          "xref": "x",
          "y": 0,
          "yref": "y"
         },
         {
          "showarrow": false,
          "text": "P",
          "x": 220,
          "xref": "x",
          "y": 0,
          "yref": "y"
         },
         {
          "showarrow": false,
          "text": "P",
          "x": 221,
          "xref": "x",
          "y": 0,
          "yref": "y"
         },
         {
          "showarrow": false,
          "text": "L",
          "x": 222,
          "xref": "x",
          "y": 0,
          "yref": "y"
         },
         {
          "showarrow": false,
          "text": "K",
          "x": 223,
          "xref": "x",
          "y": 0,
          "yref": "y"
         },
         {
          "showarrow": false,
          "text": "-",
          "x": 224,
          "xref": "x",
          "y": 0,
          "yref": "y"
         },
         {
          "showarrow": false,
          "text": "G",
          "x": 225,
          "xref": "x",
          "y": 0,
          "yref": "y"
         },
         {
          "showarrow": false,
          "text": "A",
          "x": 226,
          "xref": "x",
          "y": 0,
          "yref": "y"
         },
         {
          "showarrow": false,
          "text": "G",
          "x": 227,
          "xref": "x",
          "y": 0,
          "yref": "y"
         },
         {
          "showarrow": false,
          "text": "G",
          "x": 228,
          "xref": "x",
          "y": 0,
          "yref": "y"
         },
         {
          "showarrow": false,
          "text": "K",
          "x": 229,
          "xref": "x",
          "y": 0,
          "yref": "y"
         },
         {
          "showarrow": false,
          "text": "E",
          "x": 230,
          "xref": "x",
          "y": 0,
          "yref": "y"
         },
         {
          "showarrow": false,
          "text": "R",
          "x": 231,
          "xref": "x",
          "y": 0,
          "yref": "y"
         },
         {
          "showarrow": false,
          "text": "P",
          "x": 232,
          "xref": "x",
          "y": 0,
          "yref": "y"
         },
         {
          "showarrow": false,
          "text": "G",
          "x": 233,
          "xref": "x",
          "y": 0,
          "yref": "y"
         },
         {
          "showarrow": false,
          "text": "S",
          "x": 234,
          "xref": "x",
          "y": 0,
          "yref": "y"
         },
         {
          "showarrow": false,
          "text": "K",
          "x": 235,
          "xref": "x",
          "y": 0,
          "yref": "y"
         },
         {
          "showarrow": false,
          "text": "E",
          "x": 236,
          "xref": "x",
          "y": 0,
          "yref": "y"
         },
         {
          "showarrow": false,
          "text": "E",
          "x": 237,
          "xref": "x",
          "y": 0,
          "yref": "y"
         },
         {
          "showarrow": false,
          "text": "V",
          "x": 238,
          "xref": "x",
          "y": 0,
          "yref": "y"
         },
         {
          "showarrow": false,
          "text": "D",
          "x": 239,
          "xref": "x",
          "y": 0,
          "yref": "y"
         },
         {
          "showarrow": false,
          "text": "E",
          "x": 240,
          "xref": "x",
          "y": 0,
          "yref": "y"
         },
         {
          "showarrow": false,
          "text": "D",
          "x": 241,
          "xref": "x",
          "y": 0,
          "yref": "y"
         },
         {
          "showarrow": false,
          "text": "R",
          "x": 242,
          "xref": "x",
          "y": 0,
          "yref": "y"
         },
         {
          "showarrow": false,
          "text": "D",
          "x": 243,
          "xref": "x",
          "y": 0,
          "yref": "y"
         },
         {
          "showarrow": false,
          "text": "V",
          "x": 244,
          "xref": "x",
          "y": 0,
          "yref": "y"
         },
         {
          "showarrow": false,
          "text": "D",
          "x": 245,
          "xref": "x",
          "y": 0,
          "yref": "y"
         },
         {
          "showarrow": false,
          "text": "E",
          "x": 246,
          "xref": "x",
          "y": 0,
          "yref": "y"
         },
         {
          "showarrow": false,
          "text": "S",
          "x": 247,
          "xref": "x",
          "y": 0,
          "yref": "y"
         },
         {
          "showarrow": false,
          "text": "S",
          "x": 248,
          "xref": "x",
          "y": 0,
          "yref": "y"
         },
         {
          "showarrow": false,
          "text": "P",
          "x": 249,
          "xref": "x",
          "y": 0,
          "yref": "y"
         },
         {
          "showarrow": false,
          "text": "Q",
          "x": 250,
          "xref": "x",
          "y": 0,
          "yref": "y"
         },
         {
          "showarrow": false,
          "text": "D",
          "x": 251,
          "xref": "x",
          "y": 0,
          "yref": "y"
         },
         {
          "showarrow": false,
          "text": "S",
          "x": 252,
          "xref": "x",
          "y": 0,
          "yref": "y"
         },
         {
          "showarrow": false,
          "text": "P",
          "x": 253,
          "xref": "x",
          "y": 0,
          "yref": "y"
         },
         {
          "showarrow": false,
          "text": "P",
          "x": 254,
          "xref": "x",
          "y": 0,
          "yref": "y"
         },
         {
          "showarrow": false,
          "text": "S",
          "x": 255,
          "xref": "x",
          "y": 0,
          "yref": "y"
         },
         {
          "showarrow": false,
          "text": "K",
          "x": 256,
          "xref": "x",
          "y": 0,
          "yref": "y"
         },
         {
          "showarrow": false,
          "text": "A",
          "x": 257,
          "xref": "x",
          "y": 0,
          "yref": "y"
         },
         {
          "showarrow": false,
          "text": "S",
          "x": 258,
          "xref": "x",
          "y": 0,
          "yref": "y"
         },
         {
          "showarrow": false,
          "text": "-",
          "x": 259,
          "xref": "x",
          "y": 0,
          "yref": "y"
         },
         {
          "showarrow": false,
          "text": "-",
          "x": 260,
          "xref": "x",
          "y": 0,
          "yref": "y"
         },
         {
          "showarrow": false,
          "text": "-",
          "x": 261,
          "xref": "x",
          "y": 0,
          "yref": "y"
         },
         {
          "showarrow": false,
          "text": "P",
          "x": 262,
          "xref": "x",
          "y": 0,
          "yref": "y"
         },
         {
          "showarrow": false,
          "text": "A",
          "x": 263,
          "xref": "x",
          "y": 0,
          "yref": "y"
         },
         {
          "showarrow": false,
          "text": "Q",
          "x": 264,
          "xref": "x",
          "y": 0,
          "yref": "y"
         },
         {
          "showarrow": false,
          "text": "D",
          "x": 265,
          "xref": "x",
          "y": 0,
          "yref": "y"
         },
         {
          "showarrow": false,
          "text": "-",
          "x": 266,
          "xref": "x",
          "y": 0,
          "yref": "y"
         },
         {
          "showarrow": false,
          "text": "-",
          "x": 267,
          "xref": "x",
          "y": 0,
          "yref": "y"
         },
         {
          "showarrow": false,
          "text": "-",
          "x": 268,
          "xref": "x",
          "y": 0,
          "yref": "y"
         },
         {
          "showarrow": false,
          "text": "-",
          "x": 269,
          "xref": "x",
          "y": 0,
          "yref": "y"
         },
         {
          "showarrow": false,
          "text": "G",
          "x": 270,
          "xref": "x",
          "y": 0,
          "yref": "y"
         },
         {
          "showarrow": false,
          "text": "R",
          "x": 271,
          "xref": "x",
          "y": 0,
          "yref": "y"
         },
         {
          "showarrow": false,
          "text": "-",
          "x": 272,
          "xref": "x",
          "y": 0,
          "yref": "y"
         },
         {
          "showarrow": false,
          "text": "-",
          "x": 273,
          "xref": "x",
          "y": 0,
          "yref": "y"
         },
         {
          "showarrow": false,
          "text": "-",
          "x": 274,
          "xref": "x",
          "y": 0,
          "yref": "y"
         },
         {
          "showarrow": false,
          "text": "-",
          "x": 275,
          "xref": "x",
          "y": 0,
          "yref": "y"
         },
         {
          "showarrow": false,
          "text": "P",
          "x": 276,
          "xref": "x",
          "y": 0,
          "yref": "y"
         },
         {
          "showarrow": false,
          "text": "-",
          "x": 277,
          "xref": "x",
          "y": 0,
          "yref": "y"
         },
         {
          "showarrow": false,
          "text": "P",
          "x": 278,
          "xref": "x",
          "y": 0,
          "yref": "y"
         },
         {
          "showarrow": false,
          "text": "Q",
          "x": 279,
          "xref": "x",
          "y": 0,
          "yref": "y"
         },
         {
          "showarrow": false,
          "text": "T",
          "x": 280,
          "xref": "x",
          "y": 0,
          "yref": "y"
         },
         {
          "showarrow": false,
          "text": "A",
          "x": 281,
          "xref": "x",
          "y": 0,
          "yref": "y"
         },
         {
          "showarrow": false,
          "text": "A",
          "x": 282,
          "xref": "x",
          "y": 0,
          "yref": "y"
         },
         {
          "showarrow": false,
          "text": "R",
          "x": 283,
          "xref": "x",
          "y": 0,
          "yref": "y"
         },
         {
          "showarrow": false,
          "text": "-",
          "x": 284,
          "xref": "x",
          "y": 0,
          "yref": "y"
         },
         {
          "showarrow": false,
          "text": "-",
          "x": 285,
          "xref": "x",
          "y": 0,
          "yref": "y"
         },
         {
          "showarrow": false,
          "text": "-",
          "x": 286,
          "xref": "x",
          "y": 0,
          "yref": "y"
         },
         {
          "showarrow": false,
          "text": "-",
          "x": 287,
          "xref": "x",
          "y": 0,
          "yref": "y"
         },
         {
          "showarrow": false,
          "text": "-",
          "x": 288,
          "xref": "x",
          "y": 0,
          "yref": "y"
         },
         {
          "showarrow": false,
          "text": "E",
          "x": 289,
          "xref": "x",
          "y": 0,
          "yref": "y"
         },
         {
          "showarrow": false,
          "text": "-",
          "x": 290,
          "xref": "x",
          "y": 0,
          "yref": "y"
         },
         {
          "showarrow": false,
          "text": "A",
          "x": 291,
          "xref": "x",
          "y": 0,
          "yref": "y"
         },
         {
          "showarrow": false,
          "text": "T",
          "x": 292,
          "xref": "x",
          "y": 0,
          "yref": "y"
         },
         {
          "showarrow": false,
          "text": "S",
          "x": 293,
          "xref": "x",
          "y": 0,
          "yref": "y"
         },
         {
          "showarrow": false,
          "text": "I",
          "x": 294,
          "xref": "x",
          "y": 0,
          "yref": "y"
         },
         {
          "showarrow": false,
          "text": "P",
          "x": 295,
          "xref": "x",
          "y": 0,
          "yref": "y"
         },
         {
          "showarrow": false,
          "text": "G",
          "x": 296,
          "xref": "x",
          "y": 0,
          "yref": "y"
         },
         {
          "showarrow": false,
          "text": "F",
          "x": 297,
          "xref": "x",
          "y": 0,
          "yref": "y"
         },
         {
          "showarrow": false,
          "text": "P",
          "x": 298,
          "xref": "x",
          "y": 0,
          "yref": "y"
         },
         {
          "showarrow": false,
          "text": "A",
          "x": 299,
          "xref": "x",
          "y": 0,
          "yref": "y"
         },
         {
          "showarrow": false,
          "text": "E",
          "x": 300,
          "xref": "x",
          "y": 0,
          "yref": "y"
         },
         {
          "showarrow": false,
          "text": "G",
          "x": 301,
          "xref": "x",
          "y": 0,
          "yref": "y"
         },
         {
          "showarrow": false,
          "text": "A",
          "x": 302,
          "xref": "x",
          "y": 0,
          "yref": "y"
         },
         {
          "showarrow": false,
          "text": "I",
          "x": 303,
          "xref": "x",
          "y": 0,
          "yref": "y"
         },
         {
          "showarrow": false,
          "text": "P",
          "x": 304,
          "xref": "x",
          "y": 0,
          "yref": "y"
         },
         {
          "showarrow": false,
          "text": "L",
          "x": 305,
          "xref": "x",
          "y": 0,
          "yref": "y"
         },
         {
          "showarrow": false,
          "text": "P",
          "x": 306,
          "xref": "x",
          "y": 0,
          "yref": "y"
         },
         {
          "showarrow": false,
          "text": "V",
          "x": 307,
          "xref": "x",
          "y": 0,
          "yref": "y"
         },
         {
          "showarrow": false,
          "text": "D",
          "x": 308,
          "xref": "x",
          "y": 0,
          "yref": "y"
         },
         {
          "showarrow": false,
          "text": "F",
          "x": 309,
          "xref": "x",
          "y": 0,
          "yref": "y"
         },
         {
          "showarrow": false,
          "text": "L",
          "x": 310,
          "xref": "x",
          "y": 0,
          "yref": "y"
         },
         {
          "showarrow": false,
          "text": "S",
          "x": 311,
          "xref": "x",
          "y": 0,
          "yref": "y"
         },
         {
          "showarrow": false,
          "text": "K",
          "x": 312,
          "xref": "x",
          "y": 0,
          "yref": "y"
         },
         {
          "showarrow": false,
          "text": "V",
          "x": 313,
          "xref": "x",
          "y": 0,
          "yref": "y"
         },
         {
          "showarrow": false,
          "text": "S",
          "x": 314,
          "xref": "x",
          "y": 0,
          "yref": "y"
         },
         {
          "showarrow": false,
          "text": "T",
          "x": 315,
          "xref": "x",
          "y": 0,
          "yref": "y"
         },
         {
          "showarrow": false,
          "text": "E",
          "x": 316,
          "xref": "x",
          "y": 0,
          "yref": "y"
         },
         {
          "showarrow": false,
          "text": "I",
          "x": 317,
          "xref": "x",
          "y": 0,
          "yref": "y"
         },
         {
          "showarrow": false,
          "text": "-",
          "x": 318,
          "xref": "x",
          "y": 0,
          "yref": "y"
         },
         {
          "showarrow": false,
          "text": "P",
          "x": 319,
          "xref": "x",
          "y": 0,
          "yref": "y"
         },
         {
          "showarrow": false,
          "text": "A",
          "x": 320,
          "xref": "x",
          "y": 0,
          "yref": "y"
         },
         {
          "showarrow": false,
          "text": "S",
          "x": 321,
          "xref": "x",
          "y": 0,
          "yref": "y"
         },
         {
          "showarrow": false,
          "text": "E",
          "x": 322,
          "xref": "x",
          "y": 0,
          "yref": "y"
         },
         {
          "showarrow": false,
          "text": "-",
          "x": 323,
          "xref": "x",
          "y": 0,
          "yref": "y"
         },
         {
          "showarrow": false,
          "text": "P",
          "x": 324,
          "xref": "x",
          "y": 0,
          "yref": "y"
         },
         {
          "showarrow": false,
          "text": "D",
          "x": 325,
          "xref": "x",
          "y": 0,
          "yref": "y"
         },
         {
          "showarrow": false,
          "text": "G",
          "x": 326,
          "xref": "x",
          "y": 0,
          "yref": "y"
         },
         {
          "showarrow": false,
          "text": "P",
          "x": 327,
          "xref": "x",
          "y": 0,
          "yref": "y"
         },
         {
          "showarrow": false,
          "text": "S",
          "x": 328,
          "xref": "x",
          "y": 0,
          "yref": "y"
         },
         {
          "showarrow": false,
          "text": "V",
          "x": 329,
          "xref": "x",
          "y": 0,
          "yref": "y"
         },
         {
          "showarrow": false,
          "text": "G",
          "x": 330,
          "xref": "x",
          "y": 0,
          "yref": "y"
         },
         {
          "showarrow": false,
          "text": "R",
          "x": 331,
          "xref": "x",
          "y": 0,
          "yref": "y"
         },
         {
          "showarrow": false,
          "text": "A",
          "x": 332,
          "xref": "x",
          "y": 0,
          "yref": "y"
         },
         {
          "showarrow": false,
          "text": "K",
          "x": 333,
          "xref": "x",
          "y": 0,
          "yref": "y"
         },
         {
          "showarrow": false,
          "text": "-",
          "x": 334,
          "xref": "x",
          "y": 0,
          "yref": "y"
         },
         {
          "showarrow": false,
          "text": "G",
          "x": 335,
          "xref": "x",
          "y": 0,
          "yref": "y"
         },
         {
          "showarrow": false,
          "text": "Q",
          "x": 336,
          "xref": "x",
          "y": 0,
          "yref": "y"
         },
         {
          "showarrow": false,
          "text": "D",
          "x": 337,
          "xref": "x",
          "y": 0,
          "yref": "y"
         },
         {
          "showarrow": false,
          "text": "A",
          "x": 338,
          "xref": "x",
          "y": 0,
          "yref": "y"
         },
         {
          "showarrow": false,
          "text": "-",
          "x": 339,
          "xref": "x",
          "y": 0,
          "yref": "y"
         },
         {
          "showarrow": false,
          "text": "P",
          "x": 340,
          "xref": "x",
          "y": 0,
          "yref": "y"
         },
         {
          "showarrow": false,
          "text": "L",
          "x": 341,
          "xref": "x",
          "y": 0,
          "yref": "y"
         },
         {
          "showarrow": false,
          "text": "E",
          "x": 342,
          "xref": "x",
          "y": 0,
          "yref": "y"
         },
         {
          "showarrow": false,
          "text": "F",
          "x": 343,
          "xref": "x",
          "y": 0,
          "yref": "y"
         },
         {
          "showarrow": false,
          "text": "T",
          "x": 344,
          "xref": "x",
          "y": 0,
          "yref": "y"
         },
         {
          "showarrow": false,
          "text": "F",
          "x": 345,
          "xref": "x",
          "y": 0,
          "yref": "y"
         },
         {
          "showarrow": false,
          "text": "H",
          "x": 346,
          "xref": "x",
          "y": 0,
          "yref": "y"
         },
         {
          "showarrow": false,
          "text": "V",
          "x": 347,
          "xref": "x",
          "y": 0,
          "yref": "y"
         },
         {
          "showarrow": false,
          "text": "E",
          "x": 348,
          "xref": "x",
          "y": 0,
          "yref": "y"
         },
         {
          "showarrow": false,
          "text": "I",
          "x": 349,
          "xref": "x",
          "y": 0,
          "yref": "y"
         },
         {
          "showarrow": false,
          "text": "-",
          "x": 350,
          "xref": "x",
          "y": 0,
          "yref": "y"
         },
         {
          "showarrow": false,
          "text": "-",
          "x": 351,
          "xref": "x",
          "y": 0,
          "yref": "y"
         },
         {
          "showarrow": false,
          "text": "-",
          "x": 352,
          "xref": "x",
          "y": 0,
          "yref": "y"
         },
         {
          "showarrow": false,
          "text": "T",
          "x": 353,
          "xref": "x",
          "y": 0,
          "yref": "y"
         },
         {
          "showarrow": false,
          "text": "P",
          "x": 354,
          "xref": "x",
          "y": 0,
          "yref": "y"
         },
         {
          "showarrow": false,
          "text": "N",
          "x": 355,
          "xref": "x",
          "y": 0,
          "yref": "y"
         },
         {
          "showarrow": false,
          "text": "V",
          "x": 356,
          "xref": "x",
          "y": 0,
          "yref": "y"
         },
         {
          "showarrow": false,
          "text": "Q",
          "x": 357,
          "xref": "x",
          "y": 0,
          "yref": "y"
         },
         {
          "showarrow": false,
          "text": "K",
          "x": 358,
          "xref": "x",
          "y": 0,
          "yref": "y"
         },
         {
          "showarrow": false,
          "text": "E",
          "x": 359,
          "xref": "x",
          "y": 0,
          "yref": "y"
         },
         {
          "showarrow": false,
          "text": "Q",
          "x": 360,
          "xref": "x",
          "y": 0,
          "yref": "y"
         },
         {
          "showarrow": false,
          "text": "A",
          "x": 361,
          "xref": "x",
          "y": 0,
          "yref": "y"
         },
         {
          "showarrow": false,
          "text": "H",
          "x": 362,
          "xref": "x",
          "y": 0,
          "yref": "y"
         },
         {
          "showarrow": false,
          "text": "-",
          "x": 363,
          "xref": "x",
          "y": 0,
          "yref": "y"
         },
         {
          "showarrow": false,
          "text": "-",
          "x": 364,
          "xref": "x",
          "y": 0,
          "yref": "y"
         },
         {
          "showarrow": false,
          "text": "S",
          "x": 365,
          "xref": "x",
          "y": 0,
          "yref": "y"
         },
         {
          "showarrow": false,
          "text": "E",
          "x": 366,
          "xref": "x",
          "y": 0,
          "yref": "y"
         },
         {
          "showarrow": false,
          "text": "E",
          "x": 367,
          "xref": "x",
          "y": 0,
          "yref": "y"
         },
         {
          "showarrow": false,
          "text": "H",
          "x": 368,
          "xref": "x",
          "y": 0,
          "yref": "y"
         },
         {
          "showarrow": false,
          "text": "L",
          "x": 369,
          "xref": "x",
          "y": 0,
          "yref": "y"
         },
         {
          "showarrow": false,
          "text": "G",
          "x": 370,
          "xref": "x",
          "y": 0,
          "yref": "y"
         },
         {
          "showarrow": false,
          "text": "R",
          "x": 371,
          "xref": "x",
          "y": 0,
          "yref": "y"
         },
         {
          "showarrow": false,
          "text": "A",
          "x": 372,
          "xref": "x",
          "y": 0,
          "yref": "y"
         },
         {
          "showarrow": false,
          "text": "A",
          "x": 373,
          "xref": "x",
          "y": 0,
          "yref": "y"
         },
         {
          "showarrow": false,
          "text": "F",
          "x": 374,
          "xref": "x",
          "y": 0,
          "yref": "y"
         },
         {
          "showarrow": false,
          "text": "P",
          "x": 375,
          "xref": "x",
          "y": 0,
          "yref": "y"
         },
         {
          "showarrow": false,
          "text": "G",
          "x": 376,
          "xref": "x",
          "y": 0,
          "yref": "y"
         },
         {
          "showarrow": false,
          "text": "A",
          "x": 377,
          "xref": "x",
          "y": 0,
          "yref": "y"
         },
         {
          "showarrow": false,
          "text": "P",
          "x": 378,
          "xref": "x",
          "y": 0,
          "yref": "y"
         },
         {
          "showarrow": false,
          "text": "G",
          "x": 379,
          "xref": "x",
          "y": 0,
          "yref": "y"
         },
         {
          "showarrow": false,
          "text": "E",
          "x": 380,
          "xref": "x",
          "y": 0,
          "yref": "y"
         },
         {
          "showarrow": false,
          "text": "G",
          "x": 381,
          "xref": "x",
          "y": 0,
          "yref": "y"
         },
         {
          "showarrow": false,
          "text": "P",
          "x": 382,
          "xref": "x",
          "y": 0,
          "yref": "y"
         },
         {
          "showarrow": false,
          "text": "E",
          "x": 383,
          "xref": "x",
          "y": 0,
          "yref": "y"
         },
         {
          "showarrow": false,
          "text": "-",
          "x": 384,
          "xref": "x",
          "y": 0,
          "yref": "y"
         },
         {
          "showarrow": false,
          "text": "-",
          "x": 385,
          "xref": "x",
          "y": 0,
          "yref": "y"
         },
         {
          "showarrow": false,
          "text": "A",
          "x": 386,
          "xref": "x",
          "y": 0,
          "yref": "y"
         },
         {
          "showarrow": false,
          "text": "R",
          "x": 387,
          "xref": "x",
          "y": 0,
          "yref": "y"
         },
         {
          "showarrow": false,
          "text": "-",
          "x": 388,
          "xref": "x",
          "y": 0,
          "yref": "y"
         },
         {
          "showarrow": false,
          "text": "-",
          "x": 389,
          "xref": "x",
          "y": 0,
          "yref": "y"
         },
         {
          "showarrow": false,
          "text": "G",
          "x": 390,
          "xref": "x",
          "y": 0,
          "yref": "y"
         },
         {
          "showarrow": false,
          "text": "-",
          "x": 391,
          "xref": "x",
          "y": 0,
          "yref": "y"
         },
         {
          "showarrow": false,
          "text": "P",
          "x": 392,
          "xref": "x",
          "y": 0,
          "yref": "y"
         },
         {
          "showarrow": false,
          "text": "S",
          "x": 393,
          "xref": "x",
          "y": 0,
          "yref": "y"
         },
         {
          "showarrow": false,
          "text": "L",
          "x": 394,
          "xref": "x",
          "y": 0,
          "yref": "y"
         },
         {
          "showarrow": false,
          "text": "G",
          "x": 395,
          "xref": "x",
          "y": 0,
          "yref": "y"
         },
         {
          "showarrow": false,
          "text": "E",
          "x": 396,
          "xref": "x",
          "y": 0,
          "yref": "y"
         },
         {
          "showarrow": false,
          "text": "D",
          "x": 397,
          "xref": "x",
          "y": 0,
          "yref": "y"
         },
         {
          "showarrow": false,
          "text": "T",
          "x": 398,
          "xref": "x",
          "y": 0,
          "yref": "y"
         },
         {
          "showarrow": false,
          "text": "K",
          "x": 399,
          "xref": "x",
          "y": 0,
          "yref": "y"
         },
         {
          "showarrow": false,
          "text": "E",
          "x": 400,
          "xref": "x",
          "y": 0,
          "yref": "y"
         },
         {
          "showarrow": false,
          "text": "A",
          "x": 401,
          "xref": "x",
          "y": 0,
          "yref": "y"
         },
         {
          "showarrow": false,
          "text": "D",
          "x": 402,
          "xref": "x",
          "y": 0,
          "yref": "y"
         },
         {
          "showarrow": false,
          "text": "L",
          "x": 403,
          "xref": "x",
          "y": 0,
          "yref": "y"
         },
         {
          "showarrow": false,
          "text": "P",
          "x": 404,
          "xref": "x",
          "y": 0,
          "yref": "y"
         },
         {
          "showarrow": false,
          "text": "E",
          "x": 405,
          "xref": "x",
          "y": 0,
          "yref": "y"
         },
         {
          "showarrow": false,
          "text": "P",
          "x": 406,
          "xref": "x",
          "y": 0,
          "yref": "y"
         },
         {
          "showarrow": false,
          "text": "S",
          "x": 407,
          "xref": "x",
          "y": 0,
          "yref": "y"
         },
         {
          "showarrow": false,
          "text": "E",
          "x": 408,
          "xref": "x",
          "y": 0,
          "yref": "y"
         },
         {
          "showarrow": false,
          "text": "K",
          "x": 409,
          "xref": "x",
          "y": 0,
          "yref": "y"
         },
         {
          "showarrow": false,
          "text": "Q",
          "x": 410,
          "xref": "x",
          "y": 0,
          "yref": "y"
         },
         {
          "showarrow": false,
          "text": "-",
          "x": 411,
          "xref": "x",
          "y": 0,
          "yref": "y"
         },
         {
          "showarrow": false,
          "text": "P",
          "x": 412,
          "xref": "x",
          "y": 0,
          "yref": "y"
         },
         {
          "showarrow": false,
          "text": "A",
          "x": 413,
          "xref": "x",
          "y": 0,
          "yref": "y"
         },
         {
          "showarrow": false,
          "text": "A",
          "x": 414,
          "xref": "x",
          "y": 0,
          "yref": "y"
         },
         {
          "showarrow": false,
          "text": "A",
          "x": 415,
          "xref": "x",
          "y": 0,
          "yref": "y"
         },
         {
          "showarrow": false,
          "text": "-",
          "x": 416,
          "xref": "x",
          "y": 0,
          "yref": "y"
         },
         {
          "showarrow": false,
          "text": "P",
          "x": 417,
          "xref": "x",
          "y": 0,
          "yref": "y"
         },
         {
          "showarrow": false,
          "text": "R",
          "x": 418,
          "xref": "x",
          "y": 0,
          "yref": "y"
         },
         {
          "showarrow": false,
          "text": "G",
          "x": 419,
          "xref": "x",
          "y": 0,
          "yref": "y"
         },
         {
          "showarrow": false,
          "text": "K",
          "x": 420,
          "xref": "x",
          "y": 0,
          "yref": "y"
         },
         {
          "showarrow": false,
          "text": "P",
          "x": 421,
          "xref": "x",
          "y": 0,
          "yref": "y"
         },
         {
          "showarrow": false,
          "text": "V",
          "x": 422,
          "xref": "x",
          "y": 0,
          "yref": "y"
         },
         {
          "showarrow": false,
          "text": "S",
          "x": 423,
          "xref": "x",
          "y": 0,
          "yref": "y"
         },
         {
          "showarrow": false,
          "text": "R",
          "x": 424,
          "xref": "x",
          "y": 0,
          "yref": "y"
         },
         {
          "showarrow": false,
          "text": "V",
          "x": 425,
          "xref": "x",
          "y": 0,
          "yref": "y"
         },
         {
          "showarrow": false,
          "text": "P",
          "x": 426,
          "xref": "x",
          "y": 0,
          "yref": "y"
         },
         {
          "showarrow": false,
          "text": "Q",
          "x": 427,
          "xref": "x",
          "y": 0,
          "yref": "y"
         },
         {
          "showarrow": false,
          "text": "L",
          "x": 428,
          "xref": "x",
          "y": 0,
          "yref": "y"
         },
         {
          "showarrow": false,
          "text": "K",
          "x": 429,
          "xref": "x",
          "y": 0,
          "yref": "y"
         },
         {
          "showarrow": false,
          "text": "A",
          "x": 430,
          "xref": "x",
          "y": 0,
          "yref": "y"
         },
         {
          "showarrow": false,
          "text": "R",
          "x": 431,
          "xref": "x",
          "y": 0,
          "yref": "y"
         },
         {
          "showarrow": false,
          "text": "M",
          "x": 432,
          "xref": "x",
          "y": 0,
          "yref": "y"
         },
         {
          "showarrow": false,
          "text": "V",
          "x": 433,
          "xref": "x",
          "y": 0,
          "yref": "y"
         },
         {
          "showarrow": false,
          "text": "S",
          "x": 434,
          "xref": "x",
          "y": 0,
          "yref": "y"
         },
         {
          "showarrow": false,
          "text": "K",
          "x": 435,
          "xref": "x",
          "y": 0,
          "yref": "y"
         },
         {
          "showarrow": false,
          "text": "S",
          "x": 436,
          "xref": "x",
          "y": 0,
          "yref": "y"
         },
         {
          "showarrow": false,
          "text": "K",
          "x": 437,
          "xref": "x",
          "y": 0,
          "yref": "y"
         },
         {
          "showarrow": false,
          "text": "D",
          "x": 438,
          "xref": "x",
          "y": 0,
          "yref": "y"
         },
         {
          "showarrow": false,
          "text": "G",
          "x": 439,
          "xref": "x",
          "y": 0,
          "yref": "y"
         },
         {
          "showarrow": false,
          "text": "T",
          "x": 440,
          "xref": "x",
          "y": 0,
          "yref": "y"
         },
         {
          "showarrow": false,
          "text": "G",
          "x": 441,
          "xref": "x",
          "y": 0,
          "yref": "y"
         },
         {
          "showarrow": false,
          "text": "S",
          "x": 442,
          "xref": "x",
          "y": 0,
          "yref": "y"
         },
         {
          "showarrow": false,
          "text": "D",
          "x": 443,
          "xref": "x",
          "y": 0,
          "yref": "y"
         },
         {
          "showarrow": false,
          "text": "D",
          "x": 444,
          "xref": "x",
          "y": 0,
          "yref": "y"
         },
         {
          "showarrow": false,
          "text": "K",
          "x": 445,
          "xref": "x",
          "y": 0,
          "yref": "y"
         },
         {
          "showarrow": false,
          "text": "K",
          "x": 446,
          "xref": "x",
          "y": 0,
          "yref": "y"
         },
         {
          "showarrow": false,
          "text": "A",
          "x": 447,
          "xref": "x",
          "y": 0,
          "yref": "y"
         },
         {
          "showarrow": false,
          "text": "K",
          "x": 448,
          "xref": "x",
          "y": 0,
          "yref": "y"
         },
         {
          "showarrow": false,
          "text": "T",
          "x": 449,
          "xref": "x",
          "y": 0,
          "yref": "y"
         },
         {
          "showarrow": false,
          "text": "S",
          "x": 450,
          "xref": "x",
          "y": 0,
          "yref": "y"
         },
         {
          "showarrow": false,
          "text": "T",
          "x": 451,
          "xref": "x",
          "y": 0,
          "yref": "y"
         },
         {
          "showarrow": false,
          "text": "R",
          "x": 452,
          "xref": "x",
          "y": 0,
          "yref": "y"
         },
         {
          "showarrow": false,
          "text": "S",
          "x": 453,
          "xref": "x",
          "y": 0,
          "yref": "y"
         },
         {
          "showarrow": false,
          "text": "S",
          "x": 454,
          "xref": "x",
          "y": 0,
          "yref": "y"
         },
         {
          "showarrow": false,
          "text": "A",
          "x": 455,
          "xref": "x",
          "y": 0,
          "yref": "y"
         },
         {
          "showarrow": false,
          "text": "K",
          "x": 456,
          "xref": "x",
          "y": 0,
          "yref": "y"
         },
         {
          "showarrow": false,
          "text": "T",
          "x": 457,
          "xref": "x",
          "y": 0,
          "yref": "y"
         },
         {
          "showarrow": false,
          "text": "L",
          "x": 458,
          "xref": "x",
          "y": 0,
          "yref": "y"
         },
         {
          "showarrow": false,
          "text": "K",
          "x": 459,
          "xref": "x",
          "y": 0,
          "yref": "y"
         },
         {
          "showarrow": false,
          "text": "N",
          "x": 460,
          "xref": "x",
          "y": 0,
          "yref": "y"
         },
         {
          "showarrow": false,
          "text": "R",
          "x": 461,
          "xref": "x",
          "y": 0,
          "yref": "y"
         },
         {
          "showarrow": false,
          "text": "P",
          "x": 462,
          "xref": "x",
          "y": 0,
          "yref": "y"
         },
         {
          "showarrow": false,
          "text": "C",
          "x": 463,
          "xref": "x",
          "y": 0,
          "yref": "y"
         },
         {
          "showarrow": false,
          "text": "L",
          "x": 464,
          "xref": "x",
          "y": 0,
          "yref": "y"
         },
         {
          "showarrow": false,
          "text": "S",
          "x": 465,
          "xref": "x",
          "y": 0,
          "yref": "y"
         },
         {
          "showarrow": false,
          "text": "P",
          "x": 466,
          "xref": "x",
          "y": 0,
          "yref": "y"
         },
         {
          "showarrow": false,
          "text": "K",
          "x": 467,
          "xref": "x",
          "y": 0,
          "yref": "y"
         },
         {
          "showarrow": false,
          "text": "H",
          "x": 468,
          "xref": "x",
          "y": 0,
          "yref": "y"
         },
         {
          "showarrow": false,
          "text": "P",
          "x": 469,
          "xref": "x",
          "y": 0,
          "yref": "y"
         },
         {
          "showarrow": false,
          "text": "T",
          "x": 470,
          "xref": "x",
          "y": 0,
          "yref": "y"
         },
         {
          "showarrow": false,
          "text": "P",
          "x": 471,
          "xref": "x",
          "y": 0,
          "yref": "y"
         },
         {
          "showarrow": false,
          "text": "G",
          "x": 472,
          "xref": "x",
          "y": 0,
          "yref": "y"
         },
         {
          "showarrow": false,
          "text": "S",
          "x": 473,
          "xref": "x",
          "y": 0,
          "yref": "y"
         },
         {
          "showarrow": false,
          "text": "S",
          "x": 474,
          "xref": "x",
          "y": 0,
          "yref": "y"
         },
         {
          "showarrow": false,
          "text": "D",
          "x": 475,
          "xref": "x",
          "y": 0,
          "yref": "y"
         },
         {
          "showarrow": false,
          "text": "P",
          "x": 476,
          "xref": "x",
          "y": 0,
          "yref": "y"
         },
         {
          "showarrow": false,
          "text": "L",
          "x": 477,
          "xref": "x",
          "y": 0,
          "yref": "y"
         },
         {
          "showarrow": false,
          "text": "I",
          "x": 478,
          "xref": "x",
          "y": 0,
          "yref": "y"
         },
         {
          "showarrow": false,
          "text": "Q",
          "x": 479,
          "xref": "x",
          "y": 0,
          "yref": "y"
         },
         {
          "showarrow": false,
          "text": "P",
          "x": 480,
          "xref": "x",
          "y": 0,
          "yref": "y"
         },
         {
          "showarrow": false,
          "text": "S",
          "x": 481,
          "xref": "x",
          "y": 0,
          "yref": "y"
         },
         {
          "showarrow": false,
          "text": "S",
          "x": 482,
          "xref": "x",
          "y": 0,
          "yref": "y"
         },
         {
          "showarrow": false,
          "text": "P",
          "x": 483,
          "xref": "x",
          "y": 0,
          "yref": "y"
         },
         {
          "showarrow": false,
          "text": "A",
          "x": 484,
          "xref": "x",
          "y": 0,
          "yref": "y"
         },
         {
          "showarrow": false,
          "text": "V",
          "x": 485,
          "xref": "x",
          "y": 0,
          "yref": "y"
         },
         {
          "showarrow": false,
          "text": "C",
          "x": 486,
          "xref": "x",
          "y": 0,
          "yref": "y"
         },
         {
          "showarrow": false,
          "text": "P",
          "x": 487,
          "xref": "x",
          "y": 0,
          "yref": "y"
         },
         {
          "showarrow": false,
          "text": "E",
          "x": 488,
          "xref": "x",
          "y": 0,
          "yref": "y"
         },
         {
          "showarrow": false,
          "text": "P",
          "x": 489,
          "xref": "x",
          "y": 0,
          "yref": "y"
         },
         {
          "showarrow": false,
          "text": "P",
          "x": 490,
          "xref": "x",
          "y": 0,
          "yref": "y"
         },
         {
          "showarrow": false,
          "text": "S",
          "x": 491,
          "xref": "x",
          "y": 0,
          "yref": "y"
         },
         {
          "showarrow": false,
          "text": "S",
          "x": 492,
          "xref": "x",
          "y": 0,
          "yref": "y"
         },
         {
          "showarrow": false,
          "text": "P",
          "x": 493,
          "xref": "x",
          "y": 0,
          "yref": "y"
         },
         {
          "showarrow": false,
          "text": "K",
          "x": 494,
          "xref": "x",
          "y": 0,
          "yref": "y"
         },
         {
          "showarrow": false,
          "text": "Y",
          "x": 495,
          "xref": "x",
          "y": 0,
          "yref": "y"
         },
         {
          "showarrow": false,
          "text": "V",
          "x": 496,
          "xref": "x",
          "y": 0,
          "yref": "y"
         },
         {
          "showarrow": false,
          "text": "-",
          "x": 497,
          "xref": "x",
          "y": 0,
          "yref": "y"
         },
         {
          "showarrow": false,
          "text": "-",
          "x": 498,
          "xref": "x",
          "y": 0,
          "yref": "y"
         },
         {
          "showarrow": false,
          "text": "S",
          "x": 499,
          "xref": "x",
          "y": 0,
          "yref": "y"
         },
         {
          "showarrow": false,
          "text": "S",
          "x": 500,
          "xref": "x",
          "y": 0,
          "yref": "y"
         },
         {
          "showarrow": false,
          "text": "V",
          "x": 501,
          "xref": "x",
          "y": 0,
          "yref": "y"
         },
         {
          "showarrow": false,
          "text": "-",
          "x": 502,
          "xref": "x",
          "y": 0,
          "yref": "y"
         },
         {
          "showarrow": false,
          "text": "-",
          "x": 503,
          "xref": "x",
          "y": 0,
          "yref": "y"
         },
         {
          "showarrow": false,
          "text": "-",
          "x": 504,
          "xref": "x",
          "y": 0,
          "yref": "y"
         },
         {
          "showarrow": false,
          "text": "-",
          "x": 505,
          "xref": "x",
          "y": 0,
          "yref": "y"
         },
         {
          "showarrow": false,
          "text": "-",
          "x": 506,
          "xref": "x",
          "y": 0,
          "yref": "y"
         },
         {
          "showarrow": false,
          "text": "-",
          "x": 507,
          "xref": "x",
          "y": 0,
          "yref": "y"
         },
         {
          "showarrow": false,
          "text": "-",
          "x": 508,
          "xref": "x",
          "y": 0,
          "yref": "y"
         },
         {
          "showarrow": false,
          "text": "-",
          "x": 509,
          "xref": "x",
          "y": 0,
          "yref": "y"
         },
         {
          "showarrow": false,
          "text": "-",
          "x": 510,
          "xref": "x",
          "y": 0,
          "yref": "y"
         },
         {
          "showarrow": false,
          "text": "-",
          "x": 511,
          "xref": "x",
          "y": 0,
          "yref": "y"
         },
         {
          "showarrow": false,
          "text": "-",
          "x": 512,
          "xref": "x",
          "y": 0,
          "yref": "y"
         },
         {
          "showarrow": false,
          "text": "-",
          "x": 513,
          "xref": "x",
          "y": 0,
          "yref": "y"
         },
         {
          "showarrow": false,
          "text": "T",
          "x": 514,
          "xref": "x",
          "y": 0,
          "yref": "y"
         },
         {
          "showarrow": false,
          "text": "-",
          "x": 515,
          "xref": "x",
          "y": 0,
          "yref": "y"
         },
         {
          "showarrow": false,
          "text": "-",
          "x": 516,
          "xref": "x",
          "y": 0,
          "yref": "y"
         },
         {
          "showarrow": false,
          "text": "-",
          "x": 517,
          "xref": "x",
          "y": 0,
          "yref": "y"
         },
         {
          "showarrow": false,
          "text": "S",
          "x": 518,
          "xref": "x",
          "y": 0,
          "yref": "y"
         },
         {
          "showarrow": false,
          "text": "-",
          "x": 519,
          "xref": "x",
          "y": 0,
          "yref": "y"
         },
         {
          "showarrow": false,
          "text": "-",
          "x": 520,
          "xref": "x",
          "y": 0,
          "yref": "y"
         },
         {
          "showarrow": false,
          "text": "-",
          "x": 521,
          "xref": "x",
          "y": 0,
          "yref": "y"
         },
         {
          "showarrow": false,
          "text": "R",
          "x": 522,
          "xref": "x",
          "y": 0,
          "yref": "y"
         },
         {
          "showarrow": false,
          "text": "T",
          "x": 523,
          "xref": "x",
          "y": 0,
          "yref": "y"
         },
         {
          "showarrow": false,
          "text": "G",
          "x": 524,
          "xref": "x",
          "y": 0,
          "yref": "y"
         },
         {
          "showarrow": false,
          "text": "S",
          "x": 525,
          "xref": "x",
          "y": 0,
          "yref": "y"
         },
         {
          "showarrow": false,
          "text": "S",
          "x": 526,
          "xref": "x",
          "y": 0,
          "yref": "y"
         },
         {
          "showarrow": false,
          "text": "G",
          "x": 527,
          "xref": "x",
          "y": 0,
          "yref": "y"
         },
         {
          "showarrow": false,
          "text": "A",
          "x": 528,
          "xref": "x",
          "y": 0,
          "yref": "y"
         },
         {
          "showarrow": false,
          "text": "K",
          "x": 529,
          "xref": "x",
          "y": 0,
          "yref": "y"
         },
         {
          "showarrow": false,
          "text": "E",
          "x": 530,
          "xref": "x",
          "y": 0,
          "yref": "y"
         },
         {
          "showarrow": false,
          "text": "M",
          "x": 531,
          "xref": "x",
          "y": 0,
          "yref": "y"
         },
         {
          "showarrow": false,
          "text": "K",
          "x": 532,
          "xref": "x",
          "y": 0,
          "yref": "y"
         },
         {
          "showarrow": false,
          "text": "L",
          "x": 533,
          "xref": "x",
          "y": 0,
          "yref": "y"
         },
         {
          "showarrow": false,
          "text": "K",
          "x": 534,
          "xref": "x",
          "y": 0,
          "yref": "y"
         },
         {
          "showarrow": false,
          "text": "G",
          "x": 535,
          "xref": "x",
          "y": 0,
          "yref": "y"
         },
         {
          "showarrow": false,
          "text": "A",
          "x": 536,
          "xref": "x",
          "y": 0,
          "yref": "y"
         },
         {
          "showarrow": false,
          "text": "D",
          "x": 537,
          "xref": "x",
          "y": 0,
          "yref": "y"
         },
         {
          "showarrow": false,
          "text": "G",
          "x": 538,
          "xref": "x",
          "y": 0,
          "yref": "y"
         },
         {
          "showarrow": false,
          "text": "K",
          "x": 539,
          "xref": "x",
          "y": 0,
          "yref": "y"
         },
         {
          "showarrow": false,
          "text": "T",
          "x": 540,
          "xref": "x",
          "y": 0,
          "yref": "y"
         },
         {
          "showarrow": false,
          "text": "-",
          "x": 541,
          "xref": "x",
          "y": 0,
          "yref": "y"
         },
         {
          "showarrow": false,
          "text": "-",
          "x": 542,
          "xref": "x",
          "y": 0,
          "yref": "y"
         },
         {
          "showarrow": false,
          "text": "K",
          "x": 543,
          "xref": "x",
          "y": 0,
          "yref": "y"
         },
         {
          "showarrow": false,
          "text": "I",
          "x": 544,
          "xref": "x",
          "y": 0,
          "yref": "y"
         },
         {
          "showarrow": false,
          "text": "A",
          "x": 545,
          "xref": "x",
          "y": 0,
          "yref": "y"
         },
         {
          "showarrow": false,
          "text": "T",
          "x": 546,
          "xref": "x",
          "y": 0,
          "yref": "y"
         },
         {
          "showarrow": false,
          "text": "P",
          "x": 547,
          "xref": "x",
          "y": 0,
          "yref": "y"
         },
         {
          "showarrow": false,
          "text": "R",
          "x": 548,
          "xref": "x",
          "y": 0,
          "yref": "y"
         },
         {
          "showarrow": false,
          "text": "G",
          "x": 549,
          "xref": "x",
          "y": 0,
          "yref": "y"
         },
         {
          "showarrow": false,
          "text": "A",
          "x": 550,
          "xref": "x",
          "y": 0,
          "yref": "y"
         },
         {
          "showarrow": false,
          "text": "A",
          "x": 551,
          "xref": "x",
          "y": 0,
          "yref": "y"
         },
         {
          "showarrow": false,
          "text": "P",
          "x": 552,
          "xref": "x",
          "y": 0,
          "yref": "y"
         },
         {
          "showarrow": false,
          "text": "P",
          "x": 553,
          "xref": "x",
          "y": 0,
          "yref": "y"
         },
         {
          "showarrow": false,
          "text": "G",
          "x": 554,
          "xref": "x",
          "y": 0,
          "yref": "y"
         },
         {
          "showarrow": false,
          "text": "Q",
          "x": 555,
          "xref": "x",
          "y": 0,
          "yref": "y"
         },
         {
          "showarrow": false,
          "text": "K",
          "x": 556,
          "xref": "x",
          "y": 0,
          "yref": "y"
         },
         {
          "showarrow": false,
          "text": "G",
          "x": 557,
          "xref": "x",
          "y": 0,
          "yref": "y"
         },
         {
          "showarrow": false,
          "text": "Q",
          "x": 558,
          "xref": "x",
          "y": 0,
          "yref": "y"
         },
         {
          "showarrow": false,
          "text": "A",
          "x": 559,
          "xref": "x",
          "y": 0,
          "yref": "y"
         },
         {
          "showarrow": false,
          "text": "N",
          "x": 560,
          "xref": "x",
          "y": 0,
          "yref": "y"
         },
         {
          "showarrow": false,
          "text": "A",
          "x": 561,
          "xref": "x",
          "y": 0,
          "yref": "y"
         },
         {
          "showarrow": false,
          "text": "T",
          "x": 562,
          "xref": "x",
          "y": 0,
          "yref": "y"
         },
         {
          "showarrow": false,
          "text": "R",
          "x": 563,
          "xref": "x",
          "y": 0,
          "yref": "y"
         },
         {
          "showarrow": false,
          "text": "I",
          "x": 564,
          "xref": "x",
          "y": 0,
          "yref": "y"
         },
         {
          "showarrow": false,
          "text": "P",
          "x": 565,
          "xref": "x",
          "y": 0,
          "yref": "y"
         },
         {
          "showarrow": false,
          "text": "A",
          "x": 566,
          "xref": "x",
          "y": 0,
          "yref": "y"
         },
         {
          "showarrow": false,
          "text": "K",
          "x": 567,
          "xref": "x",
          "y": 0,
          "yref": "y"
         },
         {
          "showarrow": false,
          "text": "T",
          "x": 568,
          "xref": "x",
          "y": 0,
          "yref": "y"
         },
         {
          "showarrow": false,
          "text": "P",
          "x": 569,
          "xref": "x",
          "y": 0,
          "yref": "y"
         },
         {
          "showarrow": false,
          "text": "P",
          "x": 570,
          "xref": "x",
          "y": 0,
          "yref": "y"
         },
         {
          "showarrow": false,
          "text": "A",
          "x": 571,
          "xref": "x",
          "y": 0,
          "yref": "y"
         },
         {
          "showarrow": false,
          "text": "P",
          "x": 572,
          "xref": "x",
          "y": 0,
          "yref": "y"
         },
         {
          "showarrow": false,
          "text": "K",
          "x": 573,
          "xref": "x",
          "y": 0,
          "yref": "y"
         },
         {
          "showarrow": false,
          "text": "T",
          "x": 574,
          "xref": "x",
          "y": 0,
          "yref": "y"
         },
         {
          "showarrow": false,
          "text": "P",
          "x": 575,
          "xref": "x",
          "y": 0,
          "yref": "y"
         },
         {
          "showarrow": false,
          "text": "P",
          "x": 576,
          "xref": "x",
          "y": 0,
          "yref": "y"
         },
         {
          "showarrow": false,
          "text": "S",
          "x": 577,
          "xref": "x",
          "y": 0,
          "yref": "y"
         },
         {
          "showarrow": false,
          "text": "S",
          "x": 578,
          "xref": "x",
          "y": 0,
          "yref": "y"
         },
         {
          "showarrow": false,
          "text": "G",
          "x": 579,
          "xref": "x",
          "y": 0,
          "yref": "y"
         },
         {
          "showarrow": false,
          "text": "E",
          "x": 580,
          "xref": "x",
          "y": 0,
          "yref": "y"
         },
         {
          "showarrow": false,
          "text": "P",
          "x": 581,
          "xref": "x",
          "y": 0,
          "yref": "y"
         },
         {
          "showarrow": false,
          "text": "P",
          "x": 582,
          "xref": "x",
          "y": 0,
          "yref": "y"
         },
         {
          "showarrow": false,
          "text": "K",
          "x": 583,
          "xref": "x",
          "y": 0,
          "yref": "y"
         },
         {
          "showarrow": false,
          "text": "S",
          "x": 584,
          "xref": "x",
          "y": 0,
          "yref": "y"
         },
         {
          "showarrow": false,
          "text": "G",
          "x": 585,
          "xref": "x",
          "y": 0,
          "yref": "y"
         },
         {
          "showarrow": false,
          "text": "D",
          "x": 586,
          "xref": "x",
          "y": 0,
          "yref": "y"
         },
         {
          "showarrow": false,
          "text": "R",
          "x": 587,
          "xref": "x",
          "y": 0,
          "yref": "y"
         },
         {
          "showarrow": false,
          "text": "S",
          "x": 588,
          "xref": "x",
          "y": 0,
          "yref": "y"
         },
         {
          "showarrow": false,
          "text": "G",
          "x": 589,
          "xref": "x",
          "y": 0,
          "yref": "y"
         },
         {
          "showarrow": false,
          "text": "Y",
          "x": 590,
          "xref": "x",
          "y": 0,
          "yref": "y"
         },
         {
          "showarrow": false,
          "text": "S",
          "x": 591,
          "xref": "x",
          "y": 0,
          "yref": "y"
         },
         {
          "showarrow": false,
          "text": "S",
          "x": 592,
          "xref": "x",
          "y": 0,
          "yref": "y"
         },
         {
          "showarrow": false,
          "text": "P",
          "x": 593,
          "xref": "x",
          "y": 0,
          "yref": "y"
         },
         {
          "showarrow": false,
          "text": "G",
          "x": 594,
          "xref": "x",
          "y": 0,
          "yref": "y"
         },
         {
          "showarrow": false,
          "text": "S",
          "x": 595,
          "xref": "x",
          "y": 0,
          "yref": "y"
         },
         {
          "showarrow": false,
          "text": "P",
          "x": 596,
          "xref": "x",
          "y": 0,
          "yref": "y"
         },
         {
          "showarrow": false,
          "text": "G",
          "x": 597,
          "xref": "x",
          "y": 0,
          "yref": "y"
         },
         {
          "showarrow": false,
          "text": "T",
          "x": 598,
          "xref": "x",
          "y": 0,
          "yref": "y"
         },
         {
          "showarrow": false,
          "text": "P",
          "x": 599,
          "xref": "x",
          "y": 0,
          "yref": "y"
         },
         {
          "showarrow": false,
          "text": "G",
          "x": 600,
          "xref": "x",
          "y": 0,
          "yref": "y"
         },
         {
          "showarrow": false,
          "text": "S",
          "x": 601,
          "xref": "x",
          "y": 0,
          "yref": "y"
         },
         {
          "showarrow": false,
          "text": "R",
          "x": 602,
          "xref": "x",
          "y": 0,
          "yref": "y"
         },
         {
          "showarrow": false,
          "text": "S",
          "x": 603,
          "xref": "x",
          "y": 0,
          "yref": "y"
         },
         {
          "showarrow": false,
          "text": "R",
          "x": 604,
          "xref": "x",
          "y": 0,
          "yref": "y"
         },
         {
          "showarrow": false,
          "text": "-",
          "x": 605,
          "xref": "x",
          "y": 0,
          "yref": "y"
         },
         {
          "showarrow": false,
          "text": "T",
          "x": 606,
          "xref": "x",
          "y": 0,
          "yref": "y"
         },
         {
          "showarrow": false,
          "text": "P",
          "x": 607,
          "xref": "x",
          "y": 0,
          "yref": "y"
         },
         {
          "showarrow": false,
          "text": "S",
          "x": 608,
          "xref": "x",
          "y": 0,
          "yref": "y"
         },
         {
          "showarrow": false,
          "text": "L",
          "x": 609,
          "xref": "x",
          "y": 0,
          "yref": "y"
         },
         {
          "showarrow": false,
          "text": "P",
          "x": 610,
          "xref": "x",
          "y": 0,
          "yref": "y"
         },
         {
          "showarrow": false,
          "text": "T",
          "x": 611,
          "xref": "x",
          "y": 0,
          "yref": "y"
         },
         {
          "showarrow": false,
          "text": "P",
          "x": 612,
          "xref": "x",
          "y": 0,
          "yref": "y"
         },
         {
          "showarrow": false,
          "text": "P",
          "x": 613,
          "xref": "x",
          "y": 0,
          "yref": "y"
         },
         {
          "showarrow": false,
          "text": "T",
          "x": 614,
          "xref": "x",
          "y": 0,
          "yref": "y"
         },
         {
          "showarrow": false,
          "text": "R",
          "x": 615,
          "xref": "x",
          "y": 0,
          "yref": "y"
         },
         {
          "showarrow": false,
          "text": "E",
          "x": 616,
          "xref": "x",
          "y": 0,
          "yref": "y"
         },
         {
          "showarrow": false,
          "text": "P",
          "x": 617,
          "xref": "x",
          "y": 0,
          "yref": "y"
         },
         {
          "showarrow": false,
          "text": "K",
          "x": 618,
          "xref": "x",
          "y": 0,
          "yref": "y"
         },
         {
          "showarrow": false,
          "text": "K",
          "x": 619,
          "xref": "x",
          "y": 0,
          "yref": "y"
         },
         {
          "showarrow": false,
          "text": "V",
          "x": 620,
          "xref": "x",
          "y": 0,
          "yref": "y"
         },
         {
          "showarrow": false,
          "text": "A",
          "x": 621,
          "xref": "x",
          "y": 0,
          "yref": "y"
         },
         {
          "showarrow": false,
          "text": "V",
          "x": 622,
          "xref": "x",
          "y": 0,
          "yref": "y"
         },
         {
          "showarrow": false,
          "text": "V",
          "x": 623,
          "xref": "x",
          "y": 0,
          "yref": "y"
         },
         {
          "showarrow": false,
          "text": "R",
          "x": 624,
          "xref": "x",
          "y": 0,
          "yref": "y"
         },
         {
          "showarrow": false,
          "text": "T",
          "x": 625,
          "xref": "x",
          "y": 0,
          "yref": "y"
         },
         {
          "showarrow": false,
          "text": "P",
          "x": 626,
          "xref": "x",
          "y": 0,
          "yref": "y"
         },
         {
          "showarrow": false,
          "text": "P",
          "x": 627,
          "xref": "x",
          "y": 0,
          "yref": "y"
         },
         {
          "showarrow": false,
          "text": "K",
          "x": 628,
          "xref": "x",
          "y": 0,
          "yref": "y"
         },
         {
          "showarrow": false,
          "text": "S",
          "x": 629,
          "xref": "x",
          "y": 0,
          "yref": "y"
         },
         {
          "showarrow": false,
          "text": "P",
          "x": 630,
          "xref": "x",
          "y": 0,
          "yref": "y"
         },
         {
          "showarrow": false,
          "text": "S",
          "x": 631,
          "xref": "x",
          "y": 0,
          "yref": "y"
         },
         {
          "showarrow": false,
          "text": "-",
          "x": 632,
          "xref": "x",
          "y": 0,
          "yref": "y"
         },
         {
          "showarrow": false,
          "text": "S",
          "x": 633,
          "xref": "x",
          "y": 0,
          "yref": "y"
         },
         {
          "showarrow": false,
          "text": "A",
          "x": 634,
          "xref": "x",
          "y": 0,
          "yref": "y"
         },
         {
          "showarrow": false,
          "text": "K",
          "x": 635,
          "xref": "x",
          "y": 0,
          "yref": "y"
         },
         {
          "showarrow": false,
          "text": "S",
          "x": 636,
          "xref": "x",
          "y": 0,
          "yref": "y"
         },
         {
          "showarrow": false,
          "text": "R",
          "x": 637,
          "xref": "x",
          "y": 0,
          "yref": "y"
         },
         {
          "showarrow": false,
          "text": "L",
          "x": 638,
          "xref": "x",
          "y": 0,
          "yref": "y"
         },
         {
          "showarrow": false,
          "text": "Q",
          "x": 639,
          "xref": "x",
          "y": 0,
          "yref": "y"
         },
         {
          "showarrow": false,
          "text": "T",
          "x": 640,
          "xref": "x",
          "y": 0,
          "yref": "y"
         },
         {
          "showarrow": false,
          "text": "A",
          "x": 641,
          "xref": "x",
          "y": 0,
          "yref": "y"
         },
         {
          "showarrow": false,
          "text": "P",
          "x": 642,
          "xref": "x",
          "y": 0,
          "yref": "y"
         },
         {
          "showarrow": false,
          "text": "V",
          "x": 643,
          "xref": "x",
          "y": 0,
          "yref": "y"
         },
         {
          "showarrow": false,
          "text": "P",
          "x": 644,
          "xref": "x",
          "y": 0,
          "yref": "y"
         },
         {
          "showarrow": false,
          "text": "M",
          "x": 645,
          "xref": "x",
          "y": 0,
          "yref": "y"
         },
         {
          "showarrow": false,
          "text": "P",
          "x": 646,
          "xref": "x",
          "y": 0,
          "yref": "y"
         },
         {
          "showarrow": false,
          "text": "D",
          "x": 647,
          "xref": "x",
          "y": 0,
          "yref": "y"
         },
         {
          "showarrow": false,
          "text": "L",
          "x": 648,
          "xref": "x",
          "y": 0,
          "yref": "y"
         },
         {
          "showarrow": false,
          "text": "K",
          "x": 649,
          "xref": "x",
          "y": 0,
          "yref": "y"
         },
         {
          "showarrow": false,
          "text": "N",
          "x": 650,
          "xref": "x",
          "y": 0,
          "yref": "y"
         },
         {
          "showarrow": false,
          "text": "V",
          "x": 651,
          "xref": "x",
          "y": 0,
          "yref": "y"
         },
         {
          "showarrow": false,
          "text": "K",
          "x": 652,
          "xref": "x",
          "y": 0,
          "yref": "y"
         },
         {
          "showarrow": false,
          "text": "S",
          "x": 653,
          "xref": "x",
          "y": 0,
          "yref": "y"
         },
         {
          "showarrow": false,
          "text": "K",
          "x": 654,
          "xref": "x",
          "y": 0,
          "yref": "y"
         },
         {
          "showarrow": false,
          "text": "I",
          "x": 655,
          "xref": "x",
          "y": 0,
          "yref": "y"
         },
         {
          "showarrow": false,
          "text": "G",
          "x": 656,
          "xref": "x",
          "y": 0,
          "yref": "y"
         },
         {
          "showarrow": false,
          "text": "S",
          "x": 657,
          "xref": "x",
          "y": 0,
          "yref": "y"
         },
         {
          "showarrow": false,
          "text": "T",
          "x": 658,
          "xref": "x",
          "y": 0,
          "yref": "y"
         },
         {
          "showarrow": false,
          "text": "E",
          "x": 659,
          "xref": "x",
          "y": 0,
          "yref": "y"
         },
         {
          "showarrow": false,
          "text": "N",
          "x": 660,
          "xref": "x",
          "y": 0,
          "yref": "y"
         },
         {
          "showarrow": false,
          "text": "L",
          "x": 661,
          "xref": "x",
          "y": 0,
          "yref": "y"
         },
         {
          "showarrow": false,
          "text": "K",
          "x": 662,
          "xref": "x",
          "y": 0,
          "yref": "y"
         },
         {
          "showarrow": false,
          "text": "H",
          "x": 663,
          "xref": "x",
          "y": 0,
          "yref": "y"
         },
         {
          "showarrow": false,
          "text": "Q",
          "x": 664,
          "xref": "x",
          "y": 0,
          "yref": "y"
         },
         {
          "showarrow": false,
          "text": "P",
          "x": 665,
          "xref": "x",
          "y": 0,
          "yref": "y"
         },
         {
          "showarrow": false,
          "text": "G",
          "x": 666,
          "xref": "x",
          "y": 0,
          "yref": "y"
         },
         {
          "showarrow": false,
          "text": "G",
          "x": 667,
          "xref": "x",
          "y": 0,
          "yref": "y"
         },
         {
          "showarrow": false,
          "text": "G",
          "x": 668,
          "xref": "x",
          "y": 0,
          "yref": "y"
         },
         {
          "showarrow": false,
          "text": "K",
          "x": 669,
          "xref": "x",
          "y": 0,
          "yref": "y"
         },
         {
          "showarrow": false,
          "text": "V",
          "x": 670,
          "xref": "x",
          "y": 0,
          "yref": "y"
         },
         {
          "showarrow": false,
          "text": "Q",
          "x": 671,
          "xref": "x",
          "y": 0,
          "yref": "y"
         },
         {
          "showarrow": false,
          "text": "I",
          "x": 672,
          "xref": "x",
          "y": 0,
          "yref": "y"
         },
         {
          "showarrow": false,
          "text": "I",
          "x": 673,
          "xref": "x",
          "y": 0,
          "yref": "y"
         },
         {
          "showarrow": false,
          "text": "N",
          "x": 674,
          "xref": "x",
          "y": 0,
          "yref": "y"
         },
         {
          "showarrow": false,
          "text": "K",
          "x": 675,
          "xref": "x",
          "y": 0,
          "yref": "y"
         },
         {
          "showarrow": false,
          "text": "K",
          "x": 676,
          "xref": "x",
          "y": 0,
          "yref": "y"
         },
         {
          "showarrow": false,
          "text": "L",
          "x": 677,
          "xref": "x",
          "y": 0,
          "yref": "y"
         },
         {
          "showarrow": false,
          "text": "D",
          "x": 678,
          "xref": "x",
          "y": 0,
          "yref": "y"
         },
         {
          "showarrow": false,
          "text": "L",
          "x": 679,
          "xref": "x",
          "y": 0,
          "yref": "y"
         },
         {
          "showarrow": false,
          "text": "S",
          "x": 680,
          "xref": "x",
          "y": 0,
          "yref": "y"
         },
         {
          "showarrow": false,
          "text": "N",
          "x": 681,
          "xref": "x",
          "y": 0,
          "yref": "y"
         },
         {
          "showarrow": false,
          "text": "V",
          "x": 682,
          "xref": "x",
          "y": 0,
          "yref": "y"
         },
         {
          "showarrow": false,
          "text": "Q",
          "x": 683,
          "xref": "x",
          "y": 0,
          "yref": "y"
         },
         {
          "showarrow": false,
          "text": "S",
          "x": 684,
          "xref": "x",
          "y": 0,
          "yref": "y"
         },
         {
          "showarrow": false,
          "text": "K",
          "x": 685,
          "xref": "x",
          "y": 0,
          "yref": "y"
         },
         {
          "showarrow": false,
          "text": "C",
          "x": 686,
          "xref": "x",
          "y": 0,
          "yref": "y"
         },
         {
          "showarrow": false,
          "text": "G",
          "x": 687,
          "xref": "x",
          "y": 0,
          "yref": "y"
         },
         {
          "showarrow": false,
          "text": "S",
          "x": 688,
          "xref": "x",
          "y": 0,
          "yref": "y"
         },
         {
          "showarrow": false,
          "text": "K",
          "x": 689,
          "xref": "x",
          "y": 0,
          "yref": "y"
         },
         {
          "showarrow": false,
          "text": "D",
          "x": 690,
          "xref": "x",
          "y": 0,
          "yref": "y"
         },
         {
          "showarrow": false,
          "text": "N",
          "x": 691,
          "xref": "x",
          "y": 0,
          "yref": "y"
         },
         {
          "showarrow": false,
          "text": "I",
          "x": 692,
          "xref": "x",
          "y": 0,
          "yref": "y"
         },
         {
          "showarrow": false,
          "text": "K",
          "x": 693,
          "xref": "x",
          "y": 0,
          "yref": "y"
         },
         {
          "showarrow": false,
          "text": "H",
          "x": 694,
          "xref": "x",
          "y": 0,
          "yref": "y"
         },
         {
          "showarrow": false,
          "text": "V",
          "x": 695,
          "xref": "x",
          "y": 0,
          "yref": "y"
         },
         {
          "showarrow": false,
          "text": "P",
          "x": 696,
          "xref": "x",
          "y": 0,
          "yref": "y"
         },
         {
          "showarrow": false,
          "text": "G",
          "x": 697,
          "xref": "x",
          "y": 0,
          "yref": "y"
         },
         {
          "showarrow": false,
          "text": "G",
          "x": 698,
          "xref": "x",
          "y": 0,
          "yref": "y"
         },
         {
          "showarrow": false,
          "text": "G",
          "x": 699,
          "xref": "x",
          "y": 0,
          "yref": "y"
         },
         {
          "showarrow": false,
          "text": "S",
          "x": 700,
          "xref": "x",
          "y": 0,
          "yref": "y"
         },
         {
          "showarrow": false,
          "text": "V",
          "x": 701,
          "xref": "x",
          "y": 0,
          "yref": "y"
         },
         {
          "showarrow": false,
          "text": "Q",
          "x": 702,
          "xref": "x",
          "y": 0,
          "yref": "y"
         },
         {
          "showarrow": false,
          "text": "I",
          "x": 703,
          "xref": "x",
          "y": 0,
          "yref": "y"
         },
         {
          "showarrow": false,
          "text": "V",
          "x": 704,
          "xref": "x",
          "y": 0,
          "yref": "y"
         },
         {
          "showarrow": false,
          "text": "Y",
          "x": 705,
          "xref": "x",
          "y": 0,
          "yref": "y"
         },
         {
          "showarrow": false,
          "text": "K",
          "x": 706,
          "xref": "x",
          "y": 0,
          "yref": "y"
         },
         {
          "showarrow": false,
          "text": "P",
          "x": 707,
          "xref": "x",
          "y": 0,
          "yref": "y"
         },
         {
          "showarrow": false,
          "text": "V",
          "x": 708,
          "xref": "x",
          "y": 0,
          "yref": "y"
         },
         {
          "showarrow": false,
          "text": "D",
          "x": 709,
          "xref": "x",
          "y": 0,
          "yref": "y"
         },
         {
          "showarrow": false,
          "text": "L",
          "x": 710,
          "xref": "x",
          "y": 0,
          "yref": "y"
         },
         {
          "showarrow": false,
          "text": "S",
          "x": 711,
          "xref": "x",
          "y": 0,
          "yref": "y"
         },
         {
          "showarrow": false,
          "text": "K",
          "x": 712,
          "xref": "x",
          "y": 0,
          "yref": "y"
         },
         {
          "showarrow": false,
          "text": "V",
          "x": 713,
          "xref": "x",
          "y": 0,
          "yref": "y"
         },
         {
          "showarrow": false,
          "text": "T",
          "x": 714,
          "xref": "x",
          "y": 0,
          "yref": "y"
         },
         {
          "showarrow": false,
          "text": "S",
          "x": 715,
          "xref": "x",
          "y": 0,
          "yref": "y"
         },
         {
          "showarrow": false,
          "text": "K",
          "x": 716,
          "xref": "x",
          "y": 0,
          "yref": "y"
         },
         {
          "showarrow": false,
          "text": "C",
          "x": 717,
          "xref": "x",
          "y": 0,
          "yref": "y"
         },
         {
          "showarrow": false,
          "text": "G",
          "x": 718,
          "xref": "x",
          "y": 0,
          "yref": "y"
         },
         {
          "showarrow": false,
          "text": "S",
          "x": 719,
          "xref": "x",
          "y": 0,
          "yref": "y"
         },
         {
          "showarrow": false,
          "text": "L",
          "x": 720,
          "xref": "x",
          "y": 0,
          "yref": "y"
         },
         {
          "showarrow": false,
          "text": "G",
          "x": 721,
          "xref": "x",
          "y": 0,
          "yref": "y"
         },
         {
          "showarrow": false,
          "text": "N",
          "x": 722,
          "xref": "x",
          "y": 0,
          "yref": "y"
         },
         {
          "showarrow": false,
          "text": "I",
          "x": 723,
          "xref": "x",
          "y": 0,
          "yref": "y"
         },
         {
          "showarrow": false,
          "text": "H",
          "x": 724,
          "xref": "x",
          "y": 0,
          "yref": "y"
         },
         {
          "showarrow": false,
          "text": "H",
          "x": 725,
          "xref": "x",
          "y": 0,
          "yref": "y"
         },
         {
          "showarrow": false,
          "text": "K",
          "x": 726,
          "xref": "x",
          "y": 0,
          "yref": "y"
         },
         {
          "showarrow": false,
          "text": "P",
          "x": 727,
          "xref": "x",
          "y": 0,
          "yref": "y"
         },
         {
          "showarrow": false,
          "text": "G",
          "x": 728,
          "xref": "x",
          "y": 0,
          "yref": "y"
         },
         {
          "showarrow": false,
          "text": "G",
          "x": 729,
          "xref": "x",
          "y": 0,
          "yref": "y"
         },
         {
          "showarrow": false,
          "text": "G",
          "x": 730,
          "xref": "x",
          "y": 0,
          "yref": "y"
         },
         {
          "showarrow": false,
          "text": "Q",
          "x": 731,
          "xref": "x",
          "y": 0,
          "yref": "y"
         },
         {
          "showarrow": false,
          "text": "V",
          "x": 732,
          "xref": "x",
          "y": 0,
          "yref": "y"
         },
         {
          "showarrow": false,
          "text": "E",
          "x": 733,
          "xref": "x",
          "y": 0,
          "yref": "y"
         },
         {
          "showarrow": false,
          "text": "V",
          "x": 734,
          "xref": "x",
          "y": 0,
          "yref": "y"
         },
         {
          "showarrow": false,
          "text": "K",
          "x": 735,
          "xref": "x",
          "y": 0,
          "yref": "y"
         },
         {
          "showarrow": false,
          "text": "S",
          "x": 736,
          "xref": "x",
          "y": 0,
          "yref": "y"
         },
         {
          "showarrow": false,
          "text": "E",
          "x": 737,
          "xref": "x",
          "y": 0,
          "yref": "y"
         },
         {
          "showarrow": false,
          "text": "K",
          "x": 738,
          "xref": "x",
          "y": 0,
          "yref": "y"
         },
         {
          "showarrow": false,
          "text": "L",
          "x": 739,
          "xref": "x",
          "y": 0,
          "yref": "y"
         },
         {
          "showarrow": false,
          "text": "D",
          "x": 740,
          "xref": "x",
          "y": 0,
          "yref": "y"
         },
         {
          "showarrow": false,
          "text": "F",
          "x": 741,
          "xref": "x",
          "y": 0,
          "yref": "y"
         },
         {
          "showarrow": false,
          "text": "K",
          "x": 742,
          "xref": "x",
          "y": 0,
          "yref": "y"
         },
         {
          "showarrow": false,
          "text": "D",
          "x": 743,
          "xref": "x",
          "y": 0,
          "yref": "y"
         },
         {
          "showarrow": false,
          "text": "R",
          "x": 744,
          "xref": "x",
          "y": 0,
          "yref": "y"
         },
         {
          "showarrow": false,
          "text": "V",
          "x": 745,
          "xref": "x",
          "y": 0,
          "yref": "y"
         },
         {
          "showarrow": false,
          "text": "Q",
          "x": 746,
          "xref": "x",
          "y": 0,
          "yref": "y"
         },
         {
          "showarrow": false,
          "text": "S",
          "x": 747,
          "xref": "x",
          "y": 0,
          "yref": "y"
         },
         {
          "showarrow": false,
          "text": "K",
          "x": 748,
          "xref": "x",
          "y": 0,
          "yref": "y"
         },
         {
          "showarrow": false,
          "text": "I",
          "x": 749,
          "xref": "x",
          "y": 0,
          "yref": "y"
         },
         {
          "showarrow": false,
          "text": "G",
          "x": 750,
          "xref": "x",
          "y": 0,
          "yref": "y"
         },
         {
          "showarrow": false,
          "text": "S",
          "x": 751,
          "xref": "x",
          "y": 0,
          "yref": "y"
         },
         {
          "showarrow": false,
          "text": "L",
          "x": 752,
          "xref": "x",
          "y": 0,
          "yref": "y"
         },
         {
          "showarrow": false,
          "text": "D",
          "x": 753,
          "xref": "x",
          "y": 0,
          "yref": "y"
         },
         {
          "showarrow": false,
          "text": "N",
          "x": 754,
          "xref": "x",
          "y": 0,
          "yref": "y"
         },
         {
          "showarrow": false,
          "text": "I",
          "x": 755,
          "xref": "x",
          "y": 0,
          "yref": "y"
         },
         {
          "showarrow": false,
          "text": "T",
          "x": 756,
          "xref": "x",
          "y": 0,
          "yref": "y"
         },
         {
          "showarrow": false,
          "text": "H",
          "x": 757,
          "xref": "x",
          "y": 0,
          "yref": "y"
         },
         {
          "showarrow": false,
          "text": "V",
          "x": 758,
          "xref": "x",
          "y": 0,
          "yref": "y"
         },
         {
          "showarrow": false,
          "text": "P",
          "x": 759,
          "xref": "x",
          "y": 0,
          "yref": "y"
         },
         {
          "showarrow": false,
          "text": "G",
          "x": 760,
          "xref": "x",
          "y": 0,
          "yref": "y"
         },
         {
          "showarrow": false,
          "text": "G",
          "x": 761,
          "xref": "x",
          "y": 0,
          "yref": "y"
         },
         {
          "showarrow": false,
          "text": "G",
          "x": 762,
          "xref": "x",
          "y": 0,
          "yref": "y"
         },
         {
          "showarrow": false,
          "text": "N",
          "x": 763,
          "xref": "x",
          "y": 0,
          "yref": "y"
         },
         {
          "showarrow": false,
          "text": "K",
          "x": 764,
          "xref": "x",
          "y": 0,
          "yref": "y"
         },
         {
          "showarrow": false,
          "text": "K",
          "x": 765,
          "xref": "x",
          "y": 0,
          "yref": "y"
         },
         {
          "showarrow": false,
          "text": "I",
          "x": 766,
          "xref": "x",
          "y": 0,
          "yref": "y"
         },
         {
          "showarrow": false,
          "text": "E",
          "x": 767,
          "xref": "x",
          "y": 0,
          "yref": "y"
         },
         {
          "showarrow": false,
          "text": "T",
          "x": 768,
          "xref": "x",
          "y": 0,
          "yref": "y"
         },
         {
          "showarrow": false,
          "text": "H",
          "x": 769,
          "xref": "x",
          "y": 0,
          "yref": "y"
         },
         {
          "showarrow": false,
          "text": "K",
          "x": 770,
          "xref": "x",
          "y": 0,
          "yref": "y"
         },
         {
          "showarrow": false,
          "text": "L",
          "x": 771,
          "xref": "x",
          "y": 0,
          "yref": "y"
         },
         {
          "showarrow": false,
          "text": "T",
          "x": 772,
          "xref": "x",
          "y": 0,
          "yref": "y"
         },
         {
          "showarrow": false,
          "text": "F",
          "x": 773,
          "xref": "x",
          "y": 0,
          "yref": "y"
         },
         {
          "showarrow": false,
          "text": "R",
          "x": 774,
          "xref": "x",
          "y": 0,
          "yref": "y"
         },
         {
          "showarrow": false,
          "text": "E",
          "x": 775,
          "xref": "x",
          "y": 0,
          "yref": "y"
         },
         {
          "showarrow": false,
          "text": "N",
          "x": 776,
          "xref": "x",
          "y": 0,
          "yref": "y"
         },
         {
          "showarrow": false,
          "text": "A",
          "x": 777,
          "xref": "x",
          "y": 0,
          "yref": "y"
         },
         {
          "showarrow": false,
          "text": "K",
          "x": 778,
          "xref": "x",
          "y": 0,
          "yref": "y"
         },
         {
          "showarrow": false,
          "text": "A",
          "x": 779,
          "xref": "x",
          "y": 0,
          "yref": "y"
         },
         {
          "showarrow": false,
          "text": "K",
          "x": 780,
          "xref": "x",
          "y": 0,
          "yref": "y"
         },
         {
          "showarrow": false,
          "text": "T",
          "x": 781,
          "xref": "x",
          "y": 0,
          "yref": "y"
         },
         {
          "showarrow": false,
          "text": "D",
          "x": 782,
          "xref": "x",
          "y": 0,
          "yref": "y"
         },
         {
          "showarrow": false,
          "text": "H",
          "x": 783,
          "xref": "x",
          "y": 0,
          "yref": "y"
         },
         {
          "showarrow": false,
          "text": "G",
          "x": 784,
          "xref": "x",
          "y": 0,
          "yref": "y"
         },
         {
          "showarrow": false,
          "text": "A",
          "x": 785,
          "xref": "x",
          "y": 0,
          "yref": "y"
         },
         {
          "showarrow": false,
          "text": "E",
          "x": 786,
          "xref": "x",
          "y": 0,
          "yref": "y"
         },
         {
          "showarrow": false,
          "text": "I",
          "x": 787,
          "xref": "x",
          "y": 0,
          "yref": "y"
         },
         {
          "showarrow": false,
          "text": "V",
          "x": 788,
          "xref": "x",
          "y": 0,
          "yref": "y"
         },
         {
          "showarrow": false,
          "text": "Y",
          "x": 789,
          "xref": "x",
          "y": 0,
          "yref": "y"
         },
         {
          "showarrow": false,
          "text": "K",
          "x": 790,
          "xref": "x",
          "y": 0,
          "yref": "y"
         },
         {
          "showarrow": false,
          "text": "S",
          "x": 791,
          "xref": "x",
          "y": 0,
          "yref": "y"
         },
         {
          "showarrow": false,
          "text": "P",
          "x": 792,
          "xref": "x",
          "y": 0,
          "yref": "y"
         },
         {
          "showarrow": false,
          "text": "V",
          "x": 793,
          "xref": "x",
          "y": 0,
          "yref": "y"
         },
         {
          "showarrow": false,
          "text": "V",
          "x": 794,
          "xref": "x",
          "y": 0,
          "yref": "y"
         },
         {
          "showarrow": false,
          "text": "S",
          "x": 795,
          "xref": "x",
          "y": 0,
          "yref": "y"
         },
         {
          "showarrow": false,
          "text": "G",
          "x": 796,
          "xref": "x",
          "y": 0,
          "yref": "y"
         },
         {
          "showarrow": false,
          "text": "D",
          "x": 797,
          "xref": "x",
          "y": 0,
          "yref": "y"
         },
         {
          "showarrow": false,
          "text": "T",
          "x": 798,
          "xref": "x",
          "y": 0,
          "yref": "y"
         },
         {
          "showarrow": false,
          "text": "S",
          "x": 799,
          "xref": "x",
          "y": 0,
          "yref": "y"
         },
         {
          "showarrow": false,
          "text": "P",
          "x": 800,
          "xref": "x",
          "y": 0,
          "yref": "y"
         },
         {
          "showarrow": false,
          "text": "R",
          "x": 801,
          "xref": "x",
          "y": 0,
          "yref": "y"
         },
         {
          "showarrow": false,
          "text": "H",
          "x": 802,
          "xref": "x",
          "y": 0,
          "yref": "y"
         },
         {
          "showarrow": false,
          "text": "L",
          "x": 803,
          "xref": "x",
          "y": 0,
          "yref": "y"
         },
         {
          "showarrow": false,
          "text": "S",
          "x": 804,
          "xref": "x",
          "y": 0,
          "yref": "y"
         },
         {
          "showarrow": false,
          "text": "N",
          "x": 805,
          "xref": "x",
          "y": 0,
          "yref": "y"
         },
         {
          "showarrow": false,
          "text": "V",
          "x": 806,
          "xref": "x",
          "y": 0,
          "yref": "y"
         },
         {
          "showarrow": false,
          "text": "S",
          "x": 807,
          "xref": "x",
          "y": 0,
          "yref": "y"
         },
         {
          "showarrow": false,
          "text": "S",
          "x": 808,
          "xref": "x",
          "y": 0,
          "yref": "y"
         },
         {
          "showarrow": false,
          "text": "T",
          "x": 809,
          "xref": "x",
          "y": 0,
          "yref": "y"
         },
         {
          "showarrow": false,
          "text": "G",
          "x": 810,
          "xref": "x",
          "y": 0,
          "yref": "y"
         },
         {
          "showarrow": false,
          "text": "S",
          "x": 811,
          "xref": "x",
          "y": 0,
          "yref": "y"
         },
         {
          "showarrow": false,
          "text": "I",
          "x": 812,
          "xref": "x",
          "y": 0,
          "yref": "y"
         },
         {
          "showarrow": false,
          "text": "D",
          "x": 813,
          "xref": "x",
          "y": 0,
          "yref": "y"
         },
         {
          "showarrow": false,
          "text": "M",
          "x": 814,
          "xref": "x",
          "y": 0,
          "yref": "y"
         },
         {
          "showarrow": false,
          "text": "V",
          "x": 815,
          "xref": "x",
          "y": 0,
          "yref": "y"
         },
         {
          "showarrow": false,
          "text": "D",
          "x": 816,
          "xref": "x",
          "y": 0,
          "yref": "y"
         },
         {
          "showarrow": false,
          "text": "S",
          "x": 817,
          "xref": "x",
          "y": 0,
          "yref": "y"
         },
         {
          "showarrow": false,
          "text": "P",
          "x": 818,
          "xref": "x",
          "y": 0,
          "yref": "y"
         },
         {
          "showarrow": false,
          "text": "Q",
          "x": 819,
          "xref": "x",
          "y": 0,
          "yref": "y"
         },
         {
          "showarrow": false,
          "text": "L",
          "x": 820,
          "xref": "x",
          "y": 0,
          "yref": "y"
         },
         {
          "showarrow": false,
          "text": "A",
          "x": 821,
          "xref": "x",
          "y": 0,
          "yref": "y"
         },
         {
          "showarrow": false,
          "text": "T",
          "x": 822,
          "xref": "x",
          "y": 0,
          "yref": "y"
         },
         {
          "showarrow": false,
          "text": "L",
          "x": 823,
          "xref": "x",
          "y": 0,
          "yref": "y"
         },
         {
          "showarrow": false,
          "text": "A",
          "x": 824,
          "xref": "x",
          "y": 0,
          "yref": "y"
         },
         {
          "showarrow": false,
          "text": "D",
          "x": 825,
          "xref": "x",
          "y": 0,
          "yref": "y"
         },
         {
          "showarrow": false,
          "text": "E",
          "x": 826,
          "xref": "x",
          "y": 0,
          "yref": "y"
         },
         {
          "showarrow": false,
          "text": "V",
          "x": 827,
          "xref": "x",
          "y": 0,
          "yref": "y"
         },
         {
          "showarrow": false,
          "text": "S",
          "x": 828,
          "xref": "x",
          "y": 0,
          "yref": "y"
         },
         {
          "showarrow": false,
          "text": "A",
          "x": 829,
          "xref": "x",
          "y": 0,
          "yref": "y"
         },
         {
          "showarrow": false,
          "text": "S",
          "x": 830,
          "xref": "x",
          "y": 0,
          "yref": "y"
         },
         {
          "showarrow": false,
          "text": "L",
          "x": 831,
          "xref": "x",
          "y": 0,
          "yref": "y"
         },
         {
          "showarrow": false,
          "text": "A",
          "x": 832,
          "xref": "x",
          "y": 0,
          "yref": "y"
         },
         {
          "showarrow": false,
          "text": "K",
          "x": 833,
          "xref": "x",
          "y": 0,
          "yref": "y"
         },
         {
          "showarrow": false,
          "text": "Q",
          "x": 834,
          "xref": "x",
          "y": 0,
          "yref": "y"
         },
         {
          "showarrow": false,
          "text": "G",
          "x": 835,
          "xref": "x",
          "y": 0,
          "yref": "y"
         },
         {
          "showarrow": false,
          "text": "L",
          "x": 836,
          "xref": "x",
          "y": 0,
          "yref": "y"
         },
         {
          "showarrow": false,
          "text": "M",
          "x": 0,
          "xref": "x",
          "y": 1,
          "yref": "y"
         },
         {
          "showarrow": false,
          "text": "A",
          "x": 1,
          "xref": "x",
          "y": 1,
          "yref": "y"
         },
         {
          "showarrow": false,
          "text": "D",
          "x": 2,
          "xref": "x",
          "y": 1,
          "yref": "y"
         },
         {
          "showarrow": false,
          "text": "P",
          "x": 3,
          "xref": "x",
          "y": 1,
          "yref": "y"
         },
         {
          "showarrow": false,
          "text": "R",
          "x": 4,
          "xref": "x",
          "y": 1,
          "yref": "y"
         },
         {
          "showarrow": false,
          "text": "Q",
          "x": 5,
          "xref": "x",
          "y": 1,
          "yref": "y"
         },
         {
          "showarrow": false,
          "text": "E",
          "x": 6,
          "xref": "x",
          "y": 1,
          "yref": "y"
         },
         {
          "showarrow": false,
          "text": "F",
          "x": 7,
          "xref": "x",
          "y": 1,
          "yref": "y"
         },
         {
          "showarrow": false,
          "text": "D",
          "x": 8,
          "xref": "x",
          "y": 1,
          "yref": "y"
         },
         {
          "showarrow": false,
          "text": "T",
          "x": 9,
          "xref": "x",
          "y": 1,
          "yref": "y"
         },
         {
          "showarrow": false,
          "text": "M",
          "x": 10,
          "xref": "x",
          "y": 1,
          "yref": "y"
         },
         {
          "showarrow": false,
          "text": "E",
          "x": 11,
          "xref": "x",
          "y": 1,
          "yref": "y"
         },
         {
          "showarrow": false,
          "text": "D",
          "x": 12,
          "xref": "x",
          "y": 1,
          "yref": "y"
         },
         {
          "showarrow": false,
          "text": "H",
          "x": 13,
          "xref": "x",
          "y": 1,
          "yref": "y"
         },
         {
          "showarrow": false,
          "text": "A",
          "x": 14,
          "xref": "x",
          "y": 1,
          "yref": "y"
         },
         {
          "showarrow": false,
          "text": "G",
          "x": 15,
          "xref": "x",
          "y": 1,
          "yref": "y"
         },
         {
          "showarrow": false,
          "text": "-",
          "x": 16,
          "xref": "x",
          "y": 1,
          "yref": "y"
         },
         {
          "showarrow": false,
          "text": "-",
          "x": 17,
          "xref": "x",
          "y": 1,
          "yref": "y"
         },
         {
          "showarrow": false,
          "text": "-",
          "x": 18,
          "xref": "x",
          "y": 1,
          "yref": "y"
         },
         {
          "showarrow": false,
          "text": "-",
          "x": 19,
          "xref": "x",
          "y": 1,
          "yref": "y"
         },
         {
          "showarrow": false,
          "text": "-",
          "x": 20,
          "xref": "x",
          "y": 1,
          "yref": "y"
         },
         {
          "showarrow": false,
          "text": "D",
          "x": 21,
          "xref": "x",
          "y": 1,
          "yref": "y"
         },
         {
          "showarrow": false,
          "text": "-",
          "x": 22,
          "xref": "x",
          "y": 1,
          "yref": "y"
         },
         {
          "showarrow": false,
          "text": "-",
          "x": 23,
          "xref": "x",
          "y": 1,
          "yref": "y"
         },
         {
          "showarrow": false,
          "text": "-",
          "x": 24,
          "xref": "x",
          "y": 1,
          "yref": "y"
         },
         {
          "showarrow": false,
          "text": "-",
          "x": 25,
          "xref": "x",
          "y": 1,
          "yref": "y"
         },
         {
          "showarrow": false,
          "text": "-",
          "x": 26,
          "xref": "x",
          "y": 1,
          "yref": "y"
         },
         {
          "showarrow": false,
          "text": "-",
          "x": 27,
          "xref": "x",
          "y": 1,
          "yref": "y"
         },
         {
          "showarrow": false,
          "text": "Y",
          "x": 28,
          "xref": "x",
          "y": 1,
          "yref": "y"
         },
         {
          "showarrow": false,
          "text": "T",
          "x": 29,
          "xref": "x",
          "y": 1,
          "yref": "y"
         },
         {
          "showarrow": false,
          "text": "L",
          "x": 30,
          "xref": "x",
          "y": 1,
          "yref": "y"
         },
         {
          "showarrow": false,
          "text": "L",
          "x": 31,
          "xref": "x",
          "y": 1,
          "yref": "y"
         },
         {
          "showarrow": false,
          "text": "Q",
          "x": 32,
          "xref": "x",
          "y": 1,
          "yref": "y"
         },
         {
          "showarrow": false,
          "text": "D",
          "x": 33,
          "xref": "x",
          "y": 1,
          "yref": "y"
         },
         {
          "showarrow": false,
          "text": "Q",
          "x": 34,
          "xref": "x",
          "y": 1,
          "yref": "y"
         },
         {
          "showarrow": false,
          "text": "E",
          "x": 35,
          "xref": "x",
          "y": 1,
          "yref": "y"
         },
         {
          "showarrow": false,
          "text": "G",
          "x": 36,
          "xref": "x",
          "y": 1,
          "yref": "y"
         },
         {
          "showarrow": false,
          "text": "D",
          "x": 37,
          "xref": "x",
          "y": 1,
          "yref": "y"
         },
         {
          "showarrow": false,
          "text": "M",
          "x": 38,
          "xref": "x",
          "y": 1,
          "yref": "y"
         },
         {
          "showarrow": false,
          "text": "D",
          "x": 39,
          "xref": "x",
          "y": 1,
          "yref": "y"
         },
         {
          "showarrow": false,
          "text": "H",
          "x": 40,
          "xref": "x",
          "y": 1,
          "yref": "y"
         },
         {
          "showarrow": false,
          "text": "G",
          "x": 41,
          "xref": "x",
          "y": 1,
          "yref": "y"
         },
         {
          "showarrow": false,
          "text": "L",
          "x": 42,
          "xref": "x",
          "y": 1,
          "yref": "y"
         },
         {
          "showarrow": false,
          "text": "K",
          "x": 43,
          "xref": "x",
          "y": 1,
          "yref": "y"
         },
         {
          "showarrow": false,
          "text": "E",
          "x": 44,
          "xref": "x",
          "y": 1,
          "yref": "y"
         },
         {
          "showarrow": false,
          "text": "S",
          "x": 45,
          "xref": "x",
          "y": 1,
          "yref": "y"
         },
         {
          "showarrow": false,
          "text": "P",
          "x": 46,
          "xref": "x",
          "y": 1,
          "yref": "y"
         },
         {
          "showarrow": false,
          "text": "P",
          "x": 47,
          "xref": "x",
          "y": 1,
          "yref": "y"
         },
         {
          "showarrow": false,
          "text": "Q",
          "x": 48,
          "xref": "x",
          "y": 1,
          "yref": "y"
         },
         {
          "showarrow": false,
          "text": "P",
          "x": 49,
          "xref": "x",
          "y": 1,
          "yref": "y"
         },
         {
          "showarrow": false,
          "text": "P",
          "x": 50,
          "xref": "x",
          "y": 1,
          "yref": "y"
         },
         {
          "showarrow": false,
          "text": "A",
          "x": 51,
          "xref": "x",
          "y": 1,
          "yref": "y"
         },
         {
          "showarrow": false,
          "text": "D",
          "x": 52,
          "xref": "x",
          "y": 1,
          "yref": "y"
         },
         {
          "showarrow": false,
          "text": "D",
          "x": 53,
          "xref": "x",
          "y": 1,
          "yref": "y"
         },
         {
          "showarrow": false,
          "text": "G",
          "x": 54,
          "xref": "x",
          "y": 1,
          "yref": "y"
         },
         {
          "showarrow": false,
          "text": "A",
          "x": 55,
          "xref": "x",
          "y": 1,
          "yref": "y"
         },
         {
          "showarrow": false,
          "text": "E",
          "x": 56,
          "xref": "x",
          "y": 1,
          "yref": "y"
         },
         {
          "showarrow": false,
          "text": "E",
          "x": 57,
          "xref": "x",
          "y": 1,
          "yref": "y"
         },
         {
          "showarrow": false,
          "text": "P",
          "x": 58,
          "xref": "x",
          "y": 1,
          "yref": "y"
         },
         {
          "showarrow": false,
          "text": "G",
          "x": 59,
          "xref": "x",
          "y": 1,
          "yref": "y"
         },
         {
          "showarrow": false,
          "text": "S",
          "x": 60,
          "xref": "x",
          "y": 1,
          "yref": "y"
         },
         {
          "showarrow": false,
          "text": "E",
          "x": 61,
          "xref": "x",
          "y": 1,
          "yref": "y"
         },
         {
          "showarrow": false,
          "text": "T",
          "x": 62,
          "xref": "x",
          "y": 1,
          "yref": "y"
         },
         {
          "showarrow": false,
          "text": "S",
          "x": 63,
          "xref": "x",
          "y": 1,
          "yref": "y"
         },
         {
          "showarrow": false,
          "text": "D",
          "x": 64,
          "xref": "x",
          "y": 1,
          "yref": "y"
         },
         {
          "showarrow": false,
          "text": "A",
          "x": 65,
          "xref": "x",
          "y": 1,
          "yref": "y"
         },
         {
          "showarrow": false,
          "text": "K",
          "x": 66,
          "xref": "x",
          "y": 1,
          "yref": "y"
         },
         {
          "showarrow": false,
          "text": "S",
          "x": 67,
          "xref": "x",
          "y": 1,
          "yref": "y"
         },
         {
          "showarrow": false,
          "text": "T",
          "x": 68,
          "xref": "x",
          "y": 1,
          "yref": "y"
         },
         {
          "showarrow": false,
          "text": "P",
          "x": 69,
          "xref": "x",
          "y": 1,
          "yref": "y"
         },
         {
          "showarrow": false,
          "text": "T",
          "x": 70,
          "xref": "x",
          "y": 1,
          "yref": "y"
         },
         {
          "showarrow": false,
          "text": "A",
          "x": 71,
          "xref": "x",
          "y": 1,
          "yref": "y"
         },
         {
          "showarrow": false,
          "text": "E",
          "x": 72,
          "xref": "x",
          "y": 1,
          "yref": "y"
         },
         {
          "showarrow": false,
          "text": "D",
          "x": 73,
          "xref": "x",
          "y": 1,
          "yref": "y"
         },
         {
          "showarrow": false,
          "text": "V",
          "x": 74,
          "xref": "x",
          "y": 1,
          "yref": "y"
         },
         {
          "showarrow": false,
          "text": "T",
          "x": 75,
          "xref": "x",
          "y": 1,
          "yref": "y"
         },
         {
          "showarrow": false,
          "text": "A",
          "x": 76,
          "xref": "x",
          "y": 1,
          "yref": "y"
         },
         {
          "showarrow": false,
          "text": "P",
          "x": 77,
          "xref": "x",
          "y": 1,
          "yref": "y"
         },
         {
          "showarrow": false,
          "text": "L",
          "x": 78,
          "xref": "x",
          "y": 1,
          "yref": "y"
         },
         {
          "showarrow": false,
          "text": "V",
          "x": 79,
          "xref": "x",
          "y": 1,
          "yref": "y"
         },
         {
          "showarrow": false,
          "text": "D",
          "x": 80,
          "xref": "x",
          "y": 1,
          "yref": "y"
         },
         {
          "showarrow": false,
          "text": "E",
          "x": 81,
          "xref": "x",
          "y": 1,
          "yref": "y"
         },
         {
          "showarrow": false,
          "text": "R",
          "x": 82,
          "xref": "x",
          "y": 1,
          "yref": "y"
         },
         {
          "showarrow": false,
          "text": "A",
          "x": 83,
          "xref": "x",
          "y": 1,
          "yref": "y"
         },
         {
          "showarrow": false,
          "text": "P",
          "x": 84,
          "xref": "x",
          "y": 1,
          "yref": "y"
         },
         {
          "showarrow": false,
          "text": "D",
          "x": 85,
          "xref": "x",
          "y": 1,
          "yref": "y"
         },
         {
          "showarrow": false,
          "text": "K",
          "x": 86,
          "xref": "x",
          "y": 1,
          "yref": "y"
         },
         {
          "showarrow": false,
          "text": "Q",
          "x": 87,
          "xref": "x",
          "y": 1,
          "yref": "y"
         },
         {
          "showarrow": false,
          "text": "A",
          "x": 88,
          "xref": "x",
          "y": 1,
          "yref": "y"
         },
         {
          "showarrow": false,
          "text": "A",
          "x": 89,
          "xref": "x",
          "y": 1,
          "yref": "y"
         },
         {
          "showarrow": false,
          "text": "A",
          "x": 90,
          "xref": "x",
          "y": 1,
          "yref": "y"
         },
         {
          "showarrow": false,
          "text": "Q",
          "x": 91,
          "xref": "x",
          "y": 1,
          "yref": "y"
         },
         {
          "showarrow": false,
          "text": "P",
          "x": 92,
          "xref": "x",
          "y": 1,
          "yref": "y"
         },
         {
          "showarrow": false,
          "text": "H",
          "x": 93,
          "xref": "x",
          "y": 1,
          "yref": "y"
         },
         {
          "showarrow": false,
          "text": "T",
          "x": 94,
          "xref": "x",
          "y": 1,
          "yref": "y"
         },
         {
          "showarrow": false,
          "text": "E",
          "x": 95,
          "xref": "x",
          "y": 1,
          "yref": "y"
         },
         {
          "showarrow": false,
          "text": "I",
          "x": 96,
          "xref": "x",
          "y": 1,
          "yref": "y"
         },
         {
          "showarrow": false,
          "text": "P",
          "x": 97,
          "xref": "x",
          "y": 1,
          "yref": "y"
         },
         {
          "showarrow": false,
          "text": "E",
          "x": 98,
          "xref": "x",
          "y": 1,
          "yref": "y"
         },
         {
          "showarrow": false,
          "text": "G",
          "x": 99,
          "xref": "x",
          "y": 1,
          "yref": "y"
         },
         {
          "showarrow": false,
          "text": "I",
          "x": 100,
          "xref": "x",
          "y": 1,
          "yref": "y"
         },
         {
          "showarrow": false,
          "text": "T",
          "x": 101,
          "xref": "x",
          "y": 1,
          "yref": "y"
         },
         {
          "showarrow": false,
          "text": "A",
          "x": 102,
          "xref": "x",
          "y": 1,
          "yref": "y"
         },
         {
          "showarrow": false,
          "text": "E",
          "x": 103,
          "xref": "x",
          "y": 1,
          "yref": "y"
         },
         {
          "showarrow": false,
          "text": "E",
          "x": 104,
          "xref": "x",
          "y": 1,
          "yref": "y"
         },
         {
          "showarrow": false,
          "text": "A",
          "x": 105,
          "xref": "x",
          "y": 1,
          "yref": "y"
         },
         {
          "showarrow": false,
          "text": "G",
          "x": 106,
          "xref": "x",
          "y": 1,
          "yref": "y"
         },
         {
          "showarrow": false,
          "text": "I",
          "x": 107,
          "xref": "x",
          "y": 1,
          "yref": "y"
         },
         {
          "showarrow": false,
          "text": "G",
          "x": 108,
          "xref": "x",
          "y": 1,
          "yref": "y"
         },
         {
          "showarrow": false,
          "text": "D",
          "x": 109,
          "xref": "x",
          "y": 1,
          "yref": "y"
         },
         {
          "showarrow": false,
          "text": "T",
          "x": 110,
          "xref": "x",
          "y": 1,
          "yref": "y"
         },
         {
          "showarrow": false,
          "text": "P",
          "x": 111,
          "xref": "x",
          "y": 1,
          "yref": "y"
         },
         {
          "showarrow": false,
          "text": "N",
          "x": 112,
          "xref": "x",
          "y": 1,
          "yref": "y"
         },
         {
          "showarrow": false,
          "text": "Q",
          "x": 113,
          "xref": "x",
          "y": 1,
          "yref": "y"
         },
         {
          "showarrow": false,
          "text": "E",
          "x": 114,
          "xref": "x",
          "y": 1,
          "yref": "y"
         },
         {
          "showarrow": false,
          "text": "D",
          "x": 115,
          "xref": "x",
          "y": 1,
          "yref": "y"
         },
         {
          "showarrow": false,
          "text": "Q",
          "x": 116,
          "xref": "x",
          "y": 1,
          "yref": "y"
         },
         {
          "showarrow": false,
          "text": "A",
          "x": 117,
          "xref": "x",
          "y": 1,
          "yref": "y"
         },
         {
          "showarrow": false,
          "text": "A",
          "x": 118,
          "xref": "x",
          "y": 1,
          "yref": "y"
         },
         {
          "showarrow": false,
          "text": "G",
          "x": 119,
          "xref": "x",
          "y": 1,
          "yref": "y"
         },
         {
          "showarrow": false,
          "text": "H",
          "x": 120,
          "xref": "x",
          "y": 1,
          "yref": "y"
         },
         {
          "showarrow": false,
          "text": "V",
          "x": 121,
          "xref": "x",
          "y": 1,
          "yref": "y"
         },
         {
          "showarrow": false,
          "text": "T",
          "x": 122,
          "xref": "x",
          "y": 1,
          "yref": "y"
         },
         {
          "showarrow": false,
          "text": "Q",
          "x": 123,
          "xref": "x",
          "y": 1,
          "yref": "y"
         },
         {
          "showarrow": false,
          "text": "-",
          "x": 124,
          "xref": "x",
          "y": 1,
          "yref": "y"
         },
         {
          "showarrow": false,
          "text": "-",
          "x": 125,
          "xref": "x",
          "y": 1,
          "yref": "y"
         },
         {
          "showarrow": false,
          "text": "-",
          "x": 126,
          "xref": "x",
          "y": 1,
          "yref": "y"
         },
         {
          "showarrow": false,
          "text": "-",
          "x": 127,
          "xref": "x",
          "y": 1,
          "yref": "y"
         },
         {
          "showarrow": false,
          "text": "-",
          "x": 128,
          "xref": "x",
          "y": 1,
          "yref": "y"
         },
         {
          "showarrow": false,
          "text": "-",
          "x": 129,
          "xref": "x",
          "y": 1,
          "yref": "y"
         },
         {
          "showarrow": false,
          "text": "-",
          "x": 130,
          "xref": "x",
          "y": 1,
          "yref": "y"
         },
         {
          "showarrow": false,
          "text": "-",
          "x": 131,
          "xref": "x",
          "y": 1,
          "yref": "y"
         },
         {
          "showarrow": false,
          "text": "-",
          "x": 132,
          "xref": "x",
          "y": 1,
          "yref": "y"
         },
         {
          "showarrow": false,
          "text": "G",
          "x": 133,
          "xref": "x",
          "y": 1,
          "yref": "y"
         },
         {
          "showarrow": false,
          "text": "R",
          "x": 134,
          "xref": "x",
          "y": 1,
          "yref": "y"
         },
         {
          "showarrow": false,
          "text": "R",
          "x": 135,
          "xref": "x",
          "y": 1,
          "yref": "y"
         },
         {
          "showarrow": false,
          "text": "-",
          "x": 136,
          "xref": "x",
          "y": 1,
          "yref": "y"
         },
         {
          "showarrow": false,
          "text": "-",
          "x": 137,
          "xref": "x",
          "y": 1,
          "yref": "y"
         },
         {
          "showarrow": false,
          "text": "-",
          "x": 138,
          "xref": "x",
          "y": 1,
          "yref": "y"
         },
         {
          "showarrow": false,
          "text": "E",
          "x": 139,
          "xref": "x",
          "y": 1,
          "yref": "y"
         },
         {
          "showarrow": false,
          "text": "-",
          "x": 140,
          "xref": "x",
          "y": 1,
          "yref": "y"
         },
         {
          "showarrow": false,
          "text": "G",
          "x": 141,
          "xref": "x",
          "y": 1,
          "yref": "y"
         },
         {
          "showarrow": false,
          "text": "Q",
          "x": 142,
          "xref": "x",
          "y": 1,
          "yref": "y"
         },
         {
          "showarrow": false,
          "text": "A",
          "x": 143,
          "xref": "x",
          "y": 1,
          "yref": "y"
         },
         {
          "showarrow": false,
          "text": "-",
          "x": 144,
          "xref": "x",
          "y": 1,
          "yref": "y"
         },
         {
          "showarrow": false,
          "text": "-",
          "x": 145,
          "xref": "x",
          "y": 1,
          "yref": "y"
         },
         {
          "showarrow": false,
          "text": "P",
          "x": 146,
          "xref": "x",
          "y": 1,
          "yref": "y"
         },
         {
          "showarrow": false,
          "text": "D",
          "x": 147,
          "xref": "x",
          "y": 1,
          "yref": "y"
         },
         {
          "showarrow": false,
          "text": "L",
          "x": 148,
          "xref": "x",
          "y": 1,
          "yref": "y"
         },
         {
          "showarrow": false,
          "text": "-",
          "x": 149,
          "xref": "x",
          "y": 1,
          "yref": "y"
         },
         {
          "showarrow": false,
          "text": "-",
          "x": 150,
          "xref": "x",
          "y": 1,
          "yref": "y"
         },
         {
          "showarrow": false,
          "text": "-",
          "x": 151,
          "xref": "x",
          "y": 1,
          "yref": "y"
         },
         {
          "showarrow": false,
          "text": "-",
          "x": 152,
          "xref": "x",
          "y": 1,
          "yref": "y"
         },
         {
          "showarrow": false,
          "text": "G",
          "x": 153,
          "xref": "x",
          "y": 1,
          "yref": "y"
         },
         {
          "showarrow": false,
          "text": "T",
          "x": 154,
          "xref": "x",
          "y": 1,
          "yref": "y"
         },
         {
          "showarrow": false,
          "text": "S",
          "x": 155,
          "xref": "x",
          "y": 1,
          "yref": "y"
         },
         {
          "showarrow": false,
          "text": "-",
          "x": 156,
          "xref": "x",
          "y": 1,
          "yref": "y"
         },
         {
          "showarrow": false,
          "text": "-",
          "x": 157,
          "xref": "x",
          "y": 1,
          "yref": "y"
         },
         {
          "showarrow": false,
          "text": "-",
          "x": 158,
          "xref": "x",
          "y": 1,
          "yref": "y"
         },
         {
          "showarrow": false,
          "text": "D",
          "x": 159,
          "xref": "x",
          "y": 1,
          "yref": "y"
         },
         {
          "showarrow": false,
          "text": "W",
          "x": 160,
          "xref": "x",
          "y": 1,
          "yref": "y"
         },
         {
          "showarrow": false,
          "text": "T",
          "x": 161,
          "xref": "x",
          "y": 1,
          "yref": "y"
         },
         {
          "showarrow": false,
          "text": "R",
          "x": 162,
          "xref": "x",
          "y": 1,
          "yref": "y"
         },
         {
          "showarrow": false,
          "text": "-",
          "x": 163,
          "xref": "x",
          "y": 1,
          "yref": "y"
         },
         {
          "showarrow": false,
          "text": "Q",
          "x": 164,
          "xref": "x",
          "y": 1,
          "yref": "y"
         },
         {
          "showarrow": false,
          "text": "Q",
          "x": 165,
          "xref": "x",
          "y": 1,
          "yref": "y"
         },
         {
          "showarrow": false,
          "text": "V",
          "x": 166,
          "xref": "x",
          "y": 1,
          "yref": "y"
         },
         {
          "showarrow": false,
          "text": "S",
          "x": 167,
          "xref": "x",
          "y": 1,
          "yref": "y"
         },
         {
          "showarrow": false,
          "text": "S",
          "x": 168,
          "xref": "x",
          "y": 1,
          "yref": "y"
         },
         {
          "showarrow": false,
          "text": "M",
          "x": 169,
          "xref": "x",
          "y": 1,
          "yref": "y"
         },
         {
          "showarrow": false,
          "text": "S",
          "x": 170,
          "xref": "x",
          "y": 1,
          "yref": "y"
         },
         {
          "showarrow": false,
          "text": "G",
          "x": 171,
          "xref": "x",
          "y": 1,
          "yref": "y"
         },
         {
          "showarrow": false,
          "text": "A",
          "x": 172,
          "xref": "x",
          "y": 1,
          "yref": "y"
         },
         {
          "showarrow": false,
          "text": "P",
          "x": 173,
          "xref": "x",
          "y": 1,
          "yref": "y"
         },
         {
          "showarrow": false,
          "text": "L",
          "x": 174,
          "xref": "x",
          "y": 1,
          "yref": "y"
         },
         {
          "showarrow": false,
          "text": "L",
          "x": 175,
          "xref": "x",
          "y": 1,
          "yref": "y"
         },
         {
          "showarrow": false,
          "text": "P",
          "x": 176,
          "xref": "x",
          "y": 1,
          "yref": "y"
         },
         {
          "showarrow": false,
          "text": "Q",
          "x": 177,
          "xref": "x",
          "y": 1,
          "yref": "y"
         },
         {
          "showarrow": false,
          "text": "G",
          "x": 178,
          "xref": "x",
          "y": 1,
          "yref": "y"
         },
         {
          "showarrow": false,
          "text": "L",
          "x": 179,
          "xref": "x",
          "y": 1,
          "yref": "y"
         },
         {
          "showarrow": false,
          "text": "R",
          "x": 180,
          "xref": "x",
          "y": 1,
          "yref": "y"
         },
         {
          "showarrow": false,
          "text": "E",
          "x": 181,
          "xref": "x",
          "y": 1,
          "yref": "y"
         },
         {
          "showarrow": false,
          "text": "A",
          "x": 182,
          "xref": "x",
          "y": 1,
          "yref": "y"
         },
         {
          "showarrow": false,
          "text": "T",
          "x": 183,
          "xref": "x",
          "y": 1,
          "yref": "y"
         },
         {
          "showarrow": false,
          "text": "C",
          "x": 184,
          "xref": "x",
          "y": 1,
          "yref": "y"
         },
         {
          "showarrow": false,
          "text": "Q",
          "x": 185,
          "xref": "x",
          "y": 1,
          "yref": "y"
         },
         {
          "showarrow": false,
          "text": "P",
          "x": 186,
          "xref": "x",
          "y": 1,
          "yref": "y"
         },
         {
          "showarrow": false,
          "text": "S",
          "x": 187,
          "xref": "x",
          "y": 1,
          "yref": "y"
         },
         {
          "showarrow": false,
          "text": "G",
          "x": 188,
          "xref": "x",
          "y": 1,
          "yref": "y"
         },
         {
          "showarrow": false,
          "text": "T",
          "x": 189,
          "xref": "x",
          "y": 1,
          "yref": "y"
         },
         {
          "showarrow": false,
          "text": "R",
          "x": 190,
          "xref": "x",
          "y": 1,
          "yref": "y"
         },
         {
          "showarrow": false,
          "text": "P",
          "x": 191,
          "xref": "x",
          "y": 1,
          "yref": "y"
         },
         {
          "showarrow": false,
          "text": "E",
          "x": 192,
          "xref": "x",
          "y": 1,
          "yref": "y"
         },
         {
          "showarrow": false,
          "text": "D",
          "x": 193,
          "xref": "x",
          "y": 1,
          "yref": "y"
         },
         {
          "showarrow": false,
          "text": "I",
          "x": 194,
          "xref": "x",
          "y": 1,
          "yref": "y"
         },
         {
          "showarrow": false,
          "text": "E",
          "x": 195,
          "xref": "x",
          "y": 1,
          "yref": "y"
         },
         {
          "showarrow": false,
          "text": "-",
          "x": 196,
          "xref": "x",
          "y": 1,
          "yref": "y"
         },
         {
          "showarrow": false,
          "text": "K",
          "x": 197,
          "xref": "x",
          "y": 1,
          "yref": "y"
         },
         {
          "showarrow": false,
          "text": "-",
          "x": 198,
          "xref": "x",
          "y": 1,
          "yref": "y"
         },
         {
          "showarrow": false,
          "text": "S",
          "x": 199,
          "xref": "x",
          "y": 1,
          "yref": "y"
         },
         {
          "showarrow": false,
          "text": "-",
          "x": 200,
          "xref": "x",
          "y": 1,
          "yref": "y"
         },
         {
          "showarrow": false,
          "text": "H",
          "x": 201,
          "xref": "x",
          "y": 1,
          "yref": "y"
         },
         {
          "showarrow": false,
          "text": "P",
          "x": 202,
          "xref": "x",
          "y": 1,
          "yref": "y"
         },
         {
          "showarrow": false,
          "text": "A",
          "x": 203,
          "xref": "x",
          "y": 1,
          "yref": "y"
         },
         {
          "showarrow": false,
          "text": "S",
          "x": 204,
          "xref": "x",
          "y": 1,
          "yref": "y"
         },
         {
          "showarrow": false,
          "text": "E",
          "x": 205,
          "xref": "x",
          "y": 1,
          "yref": "y"
         },
         {
          "showarrow": false,
          "text": "L",
          "x": 206,
          "xref": "x",
          "y": 1,
          "yref": "y"
         },
         {
          "showarrow": false,
          "text": "L",
          "x": 207,
          "xref": "x",
          "y": 1,
          "yref": "y"
         },
         {
          "showarrow": false,
          "text": "R",
          "x": 208,
          "xref": "x",
          "y": 1,
          "yref": "y"
         },
         {
          "showarrow": false,
          "text": "R",
          "x": 209,
          "xref": "x",
          "y": 1,
          "yref": "y"
         },
         {
          "showarrow": false,
          "text": "-",
          "x": 210,
          "xref": "x",
          "y": 1,
          "yref": "y"
         },
         {
          "showarrow": false,
          "text": "-",
          "x": 211,
          "xref": "x",
          "y": 1,
          "yref": "y"
         },
         {
          "showarrow": false,
          "text": "-",
          "x": 212,
          "xref": "x",
          "y": 1,
          "yref": "y"
         },
         {
          "showarrow": false,
          "text": "G",
          "x": 213,
          "xref": "x",
          "y": 1,
          "yref": "y"
         },
         {
          "showarrow": false,
          "text": "-",
          "x": 214,
          "xref": "x",
          "y": 1,
          "yref": "y"
         },
         {
          "showarrow": false,
          "text": "-",
          "x": 215,
          "xref": "x",
          "y": 1,
          "yref": "y"
         },
         {
          "showarrow": false,
          "text": "-",
          "x": 216,
          "xref": "x",
          "y": 1,
          "yref": "y"
         },
         {
          "showarrow": false,
          "text": "-",
          "x": 217,
          "xref": "x",
          "y": 1,
          "yref": "y"
         },
         {
          "showarrow": false,
          "text": "-",
          "x": 218,
          "xref": "x",
          "y": 1,
          "yref": "y"
         },
         {
          "showarrow": false,
          "text": "-",
          "x": 219,
          "xref": "x",
          "y": 1,
          "yref": "y"
         },
         {
          "showarrow": false,
          "text": "P",
          "x": 220,
          "xref": "x",
          "y": 1,
          "yref": "y"
         },
         {
          "showarrow": false,
          "text": "P",
          "x": 221,
          "xref": "x",
          "y": 1,
          "yref": "y"
         },
         {
          "showarrow": false,
          "text": "Q",
          "x": 222,
          "xref": "x",
          "y": 1,
          "yref": "y"
         },
         {
          "showarrow": false,
          "text": "K",
          "x": 223,
          "xref": "x",
          "y": 1,
          "yref": "y"
         },
         {
          "showarrow": false,
          "text": "E",
          "x": 224,
          "xref": "x",
          "y": 1,
          "yref": "y"
         },
         {
          "showarrow": false,
          "text": "G",
          "x": 225,
          "xref": "x",
          "y": 1,
          "yref": "y"
         },
         {
          "showarrow": false,
          "text": "W",
          "x": 226,
          "xref": "x",
          "y": 1,
          "yref": "y"
         },
         {
          "showarrow": false,
          "text": "G",
          "x": 227,
          "xref": "x",
          "y": 1,
          "yref": "y"
         },
         {
          "showarrow": false,
          "text": "Q",
          "x": 228,
          "xref": "x",
          "y": 1,
          "yref": "y"
         },
         {
          "showarrow": false,
          "text": "D",
          "x": 229,
          "xref": "x",
          "y": 1,
          "yref": "y"
         },
         {
          "showarrow": false,
          "text": "-",
          "x": 230,
          "xref": "x",
          "y": 1,
          "yref": "y"
         },
         {
          "showarrow": false,
          "text": "R",
          "x": 231,
          "xref": "x",
          "y": 1,
          "yref": "y"
         },
         {
          "showarrow": false,
          "text": "L",
          "x": 232,
          "xref": "x",
          "y": 1,
          "yref": "y"
         },
         {
          "showarrow": false,
          "text": "G",
          "x": 233,
          "xref": "x",
          "y": 1,
          "yref": "y"
         },
         {
          "showarrow": false,
          "text": "S",
          "x": 234,
          "xref": "x",
          "y": 1,
          "yref": "y"
         },
         {
          "showarrow": false,
          "text": "E",
          "x": 235,
          "xref": "x",
          "y": 1,
          "yref": "y"
         },
         {
          "showarrow": false,
          "text": "E",
          "x": 236,
          "xref": "x",
          "y": 1,
          "yref": "y"
         },
         {
          "showarrow": false,
          "text": "E",
          "x": 237,
          "xref": "x",
          "y": 1,
          "yref": "y"
         },
         {
          "showarrow": false,
          "text": "V",
          "x": 238,
          "xref": "x",
          "y": 1,
          "yref": "y"
         },
         {
          "showarrow": false,
          "text": "D",
          "x": 239,
          "xref": "x",
          "y": 1,
          "yref": "y"
         },
         {
          "showarrow": false,
          "text": "E",
          "x": 240,
          "xref": "x",
          "y": 1,
          "yref": "y"
         },
         {
          "showarrow": false,
          "text": "D",
          "x": 241,
          "xref": "x",
          "y": 1,
          "yref": "y"
         },
         {
          "showarrow": false,
          "text": "L",
          "x": 242,
          "xref": "x",
          "y": 1,
          "yref": "y"
         },
         {
          "showarrow": false,
          "text": "T",
          "x": 243,
          "xref": "x",
          "y": 1,
          "yref": "y"
         },
         {
          "showarrow": false,
          "text": "V",
          "x": 244,
          "xref": "x",
          "y": 1,
          "yref": "y"
         },
         {
          "showarrow": false,
          "text": "D",
          "x": 245,
          "xref": "x",
          "y": 1,
          "yref": "y"
         },
         {
          "showarrow": false,
          "text": "E",
          "x": 246,
          "xref": "x",
          "y": 1,
          "yref": "y"
         },
         {
          "showarrow": false,
          "text": "S",
          "x": 247,
          "xref": "x",
          "y": 1,
          "yref": "y"
         },
         {
          "showarrow": false,
          "text": "S",
          "x": 248,
          "xref": "x",
          "y": 1,
          "yref": "y"
         },
         {
          "showarrow": false,
          "text": "-",
          "x": 249,
          "xref": "x",
          "y": 1,
          "yref": "y"
         },
         {
          "showarrow": false,
          "text": "Q",
          "x": 250,
          "xref": "x",
          "y": 1,
          "yref": "y"
         },
         {
          "showarrow": false,
          "text": "D",
          "x": 251,
          "xref": "x",
          "y": 1,
          "yref": "y"
         },
         {
          "showarrow": false,
          "text": "S",
          "x": 252,
          "xref": "x",
          "y": 1,
          "yref": "y"
         },
         {
          "showarrow": false,
          "text": "P",
          "x": 253,
          "xref": "x",
          "y": 1,
          "yref": "y"
         },
         {
          "showarrow": false,
          "text": "P",
          "x": 254,
          "xref": "x",
          "y": 1,
          "yref": "y"
         },
         {
          "showarrow": false,
          "text": "S",
          "x": 255,
          "xref": "x",
          "y": 1,
          "yref": "y"
         },
         {
          "showarrow": false,
          "text": "Q",
          "x": 256,
          "xref": "x",
          "y": 1,
          "yref": "y"
         },
         {
          "showarrow": false,
          "text": "A",
          "x": 257,
          "xref": "x",
          "y": 1,
          "yref": "y"
         },
         {
          "showarrow": false,
          "text": "S",
          "x": 258,
          "xref": "x",
          "y": 1,
          "yref": "y"
         },
         {
          "showarrow": false,
          "text": "L",
          "x": 259,
          "xref": "x",
          "y": 1,
          "yref": "y"
         },
         {
          "showarrow": false,
          "text": "T",
          "x": 260,
          "xref": "x",
          "y": 1,
          "yref": "y"
         },
         {
          "showarrow": false,
          "text": "-",
          "x": 261,
          "xref": "x",
          "y": 1,
          "yref": "y"
         },
         {
          "showarrow": false,
          "text": "P",
          "x": 262,
          "xref": "x",
          "y": 1,
          "yref": "y"
         },
         {
          "showarrow": false,
          "text": "-",
          "x": 263,
          "xref": "x",
          "y": 1,
          "yref": "y"
         },
         {
          "showarrow": false,
          "text": "-",
          "x": 264,
          "xref": "x",
          "y": 1,
          "yref": "y"
         },
         {
          "showarrow": false,
          "text": "-",
          "x": 265,
          "xref": "x",
          "y": 1,
          "yref": "y"
         },
         {
          "showarrow": false,
          "text": "-",
          "x": 266,
          "xref": "x",
          "y": 1,
          "yref": "y"
         },
         {
          "showarrow": false,
          "text": "-",
          "x": 267,
          "xref": "x",
          "y": 1,
          "yref": "y"
         },
         {
          "showarrow": false,
          "text": "-",
          "x": 268,
          "xref": "x",
          "y": 1,
          "yref": "y"
         },
         {
          "showarrow": false,
          "text": "-",
          "x": 269,
          "xref": "x",
          "y": 1,
          "yref": "y"
         },
         {
          "showarrow": false,
          "text": "G",
          "x": 270,
          "xref": "x",
          "y": 1,
          "yref": "y"
         },
         {
          "showarrow": false,
          "text": "R",
          "x": 271,
          "xref": "x",
          "y": 1,
          "yref": "y"
         },
         {
          "showarrow": false,
          "text": "-",
          "x": 272,
          "xref": "x",
          "y": 1,
          "yref": "y"
         },
         {
          "showarrow": false,
          "text": "-",
          "x": 273,
          "xref": "x",
          "y": 1,
          "yref": "y"
         },
         {
          "showarrow": false,
          "text": "-",
          "x": 274,
          "xref": "x",
          "y": 1,
          "yref": "y"
         },
         {
          "showarrow": false,
          "text": "-",
          "x": 275,
          "xref": "x",
          "y": 1,
          "yref": "y"
         },
         {
          "showarrow": false,
          "text": "A",
          "x": 276,
          "xref": "x",
          "y": 1,
          "yref": "y"
         },
         {
          "showarrow": false,
          "text": "A",
          "x": 277,
          "xref": "x",
          "y": 1,
          "yref": "y"
         },
         {
          "showarrow": false,
          "text": "P",
          "x": 278,
          "xref": "x",
          "y": 1,
          "yref": "y"
         },
         {
          "showarrow": false,
          "text": "Q",
          "x": 279,
          "xref": "x",
          "y": 1,
          "yref": "y"
         },
         {
          "showarrow": false,
          "text": "-",
          "x": 280,
          "xref": "x",
          "y": 1,
          "yref": "y"
         },
         {
          "showarrow": false,
          "text": "A",
          "x": 281,
          "xref": "x",
          "y": 1,
          "yref": "y"
         },
         {
          "showarrow": false,
          "text": "G",
          "x": 282,
          "xref": "x",
          "y": 1,
          "yref": "y"
         },
         {
          "showarrow": false,
          "text": "S",
          "x": 283,
          "xref": "x",
          "y": 1,
          "yref": "y"
         },
         {
          "showarrow": false,
          "text": "G",
          "x": 284,
          "xref": "x",
          "y": 1,
          "yref": "y"
         },
         {
          "showarrow": false,
          "text": "S",
          "x": 285,
          "xref": "x",
          "y": 1,
          "yref": "y"
         },
         {
          "showarrow": false,
          "text": "V",
          "x": 286,
          "xref": "x",
          "y": 1,
          "yref": "y"
         },
         {
          "showarrow": false,
          "text": "C",
          "x": 287,
          "xref": "x",
          "y": 1,
          "yref": "y"
         },
         {
          "showarrow": false,
          "text": "G",
          "x": 288,
          "xref": "x",
          "y": 1,
          "yref": "y"
         },
         {
          "showarrow": false,
          "text": "E",
          "x": 289,
          "xref": "x",
          "y": 1,
          "yref": "y"
         },
         {
          "showarrow": false,
          "text": "T",
          "x": 290,
          "xref": "x",
          "y": 1,
          "yref": "y"
         },
         {
          "showarrow": false,
          "text": "A",
          "x": 291,
          "xref": "x",
          "y": 1,
          "yref": "y"
         },
         {
          "showarrow": false,
          "text": "-",
          "x": 292,
          "xref": "x",
          "y": 1,
          "yref": "y"
         },
         {
          "showarrow": false,
          "text": "S",
          "x": 293,
          "xref": "x",
          "y": 1,
          "yref": "y"
         },
         {
          "showarrow": false,
          "text": "V",
          "x": 294,
          "xref": "x",
          "y": 1,
          "yref": "y"
         },
         {
          "showarrow": false,
          "text": "P",
          "x": 295,
          "xref": "x",
          "y": 1,
          "yref": "y"
         },
         {
          "showarrow": false,
          "text": "G",
          "x": 296,
          "xref": "x",
          "y": 1,
          "yref": "y"
         },
         {
          "showarrow": false,
          "text": "L",
          "x": 297,
          "xref": "x",
          "y": 1,
          "yref": "y"
         },
         {
          "showarrow": false,
          "text": "P",
          "x": 298,
          "xref": "x",
          "y": 1,
          "yref": "y"
         },
         {
          "showarrow": false,
          "text": "T",
          "x": 299,
          "xref": "x",
          "y": 1,
          "yref": "y"
         },
         {
          "showarrow": false,
          "text": "E",
          "x": 300,
          "xref": "x",
          "y": 1,
          "yref": "y"
         },
         {
          "showarrow": false,
          "text": "G",
          "x": 301,
          "xref": "x",
          "y": 1,
          "yref": "y"
         },
         {
          "showarrow": false,
          "text": "S",
          "x": 302,
          "xref": "x",
          "y": 1,
          "yref": "y"
         },
         {
          "showarrow": false,
          "text": "V",
          "x": 303,
          "xref": "x",
          "y": 1,
          "yref": "y"
         },
         {
          "showarrow": false,
          "text": "P",
          "x": 304,
          "xref": "x",
          "y": 1,
          "yref": "y"
         },
         {
          "showarrow": false,
          "text": "L",
          "x": 305,
          "xref": "x",
          "y": 1,
          "yref": "y"
         },
         {
          "showarrow": false,
          "text": "P",
          "x": 306,
          "xref": "x",
          "y": 1,
          "yref": "y"
         },
         {
          "showarrow": false,
          "text": "A",
          "x": 307,
          "xref": "x",
          "y": 1,
          "yref": "y"
         },
         {
          "showarrow": false,
          "text": "D",
          "x": 308,
          "xref": "x",
          "y": 1,
          "yref": "y"
         },
         {
          "showarrow": false,
          "text": "F",
          "x": 309,
          "xref": "x",
          "y": 1,
          "yref": "y"
         },
         {
          "showarrow": false,
          "text": "F",
          "x": 310,
          "xref": "x",
          "y": 1,
          "yref": "y"
         },
         {
          "showarrow": false,
          "text": "S",
          "x": 311,
          "xref": "x",
          "y": 1,
          "yref": "y"
         },
         {
          "showarrow": false,
          "text": "K",
          "x": 312,
          "xref": "x",
          "y": 1,
          "yref": "y"
         },
         {
          "showarrow": false,
          "text": "V",
          "x": 313,
          "xref": "x",
          "y": 1,
          "yref": "y"
         },
         {
          "showarrow": false,
          "text": "S",
          "x": 314,
          "xref": "x",
          "y": 1,
          "yref": "y"
         },
         {
          "showarrow": false,
          "text": "A",
          "x": 315,
          "xref": "x",
          "y": 1,
          "yref": "y"
         },
         {
          "showarrow": false,
          "text": "E",
          "x": 316,
          "xref": "x",
          "y": 1,
          "yref": "y"
         },
         {
          "showarrow": false,
          "text": "T",
          "x": 317,
          "xref": "x",
          "y": 1,
          "yref": "y"
         },
         {
          "showarrow": false,
          "text": "-",
          "x": 318,
          "xref": "x",
          "y": 1,
          "yref": "y"
         },
         {
          "showarrow": false,
          "text": "Q",
          "x": 319,
          "xref": "x",
          "y": 1,
          "yref": "y"
         },
         {
          "showarrow": false,
          "text": "A",
          "x": 320,
          "xref": "x",
          "y": 1,
          "yref": "y"
         },
         {
          "showarrow": false,
          "text": "S",
          "x": 321,
          "xref": "x",
          "y": 1,
          "yref": "y"
         },
         {
          "showarrow": false,
          "text": "Q",
          "x": 322,
          "xref": "x",
          "y": 1,
          "yref": "y"
         },
         {
          "showarrow": false,
          "text": "-",
          "x": 323,
          "xref": "x",
          "y": 1,
          "yref": "y"
         },
         {
          "showarrow": false,
          "text": "P",
          "x": 324,
          "xref": "x",
          "y": 1,
          "yref": "y"
         },
         {
          "showarrow": false,
          "text": "E",
          "x": 325,
          "xref": "x",
          "y": 1,
          "yref": "y"
         },
         {
          "showarrow": false,
          "text": "G",
          "x": 326,
          "xref": "x",
          "y": 1,
          "yref": "y"
         },
         {
          "showarrow": false,
          "text": "P",
          "x": 327,
          "xref": "x",
          "y": 1,
          "yref": "y"
         },
         {
          "showarrow": false,
          "text": "G",
          "x": 328,
          "xref": "x",
          "y": 1,
          "yref": "y"
         },
         {
          "showarrow": false,
          "text": "T",
          "x": 329,
          "xref": "x",
          "y": 1,
          "yref": "y"
         },
         {
          "showarrow": false,
          "text": "G",
          "x": 330,
          "xref": "x",
          "y": 1,
          "yref": "y"
         },
         {
          "showarrow": false,
          "text": "P",
          "x": 331,
          "xref": "x",
          "y": 1,
          "yref": "y"
         },
         {
          "showarrow": false,
          "text": "M",
          "x": 332,
          "xref": "x",
          "y": 1,
          "yref": "y"
         },
         {
          "showarrow": false,
          "text": "E",
          "x": 333,
          "xref": "x",
          "y": 1,
          "yref": "y"
         },
         {
          "showarrow": false,
          "text": "E",
          "x": 334,
          "xref": "x",
          "y": 1,
          "yref": "y"
         },
         {
          "showarrow": false,
          "text": "G",
          "x": 335,
          "xref": "x",
          "y": 1,
          "yref": "y"
         },
         {
          "showarrow": false,
          "text": "H",
          "x": 336,
          "xref": "x",
          "y": 1,
          "yref": "y"
         },
         {
          "showarrow": false,
          "text": "E",
          "x": 337,
          "xref": "x",
          "y": 1,
          "yref": "y"
         },
         {
          "showarrow": false,
          "text": "A",
          "x": 338,
          "xref": "x",
          "y": 1,
          "yref": "y"
         },
         {
          "showarrow": false,
          "text": "A",
          "x": 339,
          "xref": "x",
          "y": 1,
          "yref": "y"
         },
         {
          "showarrow": false,
          "text": "P",
          "x": 340,
          "xref": "x",
          "y": 1,
          "yref": "y"
         },
         {
          "showarrow": false,
          "text": "-",
          "x": 341,
          "xref": "x",
          "y": 1,
          "yref": "y"
         },
         {
          "showarrow": false,
          "text": "E",
          "x": 342,
          "xref": "x",
          "y": 1,
          "yref": "y"
         },
         {
          "showarrow": false,
          "text": "F",
          "x": 343,
          "xref": "x",
          "y": 1,
          "yref": "y"
         },
         {
          "showarrow": false,
          "text": "T",
          "x": 344,
          "xref": "x",
          "y": 1,
          "yref": "y"
         },
         {
          "showarrow": false,
          "text": "F",
          "x": 345,
          "xref": "x",
          "y": 1,
          "yref": "y"
         },
         {
          "showarrow": false,
          "text": "H",
          "x": 346,
          "xref": "x",
          "y": 1,
          "yref": "y"
         },
         {
          "showarrow": false,
          "text": "V",
          "x": 347,
          "xref": "x",
          "y": 1,
          "yref": "y"
         },
         {
          "showarrow": false,
          "text": "E",
          "x": 348,
          "xref": "x",
          "y": 1,
          "yref": "y"
         },
         {
          "showarrow": false,
          "text": "I",
          "x": 349,
          "xref": "x",
          "y": 1,
          "yref": "y"
         },
         {
          "showarrow": false,
          "text": "K",
          "x": 350,
          "xref": "x",
          "y": 1,
          "yref": "y"
         },
         {
          "showarrow": false,
          "text": "A",
          "x": 351,
          "xref": "x",
          "y": 1,
          "yref": "y"
         },
         {
          "showarrow": false,
          "text": "S",
          "x": 352,
          "xref": "x",
          "y": 1,
          "yref": "y"
         },
         {
          "showarrow": false,
          "text": "T",
          "x": 353,
          "xref": "x",
          "y": 1,
          "yref": "y"
         },
         {
          "showarrow": false,
          "text": "P",
          "x": 354,
          "xref": "x",
          "y": 1,
          "yref": "y"
         },
         {
          "showarrow": false,
          "text": "-",
          "x": 355,
          "xref": "x",
          "y": 1,
          "yref": "y"
         },
         {
          "showarrow": false,
          "text": "-",
          "x": 356,
          "xref": "x",
          "y": 1,
          "yref": "y"
         },
         {
          "showarrow": false,
          "text": "-",
          "x": 357,
          "xref": "x",
          "y": 1,
          "yref": "y"
         },
         {
          "showarrow": false,
          "text": "K",
          "x": 358,
          "xref": "x",
          "y": 1,
          "yref": "y"
         },
         {
          "showarrow": false,
          "text": "E",
          "x": 359,
          "xref": "x",
          "y": 1,
          "yref": "y"
         },
         {
          "showarrow": false,
          "text": "Q",
          "x": 360,
          "xref": "x",
          "y": 1,
          "yref": "y"
         },
         {
          "showarrow": false,
          "text": "D",
          "x": 361,
          "xref": "x",
          "y": 1,
          "yref": "y"
         },
         {
          "showarrow": false,
          "text": "L",
          "x": 362,
          "xref": "x",
          "y": 1,
          "yref": "y"
         },
         {
          "showarrow": false,
          "text": "-",
          "x": 363,
          "xref": "x",
          "y": 1,
          "yref": "y"
         },
         {
          "showarrow": false,
          "text": "-",
          "x": 364,
          "xref": "x",
          "y": 1,
          "yref": "y"
         },
         {
          "showarrow": false,
          "text": "-",
          "x": 365,
          "xref": "x",
          "y": 1,
          "yref": "y"
         },
         {
          "showarrow": false,
          "text": "E",
          "x": 366,
          "xref": "x",
          "y": 1,
          "yref": "y"
         },
         {
          "showarrow": false,
          "text": "-",
          "x": 367,
          "xref": "x",
          "y": 1,
          "yref": "y"
         },
         {
          "showarrow": false,
          "text": "-",
          "x": 368,
          "xref": "x",
          "y": 1,
          "yref": "y"
         },
         {
          "showarrow": false,
          "text": "-",
          "x": 369,
          "xref": "x",
          "y": 1,
          "yref": "y"
         },
         {
          "showarrow": false,
          "text": "G",
          "x": 370,
          "xref": "x",
          "y": 1,
          "yref": "y"
         },
         {
          "showarrow": false,
          "text": "-",
          "x": 371,
          "xref": "x",
          "y": 1,
          "yref": "y"
         },
         {
          "showarrow": false,
          "text": "A",
          "x": 372,
          "xref": "x",
          "y": 1,
          "yref": "y"
         },
         {
          "showarrow": false,
          "text": "T",
          "x": 373,
          "xref": "x",
          "y": 1,
          "yref": "y"
         },
         {
          "showarrow": false,
          "text": "V",
          "x": 374,
          "xref": "x",
          "y": 1,
          "yref": "y"
         },
         {
          "showarrow": false,
          "text": "V",
          "x": 375,
          "xref": "x",
          "y": 1,
          "yref": "y"
         },
         {
          "showarrow": false,
          "text": "G",
          "x": 376,
          "xref": "x",
          "y": 1,
          "yref": "y"
         },
         {
          "showarrow": false,
          "text": "V",
          "x": 377,
          "xref": "x",
          "y": 1,
          "yref": "y"
         },
         {
          "showarrow": false,
          "text": "P",
          "x": 378,
          "xref": "x",
          "y": 1,
          "yref": "y"
         },
         {
          "showarrow": false,
          "text": "G",
          "x": 379,
          "xref": "x",
          "y": 1,
          "yref": "y"
         },
         {
          "showarrow": false,
          "text": "E",
          "x": 380,
          "xref": "x",
          "y": 1,
          "yref": "y"
         },
         {
          "showarrow": false,
          "text": "-",
          "x": 381,
          "xref": "x",
          "y": 1,
          "yref": "y"
         },
         {
          "showarrow": false,
          "text": "-",
          "x": 382,
          "xref": "x",
          "y": 1,
          "yref": "y"
         },
         {
          "showarrow": false,
          "text": "E",
          "x": 383,
          "xref": "x",
          "y": 1,
          "yref": "y"
         },
         {
          "showarrow": false,
          "text": "Q",
          "x": 384,
          "xref": "x",
          "y": 1,
          "yref": "y"
         },
         {
          "showarrow": false,
          "text": "K",
          "x": 385,
          "xref": "x",
          "y": 1,
          "yref": "y"
         },
         {
          "showarrow": false,
          "text": "A",
          "x": 386,
          "xref": "x",
          "y": 1,
          "yref": "y"
         },
         {
          "showarrow": false,
          "text": "Q",
          "x": 387,
          "xref": "x",
          "y": 1,
          "yref": "y"
         },
         {
          "showarrow": false,
          "text": "T",
          "x": 388,
          "xref": "x",
          "y": 1,
          "yref": "y"
         },
         {
          "showarrow": false,
          "text": "Q",
          "x": 389,
          "xref": "x",
          "y": 1,
          "yref": "y"
         },
         {
          "showarrow": false,
          "text": "G",
          "x": 390,
          "xref": "x",
          "y": 1,
          "yref": "y"
         },
         {
          "showarrow": false,
          "text": "-",
          "x": 391,
          "xref": "x",
          "y": 1,
          "yref": "y"
         },
         {
          "showarrow": false,
          "text": "P",
          "x": 392,
          "xref": "x",
          "y": 1,
          "yref": "y"
         },
         {
          "showarrow": false,
          "text": "S",
          "x": 393,
          "xref": "x",
          "y": 1,
          "yref": "y"
         },
         {
          "showarrow": false,
          "text": "V",
          "x": 394,
          "xref": "x",
          "y": 1,
          "yref": "y"
         },
         {
          "showarrow": false,
          "text": "G",
          "x": 395,
          "xref": "x",
          "y": 1,
          "yref": "y"
         },
         {
          "showarrow": false,
          "text": "K",
          "x": 396,
          "xref": "x",
          "y": 1,
          "yref": "y"
         },
         {
          "showarrow": false,
          "text": "G",
          "x": 397,
          "xref": "x",
          "y": 1,
          "yref": "y"
         },
         {
          "showarrow": false,
          "text": "T",
          "x": 398,
          "xref": "x",
          "y": 1,
          "yref": "y"
         },
         {
          "showarrow": false,
          "text": "K",
          "x": 399,
          "xref": "x",
          "y": 1,
          "yref": "y"
         },
         {
          "showarrow": false,
          "text": "E",
          "x": 400,
          "xref": "x",
          "y": 1,
          "yref": "y"
         },
         {
          "showarrow": false,
          "text": "A",
          "x": 401,
          "xref": "x",
          "y": 1,
          "yref": "y"
         },
         {
          "showarrow": false,
          "text": "S",
          "x": 402,
          "xref": "x",
          "y": 1,
          "yref": "y"
         },
         {
          "showarrow": false,
          "text": "L",
          "x": 403,
          "xref": "x",
          "y": 1,
          "yref": "y"
         },
         {
          "showarrow": false,
          "text": "Q",
          "x": 404,
          "xref": "x",
          "y": 1,
          "yref": "y"
         },
         {
          "showarrow": false,
          "text": "E",
          "x": 405,
          "xref": "x",
          "y": 1,
          "yref": "y"
         },
         {
          "showarrow": false,
          "text": "P",
          "x": 406,
          "xref": "x",
          "y": 1,
          "yref": "y"
         },
         {
          "showarrow": false,
          "text": "P",
          "x": 407,
          "xref": "x",
          "y": 1,
          "yref": "y"
         },
         {
          "showarrow": false,
          "text": "G",
          "x": 408,
          "xref": "x",
          "y": 1,
          "yref": "y"
         },
         {
          "showarrow": false,
          "text": "K",
          "x": 409,
          "xref": "x",
          "y": 1,
          "yref": "y"
         },
         {
          "showarrow": false,
          "text": "Q",
          "x": 410,
          "xref": "x",
          "y": 1,
          "yref": "y"
         },
         {
          "showarrow": false,
          "text": "-",
          "x": 411,
          "xref": "x",
          "y": 1,
          "yref": "y"
         },
         {
          "showarrow": false,
          "text": "P",
          "x": 412,
          "xref": "x",
          "y": 1,
          "yref": "y"
         },
         {
          "showarrow": false,
          "text": "A",
          "x": 413,
          "xref": "x",
          "y": 1,
          "yref": "y"
         },
         {
          "showarrow": false,
          "text": "A",
          "x": 414,
          "xref": "x",
          "y": 1,
          "yref": "y"
         },
         {
          "showarrow": false,
          "text": "G",
          "x": 415,
          "xref": "x",
          "y": 1,
          "yref": "y"
         },
         {
          "showarrow": false,
          "text": "L",
          "x": 416,
          "xref": "x",
          "y": 1,
          "yref": "y"
         },
         {
          "showarrow": false,
          "text": "P",
          "x": 417,
          "xref": "x",
          "y": 1,
          "yref": "y"
         },
         {
          "showarrow": false,
          "text": "-",
          "x": 418,
          "xref": "x",
          "y": 1,
          "yref": "y"
         },
         {
          "showarrow": false,
          "text": "G",
          "x": 419,
          "xref": "x",
          "y": 1,
          "yref": "y"
         },
         {
          "showarrow": false,
          "text": "R",
          "x": 420,
          "xref": "x",
          "y": 1,
          "yref": "y"
         },
         {
          "showarrow": false,
          "text": "P",
          "x": 421,
          "xref": "x",
          "y": 1,
          "yref": "y"
         },
         {
          "showarrow": false,
          "text": "V",
          "x": 422,
          "xref": "x",
          "y": 1,
          "yref": "y"
         },
         {
          "showarrow": false,
          "text": "S",
          "x": 423,
          "xref": "x",
          "y": 1,
          "yref": "y"
         },
         {
          "showarrow": false,
          "text": "R",
          "x": 424,
          "xref": "x",
          "y": 1,
          "yref": "y"
         },
         {
          "showarrow": false,
          "text": "V",
          "x": 425,
          "xref": "x",
          "y": 1,
          "yref": "y"
         },
         {
          "showarrow": false,
          "text": "P",
          "x": 426,
          "xref": "x",
          "y": 1,
          "yref": "y"
         },
         {
          "showarrow": false,
          "text": "Q",
          "x": 427,
          "xref": "x",
          "y": 1,
          "yref": "y"
         },
         {
          "showarrow": false,
          "text": "L",
          "x": 428,
          "xref": "x",
          "y": 1,
          "yref": "y"
         },
         {
          "showarrow": false,
          "text": "K",
          "x": 429,
          "xref": "x",
          "y": 1,
          "yref": "y"
         },
         {
          "showarrow": false,
          "text": "A",
          "x": 430,
          "xref": "x",
          "y": 1,
          "yref": "y"
         },
         {
          "showarrow": false,
          "text": "R",
          "x": 431,
          "xref": "x",
          "y": 1,
          "yref": "y"
         },
         {
          "showarrow": false,
          "text": "-",
          "x": 432,
          "xref": "x",
          "y": 1,
          "yref": "y"
         },
         {
          "showarrow": false,
          "text": "V",
          "x": 433,
          "xref": "x",
          "y": 1,
          "yref": "y"
         },
         {
          "showarrow": false,
          "text": "A",
          "x": 434,
          "xref": "x",
          "y": 1,
          "yref": "y"
         },
         {
          "showarrow": false,
          "text": "-",
          "x": 435,
          "xref": "x",
          "y": 1,
          "yref": "y"
         },
         {
          "showarrow": false,
          "text": "S",
          "x": 436,
          "xref": "x",
          "y": 1,
          "yref": "y"
         },
         {
          "showarrow": false,
          "text": "K",
          "x": 437,
          "xref": "x",
          "y": 1,
          "yref": "y"
         },
         {
          "showarrow": false,
          "text": "D",
          "x": 438,
          "xref": "x",
          "y": 1,
          "yref": "y"
         },
         {
          "showarrow": false,
          "text": "R",
          "x": 439,
          "xref": "x",
          "y": 1,
          "yref": "y"
         },
         {
          "showarrow": false,
          "text": "T",
          "x": 440,
          "xref": "x",
          "y": 1,
          "yref": "y"
         },
         {
          "showarrow": false,
          "text": "G",
          "x": 441,
          "xref": "x",
          "y": 1,
          "yref": "y"
         },
         {
          "showarrow": false,
          "text": "N",
          "x": 442,
          "xref": "x",
          "y": 1,
          "yref": "y"
         },
         {
          "showarrow": false,
          "text": "D",
          "x": 443,
          "xref": "x",
          "y": 1,
          "yref": "y"
         },
         {
          "showarrow": false,
          "text": "E",
          "x": 444,
          "xref": "x",
          "y": 1,
          "yref": "y"
         },
         {
          "showarrow": false,
          "text": "K",
          "x": 445,
          "xref": "x",
          "y": 1,
          "yref": "y"
         },
         {
          "showarrow": false,
          "text": "K",
          "x": 446,
          "xref": "x",
          "y": 1,
          "yref": "y"
         },
         {
          "showarrow": false,
          "text": "A",
          "x": 447,
          "xref": "x",
          "y": 1,
          "yref": "y"
         },
         {
          "showarrow": false,
          "text": "K",
          "x": 448,
          "xref": "x",
          "y": 1,
          "yref": "y"
         },
         {
          "showarrow": false,
          "text": "T",
          "x": 449,
          "xref": "x",
          "y": 1,
          "yref": "y"
         },
         {
          "showarrow": false,
          "text": "S",
          "x": 450,
          "xref": "x",
          "y": 1,
          "yref": "y"
         },
         {
          "showarrow": false,
          "text": "T",
          "x": 451,
          "xref": "x",
          "y": 1,
          "yref": "y"
         },
         {
          "showarrow": false,
          "text": "P",
          "x": 452,
          "xref": "x",
          "y": 1,
          "yref": "y"
         },
         {
          "showarrow": false,
          "text": "S",
          "x": 453,
          "xref": "x",
          "y": 1,
          "yref": "y"
         },
         {
          "showarrow": false,
          "text": "C",
          "x": 454,
          "xref": "x",
          "y": 1,
          "yref": "y"
         },
         {
          "showarrow": false,
          "text": "A",
          "x": 455,
          "xref": "x",
          "y": 1,
          "yref": "y"
         },
         {
          "showarrow": false,
          "text": "K",
          "x": 456,
          "xref": "x",
          "y": 1,
          "yref": "y"
         },
         {
          "showarrow": false,
          "text": "A",
          "x": 457,
          "xref": "x",
          "y": 1,
          "yref": "y"
         },
         {
          "showarrow": false,
          "text": "P",
          "x": 458,
          "xref": "x",
          "y": 1,
          "yref": "y"
         },
         {
          "showarrow": false,
          "text": "S",
          "x": 459,
          "xref": "x",
          "y": 1,
          "yref": "y"
         },
         {
          "showarrow": false,
          "text": "H",
          "x": 460,
          "xref": "x",
          "y": 1,
          "yref": "y"
         },
         {
          "showarrow": false,
          "text": "R",
          "x": 461,
          "xref": "x",
          "y": 1,
          "yref": "y"
         },
         {
          "showarrow": false,
          "text": "P",
          "x": 462,
          "xref": "x",
          "y": 1,
          "yref": "y"
         },
         {
          "showarrow": false,
          "text": "C",
          "x": 463,
          "xref": "x",
          "y": 1,
          "yref": "y"
         },
         {
          "showarrow": false,
          "text": "L",
          "x": 464,
          "xref": "x",
          "y": 1,
          "yref": "y"
         },
         {
          "showarrow": false,
          "text": "S",
          "x": 465,
          "xref": "x",
          "y": 1,
          "yref": "y"
         },
         {
          "showarrow": false,
          "text": "P",
          "x": 466,
          "xref": "x",
          "y": 1,
          "yref": "y"
         },
         {
          "showarrow": false,
          "text": "T",
          "x": 467,
          "xref": "x",
          "y": 1,
          "yref": "y"
         },
         {
          "showarrow": false,
          "text": "R",
          "x": 468,
          "xref": "x",
          "y": 1,
          "yref": "y"
         },
         {
          "showarrow": false,
          "text": "P",
          "x": 469,
          "xref": "x",
          "y": 1,
          "yref": "y"
         },
         {
          "showarrow": false,
          "text": "T",
          "x": 470,
          "xref": "x",
          "y": 1,
          "yref": "y"
         },
         {
          "showarrow": false,
          "text": "L",
          "x": 471,
          "xref": "x",
          "y": 1,
          "yref": "y"
         },
         {
          "showarrow": false,
          "text": "G",
          "x": 472,
          "xref": "x",
          "y": 1,
          "yref": "y"
         },
         {
          "showarrow": false,
          "text": "S",
          "x": 473,
          "xref": "x",
          "y": 1,
          "yref": "y"
         },
         {
          "showarrow": false,
          "text": "S",
          "x": 474,
          "xref": "x",
          "y": 1,
          "yref": "y"
         },
         {
          "showarrow": false,
          "text": "D",
          "x": 475,
          "xref": "x",
          "y": 1,
          "yref": "y"
         },
         {
          "showarrow": false,
          "text": "P",
          "x": 476,
          "xref": "x",
          "y": 1,
          "yref": "y"
         },
         {
          "showarrow": false,
          "text": "L",
          "x": 477,
          "xref": "x",
          "y": 1,
          "yref": "y"
         },
         {
          "showarrow": false,
          "text": "I",
          "x": 478,
          "xref": "x",
          "y": 1,
          "yref": "y"
         },
         {
          "showarrow": false,
          "text": "K",
          "x": 479,
          "xref": "x",
          "y": 1,
          "yref": "y"
         },
         {
          "showarrow": false,
          "text": "P",
          "x": 480,
          "xref": "x",
          "y": 1,
          "yref": "y"
         },
         {
          "showarrow": false,
          "text": "S",
          "x": 481,
          "xref": "x",
          "y": 1,
          "yref": "y"
         },
         {
          "showarrow": false,
          "text": "S",
          "x": 482,
          "xref": "x",
          "y": 1,
          "yref": "y"
         },
         {
          "showarrow": false,
          "text": "P",
          "x": 483,
          "xref": "x",
          "y": 1,
          "yref": "y"
         },
         {
          "showarrow": false,
          "text": "A",
          "x": 484,
          "xref": "x",
          "y": 1,
          "yref": "y"
         },
         {
          "showarrow": false,
          "text": "V",
          "x": 485,
          "xref": "x",
          "y": 1,
          "yref": "y"
         },
         {
          "showarrow": false,
          "text": "S",
          "x": 486,
          "xref": "x",
          "y": 1,
          "yref": "y"
         },
         {
          "showarrow": false,
          "text": "P",
          "x": 487,
          "xref": "x",
          "y": 1,
          "yref": "y"
         },
         {
          "showarrow": false,
          "text": "E",
          "x": 488,
          "xref": "x",
          "y": 1,
          "yref": "y"
         },
         {
          "showarrow": false,
          "text": "P",
          "x": 489,
          "xref": "x",
          "y": 1,
          "yref": "y"
         },
         {
          "showarrow": false,
          "text": "A",
          "x": 490,
          "xref": "x",
          "y": 1,
          "yref": "y"
         },
         {
          "showarrow": false,
          "text": "T",
          "x": 491,
          "xref": "x",
          "y": 1,
          "yref": "y"
         },
         {
          "showarrow": false,
          "text": "S",
          "x": 492,
          "xref": "x",
          "y": 1,
          "yref": "y"
         },
         {
          "showarrow": false,
          "text": "P",
          "x": 493,
          "xref": "x",
          "y": 1,
          "yref": "y"
         },
         {
          "showarrow": false,
          "text": "K",
          "x": 494,
          "xref": "x",
          "y": 1,
          "yref": "y"
         },
         {
          "showarrow": false,
          "text": "H",
          "x": 495,
          "xref": "x",
          "y": 1,
          "yref": "y"
         },
         {
          "showarrow": false,
          "text": "V",
          "x": 496,
          "xref": "x",
          "y": 1,
          "yref": "y"
         },
         {
          "showarrow": false,
          "text": "-",
          "x": 497,
          "xref": "x",
          "y": 1,
          "yref": "y"
         },
         {
          "showarrow": false,
          "text": "-",
          "x": 498,
          "xref": "x",
          "y": 1,
          "yref": "y"
         },
         {
          "showarrow": false,
          "text": "S",
          "x": 499,
          "xref": "x",
          "y": 1,
          "yref": "y"
         },
         {
          "showarrow": false,
          "text": "S",
          "x": 500,
          "xref": "x",
          "y": 1,
          "yref": "y"
         },
         {
          "showarrow": false,
          "text": "V",
          "x": 501,
          "xref": "x",
          "y": 1,
          "yref": "y"
         },
         {
          "showarrow": false,
          "text": "-",
          "x": 502,
          "xref": "x",
          "y": 1,
          "yref": "y"
         },
         {
          "showarrow": false,
          "text": "-",
          "x": 503,
          "xref": "x",
          "y": 1,
          "yref": "y"
         },
         {
          "showarrow": false,
          "text": "-",
          "x": 504,
          "xref": "x",
          "y": 1,
          "yref": "y"
         },
         {
          "showarrow": false,
          "text": "-",
          "x": 505,
          "xref": "x",
          "y": 1,
          "yref": "y"
         },
         {
          "showarrow": false,
          "text": "-",
          "x": 506,
          "xref": "x",
          "y": 1,
          "yref": "y"
         },
         {
          "showarrow": false,
          "text": "-",
          "x": 507,
          "xref": "x",
          "y": 1,
          "yref": "y"
         },
         {
          "showarrow": false,
          "text": "-",
          "x": 508,
          "xref": "x",
          "y": 1,
          "yref": "y"
         },
         {
          "showarrow": false,
          "text": "-",
          "x": 509,
          "xref": "x",
          "y": 1,
          "yref": "y"
         },
         {
          "showarrow": false,
          "text": "-",
          "x": 510,
          "xref": "x",
          "y": 1,
          "yref": "y"
         },
         {
          "showarrow": false,
          "text": "-",
          "x": 511,
          "xref": "x",
          "y": 1,
          "yref": "y"
         },
         {
          "showarrow": false,
          "text": "-",
          "x": 512,
          "xref": "x",
          "y": 1,
          "yref": "y"
         },
         {
          "showarrow": false,
          "text": "-",
          "x": 513,
          "xref": "x",
          "y": 1,
          "yref": "y"
         },
         {
          "showarrow": false,
          "text": "T",
          "x": 514,
          "xref": "x",
          "y": 1,
          "yref": "y"
         },
         {
          "showarrow": false,
          "text": "-",
          "x": 515,
          "xref": "x",
          "y": 1,
          "yref": "y"
         },
         {
          "showarrow": false,
          "text": "-",
          "x": 516,
          "xref": "x",
          "y": 1,
          "yref": "y"
         },
         {
          "showarrow": false,
          "text": "-",
          "x": 517,
          "xref": "x",
          "y": 1,
          "yref": "y"
         },
         {
          "showarrow": false,
          "text": "P",
          "x": 518,
          "xref": "x",
          "y": 1,
          "yref": "y"
         },
         {
          "showarrow": false,
          "text": "-",
          "x": 519,
          "xref": "x",
          "y": 1,
          "yref": "y"
         },
         {
          "showarrow": false,
          "text": "-",
          "x": 520,
          "xref": "x",
          "y": 1,
          "yref": "y"
         },
         {
          "showarrow": false,
          "text": "-",
          "x": 521,
          "xref": "x",
          "y": 1,
          "yref": "y"
         },
         {
          "showarrow": false,
          "text": "R",
          "x": 522,
          "xref": "x",
          "y": 1,
          "yref": "y"
         },
         {
          "showarrow": false,
          "text": "N",
          "x": 523,
          "xref": "x",
          "y": 1,
          "yref": "y"
         },
         {
          "showarrow": false,
          "text": "G",
          "x": 524,
          "xref": "x",
          "y": 1,
          "yref": "y"
         },
         {
          "showarrow": false,
          "text": "S",
          "x": 525,
          "xref": "x",
          "y": 1,
          "yref": "y"
         },
         {
          "showarrow": false,
          "text": "P",
          "x": 526,
          "xref": "x",
          "y": 1,
          "yref": "y"
         },
         {
          "showarrow": false,
          "text": "G",
          "x": 527,
          "xref": "x",
          "y": 1,
          "yref": "y"
         },
         {
          "showarrow": false,
          "text": "T",
          "x": 528,
          "xref": "x",
          "y": 1,
          "yref": "y"
         },
         {
          "showarrow": false,
          "text": "K",
          "x": 529,
          "xref": "x",
          "y": 1,
          "yref": "y"
         },
         {
          "showarrow": false,
          "text": "Q",
          "x": 530,
          "xref": "x",
          "y": 1,
          "yref": "y"
         },
         {
          "showarrow": false,
          "text": "M",
          "x": 531,
          "xref": "x",
          "y": 1,
          "yref": "y"
         },
         {
          "showarrow": false,
          "text": "K",
          "x": 532,
          "xref": "x",
          "y": 1,
          "yref": "y"
         },
         {
          "showarrow": false,
          "text": "L",
          "x": 533,
          "xref": "x",
          "y": 1,
          "yref": "y"
         },
         {
          "showarrow": false,
          "text": "K",
          "x": 534,
          "xref": "x",
          "y": 1,
          "yref": "y"
         },
         {
          "showarrow": false,
          "text": "G",
          "x": 535,
          "xref": "x",
          "y": 1,
          "yref": "y"
         },
         {
          "showarrow": false,
          "text": "A",
          "x": 536,
          "xref": "x",
          "y": 1,
          "yref": "y"
         },
         {
          "showarrow": false,
          "text": "D",
          "x": 537,
          "xref": "x",
          "y": 1,
          "yref": "y"
         },
         {
          "showarrow": false,
          "text": "G",
          "x": 538,
          "xref": "x",
          "y": 1,
          "yref": "y"
         },
         {
          "showarrow": false,
          "text": "K",
          "x": 539,
          "xref": "x",
          "y": 1,
          "yref": "y"
         },
         {
          "showarrow": false,
          "text": "T",
          "x": 540,
          "xref": "x",
          "y": 1,
          "yref": "y"
         },
         {
          "showarrow": false,
          "text": "G",
          "x": 541,
          "xref": "x",
          "y": 1,
          "yref": "y"
         },
         {
          "showarrow": false,
          "text": "A",
          "x": 542,
          "xref": "x",
          "y": 1,
          "yref": "y"
         },
         {
          "showarrow": false,
          "text": "K",
          "x": 543,
          "xref": "x",
          "y": 1,
          "yref": "y"
         },
         {
          "showarrow": false,
          "text": "I",
          "x": 544,
          "xref": "x",
          "y": 1,
          "yref": "y"
         },
         {
          "showarrow": false,
          "text": "A",
          "x": 545,
          "xref": "x",
          "y": 1,
          "yref": "y"
         },
         {
          "showarrow": false,
          "text": "T",
          "x": 546,
          "xref": "x",
          "y": 1,
          "yref": "y"
         },
         {
          "showarrow": false,
          "text": "P",
          "x": 547,
          "xref": "x",
          "y": 1,
          "yref": "y"
         },
         {
          "showarrow": false,
          "text": "R",
          "x": 548,
          "xref": "x",
          "y": 1,
          "yref": "y"
         },
         {
          "showarrow": false,
          "text": "G",
          "x": 549,
          "xref": "x",
          "y": 1,
          "yref": "y"
         },
         {
          "showarrow": false,
          "text": "A",
          "x": 550,
          "xref": "x",
          "y": 1,
          "yref": "y"
         },
         {
          "showarrow": false,
          "text": "A",
          "x": 551,
          "xref": "x",
          "y": 1,
          "yref": "y"
         },
         {
          "showarrow": false,
          "text": "S",
          "x": 552,
          "xref": "x",
          "y": 1,
          "yref": "y"
         },
         {
          "showarrow": false,
          "text": "P",
          "x": 553,
          "xref": "x",
          "y": 1,
          "yref": "y"
         },
         {
          "showarrow": false,
          "text": "A",
          "x": 554,
          "xref": "x",
          "y": 1,
          "yref": "y"
         },
         {
          "showarrow": false,
          "text": "Q",
          "x": 555,
          "xref": "x",
          "y": 1,
          "yref": "y"
         },
         {
          "showarrow": false,
          "text": "K",
          "x": 556,
          "xref": "x",
          "y": 1,
          "yref": "y"
         },
         {
          "showarrow": false,
          "text": "G",
          "x": 557,
          "xref": "x",
          "y": 1,
          "yref": "y"
         },
         {
          "showarrow": false,
          "text": "T",
          "x": 558,
          "xref": "x",
          "y": 1,
          "yref": "y"
         },
         {
          "showarrow": false,
          "text": "S",
          "x": 559,
          "xref": "x",
          "y": 1,
          "yref": "y"
         },
         {
          "showarrow": false,
          "text": "N",
          "x": 560,
          "xref": "x",
          "y": 1,
          "yref": "y"
         },
         {
          "showarrow": false,
          "text": "A",
          "x": 561,
          "xref": "x",
          "y": 1,
          "yref": "y"
         },
         {
          "showarrow": false,
          "text": "T",
          "x": 562,
          "xref": "x",
          "y": 1,
          "yref": "y"
         },
         {
          "showarrow": false,
          "text": "R",
          "x": 563,
          "xref": "x",
          "y": 1,
          "yref": "y"
         },
         {
          "showarrow": false,
          "text": "I",
          "x": 564,
          "xref": "x",
          "y": 1,
          "yref": "y"
         },
         {
          "showarrow": false,
          "text": "P",
          "x": 565,
          "xref": "x",
          "y": 1,
          "yref": "y"
         },
         {
          "showarrow": false,
          "text": "A",
          "x": 566,
          "xref": "x",
          "y": 1,
          "yref": "y"
         },
         {
          "showarrow": false,
          "text": "K",
          "x": 567,
          "xref": "x",
          "y": 1,
          "yref": "y"
         },
         {
          "showarrow": false,
          "text": "T",
          "x": 568,
          "xref": "x",
          "y": 1,
          "yref": "y"
         },
         {
          "showarrow": false,
          "text": "T",
          "x": 569,
          "xref": "x",
          "y": 1,
          "yref": "y"
         },
         {
          "showarrow": false,
          "text": "P",
          "x": 570,
          "xref": "x",
          "y": 1,
          "yref": "y"
         },
         {
          "showarrow": false,
          "text": "S",
          "x": 571,
          "xref": "x",
          "y": 1,
          "yref": "y"
         },
         {
          "showarrow": false,
          "text": "P",
          "x": 572,
          "xref": "x",
          "y": 1,
          "yref": "y"
         },
         {
          "showarrow": false,
          "text": "K",
          "x": 573,
          "xref": "x",
          "y": 1,
          "yref": "y"
         },
         {
          "showarrow": false,
          "text": "T",
          "x": 574,
          "xref": "x",
          "y": 1,
          "yref": "y"
         },
         {
          "showarrow": false,
          "text": "P",
          "x": 575,
          "xref": "x",
          "y": 1,
          "yref": "y"
         },
         {
          "showarrow": false,
          "text": "P",
          "x": 576,
          "xref": "x",
          "y": 1,
          "yref": "y"
         },
         {
          "showarrow": false,
          "text": "G",
          "x": 577,
          "xref": "x",
          "y": 1,
          "yref": "y"
         },
         {
          "showarrow": false,
          "text": "S",
          "x": 578,
          "xref": "x",
          "y": 1,
          "yref": "y"
         },
         {
          "showarrow": false,
          "text": "G",
          "x": 579,
          "xref": "x",
          "y": 1,
          "yref": "y"
         },
         {
          "showarrow": false,
          "text": "E",
          "x": 580,
          "xref": "x",
          "y": 1,
          "yref": "y"
         },
         {
          "showarrow": false,
          "text": "P",
          "x": 581,
          "xref": "x",
          "y": 1,
          "yref": "y"
         },
         {
          "showarrow": false,
          "text": "P",
          "x": 582,
          "xref": "x",
          "y": 1,
          "yref": "y"
         },
         {
          "showarrow": false,
          "text": "K",
          "x": 583,
          "xref": "x",
          "y": 1,
          "yref": "y"
         },
         {
          "showarrow": false,
          "text": "S",
          "x": 584,
          "xref": "x",
          "y": 1,
          "yref": "y"
         },
         {
          "showarrow": false,
          "text": "G",
          "x": 585,
          "xref": "x",
          "y": 1,
          "yref": "y"
         },
         {
          "showarrow": false,
          "text": "E",
          "x": 586,
          "xref": "x",
          "y": 1,
          "yref": "y"
         },
         {
          "showarrow": false,
          "text": "R",
          "x": 587,
          "xref": "x",
          "y": 1,
          "yref": "y"
         },
         {
          "showarrow": false,
          "text": "S",
          "x": 588,
          "xref": "x",
          "y": 1,
          "yref": "y"
         },
         {
          "showarrow": false,
          "text": "G",
          "x": 589,
          "xref": "x",
          "y": 1,
          "yref": "y"
         },
         {
          "showarrow": false,
          "text": "Y",
          "x": 590,
          "xref": "x",
          "y": 1,
          "yref": "y"
         },
         {
          "showarrow": false,
          "text": "S",
          "x": 591,
          "xref": "x",
          "y": 1,
          "yref": "y"
         },
         {
          "showarrow": false,
          "text": "S",
          "x": 592,
          "xref": "x",
          "y": 1,
          "yref": "y"
         },
         {
          "showarrow": false,
          "text": "P",
          "x": 593,
          "xref": "x",
          "y": 1,
          "yref": "y"
         },
         {
          "showarrow": false,
          "text": "G",
          "x": 594,
          "xref": "x",
          "y": 1,
          "yref": "y"
         },
         {
          "showarrow": false,
          "text": "S",
          "x": 595,
          "xref": "x",
          "y": 1,
          "yref": "y"
         },
         {
          "showarrow": false,
          "text": "P",
          "x": 596,
          "xref": "x",
          "y": 1,
          "yref": "y"
         },
         {
          "showarrow": false,
          "text": "G",
          "x": 597,
          "xref": "x",
          "y": 1,
          "yref": "y"
         },
         {
          "showarrow": false,
          "text": "T",
          "x": 598,
          "xref": "x",
          "y": 1,
          "yref": "y"
         },
         {
          "showarrow": false,
          "text": "P",
          "x": 599,
          "xref": "x",
          "y": 1,
          "yref": "y"
         },
         {
          "showarrow": false,
          "text": "G",
          "x": 600,
          "xref": "x",
          "y": 1,
          "yref": "y"
         },
         {
          "showarrow": false,
          "text": "S",
          "x": 601,
          "xref": "x",
          "y": 1,
          "yref": "y"
         },
         {
          "showarrow": false,
          "text": "R",
          "x": 602,
          "xref": "x",
          "y": 1,
          "yref": "y"
         },
         {
          "showarrow": false,
          "text": "S",
          "x": 603,
          "xref": "x",
          "y": 1,
          "yref": "y"
         },
         {
          "showarrow": false,
          "text": "R",
          "x": 604,
          "xref": "x",
          "y": 1,
          "yref": "y"
         },
         {
          "showarrow": false,
          "text": "-",
          "x": 605,
          "xref": "x",
          "y": 1,
          "yref": "y"
         },
         {
          "showarrow": false,
          "text": "T",
          "x": 606,
          "xref": "x",
          "y": 1,
          "yref": "y"
         },
         {
          "showarrow": false,
          "text": "P",
          "x": 607,
          "xref": "x",
          "y": 1,
          "yref": "y"
         },
         {
          "showarrow": false,
          "text": "S",
          "x": 608,
          "xref": "x",
          "y": 1,
          "yref": "y"
         },
         {
          "showarrow": false,
          "text": "L",
          "x": 609,
          "xref": "x",
          "y": 1,
          "yref": "y"
         },
         {
          "showarrow": false,
          "text": "P",
          "x": 610,
          "xref": "x",
          "y": 1,
          "yref": "y"
         },
         {
          "showarrow": false,
          "text": "T",
          "x": 611,
          "xref": "x",
          "y": 1,
          "yref": "y"
         },
         {
          "showarrow": false,
          "text": "P",
          "x": 612,
          "xref": "x",
          "y": 1,
          "yref": "y"
         },
         {
          "showarrow": false,
          "text": "P",
          "x": 613,
          "xref": "x",
          "y": 1,
          "yref": "y"
         },
         {
          "showarrow": false,
          "text": "T",
          "x": 614,
          "xref": "x",
          "y": 1,
          "yref": "y"
         },
         {
          "showarrow": false,
          "text": "R",
          "x": 615,
          "xref": "x",
          "y": 1,
          "yref": "y"
         },
         {
          "showarrow": false,
          "text": "E",
          "x": 616,
          "xref": "x",
          "y": 1,
          "yref": "y"
         },
         {
          "showarrow": false,
          "text": "P",
          "x": 617,
          "xref": "x",
          "y": 1,
          "yref": "y"
         },
         {
          "showarrow": false,
          "text": "K",
          "x": 618,
          "xref": "x",
          "y": 1,
          "yref": "y"
         },
         {
          "showarrow": false,
          "text": "K",
          "x": 619,
          "xref": "x",
          "y": 1,
          "yref": "y"
         },
         {
          "showarrow": false,
          "text": "V",
          "x": 620,
          "xref": "x",
          "y": 1,
          "yref": "y"
         },
         {
          "showarrow": false,
          "text": "A",
          "x": 621,
          "xref": "x",
          "y": 1,
          "yref": "y"
         },
         {
          "showarrow": false,
          "text": "V",
          "x": 622,
          "xref": "x",
          "y": 1,
          "yref": "y"
         },
         {
          "showarrow": false,
          "text": "V",
          "x": 623,
          "xref": "x",
          "y": 1,
          "yref": "y"
         },
         {
          "showarrow": false,
          "text": "R",
          "x": 624,
          "xref": "x",
          "y": 1,
          "yref": "y"
         },
         {
          "showarrow": false,
          "text": "T",
          "x": 625,
          "xref": "x",
          "y": 1,
          "yref": "y"
         },
         {
          "showarrow": false,
          "text": "P",
          "x": 626,
          "xref": "x",
          "y": 1,
          "yref": "y"
         },
         {
          "showarrow": false,
          "text": "P",
          "x": 627,
          "xref": "x",
          "y": 1,
          "yref": "y"
         },
         {
          "showarrow": false,
          "text": "K",
          "x": 628,
          "xref": "x",
          "y": 1,
          "yref": "y"
         },
         {
          "showarrow": false,
          "text": "S",
          "x": 629,
          "xref": "x",
          "y": 1,
          "yref": "y"
         },
         {
          "showarrow": false,
          "text": "P",
          "x": 630,
          "xref": "x",
          "y": 1,
          "yref": "y"
         },
         {
          "showarrow": false,
          "text": "S",
          "x": 631,
          "xref": "x",
          "y": 1,
          "yref": "y"
         },
         {
          "showarrow": false,
          "text": "A",
          "x": 632,
          "xref": "x",
          "y": 1,
          "yref": "y"
         },
         {
          "showarrow": false,
          "text": "S",
          "x": 633,
          "xref": "x",
          "y": 1,
          "yref": "y"
         },
         {
          "showarrow": false,
          "text": "-",
          "x": 634,
          "xref": "x",
          "y": 1,
          "yref": "y"
         },
         {
          "showarrow": false,
          "text": "K",
          "x": 635,
          "xref": "x",
          "y": 1,
          "yref": "y"
         },
         {
          "showarrow": false,
          "text": "S",
          "x": 636,
          "xref": "x",
          "y": 1,
          "yref": "y"
         },
         {
          "showarrow": false,
          "text": "R",
          "x": 637,
          "xref": "x",
          "y": 1,
          "yref": "y"
         },
         {
          "showarrow": false,
          "text": "L",
          "x": 638,
          "xref": "x",
          "y": 1,
          "yref": "y"
         },
         {
          "showarrow": false,
          "text": "Q",
          "x": 639,
          "xref": "x",
          "y": 1,
          "yref": "y"
         },
         {
          "showarrow": false,
          "text": "T",
          "x": 640,
          "xref": "x",
          "y": 1,
          "yref": "y"
         },
         {
          "showarrow": false,
          "text": "A",
          "x": 641,
          "xref": "x",
          "y": 1,
          "yref": "y"
         },
         {
          "showarrow": false,
          "text": "P",
          "x": 642,
          "xref": "x",
          "y": 1,
          "yref": "y"
         },
         {
          "showarrow": false,
          "text": "V",
          "x": 643,
          "xref": "x",
          "y": 1,
          "yref": "y"
         },
         {
          "showarrow": false,
          "text": "P",
          "x": 644,
          "xref": "x",
          "y": 1,
          "yref": "y"
         },
         {
          "showarrow": false,
          "text": "M",
          "x": 645,
          "xref": "x",
          "y": 1,
          "yref": "y"
         },
         {
          "showarrow": false,
          "text": "P",
          "x": 646,
          "xref": "x",
          "y": 1,
          "yref": "y"
         },
         {
          "showarrow": false,
          "text": "D",
          "x": 647,
          "xref": "x",
          "y": 1,
          "yref": "y"
         },
         {
          "showarrow": false,
          "text": "L",
          "x": 648,
          "xref": "x",
          "y": 1,
          "yref": "y"
         },
         {
          "showarrow": false,
          "text": "K",
          "x": 649,
          "xref": "x",
          "y": 1,
          "yref": "y"
         },
         {
          "showarrow": false,
          "text": "N",
          "x": 650,
          "xref": "x",
          "y": 1,
          "yref": "y"
         },
         {
          "showarrow": false,
          "text": "V",
          "x": 651,
          "xref": "x",
          "y": 1,
          "yref": "y"
         },
         {
          "showarrow": false,
          "text": "R",
          "x": 652,
          "xref": "x",
          "y": 1,
          "yref": "y"
         },
         {
          "showarrow": false,
          "text": "S",
          "x": 653,
          "xref": "x",
          "y": 1,
          "yref": "y"
         },
         {
          "showarrow": false,
          "text": "K",
          "x": 654,
          "xref": "x",
          "y": 1,
          "yref": "y"
         },
         {
          "showarrow": false,
          "text": "I",
          "x": 655,
          "xref": "x",
          "y": 1,
          "yref": "y"
         },
         {
          "showarrow": false,
          "text": "G",
          "x": 656,
          "xref": "x",
          "y": 1,
          "yref": "y"
         },
         {
          "showarrow": false,
          "text": "S",
          "x": 657,
          "xref": "x",
          "y": 1,
          "yref": "y"
         },
         {
          "showarrow": false,
          "text": "T",
          "x": 658,
          "xref": "x",
          "y": 1,
          "yref": "y"
         },
         {
          "showarrow": false,
          "text": "E",
          "x": 659,
          "xref": "x",
          "y": 1,
          "yref": "y"
         },
         {
          "showarrow": false,
          "text": "N",
          "x": 660,
          "xref": "x",
          "y": 1,
          "yref": "y"
         },
         {
          "showarrow": false,
          "text": "L",
          "x": 661,
          "xref": "x",
          "y": 1,
          "yref": "y"
         },
         {
          "showarrow": false,
          "text": "K",
          "x": 662,
          "xref": "x",
          "y": 1,
          "yref": "y"
         },
         {
          "showarrow": false,
          "text": "H",
          "x": 663,
          "xref": "x",
          "y": 1,
          "yref": "y"
         },
         {
          "showarrow": false,
          "text": "Q",
          "x": 664,
          "xref": "x",
          "y": 1,
          "yref": "y"
         },
         {
          "showarrow": false,
          "text": "P",
          "x": 665,
          "xref": "x",
          "y": 1,
          "yref": "y"
         },
         {
          "showarrow": false,
          "text": "G",
          "x": 666,
          "xref": "x",
          "y": 1,
          "yref": "y"
         },
         {
          "showarrow": false,
          "text": "G",
          "x": 667,
          "xref": "x",
          "y": 1,
          "yref": "y"
         },
         {
          "showarrow": false,
          "text": "G",
          "x": 668,
          "xref": "x",
          "y": 1,
          "yref": "y"
         },
         {
          "showarrow": false,
          "text": "K",
          "x": 669,
          "xref": "x",
          "y": 1,
          "yref": "y"
         },
         {
          "showarrow": false,
          "text": "V",
          "x": 670,
          "xref": "x",
          "y": 1,
          "yref": "y"
         },
         {
          "showarrow": false,
          "text": "Q",
          "x": 671,
          "xref": "x",
          "y": 1,
          "yref": "y"
         },
         {
          "showarrow": false,
          "text": "I",
          "x": 672,
          "xref": "x",
          "y": 1,
          "yref": "y"
         },
         {
          "showarrow": false,
          "text": "I",
          "x": 673,
          "xref": "x",
          "y": 1,
          "yref": "y"
         },
         {
          "showarrow": false,
          "text": "N",
          "x": 674,
          "xref": "x",
          "y": 1,
          "yref": "y"
         },
         {
          "showarrow": false,
          "text": "K",
          "x": 675,
          "xref": "x",
          "y": 1,
          "yref": "y"
         },
         {
          "showarrow": false,
          "text": "K",
          "x": 676,
          "xref": "x",
          "y": 1,
          "yref": "y"
         },
         {
          "showarrow": false,
          "text": "L",
          "x": 677,
          "xref": "x",
          "y": 1,
          "yref": "y"
         },
         {
          "showarrow": false,
          "text": "D",
          "x": 678,
          "xref": "x",
          "y": 1,
          "yref": "y"
         },
         {
          "showarrow": false,
          "text": "L",
          "x": 679,
          "xref": "x",
          "y": 1,
          "yref": "y"
         },
         {
          "showarrow": false,
          "text": "S",
          "x": 680,
          "xref": "x",
          "y": 1,
          "yref": "y"
         },
         {
          "showarrow": false,
          "text": "N",
          "x": 681,
          "xref": "x",
          "y": 1,
          "yref": "y"
         },
         {
          "showarrow": false,
          "text": "V",
          "x": 682,
          "xref": "x",
          "y": 1,
          "yref": "y"
         },
         {
          "showarrow": false,
          "text": "Q",
          "x": 683,
          "xref": "x",
          "y": 1,
          "yref": "y"
         },
         {
          "showarrow": false,
          "text": "S",
          "x": 684,
          "xref": "x",
          "y": 1,
          "yref": "y"
         },
         {
          "showarrow": false,
          "text": "K",
          "x": 685,
          "xref": "x",
          "y": 1,
          "yref": "y"
         },
         {
          "showarrow": false,
          "text": "C",
          "x": 686,
          "xref": "x",
          "y": 1,
          "yref": "y"
         },
         {
          "showarrow": false,
          "text": "G",
          "x": 687,
          "xref": "x",
          "y": 1,
          "yref": "y"
         },
         {
          "showarrow": false,
          "text": "S",
          "x": 688,
          "xref": "x",
          "y": 1,
          "yref": "y"
         },
         {
          "showarrow": false,
          "text": "K",
          "x": 689,
          "xref": "x",
          "y": 1,
          "yref": "y"
         },
         {
          "showarrow": false,
          "text": "D",
          "x": 690,
          "xref": "x",
          "y": 1,
          "yref": "y"
         },
         {
          "showarrow": false,
          "text": "N",
          "x": 691,
          "xref": "x",
          "y": 1,
          "yref": "y"
         },
         {
          "showarrow": false,
          "text": "I",
          "x": 692,
          "xref": "x",
          "y": 1,
          "yref": "y"
         },
         {
          "showarrow": false,
          "text": "K",
          "x": 693,
          "xref": "x",
          "y": 1,
          "yref": "y"
         },
         {
          "showarrow": false,
          "text": "H",
          "x": 694,
          "xref": "x",
          "y": 1,
          "yref": "y"
         },
         {
          "showarrow": false,
          "text": "V",
          "x": 695,
          "xref": "x",
          "y": 1,
          "yref": "y"
         },
         {
          "showarrow": false,
          "text": "P",
          "x": 696,
          "xref": "x",
          "y": 1,
          "yref": "y"
         },
         {
          "showarrow": false,
          "text": "G",
          "x": 697,
          "xref": "x",
          "y": 1,
          "yref": "y"
         },
         {
          "showarrow": false,
          "text": "G",
          "x": 698,
          "xref": "x",
          "y": 1,
          "yref": "y"
         },
         {
          "showarrow": false,
          "text": "G",
          "x": 699,
          "xref": "x",
          "y": 1,
          "yref": "y"
         },
         {
          "showarrow": false,
          "text": "S",
          "x": 700,
          "xref": "x",
          "y": 1,
          "yref": "y"
         },
         {
          "showarrow": false,
          "text": "V",
          "x": 701,
          "xref": "x",
          "y": 1,
          "yref": "y"
         },
         {
          "showarrow": false,
          "text": "Q",
          "x": 702,
          "xref": "x",
          "y": 1,
          "yref": "y"
         },
         {
          "showarrow": false,
          "text": "I",
          "x": 703,
          "xref": "x",
          "y": 1,
          "yref": "y"
         },
         {
          "showarrow": false,
          "text": "V",
          "x": 704,
          "xref": "x",
          "y": 1,
          "yref": "y"
         },
         {
          "showarrow": false,
          "text": "Y",
          "x": 705,
          "xref": "x",
          "y": 1,
          "yref": "y"
         },
         {
          "showarrow": false,
          "text": "K",
          "x": 706,
          "xref": "x",
          "y": 1,
          "yref": "y"
         },
         {
          "showarrow": false,
          "text": "P",
          "x": 707,
          "xref": "x",
          "y": 1,
          "yref": "y"
         },
         {
          "showarrow": false,
          "text": "V",
          "x": 708,
          "xref": "x",
          "y": 1,
          "yref": "y"
         },
         {
          "showarrow": false,
          "text": "D",
          "x": 709,
          "xref": "x",
          "y": 1,
          "yref": "y"
         },
         {
          "showarrow": false,
          "text": "L",
          "x": 710,
          "xref": "x",
          "y": 1,
          "yref": "y"
         },
         {
          "showarrow": false,
          "text": "S",
          "x": 711,
          "xref": "x",
          "y": 1,
          "yref": "y"
         },
         {
          "showarrow": false,
          "text": "K",
          "x": 712,
          "xref": "x",
          "y": 1,
          "yref": "y"
         },
         {
          "showarrow": false,
          "text": "V",
          "x": 713,
          "xref": "x",
          "y": 1,
          "yref": "y"
         },
         {
          "showarrow": false,
          "text": "T",
          "x": 714,
          "xref": "x",
          "y": 1,
          "yref": "y"
         },
         {
          "showarrow": false,
          "text": "S",
          "x": 715,
          "xref": "x",
          "y": 1,
          "yref": "y"
         },
         {
          "showarrow": false,
          "text": "K",
          "x": 716,
          "xref": "x",
          "y": 1,
          "yref": "y"
         },
         {
          "showarrow": false,
          "text": "C",
          "x": 717,
          "xref": "x",
          "y": 1,
          "yref": "y"
         },
         {
          "showarrow": false,
          "text": "G",
          "x": 718,
          "xref": "x",
          "y": 1,
          "yref": "y"
         },
         {
          "showarrow": false,
          "text": "S",
          "x": 719,
          "xref": "x",
          "y": 1,
          "yref": "y"
         },
         {
          "showarrow": false,
          "text": "L",
          "x": 720,
          "xref": "x",
          "y": 1,
          "yref": "y"
         },
         {
          "showarrow": false,
          "text": "G",
          "x": 721,
          "xref": "x",
          "y": 1,
          "yref": "y"
         },
         {
          "showarrow": false,
          "text": "N",
          "x": 722,
          "xref": "x",
          "y": 1,
          "yref": "y"
         },
         {
          "showarrow": false,
          "text": "I",
          "x": 723,
          "xref": "x",
          "y": 1,
          "yref": "y"
         },
         {
          "showarrow": false,
          "text": "H",
          "x": 724,
          "xref": "x",
          "y": 1,
          "yref": "y"
         },
         {
          "showarrow": false,
          "text": "H",
          "x": 725,
          "xref": "x",
          "y": 1,
          "yref": "y"
         },
         {
          "showarrow": false,
          "text": "K",
          "x": 726,
          "xref": "x",
          "y": 1,
          "yref": "y"
         },
         {
          "showarrow": false,
          "text": "P",
          "x": 727,
          "xref": "x",
          "y": 1,
          "yref": "y"
         },
         {
          "showarrow": false,
          "text": "G",
          "x": 728,
          "xref": "x",
          "y": 1,
          "yref": "y"
         },
         {
          "showarrow": false,
          "text": "G",
          "x": 729,
          "xref": "x",
          "y": 1,
          "yref": "y"
         },
         {
          "showarrow": false,
          "text": "G",
          "x": 730,
          "xref": "x",
          "y": 1,
          "yref": "y"
         },
         {
          "showarrow": false,
          "text": "Q",
          "x": 731,
          "xref": "x",
          "y": 1,
          "yref": "y"
         },
         {
          "showarrow": false,
          "text": "V",
          "x": 732,
          "xref": "x",
          "y": 1,
          "yref": "y"
         },
         {
          "showarrow": false,
          "text": "E",
          "x": 733,
          "xref": "x",
          "y": 1,
          "yref": "y"
         },
         {
          "showarrow": false,
          "text": "V",
          "x": 734,
          "xref": "x",
          "y": 1,
          "yref": "y"
         },
         {
          "showarrow": false,
          "text": "K",
          "x": 735,
          "xref": "x",
          "y": 1,
          "yref": "y"
         },
         {
          "showarrow": false,
          "text": "S",
          "x": 736,
          "xref": "x",
          "y": 1,
          "yref": "y"
         },
         {
          "showarrow": false,
          "text": "E",
          "x": 737,
          "xref": "x",
          "y": 1,
          "yref": "y"
         },
         {
          "showarrow": false,
          "text": "K",
          "x": 738,
          "xref": "x",
          "y": 1,
          "yref": "y"
         },
         {
          "showarrow": false,
          "text": "L",
          "x": 739,
          "xref": "x",
          "y": 1,
          "yref": "y"
         },
         {
          "showarrow": false,
          "text": "D",
          "x": 740,
          "xref": "x",
          "y": 1,
          "yref": "y"
         },
         {
          "showarrow": false,
          "text": "F",
          "x": 741,
          "xref": "x",
          "y": 1,
          "yref": "y"
         },
         {
          "showarrow": false,
          "text": "K",
          "x": 742,
          "xref": "x",
          "y": 1,
          "yref": "y"
         },
         {
          "showarrow": false,
          "text": "D",
          "x": 743,
          "xref": "x",
          "y": 1,
          "yref": "y"
         },
         {
          "showarrow": false,
          "text": "R",
          "x": 744,
          "xref": "x",
          "y": 1,
          "yref": "y"
         },
         {
          "showarrow": false,
          "text": "V",
          "x": 745,
          "xref": "x",
          "y": 1,
          "yref": "y"
         },
         {
          "showarrow": false,
          "text": "Q",
          "x": 746,
          "xref": "x",
          "y": 1,
          "yref": "y"
         },
         {
          "showarrow": false,
          "text": "S",
          "x": 747,
          "xref": "x",
          "y": 1,
          "yref": "y"
         },
         {
          "showarrow": false,
          "text": "K",
          "x": 748,
          "xref": "x",
          "y": 1,
          "yref": "y"
         },
         {
          "showarrow": false,
          "text": "I",
          "x": 749,
          "xref": "x",
          "y": 1,
          "yref": "y"
         },
         {
          "showarrow": false,
          "text": "G",
          "x": 750,
          "xref": "x",
          "y": 1,
          "yref": "y"
         },
         {
          "showarrow": false,
          "text": "S",
          "x": 751,
          "xref": "x",
          "y": 1,
          "yref": "y"
         },
         {
          "showarrow": false,
          "text": "L",
          "x": 752,
          "xref": "x",
          "y": 1,
          "yref": "y"
         },
         {
          "showarrow": false,
          "text": "D",
          "x": 753,
          "xref": "x",
          "y": 1,
          "yref": "y"
         },
         {
          "showarrow": false,
          "text": "N",
          "x": 754,
          "xref": "x",
          "y": 1,
          "yref": "y"
         },
         {
          "showarrow": false,
          "text": "I",
          "x": 755,
          "xref": "x",
          "y": 1,
          "yref": "y"
         },
         {
          "showarrow": false,
          "text": "T",
          "x": 756,
          "xref": "x",
          "y": 1,
          "yref": "y"
         },
         {
          "showarrow": false,
          "text": "H",
          "x": 757,
          "xref": "x",
          "y": 1,
          "yref": "y"
         },
         {
          "showarrow": false,
          "text": "V",
          "x": 758,
          "xref": "x",
          "y": 1,
          "yref": "y"
         },
         {
          "showarrow": false,
          "text": "P",
          "x": 759,
          "xref": "x",
          "y": 1,
          "yref": "y"
         },
         {
          "showarrow": false,
          "text": "G",
          "x": 760,
          "xref": "x",
          "y": 1,
          "yref": "y"
         },
         {
          "showarrow": false,
          "text": "G",
          "x": 761,
          "xref": "x",
          "y": 1,
          "yref": "y"
         },
         {
          "showarrow": false,
          "text": "G",
          "x": 762,
          "xref": "x",
          "y": 1,
          "yref": "y"
         },
         {
          "showarrow": false,
          "text": "N",
          "x": 763,
          "xref": "x",
          "y": 1,
          "yref": "y"
         },
         {
          "showarrow": false,
          "text": "K",
          "x": 764,
          "xref": "x",
          "y": 1,
          "yref": "y"
         },
         {
          "showarrow": false,
          "text": "K",
          "x": 765,
          "xref": "x",
          "y": 1,
          "yref": "y"
         },
         {
          "showarrow": false,
          "text": "I",
          "x": 766,
          "xref": "x",
          "y": 1,
          "yref": "y"
         },
         {
          "showarrow": false,
          "text": "E",
          "x": 767,
          "xref": "x",
          "y": 1,
          "yref": "y"
         },
         {
          "showarrow": false,
          "text": "T",
          "x": 768,
          "xref": "x",
          "y": 1,
          "yref": "y"
         },
         {
          "showarrow": false,
          "text": "H",
          "x": 769,
          "xref": "x",
          "y": 1,
          "yref": "y"
         },
         {
          "showarrow": false,
          "text": "K",
          "x": 770,
          "xref": "x",
          "y": 1,
          "yref": "y"
         },
         {
          "showarrow": false,
          "text": "L",
          "x": 771,
          "xref": "x",
          "y": 1,
          "yref": "y"
         },
         {
          "showarrow": false,
          "text": "T",
          "x": 772,
          "xref": "x",
          "y": 1,
          "yref": "y"
         },
         {
          "showarrow": false,
          "text": "F",
          "x": 773,
          "xref": "x",
          "y": 1,
          "yref": "y"
         },
         {
          "showarrow": false,
          "text": "R",
          "x": 774,
          "xref": "x",
          "y": 1,
          "yref": "y"
         },
         {
          "showarrow": false,
          "text": "E",
          "x": 775,
          "xref": "x",
          "y": 1,
          "yref": "y"
         },
         {
          "showarrow": false,
          "text": "N",
          "x": 776,
          "xref": "x",
          "y": 1,
          "yref": "y"
         },
         {
          "showarrow": false,
          "text": "A",
          "x": 777,
          "xref": "x",
          "y": 1,
          "yref": "y"
         },
         {
          "showarrow": false,
          "text": "K",
          "x": 778,
          "xref": "x",
          "y": 1,
          "yref": "y"
         },
         {
          "showarrow": false,
          "text": "A",
          "x": 779,
          "xref": "x",
          "y": 1,
          "yref": "y"
         },
         {
          "showarrow": false,
          "text": "K",
          "x": 780,
          "xref": "x",
          "y": 1,
          "yref": "y"
         },
         {
          "showarrow": false,
          "text": "T",
          "x": 781,
          "xref": "x",
          "y": 1,
          "yref": "y"
         },
         {
          "showarrow": false,
          "text": "D",
          "x": 782,
          "xref": "x",
          "y": 1,
          "yref": "y"
         },
         {
          "showarrow": false,
          "text": "H",
          "x": 783,
          "xref": "x",
          "y": 1,
          "yref": "y"
         },
         {
          "showarrow": false,
          "text": "G",
          "x": 784,
          "xref": "x",
          "y": 1,
          "yref": "y"
         },
         {
          "showarrow": false,
          "text": "A",
          "x": 785,
          "xref": "x",
          "y": 1,
          "yref": "y"
         },
         {
          "showarrow": false,
          "text": "E",
          "x": 786,
          "xref": "x",
          "y": 1,
          "yref": "y"
         },
         {
          "showarrow": false,
          "text": "I",
          "x": 787,
          "xref": "x",
          "y": 1,
          "yref": "y"
         },
         {
          "showarrow": false,
          "text": "V",
          "x": 788,
          "xref": "x",
          "y": 1,
          "yref": "y"
         },
         {
          "showarrow": false,
          "text": "Y",
          "x": 789,
          "xref": "x",
          "y": 1,
          "yref": "y"
         },
         {
          "showarrow": false,
          "text": "K",
          "x": 790,
          "xref": "x",
          "y": 1,
          "yref": "y"
         },
         {
          "showarrow": false,
          "text": "S",
          "x": 791,
          "xref": "x",
          "y": 1,
          "yref": "y"
         },
         {
          "showarrow": false,
          "text": "P",
          "x": 792,
          "xref": "x",
          "y": 1,
          "yref": "y"
         },
         {
          "showarrow": false,
          "text": "V",
          "x": 793,
          "xref": "x",
          "y": 1,
          "yref": "y"
         },
         {
          "showarrow": false,
          "text": "V",
          "x": 794,
          "xref": "x",
          "y": 1,
          "yref": "y"
         },
         {
          "showarrow": false,
          "text": "S",
          "x": 795,
          "xref": "x",
          "y": 1,
          "yref": "y"
         },
         {
          "showarrow": false,
          "text": "G",
          "x": 796,
          "xref": "x",
          "y": 1,
          "yref": "y"
         },
         {
          "showarrow": false,
          "text": "D",
          "x": 797,
          "xref": "x",
          "y": 1,
          "yref": "y"
         },
         {
          "showarrow": false,
          "text": "T",
          "x": 798,
          "xref": "x",
          "y": 1,
          "yref": "y"
         },
         {
          "showarrow": false,
          "text": "S",
          "x": 799,
          "xref": "x",
          "y": 1,
          "yref": "y"
         },
         {
          "showarrow": false,
          "text": "P",
          "x": 800,
          "xref": "x",
          "y": 1,
          "yref": "y"
         },
         {
          "showarrow": false,
          "text": "R",
          "x": 801,
          "xref": "x",
          "y": 1,
          "yref": "y"
         },
         {
          "showarrow": false,
          "text": "H",
          "x": 802,
          "xref": "x",
          "y": 1,
          "yref": "y"
         },
         {
          "showarrow": false,
          "text": "L",
          "x": 803,
          "xref": "x",
          "y": 1,
          "yref": "y"
         },
         {
          "showarrow": false,
          "text": "S",
          "x": 804,
          "xref": "x",
          "y": 1,
          "yref": "y"
         },
         {
          "showarrow": false,
          "text": "N",
          "x": 805,
          "xref": "x",
          "y": 1,
          "yref": "y"
         },
         {
          "showarrow": false,
          "text": "V",
          "x": 806,
          "xref": "x",
          "y": 1,
          "yref": "y"
         },
         {
          "showarrow": false,
          "text": "S",
          "x": 807,
          "xref": "x",
          "y": 1,
          "yref": "y"
         },
         {
          "showarrow": false,
          "text": "S",
          "x": 808,
          "xref": "x",
          "y": 1,
          "yref": "y"
         },
         {
          "showarrow": false,
          "text": "T",
          "x": 809,
          "xref": "x",
          "y": 1,
          "yref": "y"
         },
         {
          "showarrow": false,
          "text": "G",
          "x": 810,
          "xref": "x",
          "y": 1,
          "yref": "y"
         },
         {
          "showarrow": false,
          "text": "S",
          "x": 811,
          "xref": "x",
          "y": 1,
          "yref": "y"
         },
         {
          "showarrow": false,
          "text": "I",
          "x": 812,
          "xref": "x",
          "y": 1,
          "yref": "y"
         },
         {
          "showarrow": false,
          "text": "D",
          "x": 813,
          "xref": "x",
          "y": 1,
          "yref": "y"
         },
         {
          "showarrow": false,
          "text": "M",
          "x": 814,
          "xref": "x",
          "y": 1,
          "yref": "y"
         },
         {
          "showarrow": false,
          "text": "V",
          "x": 815,
          "xref": "x",
          "y": 1,
          "yref": "y"
         },
         {
          "showarrow": false,
          "text": "D",
          "x": 816,
          "xref": "x",
          "y": 1,
          "yref": "y"
         },
         {
          "showarrow": false,
          "text": "S",
          "x": 817,
          "xref": "x",
          "y": 1,
          "yref": "y"
         },
         {
          "showarrow": false,
          "text": "P",
          "x": 818,
          "xref": "x",
          "y": 1,
          "yref": "y"
         },
         {
          "showarrow": false,
          "text": "Q",
          "x": 819,
          "xref": "x",
          "y": 1,
          "yref": "y"
         },
         {
          "showarrow": false,
          "text": "L",
          "x": 820,
          "xref": "x",
          "y": 1,
          "yref": "y"
         },
         {
          "showarrow": false,
          "text": "A",
          "x": 821,
          "xref": "x",
          "y": 1,
          "yref": "y"
         },
         {
          "showarrow": false,
          "text": "T",
          "x": 822,
          "xref": "x",
          "y": 1,
          "yref": "y"
         },
         {
          "showarrow": false,
          "text": "L",
          "x": 823,
          "xref": "x",
          "y": 1,
          "yref": "y"
         },
         {
          "showarrow": false,
          "text": "A",
          "x": 824,
          "xref": "x",
          "y": 1,
          "yref": "y"
         },
         {
          "showarrow": false,
          "text": "D",
          "x": 825,
          "xref": "x",
          "y": 1,
          "yref": "y"
         },
         {
          "showarrow": false,
          "text": "E",
          "x": 826,
          "xref": "x",
          "y": 1,
          "yref": "y"
         },
         {
          "showarrow": false,
          "text": "V",
          "x": 827,
          "xref": "x",
          "y": 1,
          "yref": "y"
         },
         {
          "showarrow": false,
          "text": "S",
          "x": 828,
          "xref": "x",
          "y": 1,
          "yref": "y"
         },
         {
          "showarrow": false,
          "text": "A",
          "x": 829,
          "xref": "x",
          "y": 1,
          "yref": "y"
         },
         {
          "showarrow": false,
          "text": "S",
          "x": 830,
          "xref": "x",
          "y": 1,
          "yref": "y"
         },
         {
          "showarrow": false,
          "text": "L",
          "x": 831,
          "xref": "x",
          "y": 1,
          "yref": "y"
         },
         {
          "showarrow": false,
          "text": "A",
          "x": 832,
          "xref": "x",
          "y": 1,
          "yref": "y"
         },
         {
          "showarrow": false,
          "text": "K",
          "x": 833,
          "xref": "x",
          "y": 1,
          "yref": "y"
         },
         {
          "showarrow": false,
          "text": "Q",
          "x": 834,
          "xref": "x",
          "y": 1,
          "yref": "y"
         },
         {
          "showarrow": false,
          "text": "G",
          "x": 835,
          "xref": "x",
          "y": 1,
          "yref": "y"
         },
         {
          "showarrow": false,
          "text": "L",
          "x": 836,
          "xref": "x",
          "y": 1,
          "yref": "y"
         },
         {
          "showarrow": false,
          "text": "M",
          "x": 0,
          "xref": "x",
          "y": 2,
          "yref": "y"
         },
         {
          "showarrow": false,
          "text": "A",
          "x": 1,
          "xref": "x",
          "y": 2,
          "yref": "y"
         },
         {
          "showarrow": false,
          "text": "E",
          "x": 2,
          "xref": "x",
          "y": 2,
          "yref": "y"
         },
         {
          "showarrow": false,
          "text": "P",
          "x": 3,
          "xref": "x",
          "y": 2,
          "yref": "y"
         },
         {
          "showarrow": false,
          "text": "R",
          "x": 4,
          "xref": "x",
          "y": 2,
          "yref": "y"
         },
         {
          "showarrow": false,
          "text": "Q",
          "x": 5,
          "xref": "x",
          "y": 2,
          "yref": "y"
         },
         {
          "showarrow": false,
          "text": "E",
          "x": 6,
          "xref": "x",
          "y": 2,
          "yref": "y"
         },
         {
          "showarrow": false,
          "text": "F",
          "x": 7,
          "xref": "x",
          "y": 2,
          "yref": "y"
         },
         {
          "showarrow": false,
          "text": "D",
          "x": 8,
          "xref": "x",
          "y": 2,
          "yref": "y"
         },
         {
          "showarrow": false,
          "text": "T",
          "x": 9,
          "xref": "x",
          "y": 2,
          "yref": "y"
         },
         {
          "showarrow": false,
          "text": "M",
          "x": 10,
          "xref": "x",
          "y": 2,
          "yref": "y"
         },
         {
          "showarrow": false,
          "text": "E",
          "x": 11,
          "xref": "x",
          "y": 2,
          "yref": "y"
         },
         {
          "showarrow": false,
          "text": "D",
          "x": 12,
          "xref": "x",
          "y": 2,
          "yref": "y"
         },
         {
          "showarrow": false,
          "text": "Q",
          "x": 13,
          "xref": "x",
          "y": 2,
          "yref": "y"
         },
         {
          "showarrow": false,
          "text": "A",
          "x": 14,
          "xref": "x",
          "y": 2,
          "yref": "y"
         },
         {
          "showarrow": false,
          "text": "G",
          "x": 15,
          "xref": "x",
          "y": 2,
          "yref": "y"
         },
         {
          "showarrow": false,
          "text": "-",
          "x": 16,
          "xref": "x",
          "y": 2,
          "yref": "y"
         },
         {
          "showarrow": false,
          "text": "-",
          "x": 17,
          "xref": "x",
          "y": 2,
          "yref": "y"
         },
         {
          "showarrow": false,
          "text": "-",
          "x": 18,
          "xref": "x",
          "y": 2,
          "yref": "y"
         },
         {
          "showarrow": false,
          "text": "-",
          "x": 19,
          "xref": "x",
          "y": 2,
          "yref": "y"
         },
         {
          "showarrow": false,
          "text": "-",
          "x": 20,
          "xref": "x",
          "y": 2,
          "yref": "y"
         },
         {
          "showarrow": false,
          "text": "D",
          "x": 21,
          "xref": "x",
          "y": 2,
          "yref": "y"
         },
         {
          "showarrow": false,
          "text": "-",
          "x": 22,
          "xref": "x",
          "y": 2,
          "yref": "y"
         },
         {
          "showarrow": false,
          "text": "-",
          "x": 23,
          "xref": "x",
          "y": 2,
          "yref": "y"
         },
         {
          "showarrow": false,
          "text": "-",
          "x": 24,
          "xref": "x",
          "y": 2,
          "yref": "y"
         },
         {
          "showarrow": false,
          "text": "-",
          "x": 25,
          "xref": "x",
          "y": 2,
          "yref": "y"
         },
         {
          "showarrow": false,
          "text": "-",
          "x": 26,
          "xref": "x",
          "y": 2,
          "yref": "y"
         },
         {
          "showarrow": false,
          "text": "-",
          "x": 27,
          "xref": "x",
          "y": 2,
          "yref": "y"
         },
         {
          "showarrow": false,
          "text": "Y",
          "x": 28,
          "xref": "x",
          "y": 2,
          "yref": "y"
         },
         {
          "showarrow": false,
          "text": "T",
          "x": 29,
          "xref": "x",
          "y": 2,
          "yref": "y"
         },
         {
          "showarrow": false,
          "text": "M",
          "x": 30,
          "xref": "x",
          "y": 2,
          "yref": "y"
         },
         {
          "showarrow": false,
          "text": "L",
          "x": 31,
          "xref": "x",
          "y": 2,
          "yref": "y"
         },
         {
          "showarrow": false,
          "text": "Q",
          "x": 32,
          "xref": "x",
          "y": 2,
          "yref": "y"
         },
         {
          "showarrow": false,
          "text": "D",
          "x": 33,
          "xref": "x",
          "y": 2,
          "yref": "y"
         },
         {
          "showarrow": false,
          "text": "Q",
          "x": 34,
          "xref": "x",
          "y": 2,
          "yref": "y"
         },
         {
          "showarrow": false,
          "text": "E",
          "x": 35,
          "xref": "x",
          "y": 2,
          "yref": "y"
         },
         {
          "showarrow": false,
          "text": "G",
          "x": 36,
          "xref": "x",
          "y": 2,
          "yref": "y"
         },
         {
          "showarrow": false,
          "text": "D",
          "x": 37,
          "xref": "x",
          "y": 2,
          "yref": "y"
         },
         {
          "showarrow": false,
          "text": "M",
          "x": 38,
          "xref": "x",
          "y": 2,
          "yref": "y"
         },
         {
          "showarrow": false,
          "text": "D",
          "x": 39,
          "xref": "x",
          "y": 2,
          "yref": "y"
         },
         {
          "showarrow": false,
          "text": "H",
          "x": 40,
          "xref": "x",
          "y": 2,
          "yref": "y"
         },
         {
          "showarrow": false,
          "text": "G",
          "x": 41,
          "xref": "x",
          "y": 2,
          "yref": "y"
         },
         {
          "showarrow": false,
          "text": "L",
          "x": 42,
          "xref": "x",
          "y": 2,
          "yref": "y"
         },
         {
          "showarrow": false,
          "text": "K",
          "x": 43,
          "xref": "x",
          "y": 2,
          "yref": "y"
         },
         {
          "showarrow": false,
          "text": "E",
          "x": 44,
          "xref": "x",
          "y": 2,
          "yref": "y"
         },
         {
          "showarrow": false,
          "text": "S",
          "x": 45,
          "xref": "x",
          "y": 2,
          "yref": "y"
         },
         {
          "showarrow": false,
          "text": "P",
          "x": 46,
          "xref": "x",
          "y": 2,
          "yref": "y"
         },
         {
          "showarrow": false,
          "text": "P",
          "x": 47,
          "xref": "x",
          "y": 2,
          "yref": "y"
         },
         {
          "showarrow": false,
          "text": "Q",
          "x": 48,
          "xref": "x",
          "y": 2,
          "yref": "y"
         },
         {
          "showarrow": false,
          "text": "P",
          "x": 49,
          "xref": "x",
          "y": 2,
          "yref": "y"
         },
         {
          "showarrow": false,
          "text": "P",
          "x": 50,
          "xref": "x",
          "y": 2,
          "yref": "y"
         },
         {
          "showarrow": false,
          "text": "A",
          "x": 51,
          "xref": "x",
          "y": 2,
          "yref": "y"
         },
         {
          "showarrow": false,
          "text": "D",
          "x": 52,
          "xref": "x",
          "y": 2,
          "yref": "y"
         },
         {
          "showarrow": false,
          "text": "D",
          "x": 53,
          "xref": "x",
          "y": 2,
          "yref": "y"
         },
         {
          "showarrow": false,
          "text": "G",
          "x": 54,
          "xref": "x",
          "y": 2,
          "yref": "y"
         },
         {
          "showarrow": false,
          "text": "S",
          "x": 55,
          "xref": "x",
          "y": 2,
          "yref": "y"
         },
         {
          "showarrow": false,
          "text": "E",
          "x": 56,
          "xref": "x",
          "y": 2,
          "yref": "y"
         },
         {
          "showarrow": false,
          "text": "E",
          "x": 57,
          "xref": "x",
          "y": 2,
          "yref": "y"
         },
         {
          "showarrow": false,
          "text": "P",
          "x": 58,
          "xref": "x",
          "y": 2,
          "yref": "y"
         },
         {
          "showarrow": false,
          "text": "G",
          "x": 59,
          "xref": "x",
          "y": 2,
          "yref": "y"
         },
         {
          "showarrow": false,
          "text": "S",
          "x": 60,
          "xref": "x",
          "y": 2,
          "yref": "y"
         },
         {
          "showarrow": false,
          "text": "E",
          "x": 61,
          "xref": "x",
          "y": 2,
          "yref": "y"
         },
         {
          "showarrow": false,
          "text": "T",
          "x": 62,
          "xref": "x",
          "y": 2,
          "yref": "y"
         },
         {
          "showarrow": false,
          "text": "S",
          "x": 63,
          "xref": "x",
          "y": 2,
          "yref": "y"
         },
         {
          "showarrow": false,
          "text": "D",
          "x": 64,
          "xref": "x",
          "y": 2,
          "yref": "y"
         },
         {
          "showarrow": false,
          "text": "A",
          "x": 65,
          "xref": "x",
          "y": 2,
          "yref": "y"
         },
         {
          "showarrow": false,
          "text": "K",
          "x": 66,
          "xref": "x",
          "y": 2,
          "yref": "y"
         },
         {
          "showarrow": false,
          "text": "S",
          "x": 67,
          "xref": "x",
          "y": 2,
          "yref": "y"
         },
         {
          "showarrow": false,
          "text": "T",
          "x": 68,
          "xref": "x",
          "y": 2,
          "yref": "y"
         },
         {
          "showarrow": false,
          "text": "P",
          "x": 69,
          "xref": "x",
          "y": 2,
          "yref": "y"
         },
         {
          "showarrow": false,
          "text": "T",
          "x": 70,
          "xref": "x",
          "y": 2,
          "yref": "y"
         },
         {
          "showarrow": false,
          "text": "A",
          "x": 71,
          "xref": "x",
          "y": 2,
          "yref": "y"
         },
         {
          "showarrow": false,
          "text": "E",
          "x": 72,
          "xref": "x",
          "y": 2,
          "yref": "y"
         },
         {
          "showarrow": false,
          "text": "D",
          "x": 73,
          "xref": "x",
          "y": 2,
          "yref": "y"
         },
         {
          "showarrow": false,
          "text": "V",
          "x": 74,
          "xref": "x",
          "y": 2,
          "yref": "y"
         },
         {
          "showarrow": false,
          "text": "T",
          "x": 75,
          "xref": "x",
          "y": 2,
          "yref": "y"
         },
         {
          "showarrow": false,
          "text": "A",
          "x": 76,
          "xref": "x",
          "y": 2,
          "yref": "y"
         },
         {
          "showarrow": false,
          "text": "P",
          "x": 77,
          "xref": "x",
          "y": 2,
          "yref": "y"
         },
         {
          "showarrow": false,
          "text": "L",
          "x": 78,
          "xref": "x",
          "y": 2,
          "yref": "y"
         },
         {
          "showarrow": false,
          "text": "V",
          "x": 79,
          "xref": "x",
          "y": 2,
          "yref": "y"
         },
         {
          "showarrow": false,
          "text": "E",
          "x": 80,
          "xref": "x",
          "y": 2,
          "yref": "y"
         },
         {
          "showarrow": false,
          "text": "E",
          "x": 81,
          "xref": "x",
          "y": 2,
          "yref": "y"
         },
         {
          "showarrow": false,
          "text": "R",
          "x": 82,
          "xref": "x",
          "y": 2,
          "yref": "y"
         },
         {
          "showarrow": false,
          "text": "A",
          "x": 83,
          "xref": "x",
          "y": 2,
          "yref": "y"
         },
         {
          "showarrow": false,
          "text": "P",
          "x": 84,
          "xref": "x",
          "y": 2,
          "yref": "y"
         },
         {
          "showarrow": false,
          "text": "D",
          "x": 85,
          "xref": "x",
          "y": 2,
          "yref": "y"
         },
         {
          "showarrow": false,
          "text": "K",
          "x": 86,
          "xref": "x",
          "y": 2,
          "yref": "y"
         },
         {
          "showarrow": false,
          "text": "Q",
          "x": 87,
          "xref": "x",
          "y": 2,
          "yref": "y"
         },
         {
          "showarrow": false,
          "text": "A",
          "x": 88,
          "xref": "x",
          "y": 2,
          "yref": "y"
         },
         {
          "showarrow": false,
          "text": "T",
          "x": 89,
          "xref": "x",
          "y": 2,
          "yref": "y"
         },
         {
          "showarrow": false,
          "text": "A",
          "x": 90,
          "xref": "x",
          "y": 2,
          "yref": "y"
         },
         {
          "showarrow": false,
          "text": "Q",
          "x": 91,
          "xref": "x",
          "y": 2,
          "yref": "y"
         },
         {
          "showarrow": false,
          "text": "S",
          "x": 92,
          "xref": "x",
          "y": 2,
          "yref": "y"
         },
         {
          "showarrow": false,
          "text": "H",
          "x": 93,
          "xref": "x",
          "y": 2,
          "yref": "y"
         },
         {
          "showarrow": false,
          "text": "T",
          "x": 94,
          "xref": "x",
          "y": 2,
          "yref": "y"
         },
         {
          "showarrow": false,
          "text": "E",
          "x": 95,
          "xref": "x",
          "y": 2,
          "yref": "y"
         },
         {
          "showarrow": false,
          "text": "I",
          "x": 96,
          "xref": "x",
          "y": 2,
          "yref": "y"
         },
         {
          "showarrow": false,
          "text": "P",
          "x": 97,
          "xref": "x",
          "y": 2,
          "yref": "y"
         },
         {
          "showarrow": false,
          "text": "E",
          "x": 98,
          "xref": "x",
          "y": 2,
          "yref": "y"
         },
         {
          "showarrow": false,
          "text": "G",
          "x": 99,
          "xref": "x",
          "y": 2,
          "yref": "y"
         },
         {
          "showarrow": false,
          "text": "T",
          "x": 100,
          "xref": "x",
          "y": 2,
          "yref": "y"
         },
         {
          "showarrow": false,
          "text": "T",
          "x": 101,
          "xref": "x",
          "y": 2,
          "yref": "y"
         },
         {
          "showarrow": false,
          "text": "A",
          "x": 102,
          "xref": "x",
          "y": 2,
          "yref": "y"
         },
         {
          "showarrow": false,
          "text": "E",
          "x": 103,
          "xref": "x",
          "y": 2,
          "yref": "y"
         },
         {
          "showarrow": false,
          "text": "E",
          "x": 104,
          "xref": "x",
          "y": 2,
          "yref": "y"
         },
         {
          "showarrow": false,
          "text": "A",
          "x": 105,
          "xref": "x",
          "y": 2,
          "yref": "y"
         },
         {
          "showarrow": false,
          "text": "G",
          "x": 106,
          "xref": "x",
          "y": 2,
          "yref": "y"
         },
         {
          "showarrow": false,
          "text": "I",
          "x": 107,
          "xref": "x",
          "y": 2,
          "yref": "y"
         },
         {
          "showarrow": false,
          "text": "G",
          "x": 108,
          "xref": "x",
          "y": 2,
          "yref": "y"
         },
         {
          "showarrow": false,
          "text": "D",
          "x": 109,
          "xref": "x",
          "y": 2,
          "yref": "y"
         },
         {
          "showarrow": false,
          "text": "T",
          "x": 110,
          "xref": "x",
          "y": 2,
          "yref": "y"
         },
         {
          "showarrow": false,
          "text": "P",
          "x": 111,
          "xref": "x",
          "y": 2,
          "yref": "y"
         },
         {
          "showarrow": false,
          "text": "N",
          "x": 112,
          "xref": "x",
          "y": 2,
          "yref": "y"
         },
         {
          "showarrow": false,
          "text": "M",
          "x": 113,
          "xref": "x",
          "y": 2,
          "yref": "y"
         },
         {
          "showarrow": false,
          "text": "E",
          "x": 114,
          "xref": "x",
          "y": 2,
          "yref": "y"
         },
         {
          "showarrow": false,
          "text": "D",
          "x": 115,
          "xref": "x",
          "y": 2,
          "yref": "y"
         },
         {
          "showarrow": false,
          "text": "Q",
          "x": 116,
          "xref": "x",
          "y": 2,
          "yref": "y"
         },
         {
          "showarrow": false,
          "text": "A",
          "x": 117,
          "xref": "x",
          "y": 2,
          "yref": "y"
         },
         {
          "showarrow": false,
          "text": "A",
          "x": 118,
          "xref": "x",
          "y": 2,
          "yref": "y"
         },
         {
          "showarrow": false,
          "text": "G",
          "x": 119,
          "xref": "x",
          "y": 2,
          "yref": "y"
         },
         {
          "showarrow": false,
          "text": "H",
          "x": 120,
          "xref": "x",
          "y": 2,
          "yref": "y"
         },
         {
          "showarrow": false,
          "text": "V",
          "x": 121,
          "xref": "x",
          "y": 2,
          "yref": "y"
         },
         {
          "showarrow": false,
          "text": "T",
          "x": 122,
          "xref": "x",
          "y": 2,
          "yref": "y"
         },
         {
          "showarrow": false,
          "text": "Q",
          "x": 123,
          "xref": "x",
          "y": 2,
          "yref": "y"
         },
         {
          "showarrow": false,
          "text": "E",
          "x": 124,
          "xref": "x",
          "y": 2,
          "yref": "y"
         },
         {
          "showarrow": false,
          "text": "P",
          "x": 125,
          "xref": "x",
          "y": 2,
          "yref": "y"
         },
         {
          "showarrow": false,
          "text": "Q",
          "x": 126,
          "xref": "x",
          "y": 2,
          "yref": "y"
         },
         {
          "showarrow": false,
          "text": "K",
          "x": 127,
          "xref": "x",
          "y": 2,
          "yref": "y"
         },
         {
          "showarrow": false,
          "text": "V",
          "x": 128,
          "xref": "x",
          "y": 2,
          "yref": "y"
         },
         {
          "showarrow": false,
          "text": "E",
          "x": 129,
          "xref": "x",
          "y": 2,
          "yref": "y"
         },
         {
          "showarrow": false,
          "text": "I",
          "x": 130,
          "xref": "x",
          "y": 2,
          "yref": "y"
         },
         {
          "showarrow": false,
          "text": "F",
          "x": 131,
          "xref": "x",
          "y": 2,
          "yref": "y"
         },
         {
          "showarrow": false,
          "text": "S",
          "x": 132,
          "xref": "x",
          "y": 2,
          "yref": "y"
         },
         {
          "showarrow": false,
          "text": "Q",
          "x": 133,
          "xref": "x",
          "y": 2,
          "yref": "y"
         },
         {
          "showarrow": false,
          "text": "S",
          "x": 134,
          "xref": "x",
          "y": 2,
          "yref": "y"
         },
         {
          "showarrow": false,
          "text": "L",
          "x": 135,
          "xref": "x",
          "y": 2,
          "yref": "y"
         },
         {
          "showarrow": false,
          "text": "L",
          "x": 136,
          "xref": "x",
          "y": 2,
          "yref": "y"
         },
         {
          "showarrow": false,
          "text": "V",
          "x": 137,
          "xref": "x",
          "y": 2,
          "yref": "y"
         },
         {
          "showarrow": false,
          "text": "-",
          "x": 138,
          "xref": "x",
          "y": 2,
          "yref": "y"
         },
         {
          "showarrow": false,
          "text": "E",
          "x": 139,
          "xref": "x",
          "y": 2,
          "yref": "y"
         },
         {
          "showarrow": false,
          "text": "P",
          "x": 140,
          "xref": "x",
          "y": 2,
          "yref": "y"
         },
         {
          "showarrow": false,
          "text": "G",
          "x": 141,
          "xref": "x",
          "y": 2,
          "yref": "y"
         },
         {
          "showarrow": false,
          "text": "R",
          "x": 142,
          "xref": "x",
          "y": 2,
          "yref": "y"
         },
         {
          "showarrow": false,
          "text": "-",
          "x": 143,
          "xref": "x",
          "y": 2,
          "yref": "y"
         },
         {
          "showarrow": false,
          "text": "R",
          "x": 144,
          "xref": "x",
          "y": 2,
          "yref": "y"
         },
         {
          "showarrow": false,
          "text": "E",
          "x": 145,
          "xref": "x",
          "y": 2,
          "yref": "y"
         },
         {
          "showarrow": false,
          "text": "-",
          "x": 146,
          "xref": "x",
          "y": 2,
          "yref": "y"
         },
         {
          "showarrow": false,
          "text": "-",
          "x": 147,
          "xref": "x",
          "y": 2,
          "yref": "y"
         },
         {
          "showarrow": false,
          "text": "-",
          "x": 148,
          "xref": "x",
          "y": 2,
          "yref": "y"
         },
         {
          "showarrow": false,
          "text": "-",
          "x": 149,
          "xref": "x",
          "y": 2,
          "yref": "y"
         },
         {
          "showarrow": false,
          "text": "G",
          "x": 150,
          "xref": "x",
          "y": 2,
          "yref": "y"
         },
         {
          "showarrow": false,
          "text": "Q",
          "x": 151,
          "xref": "x",
          "y": 2,
          "yref": "y"
         },
         {
          "showarrow": false,
          "text": "A",
          "x": 152,
          "xref": "x",
          "y": 2,
          "yref": "y"
         },
         {
          "showarrow": false,
          "text": "P",
          "x": 153,
          "xref": "x",
          "y": 2,
          "yref": "y"
         },
         {
          "showarrow": false,
          "text": "D",
          "x": 154,
          "xref": "x",
          "y": 2,
          "yref": "y"
         },
         {
          "showarrow": false,
          "text": "S",
          "x": 155,
          "xref": "x",
          "y": 2,
          "yref": "y"
         },
         {
          "showarrow": false,
          "text": "G",
          "x": 156,
          "xref": "x",
          "y": 2,
          "yref": "y"
         },
         {
          "showarrow": false,
          "text": "I",
          "x": 157,
          "xref": "x",
          "y": 2,
          "yref": "y"
         },
         {
          "showarrow": false,
          "text": "S",
          "x": 158,
          "xref": "x",
          "y": 2,
          "yref": "y"
         },
         {
          "showarrow": false,
          "text": "D",
          "x": 159,
          "xref": "x",
          "y": 2,
          "yref": "y"
         },
         {
          "showarrow": false,
          "text": "W",
          "x": 160,
          "xref": "x",
          "y": 2,
          "yref": "y"
         },
         {
          "showarrow": false,
          "text": "T",
          "x": 161,
          "xref": "x",
          "y": 2,
          "yref": "y"
         },
         {
          "showarrow": false,
          "text": "H",
          "x": 162,
          "xref": "x",
          "y": 2,
          "yref": "y"
         },
         {
          "showarrow": false,
          "text": "Q",
          "x": 163,
          "xref": "x",
          "y": 2,
          "yref": "y"
         },
         {
          "showarrow": false,
          "text": "Q",
          "x": 164,
          "xref": "x",
          "y": 2,
          "yref": "y"
         },
         {
          "showarrow": false,
          "text": "V",
          "x": 165,
          "xref": "x",
          "y": 2,
          "yref": "y"
         },
         {
          "showarrow": false,
          "text": "P",
          "x": 166,
          "xref": "x",
          "y": 2,
          "yref": "y"
         },
         {
          "showarrow": false,
          "text": "S",
          "x": 167,
          "xref": "x",
          "y": 2,
          "yref": "y"
         },
         {
          "showarrow": false,
          "text": "-",
          "x": 168,
          "xref": "x",
          "y": 2,
          "yref": "y"
         },
         {
          "showarrow": false,
          "text": "M",
          "x": 169,
          "xref": "x",
          "y": 2,
          "yref": "y"
         },
         {
          "showarrow": false,
          "text": "S",
          "x": 170,
          "xref": "x",
          "y": 2,
          "yref": "y"
         },
         {
          "showarrow": false,
          "text": "G",
          "x": 171,
          "xref": "x",
          "y": 2,
          "yref": "y"
         },
         {
          "showarrow": false,
          "text": "A",
          "x": 172,
          "xref": "x",
          "y": 2,
          "yref": "y"
         },
         {
          "showarrow": false,
          "text": "P",
          "x": 173,
          "xref": "x",
          "y": 2,
          "yref": "y"
         },
         {
          "showarrow": false,
          "text": "L",
          "x": 174,
          "xref": "x",
          "y": 2,
          "yref": "y"
         },
         {
          "showarrow": false,
          "text": "P",
          "x": 175,
          "xref": "x",
          "y": 2,
          "yref": "y"
         },
         {
          "showarrow": false,
          "text": "P",
          "x": 176,
          "xref": "x",
          "y": 2,
          "yref": "y"
         },
         {
          "showarrow": false,
          "text": "Q",
          "x": 177,
          "xref": "x",
          "y": 2,
          "yref": "y"
         },
         {
          "showarrow": false,
          "text": "G",
          "x": 178,
          "xref": "x",
          "y": 2,
          "yref": "y"
         },
         {
          "showarrow": false,
          "text": "L",
          "x": 179,
          "xref": "x",
          "y": 2,
          "yref": "y"
         },
         {
          "showarrow": false,
          "text": "R",
          "x": 180,
          "xref": "x",
          "y": 2,
          "yref": "y"
         },
         {
          "showarrow": false,
          "text": "E",
          "x": 181,
          "xref": "x",
          "y": 2,
          "yref": "y"
         },
         {
          "showarrow": false,
          "text": "A",
          "x": 182,
          "xref": "x",
          "y": 2,
          "yref": "y"
         },
         {
          "showarrow": false,
          "text": "T",
          "x": 183,
          "xref": "x",
          "y": 2,
          "yref": "y"
         },
         {
          "showarrow": false,
          "text": "H",
          "x": 184,
          "xref": "x",
          "y": 2,
          "yref": "y"
         },
         {
          "showarrow": false,
          "text": "Q",
          "x": 185,
          "xref": "x",
          "y": 2,
          "yref": "y"
         },
         {
          "showarrow": false,
          "text": "-",
          "x": 186,
          "xref": "x",
          "y": 2,
          "yref": "y"
         },
         {
          "showarrow": false,
          "text": "P",
          "x": 187,
          "xref": "x",
          "y": 2,
          "yref": "y"
         },
         {
          "showarrow": false,
          "text": "L",
          "x": 188,
          "xref": "x",
          "y": 2,
          "yref": "y"
         },
         {
          "showarrow": false,
          "text": "G",
          "x": 189,
          "xref": "x",
          "y": 2,
          "yref": "y"
         },
         {
          "showarrow": false,
          "text": "T",
          "x": 190,
          "xref": "x",
          "y": 2,
          "yref": "y"
         },
         {
          "showarrow": false,
          "text": "R",
          "x": 191,
          "xref": "x",
          "y": 2,
          "yref": "y"
         },
         {
          "showarrow": false,
          "text": "P",
          "x": 192,
          "xref": "x",
          "y": 2,
          "yref": "y"
         },
         {
          "showarrow": false,
          "text": "E",
          "x": 193,
          "xref": "x",
          "y": 2,
          "yref": "y"
         },
         {
          "showarrow": false,
          "text": "D",
          "x": 194,
          "xref": "x",
          "y": 2,
          "yref": "y"
         },
         {
          "showarrow": false,
          "text": "V",
          "x": 195,
          "xref": "x",
          "y": 2,
          "yref": "y"
         },
         {
          "showarrow": false,
          "text": "E",
          "x": 196,
          "xref": "x",
          "y": 2,
          "yref": "y"
         },
         {
          "showarrow": false,
          "text": "-",
          "x": 197,
          "xref": "x",
          "y": 2,
          "yref": "y"
         },
         {
          "showarrow": false,
          "text": "-",
          "x": 198,
          "xref": "x",
          "y": 2,
          "yref": "y"
         },
         {
          "showarrow": false,
          "text": "R",
          "x": 199,
          "xref": "x",
          "y": 2,
          "yref": "y"
         },
         {
          "showarrow": false,
          "text": "S",
          "x": 200,
          "xref": "x",
          "y": 2,
          "yref": "y"
         },
         {
          "showarrow": false,
          "text": "H",
          "x": 201,
          "xref": "x",
          "y": 2,
          "yref": "y"
         },
         {
          "showarrow": false,
          "text": "P",
          "x": 202,
          "xref": "x",
          "y": 2,
          "yref": "y"
         },
         {
          "showarrow": false,
          "text": "A",
          "x": 203,
          "xref": "x",
          "y": 2,
          "yref": "y"
         },
         {
          "showarrow": false,
          "text": "S",
          "x": 204,
          "xref": "x",
          "y": 2,
          "yref": "y"
         },
         {
          "showarrow": false,
          "text": "E",
          "x": 205,
          "xref": "x",
          "y": 2,
          "yref": "y"
         },
         {
          "showarrow": false,
          "text": "L",
          "x": 206,
          "xref": "x",
          "y": 2,
          "yref": "y"
         },
         {
          "showarrow": false,
          "text": "L",
          "x": 207,
          "xref": "x",
          "y": 2,
          "yref": "y"
         },
         {
          "showarrow": false,
          "text": "-",
          "x": 208,
          "xref": "x",
          "y": 2,
          "yref": "y"
         },
         {
          "showarrow": false,
          "text": "W",
          "x": 209,
          "xref": "x",
          "y": 2,
          "yref": "y"
         },
         {
          "showarrow": false,
          "text": "-",
          "x": 210,
          "xref": "x",
          "y": 2,
          "yref": "y"
         },
         {
          "showarrow": false,
          "text": "Q",
          "x": 211,
          "xref": "x",
          "y": 2,
          "yref": "y"
         },
         {
          "showarrow": false,
          "text": "-",
          "x": 212,
          "xref": "x",
          "y": 2,
          "yref": "y"
         },
         {
          "showarrow": false,
          "text": "-",
          "x": 213,
          "xref": "x",
          "y": 2,
          "yref": "y"
         },
         {
          "showarrow": false,
          "text": "-",
          "x": 214,
          "xref": "x",
          "y": 2,
          "yref": "y"
         },
         {
          "showarrow": false,
          "text": "-",
          "x": 215,
          "xref": "x",
          "y": 2,
          "yref": "y"
         },
         {
          "showarrow": false,
          "text": "-",
          "x": 216,
          "xref": "x",
          "y": 2,
          "yref": "y"
         },
         {
          "showarrow": false,
          "text": "-",
          "x": 217,
          "xref": "x",
          "y": 2,
          "yref": "y"
         },
         {
          "showarrow": false,
          "text": "-",
          "x": 218,
          "xref": "x",
          "y": 2,
          "yref": "y"
         },
         {
          "showarrow": false,
          "text": "E",
          "x": 219,
          "xref": "x",
          "y": 2,
          "yref": "y"
         },
         {
          "showarrow": false,
          "text": "S",
          "x": 220,
          "xref": "x",
          "y": 2,
          "yref": "y"
         },
         {
          "showarrow": false,
          "text": "P",
          "x": 221,
          "xref": "x",
          "y": 2,
          "yref": "y"
         },
         {
          "showarrow": false,
          "text": "Q",
          "x": 222,
          "xref": "x",
          "y": 2,
          "yref": "y"
         },
         {
          "showarrow": false,
          "text": "-",
          "x": 223,
          "xref": "x",
          "y": 2,
          "yref": "y"
         },
         {
          "showarrow": false,
          "text": "K",
          "x": 224,
          "xref": "x",
          "y": 2,
          "yref": "y"
         },
         {
          "showarrow": false,
          "text": "E",
          "x": 225,
          "xref": "x",
          "y": 2,
          "yref": "y"
         },
         {
          "showarrow": false,
          "text": "A",
          "x": 226,
          "xref": "x",
          "y": 2,
          "yref": "y"
         },
         {
          "showarrow": false,
          "text": "W",
          "x": 227,
          "xref": "x",
          "y": 2,
          "yref": "y"
         },
         {
          "showarrow": false,
          "text": "G",
          "x": 228,
          "xref": "x",
          "y": 2,
          "yref": "y"
         },
         {
          "showarrow": false,
          "text": "K",
          "x": 229,
          "xref": "x",
          "y": 2,
          "yref": "y"
         },
         {
          "showarrow": false,
          "text": "D",
          "x": 230,
          "xref": "x",
          "y": 2,
          "yref": "y"
         },
         {
          "showarrow": false,
          "text": "R",
          "x": 231,
          "xref": "x",
          "y": 2,
          "yref": "y"
         },
         {
          "showarrow": false,
          "text": "L",
          "x": 232,
          "xref": "x",
          "y": 2,
          "yref": "y"
         },
         {
          "showarrow": false,
          "text": "G",
          "x": 233,
          "xref": "x",
          "y": 2,
          "yref": "y"
         },
         {
          "showarrow": false,
          "text": "S",
          "x": 234,
          "xref": "x",
          "y": 2,
          "yref": "y"
         },
         {
          "showarrow": false,
          "text": "E",
          "x": 235,
          "xref": "x",
          "y": 2,
          "yref": "y"
         },
         {
          "showarrow": false,
          "text": "E",
          "x": 236,
          "xref": "x",
          "y": 2,
          "yref": "y"
         },
         {
          "showarrow": false,
          "text": "E",
          "x": 237,
          "xref": "x",
          "y": 2,
          "yref": "y"
         },
         {
          "showarrow": false,
          "text": "V",
          "x": 238,
          "xref": "x",
          "y": 2,
          "yref": "y"
         },
         {
          "showarrow": false,
          "text": "D",
          "x": 239,
          "xref": "x",
          "y": 2,
          "yref": "y"
         },
         {
          "showarrow": false,
          "text": "E",
          "x": 240,
          "xref": "x",
          "y": 2,
          "yref": "y"
         },
         {
          "showarrow": false,
          "text": "D",
          "x": 241,
          "xref": "x",
          "y": 2,
          "yref": "y"
         },
         {
          "showarrow": false,
          "text": "I",
          "x": 242,
          "xref": "x",
          "y": 2,
          "yref": "y"
         },
         {
          "showarrow": false,
          "text": "-",
          "x": 243,
          "xref": "x",
          "y": 2,
          "yref": "y"
         },
         {
          "showarrow": false,
          "text": "-",
          "x": 244,
          "xref": "x",
          "y": 2,
          "yref": "y"
         },
         {
          "showarrow": false,
          "text": "T",
          "x": 245,
          "xref": "x",
          "y": 2,
          "yref": "y"
         },
         {
          "showarrow": false,
          "text": "M",
          "x": 246,
          "xref": "x",
          "y": 2,
          "yref": "y"
         },
         {
          "showarrow": false,
          "text": "D",
          "x": 247,
          "xref": "x",
          "y": 2,
          "yref": "y"
         },
         {
          "showarrow": false,
          "text": "E",
          "x": 248,
          "xref": "x",
          "y": 2,
          "yref": "y"
         },
         {
          "showarrow": false,
          "text": "S",
          "x": 249,
          "xref": "x",
          "y": 2,
          "yref": "y"
         },
         {
          "showarrow": false,
          "text": "S",
          "x": 250,
          "xref": "x",
          "y": 2,
          "yref": "y"
         },
         {
          "showarrow": false,
          "text": "-",
          "x": 251,
          "xref": "x",
          "y": 2,
          "yref": "y"
         },
         {
          "showarrow": false,
          "text": "-",
          "x": 252,
          "xref": "x",
          "y": 2,
          "yref": "y"
         },
         {
          "showarrow": false,
          "text": "Q",
          "x": 253,
          "xref": "x",
          "y": 2,
          "yref": "y"
         },
         {
          "showarrow": false,
          "text": "E",
          "x": 254,
          "xref": "x",
          "y": 2,
          "yref": "y"
         },
         {
          "showarrow": false,
          "text": "S",
          "x": 255,
          "xref": "x",
          "y": 2,
          "yref": "y"
         },
         {
          "showarrow": false,
          "text": "P",
          "x": 256,
          "xref": "x",
          "y": 2,
          "yref": "y"
         },
         {
          "showarrow": false,
          "text": "P",
          "x": 257,
          "xref": "x",
          "y": 2,
          "yref": "y"
         },
         {
          "showarrow": false,
          "text": "S",
          "x": 258,
          "xref": "x",
          "y": 2,
          "yref": "y"
         },
         {
          "showarrow": false,
          "text": "-",
          "x": 259,
          "xref": "x",
          "y": 2,
          "yref": "y"
         },
         {
          "showarrow": false,
          "text": "-",
          "x": 260,
          "xref": "x",
          "y": 2,
          "yref": "y"
         },
         {
          "showarrow": false,
          "text": "-",
          "x": 261,
          "xref": "x",
          "y": 2,
          "yref": "y"
         },
         {
          "showarrow": false,
          "text": "-",
          "x": 262,
          "xref": "x",
          "y": 2,
          "yref": "y"
         },
         {
          "showarrow": false,
          "text": "-",
          "x": 263,
          "xref": "x",
          "y": 2,
          "yref": "y"
         },
         {
          "showarrow": false,
          "text": "Q",
          "x": 264,
          "xref": "x",
          "y": 2,
          "yref": "y"
         },
         {
          "showarrow": false,
          "text": "-",
          "x": 265,
          "xref": "x",
          "y": 2,
          "yref": "y"
         },
         {
          "showarrow": false,
          "text": "A",
          "x": 266,
          "xref": "x",
          "y": 2,
          "yref": "y"
         },
         {
          "showarrow": false,
          "text": "S",
          "x": 267,
          "xref": "x",
          "y": 2,
          "yref": "y"
         },
         {
          "showarrow": false,
          "text": "L",
          "x": 268,
          "xref": "x",
          "y": 2,
          "yref": "y"
         },
         {
          "showarrow": false,
          "text": "A",
          "x": 269,
          "xref": "x",
          "y": 2,
          "yref": "y"
         },
         {
          "showarrow": false,
          "text": "P",
          "x": 270,
          "xref": "x",
          "y": 2,
          "yref": "y"
         },
         {
          "showarrow": false,
          "text": "-",
          "x": 271,
          "xref": "x",
          "y": 2,
          "yref": "y"
         },
         {
          "showarrow": false,
          "text": "G",
          "x": 272,
          "xref": "x",
          "y": 2,
          "yref": "y"
         },
         {
          "showarrow": false,
          "text": "T",
          "x": 273,
          "xref": "x",
          "y": 2,
          "yref": "y"
         },
         {
          "showarrow": false,
          "text": "A",
          "x": 274,
          "xref": "x",
          "y": 2,
          "yref": "y"
         },
         {
          "showarrow": false,
          "text": "T",
          "x": 275,
          "xref": "x",
          "y": 2,
          "yref": "y"
         },
         {
          "showarrow": false,
          "text": "P",
          "x": 276,
          "xref": "x",
          "y": 2,
          "yref": "y"
         },
         {
          "showarrow": false,
          "text": "Q",
          "x": 277,
          "xref": "x",
          "y": 2,
          "yref": "y"
         },
         {
          "showarrow": false,
          "text": "-",
          "x": 278,
          "xref": "x",
          "y": 2,
          "yref": "y"
         },
         {
          "showarrow": false,
          "text": "A",
          "x": 279,
          "xref": "x",
          "y": 2,
          "yref": "y"
         },
         {
          "showarrow": false,
          "text": "R",
          "x": 280,
          "xref": "x",
          "y": 2,
          "yref": "y"
         },
         {
          "showarrow": false,
          "text": "S",
          "x": 281,
          "xref": "x",
          "y": 2,
          "yref": "y"
         },
         {
          "showarrow": false,
          "text": "V",
          "x": 282,
          "xref": "x",
          "y": 2,
          "yref": "y"
         },
         {
          "showarrow": false,
          "text": "S",
          "x": 283,
          "xref": "x",
          "y": 2,
          "yref": "y"
         },
         {
          "showarrow": false,
          "text": "A",
          "x": 284,
          "xref": "x",
          "y": 2,
          "yref": "y"
         },
         {
          "showarrow": false,
          "text": "S",
          "x": 285,
          "xref": "x",
          "y": 2,
          "yref": "y"
         },
         {
          "showarrow": false,
          "text": "G",
          "x": 286,
          "xref": "x",
          "y": 2,
          "yref": "y"
         },
         {
          "showarrow": false,
          "text": "V",
          "x": 287,
          "xref": "x",
          "y": 2,
          "yref": "y"
         },
         {
          "showarrow": false,
          "text": "S",
          "x": 288,
          "xref": "x",
          "y": 2,
          "yref": "y"
         },
         {
          "showarrow": false,
          "text": "G",
          "x": 289,
          "xref": "x",
          "y": 2,
          "yref": "y"
         },
         {
          "showarrow": false,
          "text": "E",
          "x": 290,
          "xref": "x",
          "y": 2,
          "yref": "y"
         },
         {
          "showarrow": false,
          "text": "T",
          "x": 291,
          "xref": "x",
          "y": 2,
          "yref": "y"
         },
         {
          "showarrow": false,
          "text": "T",
          "x": 292,
          "xref": "x",
          "y": 2,
          "yref": "y"
         },
         {
          "showarrow": false,
          "text": "S",
          "x": 293,
          "xref": "x",
          "y": 2,
          "yref": "y"
         },
         {
          "showarrow": false,
          "text": "I",
          "x": 294,
          "xref": "x",
          "y": 2,
          "yref": "y"
         },
         {
          "showarrow": false,
          "text": "P",
          "x": 295,
          "xref": "x",
          "y": 2,
          "yref": "y"
         },
         {
          "showarrow": false,
          "text": "G",
          "x": 296,
          "xref": "x",
          "y": 2,
          "yref": "y"
         },
         {
          "showarrow": false,
          "text": "F",
          "x": 297,
          "xref": "x",
          "y": 2,
          "yref": "y"
         },
         {
          "showarrow": false,
          "text": "P",
          "x": 298,
          "xref": "x",
          "y": 2,
          "yref": "y"
         },
         {
          "showarrow": false,
          "text": "A",
          "x": 299,
          "xref": "x",
          "y": 2,
          "yref": "y"
         },
         {
          "showarrow": false,
          "text": "E",
          "x": 300,
          "xref": "x",
          "y": 2,
          "yref": "y"
         },
         {
          "showarrow": false,
          "text": "G",
          "x": 301,
          "xref": "x",
          "y": 2,
          "yref": "y"
         },
         {
          "showarrow": false,
          "text": "S",
          "x": 302,
          "xref": "x",
          "y": 2,
          "yref": "y"
         },
         {
          "showarrow": false,
          "text": "I",
          "x": 303,
          "xref": "x",
          "y": 2,
          "yref": "y"
         },
         {
          "showarrow": false,
          "text": "P",
          "x": 304,
          "xref": "x",
          "y": 2,
          "yref": "y"
         },
         {
          "showarrow": false,
          "text": "L",
          "x": 305,
          "xref": "x",
          "y": 2,
          "yref": "y"
         },
         {
          "showarrow": false,
          "text": "P",
          "x": 306,
          "xref": "x",
          "y": 2,
          "yref": "y"
         },
         {
          "showarrow": false,
          "text": "-",
          "x": 307,
          "xref": "x",
          "y": 2,
          "yref": "y"
         },
         {
          "showarrow": false,
          "text": "A",
          "x": 308,
          "xref": "x",
          "y": 2,
          "yref": "y"
         },
         {
          "showarrow": false,
          "text": "D",
          "x": 309,
          "xref": "x",
          "y": 2,
          "yref": "y"
         },
         {
          "showarrow": false,
          "text": "F",
          "x": 310,
          "xref": "x",
          "y": 2,
          "yref": "y"
         },
         {
          "showarrow": false,
          "text": "F",
          "x": 311,
          "xref": "x",
          "y": 2,
          "yref": "y"
         },
         {
          "showarrow": false,
          "text": "-",
          "x": 312,
          "xref": "x",
          "y": 2,
          "yref": "y"
         },
         {
          "showarrow": false,
          "text": "S",
          "x": 313,
          "xref": "x",
          "y": 2,
          "yref": "y"
         },
         {
          "showarrow": false,
          "text": "K",
          "x": 314,
          "xref": "x",
          "y": 2,
          "yref": "y"
         },
         {
          "showarrow": false,
          "text": "V",
          "x": 315,
          "xref": "x",
          "y": 2,
          "yref": "y"
         },
         {
          "showarrow": false,
          "text": "S",
          "x": 316,
          "xref": "x",
          "y": 2,
          "yref": "y"
         },
         {
          "showarrow": false,
          "text": "A",
          "x": 317,
          "xref": "x",
          "y": 2,
          "yref": "y"
         },
         {
          "showarrow": false,
          "text": "E",
          "x": 318,
          "xref": "x",
          "y": 2,
          "yref": "y"
         },
         {
          "showarrow": false,
          "text": "T",
          "x": 319,
          "xref": "x",
          "y": 2,
          "yref": "y"
         },
         {
          "showarrow": false,
          "text": "Q",
          "x": 320,
          "xref": "x",
          "y": 2,
          "yref": "y"
         },
         {
          "showarrow": false,
          "text": "A",
          "x": 321,
          "xref": "x",
          "y": 2,
          "yref": "y"
         },
         {
          "showarrow": false,
          "text": "S",
          "x": 322,
          "xref": "x",
          "y": 2,
          "yref": "y"
         },
         {
          "showarrow": false,
          "text": "-",
          "x": 323,
          "xref": "x",
          "y": 2,
          "yref": "y"
         },
         {
          "showarrow": false,
          "text": "-",
          "x": 324,
          "xref": "x",
          "y": 2,
          "yref": "y"
         },
         {
          "showarrow": false,
          "text": "-",
          "x": 325,
          "xref": "x",
          "y": 2,
          "yref": "y"
         },
         {
          "showarrow": false,
          "text": "P",
          "x": 326,
          "xref": "x",
          "y": 2,
          "yref": "y"
         },
         {
          "showarrow": false,
          "text": "P",
          "x": 327,
          "xref": "x",
          "y": 2,
          "yref": "y"
         },
         {
          "showarrow": false,
          "text": "E",
          "x": 328,
          "xref": "x",
          "y": 2,
          "yref": "y"
         },
         {
          "showarrow": false,
          "text": "G",
          "x": 329,
          "xref": "x",
          "y": 2,
          "yref": "y"
         },
         {
          "showarrow": false,
          "text": "P",
          "x": 330,
          "xref": "x",
          "y": 2,
          "yref": "y"
         },
         {
          "showarrow": false,
          "text": "G",
          "x": 331,
          "xref": "x",
          "y": 2,
          "yref": "y"
         },
         {
          "showarrow": false,
          "text": "T",
          "x": 332,
          "xref": "x",
          "y": 2,
          "yref": "y"
         },
         {
          "showarrow": false,
          "text": "G",
          "x": 333,
          "xref": "x",
          "y": 2,
          "yref": "y"
         },
         {
          "showarrow": false,
          "text": "P",
          "x": 334,
          "xref": "x",
          "y": 2,
          "yref": "y"
         },
         {
          "showarrow": false,
          "text": "S",
          "x": 335,
          "xref": "x",
          "y": 2,
          "yref": "y"
         },
         {
          "showarrow": false,
          "text": "E",
          "x": 336,
          "xref": "x",
          "y": 2,
          "yref": "y"
         },
         {
          "showarrow": false,
          "text": "E",
          "x": 337,
          "xref": "x",
          "y": 2,
          "yref": "y"
         },
         {
          "showarrow": false,
          "text": "G",
          "x": 338,
          "xref": "x",
          "y": 2,
          "yref": "y"
         },
         {
          "showarrow": false,
          "text": "H",
          "x": 339,
          "xref": "x",
          "y": 2,
          "yref": "y"
         },
         {
          "showarrow": false,
          "text": "E",
          "x": 340,
          "xref": "x",
          "y": 2,
          "yref": "y"
         },
         {
          "showarrow": false,
          "text": "A",
          "x": 341,
          "xref": "x",
          "y": 2,
          "yref": "y"
         },
         {
          "showarrow": false,
          "text": "A",
          "x": 342,
          "xref": "x",
          "y": 2,
          "yref": "y"
         },
         {
          "showarrow": false,
          "text": "P",
          "x": 343,
          "xref": "x",
          "y": 2,
          "yref": "y"
         },
         {
          "showarrow": false,
          "text": "-",
          "x": 344,
          "xref": "x",
          "y": 2,
          "yref": "y"
         },
         {
          "showarrow": false,
          "text": "E",
          "x": 345,
          "xref": "x",
          "y": 2,
          "yref": "y"
         },
         {
          "showarrow": false,
          "text": "F",
          "x": 346,
          "xref": "x",
          "y": 2,
          "yref": "y"
         },
         {
          "showarrow": false,
          "text": "T",
          "x": 347,
          "xref": "x",
          "y": 2,
          "yref": "y"
         },
         {
          "showarrow": false,
          "text": "F",
          "x": 348,
          "xref": "x",
          "y": 2,
          "yref": "y"
         },
         {
          "showarrow": false,
          "text": "H",
          "x": 349,
          "xref": "x",
          "y": 2,
          "yref": "y"
         },
         {
          "showarrow": false,
          "text": "V",
          "x": 350,
          "xref": "x",
          "y": 2,
          "yref": "y"
         },
         {
          "showarrow": false,
          "text": "E",
          "x": 351,
          "xref": "x",
          "y": 2,
          "yref": "y"
         },
         {
          "showarrow": false,
          "text": "I",
          "x": 352,
          "xref": "x",
          "y": 2,
          "yref": "y"
         },
         {
          "showarrow": false,
          "text": "K",
          "x": 353,
          "xref": "x",
          "y": 2,
          "yref": "y"
         },
         {
          "showarrow": false,
          "text": "A",
          "x": 354,
          "xref": "x",
          "y": 2,
          "yref": "y"
         },
         {
          "showarrow": false,
          "text": "-",
          "x": 355,
          "xref": "x",
          "y": 2,
          "yref": "y"
         },
         {
          "showarrow": false,
          "text": "-",
          "x": 356,
          "xref": "x",
          "y": 2,
          "yref": "y"
         },
         {
          "showarrow": false,
          "text": "S",
          "x": 357,
          "xref": "x",
          "y": 2,
          "yref": "y"
         },
         {
          "showarrow": false,
          "text": "A",
          "x": 358,
          "xref": "x",
          "y": 2,
          "yref": "y"
         },
         {
          "showarrow": false,
          "text": "-",
          "x": 359,
          "xref": "x",
          "y": 2,
          "yref": "y"
         },
         {
          "showarrow": false,
          "text": "-",
          "x": 360,
          "xref": "x",
          "y": 2,
          "yref": "y"
         },
         {
          "showarrow": false,
          "text": "P",
          "x": 361,
          "xref": "x",
          "y": 2,
          "yref": "y"
         },
         {
          "showarrow": false,
          "text": "K",
          "x": 362,
          "xref": "x",
          "y": 2,
          "yref": "y"
         },
         {
          "showarrow": false,
          "text": "E",
          "x": 363,
          "xref": "x",
          "y": 2,
          "yref": "y"
         },
         {
          "showarrow": false,
          "text": "Q",
          "x": 364,
          "xref": "x",
          "y": 2,
          "yref": "y"
         },
         {
          "showarrow": false,
          "text": "D",
          "x": 365,
          "xref": "x",
          "y": 2,
          "yref": "y"
         },
         {
          "showarrow": false,
          "text": "L",
          "x": 366,
          "xref": "x",
          "y": 2,
          "yref": "y"
         },
         {
          "showarrow": false,
          "text": "-",
          "x": 367,
          "xref": "x",
          "y": 2,
          "yref": "y"
         },
         {
          "showarrow": false,
          "text": "E",
          "x": 368,
          "xref": "x",
          "y": 2,
          "yref": "y"
         },
         {
          "showarrow": false,
          "text": "-",
          "x": 369,
          "xref": "x",
          "y": 2,
          "yref": "y"
         },
         {
          "showarrow": false,
          "text": "-",
          "x": 370,
          "xref": "x",
          "y": 2,
          "yref": "y"
         },
         {
          "showarrow": false,
          "text": "-",
          "x": 371,
          "xref": "x",
          "y": 2,
          "yref": "y"
         },
         {
          "showarrow": false,
          "text": "G",
          "x": 372,
          "xref": "x",
          "y": 2,
          "yref": "y"
         },
         {
          "showarrow": false,
          "text": "-",
          "x": 373,
          "xref": "x",
          "y": 2,
          "yref": "y"
         },
         {
          "showarrow": false,
          "text": "A",
          "x": 374,
          "xref": "x",
          "y": 2,
          "yref": "y"
         },
         {
          "showarrow": false,
          "text": "T",
          "x": 375,
          "xref": "x",
          "y": 2,
          "yref": "y"
         },
         {
          "showarrow": false,
          "text": "V",
          "x": 376,
          "xref": "x",
          "y": 2,
          "yref": "y"
         },
         {
          "showarrow": false,
          "text": "V",
          "x": 377,
          "xref": "x",
          "y": 2,
          "yref": "y"
         },
         {
          "showarrow": false,
          "text": "G",
          "x": 378,
          "xref": "x",
          "y": 2,
          "yref": "y"
         },
         {
          "showarrow": false,
          "text": "A",
          "x": 379,
          "xref": "x",
          "y": 2,
          "yref": "y"
         },
         {
          "showarrow": false,
          "text": "P",
          "x": 380,
          "xref": "x",
          "y": 2,
          "yref": "y"
         },
         {
          "showarrow": false,
          "text": "A",
          "x": 381,
          "xref": "x",
          "y": 2,
          "yref": "y"
         },
         {
          "showarrow": false,
          "text": "E",
          "x": 382,
          "xref": "x",
          "y": 2,
          "yref": "y"
         },
         {
          "showarrow": false,
          "text": "-",
          "x": 383,
          "xref": "x",
          "y": 2,
          "yref": "y"
         },
         {
          "showarrow": false,
          "text": "-",
          "x": 384,
          "xref": "x",
          "y": 2,
          "yref": "y"
         },
         {
          "showarrow": false,
          "text": "-",
          "x": 385,
          "xref": "x",
          "y": 2,
          "yref": "y"
         },
         {
          "showarrow": false,
          "text": "E",
          "x": 386,
          "xref": "x",
          "y": 2,
          "yref": "y"
         },
         {
          "showarrow": false,
          "text": "Q",
          "x": 387,
          "xref": "x",
          "y": 2,
          "yref": "y"
         },
         {
          "showarrow": false,
          "text": "K",
          "x": 388,
          "xref": "x",
          "y": 2,
          "yref": "y"
         },
         {
          "showarrow": false,
          "text": "A",
          "x": 389,
          "xref": "x",
          "y": 2,
          "yref": "y"
         },
         {
          "showarrow": false,
          "text": "R",
          "x": 390,
          "xref": "x",
          "y": 2,
          "yref": "y"
         },
         {
          "showarrow": false,
          "text": "G",
          "x": 391,
          "xref": "x",
          "y": 2,
          "yref": "y"
         },
         {
          "showarrow": false,
          "text": "P",
          "x": 392,
          "xref": "x",
          "y": 2,
          "yref": "y"
         },
         {
          "showarrow": false,
          "text": "S",
          "x": 393,
          "xref": "x",
          "y": 2,
          "yref": "y"
         },
         {
          "showarrow": false,
          "text": "V",
          "x": 394,
          "xref": "x",
          "y": 2,
          "yref": "y"
         },
         {
          "showarrow": false,
          "text": "G",
          "x": 395,
          "xref": "x",
          "y": 2,
          "yref": "y"
         },
         {
          "showarrow": false,
          "text": "K",
          "x": 396,
          "xref": "x",
          "y": 2,
          "yref": "y"
         },
         {
          "showarrow": false,
          "text": "G",
          "x": 397,
          "xref": "x",
          "y": 2,
          "yref": "y"
         },
         {
          "showarrow": false,
          "text": "T",
          "x": 398,
          "xref": "x",
          "y": 2,
          "yref": "y"
         },
         {
          "showarrow": false,
          "text": "K",
          "x": 399,
          "xref": "x",
          "y": 2,
          "yref": "y"
         },
         {
          "showarrow": false,
          "text": "E",
          "x": 400,
          "xref": "x",
          "y": 2,
          "yref": "y"
         },
         {
          "showarrow": false,
          "text": "A",
          "x": 401,
          "xref": "x",
          "y": 2,
          "yref": "y"
         },
         {
          "showarrow": false,
          "text": "S",
          "x": 402,
          "xref": "x",
          "y": 2,
          "yref": "y"
         },
         {
          "showarrow": false,
          "text": "L",
          "x": 403,
          "xref": "x",
          "y": 2,
          "yref": "y"
         },
         {
          "showarrow": false,
          "text": "L",
          "x": 404,
          "xref": "x",
          "y": 2,
          "yref": "y"
         },
         {
          "showarrow": false,
          "text": "E",
          "x": 405,
          "xref": "x",
          "y": 2,
          "yref": "y"
         },
         {
          "showarrow": false,
          "text": "P",
          "x": 406,
          "xref": "x",
          "y": 2,
          "yref": "y"
         },
         {
          "showarrow": false,
          "text": "T",
          "x": 407,
          "xref": "x",
          "y": 2,
          "yref": "y"
         },
         {
          "showarrow": false,
          "text": "D",
          "x": 408,
          "xref": "x",
          "y": 2,
          "yref": "y"
         },
         {
          "showarrow": false,
          "text": "K",
          "x": 409,
          "xref": "x",
          "y": 2,
          "yref": "y"
         },
         {
          "showarrow": false,
          "text": "Q",
          "x": 410,
          "xref": "x",
          "y": 2,
          "yref": "y"
         },
         {
          "showarrow": false,
          "text": "P",
          "x": 411,
          "xref": "x",
          "y": 2,
          "yref": "y"
         },
         {
          "showarrow": false,
          "text": "A",
          "x": 412,
          "xref": "x",
          "y": 2,
          "yref": "y"
         },
         {
          "showarrow": false,
          "text": "A",
          "x": 413,
          "xref": "x",
          "y": 2,
          "yref": "y"
         },
         {
          "showarrow": false,
          "text": "G",
          "x": 414,
          "xref": "x",
          "y": 2,
          "yref": "y"
         },
         {
          "showarrow": false,
          "text": "L",
          "x": 415,
          "xref": "x",
          "y": 2,
          "yref": "y"
         },
         {
          "showarrow": false,
          "text": "P",
          "x": 416,
          "xref": "x",
          "y": 2,
          "yref": "y"
         },
         {
          "showarrow": false,
          "text": "-",
          "x": 417,
          "xref": "x",
          "y": 2,
          "yref": "y"
         },
         {
          "showarrow": false,
          "text": "G",
          "x": 418,
          "xref": "x",
          "y": 2,
          "yref": "y"
         },
         {
          "showarrow": false,
          "text": "R",
          "x": 419,
          "xref": "x",
          "y": 2,
          "yref": "y"
         },
         {
          "showarrow": false,
          "text": "P",
          "x": 420,
          "xref": "x",
          "y": 2,
          "yref": "y"
         },
         {
          "showarrow": false,
          "text": "V",
          "x": 421,
          "xref": "x",
          "y": 2,
          "yref": "y"
         },
         {
          "showarrow": false,
          "text": "S",
          "x": 422,
          "xref": "x",
          "y": 2,
          "yref": "y"
         },
         {
          "showarrow": false,
          "text": "R",
          "x": 423,
          "xref": "x",
          "y": 2,
          "yref": "y"
         },
         {
          "showarrow": false,
          "text": "V",
          "x": 424,
          "xref": "x",
          "y": 2,
          "yref": "y"
         },
         {
          "showarrow": false,
          "text": "P",
          "x": 425,
          "xref": "x",
          "y": 2,
          "yref": "y"
         },
         {
          "showarrow": false,
          "text": "Q",
          "x": 426,
          "xref": "x",
          "y": 2,
          "yref": "y"
         },
         {
          "showarrow": false,
          "text": "L",
          "x": 427,
          "xref": "x",
          "y": 2,
          "yref": "y"
         },
         {
          "showarrow": false,
          "text": "K",
          "x": 428,
          "xref": "x",
          "y": 2,
          "yref": "y"
         },
         {
          "showarrow": false,
          "text": "A",
          "x": 429,
          "xref": "x",
          "y": 2,
          "yref": "y"
         },
         {
          "showarrow": false,
          "text": "R",
          "x": 430,
          "xref": "x",
          "y": 2,
          "yref": "y"
         },
         {
          "showarrow": false,
          "text": "-",
          "x": 431,
          "xref": "x",
          "y": 2,
          "yref": "y"
         },
         {
          "showarrow": false,
          "text": "V",
          "x": 432,
          "xref": "x",
          "y": 2,
          "yref": "y"
         },
         {
          "showarrow": false,
          "text": "A",
          "x": 433,
          "xref": "x",
          "y": 2,
          "yref": "y"
         },
         {
          "showarrow": false,
          "text": "G",
          "x": 434,
          "xref": "x",
          "y": 2,
          "yref": "y"
         },
         {
          "showarrow": false,
          "text": "V",
          "x": 435,
          "xref": "x",
          "y": 2,
          "yref": "y"
         },
         {
          "showarrow": false,
          "text": "S",
          "x": 436,
          "xref": "x",
          "y": 2,
          "yref": "y"
         },
         {
          "showarrow": false,
          "text": "K",
          "x": 437,
          "xref": "x",
          "y": 2,
          "yref": "y"
         },
         {
          "showarrow": false,
          "text": "D",
          "x": 438,
          "xref": "x",
          "y": 2,
          "yref": "y"
         },
         {
          "showarrow": false,
          "text": "R",
          "x": 439,
          "xref": "x",
          "y": 2,
          "yref": "y"
         },
         {
          "showarrow": false,
          "text": "T",
          "x": 440,
          "xref": "x",
          "y": 2,
          "yref": "y"
         },
         {
          "showarrow": false,
          "text": "G",
          "x": 441,
          "xref": "x",
          "y": 2,
          "yref": "y"
         },
         {
          "showarrow": false,
          "text": "N",
          "x": 442,
          "xref": "x",
          "y": 2,
          "yref": "y"
         },
         {
          "showarrow": false,
          "text": "D",
          "x": 443,
          "xref": "x",
          "y": 2,
          "yref": "y"
         },
         {
          "showarrow": false,
          "text": "E",
          "x": 444,
          "xref": "x",
          "y": 2,
          "yref": "y"
         },
         {
          "showarrow": false,
          "text": "K",
          "x": 445,
          "xref": "x",
          "y": 2,
          "yref": "y"
         },
         {
          "showarrow": false,
          "text": "K",
          "x": 446,
          "xref": "x",
          "y": 2,
          "yref": "y"
         },
         {
          "showarrow": false,
          "text": "A",
          "x": 447,
          "xref": "x",
          "y": 2,
          "yref": "y"
         },
         {
          "showarrow": false,
          "text": "K",
          "x": 448,
          "xref": "x",
          "y": 2,
          "yref": "y"
         },
         {
          "showarrow": false,
          "text": "T",
          "x": 449,
          "xref": "x",
          "y": 2,
          "yref": "y"
         },
         {
          "showarrow": false,
          "text": "S",
          "x": 450,
          "xref": "x",
          "y": 2,
          "yref": "y"
         },
         {
          "showarrow": false,
          "text": "T",
          "x": 451,
          "xref": "x",
          "y": 2,
          "yref": "y"
         },
         {
          "showarrow": false,
          "text": "P",
          "x": 452,
          "xref": "x",
          "y": 2,
          "yref": "y"
         },
         {
          "showarrow": false,
          "text": "S",
          "x": 453,
          "xref": "x",
          "y": 2,
          "yref": "y"
         },
         {
          "showarrow": false,
          "text": "C",
          "x": 454,
          "xref": "x",
          "y": 2,
          "yref": "y"
         },
         {
          "showarrow": false,
          "text": "A",
          "x": 455,
          "xref": "x",
          "y": 2,
          "yref": "y"
         },
         {
          "showarrow": false,
          "text": "K",
          "x": 456,
          "xref": "x",
          "y": 2,
          "yref": "y"
         },
         {
          "showarrow": false,
          "text": "T",
          "x": 457,
          "xref": "x",
          "y": 2,
          "yref": "y"
         },
         {
          "showarrow": false,
          "text": "P",
          "x": 458,
          "xref": "x",
          "y": 2,
          "yref": "y"
         },
         {
          "showarrow": false,
          "text": "S",
          "x": 459,
          "xref": "x",
          "y": 2,
          "yref": "y"
         },
         {
          "showarrow": false,
          "text": "N",
          "x": 460,
          "xref": "x",
          "y": 2,
          "yref": "y"
         },
         {
          "showarrow": false,
          "text": "R",
          "x": 461,
          "xref": "x",
          "y": 2,
          "yref": "y"
         },
         {
          "showarrow": false,
          "text": "P",
          "x": 462,
          "xref": "x",
          "y": 2,
          "yref": "y"
         },
         {
          "showarrow": false,
          "text": "C",
          "x": 463,
          "xref": "x",
          "y": 2,
          "yref": "y"
         },
         {
          "showarrow": false,
          "text": "L",
          "x": 464,
          "xref": "x",
          "y": 2,
          "yref": "y"
         },
         {
          "showarrow": false,
          "text": "S",
          "x": 465,
          "xref": "x",
          "y": 2,
          "yref": "y"
         },
         {
          "showarrow": false,
          "text": "P",
          "x": 466,
          "xref": "x",
          "y": 2,
          "yref": "y"
         },
         {
          "showarrow": false,
          "text": "T",
          "x": 467,
          "xref": "x",
          "y": 2,
          "yref": "y"
         },
         {
          "showarrow": false,
          "text": "R",
          "x": 468,
          "xref": "x",
          "y": 2,
          "yref": "y"
         },
         {
          "showarrow": false,
          "text": "P",
          "x": 469,
          "xref": "x",
          "y": 2,
          "yref": "y"
         },
         {
          "showarrow": false,
          "text": "T",
          "x": 470,
          "xref": "x",
          "y": 2,
          "yref": "y"
         },
         {
          "showarrow": false,
          "text": "P",
          "x": 471,
          "xref": "x",
          "y": 2,
          "yref": "y"
         },
         {
          "showarrow": false,
          "text": "G",
          "x": 472,
          "xref": "x",
          "y": 2,
          "yref": "y"
         },
         {
          "showarrow": false,
          "text": "S",
          "x": 473,
          "xref": "x",
          "y": 2,
          "yref": "y"
         },
         {
          "showarrow": false,
          "text": "S",
          "x": 474,
          "xref": "x",
          "y": 2,
          "yref": "y"
         },
         {
          "showarrow": false,
          "text": "D",
          "x": 475,
          "xref": "x",
          "y": 2,
          "yref": "y"
         },
         {
          "showarrow": false,
          "text": "P",
          "x": 476,
          "xref": "x",
          "y": 2,
          "yref": "y"
         },
         {
          "showarrow": false,
          "text": "L",
          "x": 477,
          "xref": "x",
          "y": 2,
          "yref": "y"
         },
         {
          "showarrow": false,
          "text": "I",
          "x": 478,
          "xref": "x",
          "y": 2,
          "yref": "y"
         },
         {
          "showarrow": false,
          "text": "K",
          "x": 479,
          "xref": "x",
          "y": 2,
          "yref": "y"
         },
         {
          "showarrow": false,
          "text": "P",
          "x": 480,
          "xref": "x",
          "y": 2,
          "yref": "y"
         },
         {
          "showarrow": false,
          "text": "S",
          "x": 481,
          "xref": "x",
          "y": 2,
          "yref": "y"
         },
         {
          "showarrow": false,
          "text": "S",
          "x": 482,
          "xref": "x",
          "y": 2,
          "yref": "y"
         },
         {
          "showarrow": false,
          "text": "P",
          "x": 483,
          "xref": "x",
          "y": 2,
          "yref": "y"
         },
         {
          "showarrow": false,
          "text": "A",
          "x": 484,
          "xref": "x",
          "y": 2,
          "yref": "y"
         },
         {
          "showarrow": false,
          "text": "V",
          "x": 485,
          "xref": "x",
          "y": 2,
          "yref": "y"
         },
         {
          "showarrow": false,
          "text": "C",
          "x": 486,
          "xref": "x",
          "y": 2,
          "yref": "y"
         },
         {
          "showarrow": false,
          "text": "P",
          "x": 487,
          "xref": "x",
          "y": 2,
          "yref": "y"
         },
         {
          "showarrow": false,
          "text": "E",
          "x": 488,
          "xref": "x",
          "y": 2,
          "yref": "y"
         },
         {
          "showarrow": false,
          "text": "P",
          "x": 489,
          "xref": "x",
          "y": 2,
          "yref": "y"
         },
         {
          "showarrow": false,
          "text": "-",
          "x": 490,
          "xref": "x",
          "y": 2,
          "yref": "y"
         },
         {
          "showarrow": false,
          "text": "-",
          "x": 491,
          "xref": "x",
          "y": 2,
          "yref": "y"
         },
         {
          "showarrow": false,
          "text": "A",
          "x": 492,
          "xref": "x",
          "y": 2,
          "yref": "y"
         },
         {
          "showarrow": false,
          "text": "T",
          "x": 493,
          "xref": "x",
          "y": 2,
          "yref": "y"
         },
         {
          "showarrow": false,
          "text": "S",
          "x": 494,
          "xref": "x",
          "y": 2,
          "yref": "y"
         },
         {
          "showarrow": false,
          "text": "P",
          "x": 495,
          "xref": "x",
          "y": 2,
          "yref": "y"
         },
         {
          "showarrow": false,
          "text": "K",
          "x": 496,
          "xref": "x",
          "y": 2,
          "yref": "y"
         },
         {
          "showarrow": false,
          "text": "Y",
          "x": 497,
          "xref": "x",
          "y": 2,
          "yref": "y"
         },
         {
          "showarrow": false,
          "text": "V",
          "x": 498,
          "xref": "x",
          "y": 2,
          "yref": "y"
         },
         {
          "showarrow": false,
          "text": "S",
          "x": 499,
          "xref": "x",
          "y": 2,
          "yref": "y"
         },
         {
          "showarrow": false,
          "text": "S",
          "x": 500,
          "xref": "x",
          "y": 2,
          "yref": "y"
         },
         {
          "showarrow": false,
          "text": "V",
          "x": 501,
          "xref": "x",
          "y": 2,
          "yref": "y"
         },
         {
          "showarrow": false,
          "text": "-",
          "x": 502,
          "xref": "x",
          "y": 2,
          "yref": "y"
         },
         {
          "showarrow": false,
          "text": "-",
          "x": 503,
          "xref": "x",
          "y": 2,
          "yref": "y"
         },
         {
          "showarrow": false,
          "text": "-",
          "x": 504,
          "xref": "x",
          "y": 2,
          "yref": "y"
         },
         {
          "showarrow": false,
          "text": "-",
          "x": 505,
          "xref": "x",
          "y": 2,
          "yref": "y"
         },
         {
          "showarrow": false,
          "text": "-",
          "x": 506,
          "xref": "x",
          "y": 2,
          "yref": "y"
         },
         {
          "showarrow": false,
          "text": "-",
          "x": 507,
          "xref": "x",
          "y": 2,
          "yref": "y"
         },
         {
          "showarrow": false,
          "text": "-",
          "x": 508,
          "xref": "x",
          "y": 2,
          "yref": "y"
         },
         {
          "showarrow": false,
          "text": "-",
          "x": 509,
          "xref": "x",
          "y": 2,
          "yref": "y"
         },
         {
          "showarrow": false,
          "text": "-",
          "x": 510,
          "xref": "x",
          "y": 2,
          "yref": "y"
         },
         {
          "showarrow": false,
          "text": "-",
          "x": 511,
          "xref": "x",
          "y": 2,
          "yref": "y"
         },
         {
          "showarrow": false,
          "text": "-",
          "x": 512,
          "xref": "x",
          "y": 2,
          "yref": "y"
         },
         {
          "showarrow": false,
          "text": "-",
          "x": 513,
          "xref": "x",
          "y": 2,
          "yref": "y"
         },
         {
          "showarrow": false,
          "text": "T",
          "x": 514,
          "xref": "x",
          "y": 2,
          "yref": "y"
         },
         {
          "showarrow": false,
          "text": "-",
          "x": 515,
          "xref": "x",
          "y": 2,
          "yref": "y"
         },
         {
          "showarrow": false,
          "text": "-",
          "x": 516,
          "xref": "x",
          "y": 2,
          "yref": "y"
         },
         {
          "showarrow": false,
          "text": "-",
          "x": 517,
          "xref": "x",
          "y": 2,
          "yref": "y"
         },
         {
          "showarrow": false,
          "text": "P",
          "x": 518,
          "xref": "x",
          "y": 2,
          "yref": "y"
         },
         {
          "showarrow": false,
          "text": "-",
          "x": 519,
          "xref": "x",
          "y": 2,
          "yref": "y"
         },
         {
          "showarrow": false,
          "text": "-",
          "x": 520,
          "xref": "x",
          "y": 2,
          "yref": "y"
         },
         {
          "showarrow": false,
          "text": "-",
          "x": 521,
          "xref": "x",
          "y": 2,
          "yref": "y"
         },
         {
          "showarrow": false,
          "text": "R",
          "x": 522,
          "xref": "x",
          "y": 2,
          "yref": "y"
         },
         {
          "showarrow": false,
          "text": "N",
          "x": 523,
          "xref": "x",
          "y": 2,
          "yref": "y"
         },
         {
          "showarrow": false,
          "text": "G",
          "x": 524,
          "xref": "x",
          "y": 2,
          "yref": "y"
         },
         {
          "showarrow": false,
          "text": "S",
          "x": 525,
          "xref": "x",
          "y": 2,
          "yref": "y"
         },
         {
          "showarrow": false,
          "text": "P",
          "x": 526,
          "xref": "x",
          "y": 2,
          "yref": "y"
         },
         {
          "showarrow": false,
          "text": "G",
          "x": 527,
          "xref": "x",
          "y": 2,
          "yref": "y"
         },
         {
          "showarrow": false,
          "text": "T",
          "x": 528,
          "xref": "x",
          "y": 2,
          "yref": "y"
         },
         {
          "showarrow": false,
          "text": "K",
          "x": 529,
          "xref": "x",
          "y": 2,
          "yref": "y"
         },
         {
          "showarrow": false,
          "text": "Q",
          "x": 530,
          "xref": "x",
          "y": 2,
          "yref": "y"
         },
         {
          "showarrow": false,
          "text": "M",
          "x": 531,
          "xref": "x",
          "y": 2,
          "yref": "y"
         },
         {
          "showarrow": false,
          "text": "K",
          "x": 532,
          "xref": "x",
          "y": 2,
          "yref": "y"
         },
         {
          "showarrow": false,
          "text": "L",
          "x": 533,
          "xref": "x",
          "y": 2,
          "yref": "y"
         },
         {
          "showarrow": false,
          "text": "K",
          "x": 534,
          "xref": "x",
          "y": 2,
          "yref": "y"
         },
         {
          "showarrow": false,
          "text": "G",
          "x": 535,
          "xref": "x",
          "y": 2,
          "yref": "y"
         },
         {
          "showarrow": false,
          "text": "A",
          "x": 536,
          "xref": "x",
          "y": 2,
          "yref": "y"
         },
         {
          "showarrow": false,
          "text": "D",
          "x": 537,
          "xref": "x",
          "y": 2,
          "yref": "y"
         },
         {
          "showarrow": false,
          "text": "G",
          "x": 538,
          "xref": "x",
          "y": 2,
          "yref": "y"
         },
         {
          "showarrow": false,
          "text": "K",
          "x": 539,
          "xref": "x",
          "y": 2,
          "yref": "y"
         },
         {
          "showarrow": false,
          "text": "T",
          "x": 540,
          "xref": "x",
          "y": 2,
          "yref": "y"
         },
         {
          "showarrow": false,
          "text": "G",
          "x": 541,
          "xref": "x",
          "y": 2,
          "yref": "y"
         },
         {
          "showarrow": false,
          "text": "A",
          "x": 542,
          "xref": "x",
          "y": 2,
          "yref": "y"
         },
         {
          "showarrow": false,
          "text": "K",
          "x": 543,
          "xref": "x",
          "y": 2,
          "yref": "y"
         },
         {
          "showarrow": false,
          "text": "I",
          "x": 544,
          "xref": "x",
          "y": 2,
          "yref": "y"
         },
         {
          "showarrow": false,
          "text": "A",
          "x": 545,
          "xref": "x",
          "y": 2,
          "yref": "y"
         },
         {
          "showarrow": false,
          "text": "T",
          "x": 546,
          "xref": "x",
          "y": 2,
          "yref": "y"
         },
         {
          "showarrow": false,
          "text": "P",
          "x": 547,
          "xref": "x",
          "y": 2,
          "yref": "y"
         },
         {
          "showarrow": false,
          "text": "R",
          "x": 548,
          "xref": "x",
          "y": 2,
          "yref": "y"
         },
         {
          "showarrow": false,
          "text": "G",
          "x": 549,
          "xref": "x",
          "y": 2,
          "yref": "y"
         },
         {
          "showarrow": false,
          "text": "A",
          "x": 550,
          "xref": "x",
          "y": 2,
          "yref": "y"
         },
         {
          "showarrow": false,
          "text": "A",
          "x": 551,
          "xref": "x",
          "y": 2,
          "yref": "y"
         },
         {
          "showarrow": false,
          "text": "T",
          "x": 552,
          "xref": "x",
          "y": 2,
          "yref": "y"
         },
         {
          "showarrow": false,
          "text": "P",
          "x": 553,
          "xref": "x",
          "y": 2,
          "yref": "y"
         },
         {
          "showarrow": false,
          "text": "G",
          "x": 554,
          "xref": "x",
          "y": 2,
          "yref": "y"
         },
         {
          "showarrow": false,
          "text": "Q",
          "x": 555,
          "xref": "x",
          "y": 2,
          "yref": "y"
         },
         {
          "showarrow": false,
          "text": "K",
          "x": 556,
          "xref": "x",
          "y": 2,
          "yref": "y"
         },
         {
          "showarrow": false,
          "text": "G",
          "x": 557,
          "xref": "x",
          "y": 2,
          "yref": "y"
         },
         {
          "showarrow": false,
          "text": "T",
          "x": 558,
          "xref": "x",
          "y": 2,
          "yref": "y"
         },
         {
          "showarrow": false,
          "text": "S",
          "x": 559,
          "xref": "x",
          "y": 2,
          "yref": "y"
         },
         {
          "showarrow": false,
          "text": "N",
          "x": 560,
          "xref": "x",
          "y": 2,
          "yref": "y"
         },
         {
          "showarrow": false,
          "text": "A",
          "x": 561,
          "xref": "x",
          "y": 2,
          "yref": "y"
         },
         {
          "showarrow": false,
          "text": "T",
          "x": 562,
          "xref": "x",
          "y": 2,
          "yref": "y"
         },
         {
          "showarrow": false,
          "text": "R",
          "x": 563,
          "xref": "x",
          "y": 2,
          "yref": "y"
         },
         {
          "showarrow": false,
          "text": "I",
          "x": 564,
          "xref": "x",
          "y": 2,
          "yref": "y"
         },
         {
          "showarrow": false,
          "text": "P",
          "x": 565,
          "xref": "x",
          "y": 2,
          "yref": "y"
         },
         {
          "showarrow": false,
          "text": "A",
          "x": 566,
          "xref": "x",
          "y": 2,
          "yref": "y"
         },
         {
          "showarrow": false,
          "text": "K",
          "x": 567,
          "xref": "x",
          "y": 2,
          "yref": "y"
         },
         {
          "showarrow": false,
          "text": "T",
          "x": 568,
          "xref": "x",
          "y": 2,
          "yref": "y"
         },
         {
          "showarrow": false,
          "text": "T",
          "x": 569,
          "xref": "x",
          "y": 2,
          "yref": "y"
         },
         {
          "showarrow": false,
          "text": "P",
          "x": 570,
          "xref": "x",
          "y": 2,
          "yref": "y"
         },
         {
          "showarrow": false,
          "text": "S",
          "x": 571,
          "xref": "x",
          "y": 2,
          "yref": "y"
         },
         {
          "showarrow": false,
          "text": "P",
          "x": 572,
          "xref": "x",
          "y": 2,
          "yref": "y"
         },
         {
          "showarrow": false,
          "text": "K",
          "x": 573,
          "xref": "x",
          "y": 2,
          "yref": "y"
         },
         {
          "showarrow": false,
          "text": "T",
          "x": 574,
          "xref": "x",
          "y": 2,
          "yref": "y"
         },
         {
          "showarrow": false,
          "text": "P",
          "x": 575,
          "xref": "x",
          "y": 2,
          "yref": "y"
         },
         {
          "showarrow": false,
          "text": "P",
          "x": 576,
          "xref": "x",
          "y": 2,
          "yref": "y"
         },
         {
          "showarrow": false,
          "text": "G",
          "x": 577,
          "xref": "x",
          "y": 2,
          "yref": "y"
         },
         {
          "showarrow": false,
          "text": "S",
          "x": 578,
          "xref": "x",
          "y": 2,
          "yref": "y"
         },
         {
          "showarrow": false,
          "text": "G",
          "x": 579,
          "xref": "x",
          "y": 2,
          "yref": "y"
         },
         {
          "showarrow": false,
          "text": "E",
          "x": 580,
          "xref": "x",
          "y": 2,
          "yref": "y"
         },
         {
          "showarrow": false,
          "text": "P",
          "x": 581,
          "xref": "x",
          "y": 2,
          "yref": "y"
         },
         {
          "showarrow": false,
          "text": "P",
          "x": 582,
          "xref": "x",
          "y": 2,
          "yref": "y"
         },
         {
          "showarrow": false,
          "text": "K",
          "x": 583,
          "xref": "x",
          "y": 2,
          "yref": "y"
         },
         {
          "showarrow": false,
          "text": "S",
          "x": 584,
          "xref": "x",
          "y": 2,
          "yref": "y"
         },
         {
          "showarrow": false,
          "text": "G",
          "x": 585,
          "xref": "x",
          "y": 2,
          "yref": "y"
         },
         {
          "showarrow": false,
          "text": "E",
          "x": 586,
          "xref": "x",
          "y": 2,
          "yref": "y"
         },
         {
          "showarrow": false,
          "text": "R",
          "x": 587,
          "xref": "x",
          "y": 2,
          "yref": "y"
         },
         {
          "showarrow": false,
          "text": "S",
          "x": 588,
          "xref": "x",
          "y": 2,
          "yref": "y"
         },
         {
          "showarrow": false,
          "text": "G",
          "x": 589,
          "xref": "x",
          "y": 2,
          "yref": "y"
         },
         {
          "showarrow": false,
          "text": "Y",
          "x": 590,
          "xref": "x",
          "y": 2,
          "yref": "y"
         },
         {
          "showarrow": false,
          "text": "S",
          "x": 591,
          "xref": "x",
          "y": 2,
          "yref": "y"
         },
         {
          "showarrow": false,
          "text": "S",
          "x": 592,
          "xref": "x",
          "y": 2,
          "yref": "y"
         },
         {
          "showarrow": false,
          "text": "P",
          "x": 593,
          "xref": "x",
          "y": 2,
          "yref": "y"
         },
         {
          "showarrow": false,
          "text": "G",
          "x": 594,
          "xref": "x",
          "y": 2,
          "yref": "y"
         },
         {
          "showarrow": false,
          "text": "S",
          "x": 595,
          "xref": "x",
          "y": 2,
          "yref": "y"
         },
         {
          "showarrow": false,
          "text": "P",
          "x": 596,
          "xref": "x",
          "y": 2,
          "yref": "y"
         },
         {
          "showarrow": false,
          "text": "G",
          "x": 597,
          "xref": "x",
          "y": 2,
          "yref": "y"
         },
         {
          "showarrow": false,
          "text": "-",
          "x": 598,
          "xref": "x",
          "y": 2,
          "yref": "y"
         },
         {
          "showarrow": false,
          "text": "T",
          "x": 599,
          "xref": "x",
          "y": 2,
          "yref": "y"
         },
         {
          "showarrow": false,
          "text": "P",
          "x": 600,
          "xref": "x",
          "y": 2,
          "yref": "y"
         },
         {
          "showarrow": false,
          "text": "G",
          "x": 601,
          "xref": "x",
          "y": 2,
          "yref": "y"
         },
         {
          "showarrow": false,
          "text": "S",
          "x": 602,
          "xref": "x",
          "y": 2,
          "yref": "y"
         },
         {
          "showarrow": false,
          "text": "R",
          "x": 603,
          "xref": "x",
          "y": 2,
          "yref": "y"
         },
         {
          "showarrow": false,
          "text": "S",
          "x": 604,
          "xref": "x",
          "y": 2,
          "yref": "y"
         },
         {
          "showarrow": false,
          "text": "R",
          "x": 605,
          "xref": "x",
          "y": 2,
          "yref": "y"
         },
         {
          "showarrow": false,
          "text": "T",
          "x": 606,
          "xref": "x",
          "y": 2,
          "yref": "y"
         },
         {
          "showarrow": false,
          "text": "P",
          "x": 607,
          "xref": "x",
          "y": 2,
          "yref": "y"
         },
         {
          "showarrow": false,
          "text": "S",
          "x": 608,
          "xref": "x",
          "y": 2,
          "yref": "y"
         },
         {
          "showarrow": false,
          "text": "L",
          "x": 609,
          "xref": "x",
          "y": 2,
          "yref": "y"
         },
         {
          "showarrow": false,
          "text": "P",
          "x": 610,
          "xref": "x",
          "y": 2,
          "yref": "y"
         },
         {
          "showarrow": false,
          "text": "T",
          "x": 611,
          "xref": "x",
          "y": 2,
          "yref": "y"
         },
         {
          "showarrow": false,
          "text": "P",
          "x": 612,
          "xref": "x",
          "y": 2,
          "yref": "y"
         },
         {
          "showarrow": false,
          "text": "P",
          "x": 613,
          "xref": "x",
          "y": 2,
          "yref": "y"
         },
         {
          "showarrow": false,
          "text": "T",
          "x": 614,
          "xref": "x",
          "y": 2,
          "yref": "y"
         },
         {
          "showarrow": false,
          "text": "R",
          "x": 615,
          "xref": "x",
          "y": 2,
          "yref": "y"
         },
         {
          "showarrow": false,
          "text": "E",
          "x": 616,
          "xref": "x",
          "y": 2,
          "yref": "y"
         },
         {
          "showarrow": false,
          "text": "P",
          "x": 617,
          "xref": "x",
          "y": 2,
          "yref": "y"
         },
         {
          "showarrow": false,
          "text": "K",
          "x": 618,
          "xref": "x",
          "y": 2,
          "yref": "y"
         },
         {
          "showarrow": false,
          "text": "K",
          "x": 619,
          "xref": "x",
          "y": 2,
          "yref": "y"
         },
         {
          "showarrow": false,
          "text": "V",
          "x": 620,
          "xref": "x",
          "y": 2,
          "yref": "y"
         },
         {
          "showarrow": false,
          "text": "A",
          "x": 621,
          "xref": "x",
          "y": 2,
          "yref": "y"
         },
         {
          "showarrow": false,
          "text": "V",
          "x": 622,
          "xref": "x",
          "y": 2,
          "yref": "y"
         },
         {
          "showarrow": false,
          "text": "V",
          "x": 623,
          "xref": "x",
          "y": 2,
          "yref": "y"
         },
         {
          "showarrow": false,
          "text": "R",
          "x": 624,
          "xref": "x",
          "y": 2,
          "yref": "y"
         },
         {
          "showarrow": false,
          "text": "T",
          "x": 625,
          "xref": "x",
          "y": 2,
          "yref": "y"
         },
         {
          "showarrow": false,
          "text": "P",
          "x": 626,
          "xref": "x",
          "y": 2,
          "yref": "y"
         },
         {
          "showarrow": false,
          "text": "P",
          "x": 627,
          "xref": "x",
          "y": 2,
          "yref": "y"
         },
         {
          "showarrow": false,
          "text": "K",
          "x": 628,
          "xref": "x",
          "y": 2,
          "yref": "y"
         },
         {
          "showarrow": false,
          "text": "S",
          "x": 629,
          "xref": "x",
          "y": 2,
          "yref": "y"
         },
         {
          "showarrow": false,
          "text": "P",
          "x": 630,
          "xref": "x",
          "y": 2,
          "yref": "y"
         },
         {
          "showarrow": false,
          "text": "S",
          "x": 631,
          "xref": "x",
          "y": 2,
          "yref": "y"
         },
         {
          "showarrow": false,
          "text": "A",
          "x": 632,
          "xref": "x",
          "y": 2,
          "yref": "y"
         },
         {
          "showarrow": false,
          "text": "S",
          "x": 633,
          "xref": "x",
          "y": 2,
          "yref": "y"
         },
         {
          "showarrow": false,
          "text": "-",
          "x": 634,
          "xref": "x",
          "y": 2,
          "yref": "y"
         },
         {
          "showarrow": false,
          "text": "K",
          "x": 635,
          "xref": "x",
          "y": 2,
          "yref": "y"
         },
         {
          "showarrow": false,
          "text": "S",
          "x": 636,
          "xref": "x",
          "y": 2,
          "yref": "y"
         },
         {
          "showarrow": false,
          "text": "R",
          "x": 637,
          "xref": "x",
          "y": 2,
          "yref": "y"
         },
         {
          "showarrow": false,
          "text": "L",
          "x": 638,
          "xref": "x",
          "y": 2,
          "yref": "y"
         },
         {
          "showarrow": false,
          "text": "Q",
          "x": 639,
          "xref": "x",
          "y": 2,
          "yref": "y"
         },
         {
          "showarrow": false,
          "text": "T",
          "x": 640,
          "xref": "x",
          "y": 2,
          "yref": "y"
         },
         {
          "showarrow": false,
          "text": "A",
          "x": 641,
          "xref": "x",
          "y": 2,
          "yref": "y"
         },
         {
          "showarrow": false,
          "text": "P",
          "x": 642,
          "xref": "x",
          "y": 2,
          "yref": "y"
         },
         {
          "showarrow": false,
          "text": "V",
          "x": 643,
          "xref": "x",
          "y": 2,
          "yref": "y"
         },
         {
          "showarrow": false,
          "text": "P",
          "x": 644,
          "xref": "x",
          "y": 2,
          "yref": "y"
         },
         {
          "showarrow": false,
          "text": "M",
          "x": 645,
          "xref": "x",
          "y": 2,
          "yref": "y"
         },
         {
          "showarrow": false,
          "text": "P",
          "x": 646,
          "xref": "x",
          "y": 2,
          "yref": "y"
         },
         {
          "showarrow": false,
          "text": "D",
          "x": 647,
          "xref": "x",
          "y": 2,
          "yref": "y"
         },
         {
          "showarrow": false,
          "text": "L",
          "x": 648,
          "xref": "x",
          "y": 2,
          "yref": "y"
         },
         {
          "showarrow": false,
          "text": "K",
          "x": 649,
          "xref": "x",
          "y": 2,
          "yref": "y"
         },
         {
          "showarrow": false,
          "text": "N",
          "x": 650,
          "xref": "x",
          "y": 2,
          "yref": "y"
         },
         {
          "showarrow": false,
          "text": "V",
          "x": 651,
          "xref": "x",
          "y": 2,
          "yref": "y"
         },
         {
          "showarrow": false,
          "text": "R",
          "x": 652,
          "xref": "x",
          "y": 2,
          "yref": "y"
         },
         {
          "showarrow": false,
          "text": "S",
          "x": 653,
          "xref": "x",
          "y": 2,
          "yref": "y"
         },
         {
          "showarrow": false,
          "text": "K",
          "x": 654,
          "xref": "x",
          "y": 2,
          "yref": "y"
         },
         {
          "showarrow": false,
          "text": "I",
          "x": 655,
          "xref": "x",
          "y": 2,
          "yref": "y"
         },
         {
          "showarrow": false,
          "text": "G",
          "x": 656,
          "xref": "x",
          "y": 2,
          "yref": "y"
         },
         {
          "showarrow": false,
          "text": "S",
          "x": 657,
          "xref": "x",
          "y": 2,
          "yref": "y"
         },
         {
          "showarrow": false,
          "text": "T",
          "x": 658,
          "xref": "x",
          "y": 2,
          "yref": "y"
         },
         {
          "showarrow": false,
          "text": "E",
          "x": 659,
          "xref": "x",
          "y": 2,
          "yref": "y"
         },
         {
          "showarrow": false,
          "text": "N",
          "x": 660,
          "xref": "x",
          "y": 2,
          "yref": "y"
         },
         {
          "showarrow": false,
          "text": "L",
          "x": 661,
          "xref": "x",
          "y": 2,
          "yref": "y"
         },
         {
          "showarrow": false,
          "text": "K",
          "x": 662,
          "xref": "x",
          "y": 2,
          "yref": "y"
         },
         {
          "showarrow": false,
          "text": "H",
          "x": 663,
          "xref": "x",
          "y": 2,
          "yref": "y"
         },
         {
          "showarrow": false,
          "text": "Q",
          "x": 664,
          "xref": "x",
          "y": 2,
          "yref": "y"
         },
         {
          "showarrow": false,
          "text": "P",
          "x": 665,
          "xref": "x",
          "y": 2,
          "yref": "y"
         },
         {
          "showarrow": false,
          "text": "G",
          "x": 666,
          "xref": "x",
          "y": 2,
          "yref": "y"
         },
         {
          "showarrow": false,
          "text": "G",
          "x": 667,
          "xref": "x",
          "y": 2,
          "yref": "y"
         },
         {
          "showarrow": false,
          "text": "G",
          "x": 668,
          "xref": "x",
          "y": 2,
          "yref": "y"
         },
         {
          "showarrow": false,
          "text": "K",
          "x": 669,
          "xref": "x",
          "y": 2,
          "yref": "y"
         },
         {
          "showarrow": false,
          "text": "V",
          "x": 670,
          "xref": "x",
          "y": 2,
          "yref": "y"
         },
         {
          "showarrow": false,
          "text": "Q",
          "x": 671,
          "xref": "x",
          "y": 2,
          "yref": "y"
         },
         {
          "showarrow": false,
          "text": "I",
          "x": 672,
          "xref": "x",
          "y": 2,
          "yref": "y"
         },
         {
          "showarrow": false,
          "text": "I",
          "x": 673,
          "xref": "x",
          "y": 2,
          "yref": "y"
         },
         {
          "showarrow": false,
          "text": "N",
          "x": 674,
          "xref": "x",
          "y": 2,
          "yref": "y"
         },
         {
          "showarrow": false,
          "text": "K",
          "x": 675,
          "xref": "x",
          "y": 2,
          "yref": "y"
         },
         {
          "showarrow": false,
          "text": "K",
          "x": 676,
          "xref": "x",
          "y": 2,
          "yref": "y"
         },
         {
          "showarrow": false,
          "text": "L",
          "x": 677,
          "xref": "x",
          "y": 2,
          "yref": "y"
         },
         {
          "showarrow": false,
          "text": "D",
          "x": 678,
          "xref": "x",
          "y": 2,
          "yref": "y"
         },
         {
          "showarrow": false,
          "text": "L",
          "x": 679,
          "xref": "x",
          "y": 2,
          "yref": "y"
         },
         {
          "showarrow": false,
          "text": "S",
          "x": 680,
          "xref": "x",
          "y": 2,
          "yref": "y"
         },
         {
          "showarrow": false,
          "text": "N",
          "x": 681,
          "xref": "x",
          "y": 2,
          "yref": "y"
         },
         {
          "showarrow": false,
          "text": "V",
          "x": 682,
          "xref": "x",
          "y": 2,
          "yref": "y"
         },
         {
          "showarrow": false,
          "text": "Q",
          "x": 683,
          "xref": "x",
          "y": 2,
          "yref": "y"
         },
         {
          "showarrow": false,
          "text": "S",
          "x": 684,
          "xref": "x",
          "y": 2,
          "yref": "y"
         },
         {
          "showarrow": false,
          "text": "K",
          "x": 685,
          "xref": "x",
          "y": 2,
          "yref": "y"
         },
         {
          "showarrow": false,
          "text": "C",
          "x": 686,
          "xref": "x",
          "y": 2,
          "yref": "y"
         },
         {
          "showarrow": false,
          "text": "G",
          "x": 687,
          "xref": "x",
          "y": 2,
          "yref": "y"
         },
         {
          "showarrow": false,
          "text": "S",
          "x": 688,
          "xref": "x",
          "y": 2,
          "yref": "y"
         },
         {
          "showarrow": false,
          "text": "K",
          "x": 689,
          "xref": "x",
          "y": 2,
          "yref": "y"
         },
         {
          "showarrow": false,
          "text": "D",
          "x": 690,
          "xref": "x",
          "y": 2,
          "yref": "y"
         },
         {
          "showarrow": false,
          "text": "N",
          "x": 691,
          "xref": "x",
          "y": 2,
          "yref": "y"
         },
         {
          "showarrow": false,
          "text": "I",
          "x": 692,
          "xref": "x",
          "y": 2,
          "yref": "y"
         },
         {
          "showarrow": false,
          "text": "K",
          "x": 693,
          "xref": "x",
          "y": 2,
          "yref": "y"
         },
         {
          "showarrow": false,
          "text": "H",
          "x": 694,
          "xref": "x",
          "y": 2,
          "yref": "y"
         },
         {
          "showarrow": false,
          "text": "V",
          "x": 695,
          "xref": "x",
          "y": 2,
          "yref": "y"
         },
         {
          "showarrow": false,
          "text": "P",
          "x": 696,
          "xref": "x",
          "y": 2,
          "yref": "y"
         },
         {
          "showarrow": false,
          "text": "G",
          "x": 697,
          "xref": "x",
          "y": 2,
          "yref": "y"
         },
         {
          "showarrow": false,
          "text": "G",
          "x": 698,
          "xref": "x",
          "y": 2,
          "yref": "y"
         },
         {
          "showarrow": false,
          "text": "G",
          "x": 699,
          "xref": "x",
          "y": 2,
          "yref": "y"
         },
         {
          "showarrow": false,
          "text": "S",
          "x": 700,
          "xref": "x",
          "y": 2,
          "yref": "y"
         },
         {
          "showarrow": false,
          "text": "V",
          "x": 701,
          "xref": "x",
          "y": 2,
          "yref": "y"
         },
         {
          "showarrow": false,
          "text": "H",
          "x": 702,
          "xref": "x",
          "y": 2,
          "yref": "y"
         },
         {
          "showarrow": false,
          "text": "I",
          "x": 703,
          "xref": "x",
          "y": 2,
          "yref": "y"
         },
         {
          "showarrow": false,
          "text": "V",
          "x": 704,
          "xref": "x",
          "y": 2,
          "yref": "y"
         },
         {
          "showarrow": false,
          "text": "Y",
          "x": 705,
          "xref": "x",
          "y": 2,
          "yref": "y"
         },
         {
          "showarrow": false,
          "text": "K",
          "x": 706,
          "xref": "x",
          "y": 2,
          "yref": "y"
         },
         {
          "showarrow": false,
          "text": "P",
          "x": 707,
          "xref": "x",
          "y": 2,
          "yref": "y"
         },
         {
          "showarrow": false,
          "text": "V",
          "x": 708,
          "xref": "x",
          "y": 2,
          "yref": "y"
         },
         {
          "showarrow": false,
          "text": "D",
          "x": 709,
          "xref": "x",
          "y": 2,
          "yref": "y"
         },
         {
          "showarrow": false,
          "text": "L",
          "x": 710,
          "xref": "x",
          "y": 2,
          "yref": "y"
         },
         {
          "showarrow": false,
          "text": "S",
          "x": 711,
          "xref": "x",
          "y": 2,
          "yref": "y"
         },
         {
          "showarrow": false,
          "text": "K",
          "x": 712,
          "xref": "x",
          "y": 2,
          "yref": "y"
         },
         {
          "showarrow": false,
          "text": "V",
          "x": 713,
          "xref": "x",
          "y": 2,
          "yref": "y"
         },
         {
          "showarrow": false,
          "text": "T",
          "x": 714,
          "xref": "x",
          "y": 2,
          "yref": "y"
         },
         {
          "showarrow": false,
          "text": "S",
          "x": 715,
          "xref": "x",
          "y": 2,
          "yref": "y"
         },
         {
          "showarrow": false,
          "text": "K",
          "x": 716,
          "xref": "x",
          "y": 2,
          "yref": "y"
         },
         {
          "showarrow": false,
          "text": "C",
          "x": 717,
          "xref": "x",
          "y": 2,
          "yref": "y"
         },
         {
          "showarrow": false,
          "text": "G",
          "x": 718,
          "xref": "x",
          "y": 2,
          "yref": "y"
         },
         {
          "showarrow": false,
          "text": "S",
          "x": 719,
          "xref": "x",
          "y": 2,
          "yref": "y"
         },
         {
          "showarrow": false,
          "text": "L",
          "x": 720,
          "xref": "x",
          "y": 2,
          "yref": "y"
         },
         {
          "showarrow": false,
          "text": "G",
          "x": 721,
          "xref": "x",
          "y": 2,
          "yref": "y"
         },
         {
          "showarrow": false,
          "text": "N",
          "x": 722,
          "xref": "x",
          "y": 2,
          "yref": "y"
         },
         {
          "showarrow": false,
          "text": "I",
          "x": 723,
          "xref": "x",
          "y": 2,
          "yref": "y"
         },
         {
          "showarrow": false,
          "text": "H",
          "x": 724,
          "xref": "x",
          "y": 2,
          "yref": "y"
         },
         {
          "showarrow": false,
          "text": "H",
          "x": 725,
          "xref": "x",
          "y": 2,
          "yref": "y"
         },
         {
          "showarrow": false,
          "text": "K",
          "x": 726,
          "xref": "x",
          "y": 2,
          "yref": "y"
         },
         {
          "showarrow": false,
          "text": "P",
          "x": 727,
          "xref": "x",
          "y": 2,
          "yref": "y"
         },
         {
          "showarrow": false,
          "text": "G",
          "x": 728,
          "xref": "x",
          "y": 2,
          "yref": "y"
         },
         {
          "showarrow": false,
          "text": "G",
          "x": 729,
          "xref": "x",
          "y": 2,
          "yref": "y"
         },
         {
          "showarrow": false,
          "text": "G",
          "x": 730,
          "xref": "x",
          "y": 2,
          "yref": "y"
         },
         {
          "showarrow": false,
          "text": "Q",
          "x": 731,
          "xref": "x",
          "y": 2,
          "yref": "y"
         },
         {
          "showarrow": false,
          "text": "V",
          "x": 732,
          "xref": "x",
          "y": 2,
          "yref": "y"
         },
         {
          "showarrow": false,
          "text": "E",
          "x": 733,
          "xref": "x",
          "y": 2,
          "yref": "y"
         },
         {
          "showarrow": false,
          "text": "V",
          "x": 734,
          "xref": "x",
          "y": 2,
          "yref": "y"
         },
         {
          "showarrow": false,
          "text": "K",
          "x": 735,
          "xref": "x",
          "y": 2,
          "yref": "y"
         },
         {
          "showarrow": false,
          "text": "S",
          "x": 736,
          "xref": "x",
          "y": 2,
          "yref": "y"
         },
         {
          "showarrow": false,
          "text": "E",
          "x": 737,
          "xref": "x",
          "y": 2,
          "yref": "y"
         },
         {
          "showarrow": false,
          "text": "K",
          "x": 738,
          "xref": "x",
          "y": 2,
          "yref": "y"
         },
         {
          "showarrow": false,
          "text": "L",
          "x": 739,
          "xref": "x",
          "y": 2,
          "yref": "y"
         },
         {
          "showarrow": false,
          "text": "D",
          "x": 740,
          "xref": "x",
          "y": 2,
          "yref": "y"
         },
         {
          "showarrow": false,
          "text": "F",
          "x": 741,
          "xref": "x",
          "y": 2,
          "yref": "y"
         },
         {
          "showarrow": false,
          "text": "K",
          "x": 742,
          "xref": "x",
          "y": 2,
          "yref": "y"
         },
         {
          "showarrow": false,
          "text": "D",
          "x": 743,
          "xref": "x",
          "y": 2,
          "yref": "y"
         },
         {
          "showarrow": false,
          "text": "R",
          "x": 744,
          "xref": "x",
          "y": 2,
          "yref": "y"
         },
         {
          "showarrow": false,
          "text": "V",
          "x": 745,
          "xref": "x",
          "y": 2,
          "yref": "y"
         },
         {
          "showarrow": false,
          "text": "Q",
          "x": 746,
          "xref": "x",
          "y": 2,
          "yref": "y"
         },
         {
          "showarrow": false,
          "text": "S",
          "x": 747,
          "xref": "x",
          "y": 2,
          "yref": "y"
         },
         {
          "showarrow": false,
          "text": "K",
          "x": 748,
          "xref": "x",
          "y": 2,
          "yref": "y"
         },
         {
          "showarrow": false,
          "text": "I",
          "x": 749,
          "xref": "x",
          "y": 2,
          "yref": "y"
         },
         {
          "showarrow": false,
          "text": "G",
          "x": 750,
          "xref": "x",
          "y": 2,
          "yref": "y"
         },
         {
          "showarrow": false,
          "text": "S",
          "x": 751,
          "xref": "x",
          "y": 2,
          "yref": "y"
         },
         {
          "showarrow": false,
          "text": "L",
          "x": 752,
          "xref": "x",
          "y": 2,
          "yref": "y"
         },
         {
          "showarrow": false,
          "text": "D",
          "x": 753,
          "xref": "x",
          "y": 2,
          "yref": "y"
         },
         {
          "showarrow": false,
          "text": "N",
          "x": 754,
          "xref": "x",
          "y": 2,
          "yref": "y"
         },
         {
          "showarrow": false,
          "text": "I",
          "x": 755,
          "xref": "x",
          "y": 2,
          "yref": "y"
         },
         {
          "showarrow": false,
          "text": "T",
          "x": 756,
          "xref": "x",
          "y": 2,
          "yref": "y"
         },
         {
          "showarrow": false,
          "text": "H",
          "x": 757,
          "xref": "x",
          "y": 2,
          "yref": "y"
         },
         {
          "showarrow": false,
          "text": "V",
          "x": 758,
          "xref": "x",
          "y": 2,
          "yref": "y"
         },
         {
          "showarrow": false,
          "text": "P",
          "x": 759,
          "xref": "x",
          "y": 2,
          "yref": "y"
         },
         {
          "showarrow": false,
          "text": "G",
          "x": 760,
          "xref": "x",
          "y": 2,
          "yref": "y"
         },
         {
          "showarrow": false,
          "text": "G",
          "x": 761,
          "xref": "x",
          "y": 2,
          "yref": "y"
         },
         {
          "showarrow": false,
          "text": "G",
          "x": 762,
          "xref": "x",
          "y": 2,
          "yref": "y"
         },
         {
          "showarrow": false,
          "text": "N",
          "x": 763,
          "xref": "x",
          "y": 2,
          "yref": "y"
         },
         {
          "showarrow": false,
          "text": "K",
          "x": 764,
          "xref": "x",
          "y": 2,
          "yref": "y"
         },
         {
          "showarrow": false,
          "text": "K",
          "x": 765,
          "xref": "x",
          "y": 2,
          "yref": "y"
         },
         {
          "showarrow": false,
          "text": "I",
          "x": 766,
          "xref": "x",
          "y": 2,
          "yref": "y"
         },
         {
          "showarrow": false,
          "text": "E",
          "x": 767,
          "xref": "x",
          "y": 2,
          "yref": "y"
         },
         {
          "showarrow": false,
          "text": "T",
          "x": 768,
          "xref": "x",
          "y": 2,
          "yref": "y"
         },
         {
          "showarrow": false,
          "text": "H",
          "x": 769,
          "xref": "x",
          "y": 2,
          "yref": "y"
         },
         {
          "showarrow": false,
          "text": "K",
          "x": 770,
          "xref": "x",
          "y": 2,
          "yref": "y"
         },
         {
          "showarrow": false,
          "text": "L",
          "x": 771,
          "xref": "x",
          "y": 2,
          "yref": "y"
         },
         {
          "showarrow": false,
          "text": "T",
          "x": 772,
          "xref": "x",
          "y": 2,
          "yref": "y"
         },
         {
          "showarrow": false,
          "text": "F",
          "x": 773,
          "xref": "x",
          "y": 2,
          "yref": "y"
         },
         {
          "showarrow": false,
          "text": "R",
          "x": 774,
          "xref": "x",
          "y": 2,
          "yref": "y"
         },
         {
          "showarrow": false,
          "text": "E",
          "x": 775,
          "xref": "x",
          "y": 2,
          "yref": "y"
         },
         {
          "showarrow": false,
          "text": "N",
          "x": 776,
          "xref": "x",
          "y": 2,
          "yref": "y"
         },
         {
          "showarrow": false,
          "text": "A",
          "x": 777,
          "xref": "x",
          "y": 2,
          "yref": "y"
         },
         {
          "showarrow": false,
          "text": "K",
          "x": 778,
          "xref": "x",
          "y": 2,
          "yref": "y"
         },
         {
          "showarrow": false,
          "text": "A",
          "x": 779,
          "xref": "x",
          "y": 2,
          "yref": "y"
         },
         {
          "showarrow": false,
          "text": "K",
          "x": 780,
          "xref": "x",
          "y": 2,
          "yref": "y"
         },
         {
          "showarrow": false,
          "text": "T",
          "x": 781,
          "xref": "x",
          "y": 2,
          "yref": "y"
         },
         {
          "showarrow": false,
          "text": "D",
          "x": 782,
          "xref": "x",
          "y": 2,
          "yref": "y"
         },
         {
          "showarrow": false,
          "text": "H",
          "x": 783,
          "xref": "x",
          "y": 2,
          "yref": "y"
         },
         {
          "showarrow": false,
          "text": "G",
          "x": 784,
          "xref": "x",
          "y": 2,
          "yref": "y"
         },
         {
          "showarrow": false,
          "text": "A",
          "x": 785,
          "xref": "x",
          "y": 2,
          "yref": "y"
         },
         {
          "showarrow": false,
          "text": "E",
          "x": 786,
          "xref": "x",
          "y": 2,
          "yref": "y"
         },
         {
          "showarrow": false,
          "text": "I",
          "x": 787,
          "xref": "x",
          "y": 2,
          "yref": "y"
         },
         {
          "showarrow": false,
          "text": "V",
          "x": 788,
          "xref": "x",
          "y": 2,
          "yref": "y"
         },
         {
          "showarrow": false,
          "text": "Y",
          "x": 789,
          "xref": "x",
          "y": 2,
          "yref": "y"
         },
         {
          "showarrow": false,
          "text": "K",
          "x": 790,
          "xref": "x",
          "y": 2,
          "yref": "y"
         },
         {
          "showarrow": false,
          "text": "S",
          "x": 791,
          "xref": "x",
          "y": 2,
          "yref": "y"
         },
         {
          "showarrow": false,
          "text": "P",
          "x": 792,
          "xref": "x",
          "y": 2,
          "yref": "y"
         },
         {
          "showarrow": false,
          "text": "V",
          "x": 793,
          "xref": "x",
          "y": 2,
          "yref": "y"
         },
         {
          "showarrow": false,
          "text": "V",
          "x": 794,
          "xref": "x",
          "y": 2,
          "yref": "y"
         },
         {
          "showarrow": false,
          "text": "S",
          "x": 795,
          "xref": "x",
          "y": 2,
          "yref": "y"
         },
         {
          "showarrow": false,
          "text": "G",
          "x": 796,
          "xref": "x",
          "y": 2,
          "yref": "y"
         },
         {
          "showarrow": false,
          "text": "D",
          "x": 797,
          "xref": "x",
          "y": 2,
          "yref": "y"
         },
         {
          "showarrow": false,
          "text": "T",
          "x": 798,
          "xref": "x",
          "y": 2,
          "yref": "y"
         },
         {
          "showarrow": false,
          "text": "S",
          "x": 799,
          "xref": "x",
          "y": 2,
          "yref": "y"
         },
         {
          "showarrow": false,
          "text": "P",
          "x": 800,
          "xref": "x",
          "y": 2,
          "yref": "y"
         },
         {
          "showarrow": false,
          "text": "R",
          "x": 801,
          "xref": "x",
          "y": 2,
          "yref": "y"
         },
         {
          "showarrow": false,
          "text": "H",
          "x": 802,
          "xref": "x",
          "y": 2,
          "yref": "y"
         },
         {
          "showarrow": false,
          "text": "L",
          "x": 803,
          "xref": "x",
          "y": 2,
          "yref": "y"
         },
         {
          "showarrow": false,
          "text": "S",
          "x": 804,
          "xref": "x",
          "y": 2,
          "yref": "y"
         },
         {
          "showarrow": false,
          "text": "N",
          "x": 805,
          "xref": "x",
          "y": 2,
          "yref": "y"
         },
         {
          "showarrow": false,
          "text": "V",
          "x": 806,
          "xref": "x",
          "y": 2,
          "yref": "y"
         },
         {
          "showarrow": false,
          "text": "S",
          "x": 807,
          "xref": "x",
          "y": 2,
          "yref": "y"
         },
         {
          "showarrow": false,
          "text": "S",
          "x": 808,
          "xref": "x",
          "y": 2,
          "yref": "y"
         },
         {
          "showarrow": false,
          "text": "T",
          "x": 809,
          "xref": "x",
          "y": 2,
          "yref": "y"
         },
         {
          "showarrow": false,
          "text": "G",
          "x": 810,
          "xref": "x",
          "y": 2,
          "yref": "y"
         },
         {
          "showarrow": false,
          "text": "S",
          "x": 811,
          "xref": "x",
          "y": 2,
          "yref": "y"
         },
         {
          "showarrow": false,
          "text": "I",
          "x": 812,
          "xref": "x",
          "y": 2,
          "yref": "y"
         },
         {
          "showarrow": false,
          "text": "D",
          "x": 813,
          "xref": "x",
          "y": 2,
          "yref": "y"
         },
         {
          "showarrow": false,
          "text": "M",
          "x": 814,
          "xref": "x",
          "y": 2,
          "yref": "y"
         },
         {
          "showarrow": false,
          "text": "V",
          "x": 815,
          "xref": "x",
          "y": 2,
          "yref": "y"
         },
         {
          "showarrow": false,
          "text": "D",
          "x": 816,
          "xref": "x",
          "y": 2,
          "yref": "y"
         },
         {
          "showarrow": false,
          "text": "S",
          "x": 817,
          "xref": "x",
          "y": 2,
          "yref": "y"
         },
         {
          "showarrow": false,
          "text": "P",
          "x": 818,
          "xref": "x",
          "y": 2,
          "yref": "y"
         },
         {
          "showarrow": false,
          "text": "Q",
          "x": 819,
          "xref": "x",
          "y": 2,
          "yref": "y"
         },
         {
          "showarrow": false,
          "text": "L",
          "x": 820,
          "xref": "x",
          "y": 2,
          "yref": "y"
         },
         {
          "showarrow": false,
          "text": "A",
          "x": 821,
          "xref": "x",
          "y": 2,
          "yref": "y"
         },
         {
          "showarrow": false,
          "text": "T",
          "x": 822,
          "xref": "x",
          "y": 2,
          "yref": "y"
         },
         {
          "showarrow": false,
          "text": "L",
          "x": 823,
          "xref": "x",
          "y": 2,
          "yref": "y"
         },
         {
          "showarrow": false,
          "text": "A",
          "x": 824,
          "xref": "x",
          "y": 2,
          "yref": "y"
         },
         {
          "showarrow": false,
          "text": "D",
          "x": 825,
          "xref": "x",
          "y": 2,
          "yref": "y"
         },
         {
          "showarrow": false,
          "text": "E",
          "x": 826,
          "xref": "x",
          "y": 2,
          "yref": "y"
         },
         {
          "showarrow": false,
          "text": "V",
          "x": 827,
          "xref": "x",
          "y": 2,
          "yref": "y"
         },
         {
          "showarrow": false,
          "text": "S",
          "x": 828,
          "xref": "x",
          "y": 2,
          "yref": "y"
         },
         {
          "showarrow": false,
          "text": "A",
          "x": 829,
          "xref": "x",
          "y": 2,
          "yref": "y"
         },
         {
          "showarrow": false,
          "text": "S",
          "x": 830,
          "xref": "x",
          "y": 2,
          "yref": "y"
         },
         {
          "showarrow": false,
          "text": "L",
          "x": 831,
          "xref": "x",
          "y": 2,
          "yref": "y"
         },
         {
          "showarrow": false,
          "text": "A",
          "x": 832,
          "xref": "x",
          "y": 2,
          "yref": "y"
         },
         {
          "showarrow": false,
          "text": "K",
          "x": 833,
          "xref": "x",
          "y": 2,
          "yref": "y"
         },
         {
          "showarrow": false,
          "text": "Q",
          "x": 834,
          "xref": "x",
          "y": 2,
          "yref": "y"
         },
         {
          "showarrow": false,
          "text": "G",
          "x": 835,
          "xref": "x",
          "y": 2,
          "yref": "y"
         },
         {
          "showarrow": false,
          "text": "L",
          "x": 836,
          "xref": "x",
          "y": 2,
          "yref": "y"
         },
         {
          "showarrow": false,
          "text": "M",
          "x": 0,
          "xref": "x",
          "y": 3,
          "yref": "y"
         },
         {
          "showarrow": false,
          "text": "A",
          "x": 1,
          "xref": "x",
          "y": 3,
          "yref": "y"
         },
         {
          "showarrow": false,
          "text": "E",
          "x": 2,
          "xref": "x",
          "y": 3,
          "yref": "y"
         },
         {
          "showarrow": false,
          "text": "P",
          "x": 3,
          "xref": "x",
          "y": 3,
          "yref": "y"
         },
         {
          "showarrow": false,
          "text": "R",
          "x": 4,
          "xref": "x",
          "y": 3,
          "yref": "y"
         },
         {
          "showarrow": false,
          "text": "Q",
          "x": 5,
          "xref": "x",
          "y": 3,
          "yref": "y"
         },
         {
          "showarrow": false,
          "text": "E",
          "x": 6,
          "xref": "x",
          "y": 3,
          "yref": "y"
         },
         {
          "showarrow": false,
          "text": "F",
          "x": 7,
          "xref": "x",
          "y": 3,
          "yref": "y"
         },
         {
          "showarrow": false,
          "text": "E",
          "x": 8,
          "xref": "x",
          "y": 3,
          "yref": "y"
         },
         {
          "showarrow": false,
          "text": "V",
          "x": 9,
          "xref": "x",
          "y": 3,
          "yref": "y"
         },
         {
          "showarrow": false,
          "text": "M",
          "x": 10,
          "xref": "x",
          "y": 3,
          "yref": "y"
         },
         {
          "showarrow": false,
          "text": "E",
          "x": 11,
          "xref": "x",
          "y": 3,
          "yref": "y"
         },
         {
          "showarrow": false,
          "text": "D",
          "x": 12,
          "xref": "x",
          "y": 3,
          "yref": "y"
         },
         {
          "showarrow": false,
          "text": "H",
          "x": 13,
          "xref": "x",
          "y": 3,
          "yref": "y"
         },
         {
          "showarrow": false,
          "text": "A",
          "x": 14,
          "xref": "x",
          "y": 3,
          "yref": "y"
         },
         {
          "showarrow": false,
          "text": "G",
          "x": 15,
          "xref": "x",
          "y": 3,
          "yref": "y"
         },
         {
          "showarrow": false,
          "text": "T",
          "x": 16,
          "xref": "x",
          "y": 3,
          "yref": "y"
         },
         {
          "showarrow": false,
          "text": "Y",
          "x": 17,
          "xref": "x",
          "y": 3,
          "yref": "y"
         },
         {
          "showarrow": false,
          "text": "G",
          "x": 18,
          "xref": "x",
          "y": 3,
          "yref": "y"
         },
         {
          "showarrow": false,
          "text": "L",
          "x": 19,
          "xref": "x",
          "y": 3,
          "yref": "y"
         },
         {
          "showarrow": false,
          "text": "G",
          "x": 20,
          "xref": "x",
          "y": 3,
          "yref": "y"
         },
         {
          "showarrow": false,
          "text": "D",
          "x": 21,
          "xref": "x",
          "y": 3,
          "yref": "y"
         },
         {
          "showarrow": false,
          "text": "R",
          "x": 22,
          "xref": "x",
          "y": 3,
          "yref": "y"
         },
         {
          "showarrow": false,
          "text": "K",
          "x": 23,
          "xref": "x",
          "y": 3,
          "yref": "y"
         },
         {
          "showarrow": false,
          "text": "D",
          "x": 24,
          "xref": "x",
          "y": 3,
          "yref": "y"
         },
         {
          "showarrow": false,
          "text": "Q",
          "x": 25,
          "xref": "x",
          "y": 3,
          "yref": "y"
         },
         {
          "showarrow": false,
          "text": "G",
          "x": 26,
          "xref": "x",
          "y": 3,
          "yref": "y"
         },
         {
          "showarrow": false,
          "text": "G",
          "x": 27,
          "xref": "x",
          "y": 3,
          "yref": "y"
         },
         {
          "showarrow": false,
          "text": "Y",
          "x": 28,
          "xref": "x",
          "y": 3,
          "yref": "y"
         },
         {
          "showarrow": false,
          "text": "T",
          "x": 29,
          "xref": "x",
          "y": 3,
          "yref": "y"
         },
         {
          "showarrow": false,
          "text": "M",
          "x": 30,
          "xref": "x",
          "y": 3,
          "yref": "y"
         },
         {
          "showarrow": false,
          "text": "H",
          "x": 31,
          "xref": "x",
          "y": 3,
          "yref": "y"
         },
         {
          "showarrow": false,
          "text": "Q",
          "x": 32,
          "xref": "x",
          "y": 3,
          "yref": "y"
         },
         {
          "showarrow": false,
          "text": "D",
          "x": 33,
          "xref": "x",
          "y": 3,
          "yref": "y"
         },
         {
          "showarrow": false,
          "text": "Q",
          "x": 34,
          "xref": "x",
          "y": 3,
          "yref": "y"
         },
         {
          "showarrow": false,
          "text": "E",
          "x": 35,
          "xref": "x",
          "y": 3,
          "yref": "y"
         },
         {
          "showarrow": false,
          "text": "G",
          "x": 36,
          "xref": "x",
          "y": 3,
          "yref": "y"
         },
         {
          "showarrow": false,
          "text": "D",
          "x": 37,
          "xref": "x",
          "y": 3,
          "yref": "y"
         },
         {
          "showarrow": false,
          "text": "T",
          "x": 38,
          "xref": "x",
          "y": 3,
          "yref": "y"
         },
         {
          "showarrow": false,
          "text": "D",
          "x": 39,
          "xref": "x",
          "y": 3,
          "yref": "y"
         },
         {
          "showarrow": false,
          "text": "A",
          "x": 40,
          "xref": "x",
          "y": 3,
          "yref": "y"
         },
         {
          "showarrow": false,
          "text": "G",
          "x": 41,
          "xref": "x",
          "y": 3,
          "yref": "y"
         },
         {
          "showarrow": false,
          "text": "L",
          "x": 42,
          "xref": "x",
          "y": 3,
          "yref": "y"
         },
         {
          "showarrow": false,
          "text": "K",
          "x": 43,
          "xref": "x",
          "y": 3,
          "yref": "y"
         },
         {
          "showarrow": false,
          "text": "E",
          "x": 44,
          "xref": "x",
          "y": 3,
          "yref": "y"
         },
         {
          "showarrow": false,
          "text": "S",
          "x": 45,
          "xref": "x",
          "y": 3,
          "yref": "y"
         },
         {
          "showarrow": false,
          "text": "P",
          "x": 46,
          "xref": "x",
          "y": 3,
          "yref": "y"
         },
         {
          "showarrow": false,
          "text": "L",
          "x": 47,
          "xref": "x",
          "y": 3,
          "yref": "y"
         },
         {
          "showarrow": false,
          "text": "Q",
          "x": 48,
          "xref": "x",
          "y": 3,
          "yref": "y"
         },
         {
          "showarrow": false,
          "text": "T",
          "x": 49,
          "xref": "x",
          "y": 3,
          "yref": "y"
         },
         {
          "showarrow": false,
          "text": "P",
          "x": 50,
          "xref": "x",
          "y": 3,
          "yref": "y"
         },
         {
          "showarrow": false,
          "text": "T",
          "x": 51,
          "xref": "x",
          "y": 3,
          "yref": "y"
         },
         {
          "showarrow": false,
          "text": "E",
          "x": 52,
          "xref": "x",
          "y": 3,
          "yref": "y"
         },
         {
          "showarrow": false,
          "text": "D",
          "x": 53,
          "xref": "x",
          "y": 3,
          "yref": "y"
         },
         {
          "showarrow": false,
          "text": "G",
          "x": 54,
          "xref": "x",
          "y": 3,
          "yref": "y"
         },
         {
          "showarrow": false,
          "text": "S",
          "x": 55,
          "xref": "x",
          "y": 3,
          "yref": "y"
         },
         {
          "showarrow": false,
          "text": "E",
          "x": 56,
          "xref": "x",
          "y": 3,
          "yref": "y"
         },
         {
          "showarrow": false,
          "text": "E",
          "x": 57,
          "xref": "x",
          "y": 3,
          "yref": "y"
         },
         {
          "showarrow": false,
          "text": "P",
          "x": 58,
          "xref": "x",
          "y": 3,
          "yref": "y"
         },
         {
          "showarrow": false,
          "text": "G",
          "x": 59,
          "xref": "x",
          "y": 3,
          "yref": "y"
         },
         {
          "showarrow": false,
          "text": "S",
          "x": 60,
          "xref": "x",
          "y": 3,
          "yref": "y"
         },
         {
          "showarrow": false,
          "text": "E",
          "x": 61,
          "xref": "x",
          "y": 3,
          "yref": "y"
         },
         {
          "showarrow": false,
          "text": "T",
          "x": 62,
          "xref": "x",
          "y": 3,
          "yref": "y"
         },
         {
          "showarrow": false,
          "text": "S",
          "x": 63,
          "xref": "x",
          "y": 3,
          "yref": "y"
         },
         {
          "showarrow": false,
          "text": "D",
          "x": 64,
          "xref": "x",
          "y": 3,
          "yref": "y"
         },
         {
          "showarrow": false,
          "text": "A",
          "x": 65,
          "xref": "x",
          "y": 3,
          "yref": "y"
         },
         {
          "showarrow": false,
          "text": "K",
          "x": 66,
          "xref": "x",
          "y": 3,
          "yref": "y"
         },
         {
          "showarrow": false,
          "text": "S",
          "x": 67,
          "xref": "x",
          "y": 3,
          "yref": "y"
         },
         {
          "showarrow": false,
          "text": "T",
          "x": 68,
          "xref": "x",
          "y": 3,
          "yref": "y"
         },
         {
          "showarrow": false,
          "text": "P",
          "x": 69,
          "xref": "x",
          "y": 3,
          "yref": "y"
         },
         {
          "showarrow": false,
          "text": "T",
          "x": 70,
          "xref": "x",
          "y": 3,
          "yref": "y"
         },
         {
          "showarrow": false,
          "text": "A",
          "x": 71,
          "xref": "x",
          "y": 3,
          "yref": "y"
         },
         {
          "showarrow": false,
          "text": "E",
          "x": 72,
          "xref": "x",
          "y": 3,
          "yref": "y"
         },
         {
          "showarrow": false,
          "text": "D",
          "x": 73,
          "xref": "x",
          "y": 3,
          "yref": "y"
         },
         {
          "showarrow": false,
          "text": "V",
          "x": 74,
          "xref": "x",
          "y": 3,
          "yref": "y"
         },
         {
          "showarrow": false,
          "text": "T",
          "x": 75,
          "xref": "x",
          "y": 3,
          "yref": "y"
         },
         {
          "showarrow": false,
          "text": "A",
          "x": 76,
          "xref": "x",
          "y": 3,
          "yref": "y"
         },
         {
          "showarrow": false,
          "text": "P",
          "x": 77,
          "xref": "x",
          "y": 3,
          "yref": "y"
         },
         {
          "showarrow": false,
          "text": "L",
          "x": 78,
          "xref": "x",
          "y": 3,
          "yref": "y"
         },
         {
          "showarrow": false,
          "text": "V",
          "x": 79,
          "xref": "x",
          "y": 3,
          "yref": "y"
         },
         {
          "showarrow": false,
          "text": "D",
          "x": 80,
          "xref": "x",
          "y": 3,
          "yref": "y"
         },
         {
          "showarrow": false,
          "text": "E",
          "x": 81,
          "xref": "x",
          "y": 3,
          "yref": "y"
         },
         {
          "showarrow": false,
          "text": "G",
          "x": 82,
          "xref": "x",
          "y": 3,
          "yref": "y"
         },
         {
          "showarrow": false,
          "text": "A",
          "x": 83,
          "xref": "x",
          "y": 3,
          "yref": "y"
         },
         {
          "showarrow": false,
          "text": "P",
          "x": 84,
          "xref": "x",
          "y": 3,
          "yref": "y"
         },
         {
          "showarrow": false,
          "text": "G",
          "x": 85,
          "xref": "x",
          "y": 3,
          "yref": "y"
         },
         {
          "showarrow": false,
          "text": "K",
          "x": 86,
          "xref": "x",
          "y": 3,
          "yref": "y"
         },
         {
          "showarrow": false,
          "text": "Q",
          "x": 87,
          "xref": "x",
          "y": 3,
          "yref": "y"
         },
         {
          "showarrow": false,
          "text": "A",
          "x": 88,
          "xref": "x",
          "y": 3,
          "yref": "y"
         },
         {
          "showarrow": false,
          "text": "A",
          "x": 89,
          "xref": "x",
          "y": 3,
          "yref": "y"
         },
         {
          "showarrow": false,
          "text": "A",
          "x": 90,
          "xref": "x",
          "y": 3,
          "yref": "y"
         },
         {
          "showarrow": false,
          "text": "Q",
          "x": 91,
          "xref": "x",
          "y": 3,
          "yref": "y"
         },
         {
          "showarrow": false,
          "text": "P",
          "x": 92,
          "xref": "x",
          "y": 3,
          "yref": "y"
         },
         {
          "showarrow": false,
          "text": "H",
          "x": 93,
          "xref": "x",
          "y": 3,
          "yref": "y"
         },
         {
          "showarrow": false,
          "text": "T",
          "x": 94,
          "xref": "x",
          "y": 3,
          "yref": "y"
         },
         {
          "showarrow": false,
          "text": "E",
          "x": 95,
          "xref": "x",
          "y": 3,
          "yref": "y"
         },
         {
          "showarrow": false,
          "text": "I",
          "x": 96,
          "xref": "x",
          "y": 3,
          "yref": "y"
         },
         {
          "showarrow": false,
          "text": "P",
          "x": 97,
          "xref": "x",
          "y": 3,
          "yref": "y"
         },
         {
          "showarrow": false,
          "text": "E",
          "x": 98,
          "xref": "x",
          "y": 3,
          "yref": "y"
         },
         {
          "showarrow": false,
          "text": "G",
          "x": 99,
          "xref": "x",
          "y": 3,
          "yref": "y"
         },
         {
          "showarrow": false,
          "text": "T",
          "x": 100,
          "xref": "x",
          "y": 3,
          "yref": "y"
         },
         {
          "showarrow": false,
          "text": "T",
          "x": 101,
          "xref": "x",
          "y": 3,
          "yref": "y"
         },
         {
          "showarrow": false,
          "text": "A",
          "x": 102,
          "xref": "x",
          "y": 3,
          "yref": "y"
         },
         {
          "showarrow": false,
          "text": "E",
          "x": 103,
          "xref": "x",
          "y": 3,
          "yref": "y"
         },
         {
          "showarrow": false,
          "text": "E",
          "x": 104,
          "xref": "x",
          "y": 3,
          "yref": "y"
         },
         {
          "showarrow": false,
          "text": "A",
          "x": 105,
          "xref": "x",
          "y": 3,
          "yref": "y"
         },
         {
          "showarrow": false,
          "text": "G",
          "x": 106,
          "xref": "x",
          "y": 3,
          "yref": "y"
         },
         {
          "showarrow": false,
          "text": "I",
          "x": 107,
          "xref": "x",
          "y": 3,
          "yref": "y"
         },
         {
          "showarrow": false,
          "text": "G",
          "x": 108,
          "xref": "x",
          "y": 3,
          "yref": "y"
         },
         {
          "showarrow": false,
          "text": "D",
          "x": 109,
          "xref": "x",
          "y": 3,
          "yref": "y"
         },
         {
          "showarrow": false,
          "text": "T",
          "x": 110,
          "xref": "x",
          "y": 3,
          "yref": "y"
         },
         {
          "showarrow": false,
          "text": "P",
          "x": 111,
          "xref": "x",
          "y": 3,
          "yref": "y"
         },
         {
          "showarrow": false,
          "text": "S",
          "x": 112,
          "xref": "x",
          "y": 3,
          "yref": "y"
         },
         {
          "showarrow": false,
          "text": "L",
          "x": 113,
          "xref": "x",
          "y": 3,
          "yref": "y"
         },
         {
          "showarrow": false,
          "text": "E",
          "x": 114,
          "xref": "x",
          "y": 3,
          "yref": "y"
         },
         {
          "showarrow": false,
          "text": "D",
          "x": 115,
          "xref": "x",
          "y": 3,
          "yref": "y"
         },
         {
          "showarrow": false,
          "text": "E",
          "x": 116,
          "xref": "x",
          "y": 3,
          "yref": "y"
         },
         {
          "showarrow": false,
          "text": "A",
          "x": 117,
          "xref": "x",
          "y": 3,
          "yref": "y"
         },
         {
          "showarrow": false,
          "text": "A",
          "x": 118,
          "xref": "x",
          "y": 3,
          "yref": "y"
         },
         {
          "showarrow": false,
          "text": "G",
          "x": 119,
          "xref": "x",
          "y": 3,
          "yref": "y"
         },
         {
          "showarrow": false,
          "text": "H",
          "x": 120,
          "xref": "x",
          "y": 3,
          "yref": "y"
         },
         {
          "showarrow": false,
          "text": "V",
          "x": 121,
          "xref": "x",
          "y": 3,
          "yref": "y"
         },
         {
          "showarrow": false,
          "text": "T",
          "x": 122,
          "xref": "x",
          "y": 3,
          "yref": "y"
         },
         {
          "showarrow": false,
          "text": "Q",
          "x": 123,
          "xref": "x",
          "y": 3,
          "yref": "y"
         },
         {
          "showarrow": false,
          "text": "E",
          "x": 124,
          "xref": "x",
          "y": 3,
          "yref": "y"
         },
         {
          "showarrow": false,
          "text": "P",
          "x": 125,
          "xref": "x",
          "y": 3,
          "yref": "y"
         },
         {
          "showarrow": false,
          "text": "-",
          "x": 126,
          "xref": "x",
          "y": 3,
          "yref": "y"
         },
         {
          "showarrow": false,
          "text": "-",
          "x": 127,
          "xref": "x",
          "y": 3,
          "yref": "y"
         },
         {
          "showarrow": false,
          "text": "-",
          "x": 128,
          "xref": "x",
          "y": 3,
          "yref": "y"
         },
         {
          "showarrow": false,
          "text": "E",
          "x": 129,
          "xref": "x",
          "y": 3,
          "yref": "y"
         },
         {
          "showarrow": false,
          "text": "-",
          "x": 130,
          "xref": "x",
          "y": 3,
          "yref": "y"
         },
         {
          "showarrow": false,
          "text": "-",
          "x": 131,
          "xref": "x",
          "y": 3,
          "yref": "y"
         },
         {
          "showarrow": false,
          "text": "S",
          "x": 132,
          "xref": "x",
          "y": 3,
          "yref": "y"
         },
         {
          "showarrow": false,
          "text": "G",
          "x": 133,
          "xref": "x",
          "y": 3,
          "yref": "y"
         },
         {
          "showarrow": false,
          "text": "K",
          "x": 134,
          "xref": "x",
          "y": 3,
          "yref": "y"
         },
         {
          "showarrow": false,
          "text": "V",
          "x": 135,
          "xref": "x",
          "y": 3,
          "yref": "y"
         },
         {
          "showarrow": false,
          "text": "-",
          "x": 136,
          "xref": "x",
          "y": 3,
          "yref": "y"
         },
         {
          "showarrow": false,
          "text": "V",
          "x": 137,
          "xref": "x",
          "y": 3,
          "yref": "y"
         },
         {
          "showarrow": false,
          "text": "Q",
          "x": 138,
          "xref": "x",
          "y": 3,
          "yref": "y"
         },
         {
          "showarrow": false,
          "text": "E",
          "x": 139,
          "xref": "x",
          "y": 3,
          "yref": "y"
         },
         {
          "showarrow": false,
          "text": "-",
          "x": 140,
          "xref": "x",
          "y": 3,
          "yref": "y"
         },
         {
          "showarrow": false,
          "text": "G",
          "x": 141,
          "xref": "x",
          "y": 3,
          "yref": "y"
         },
         {
          "showarrow": false,
          "text": "F",
          "x": 142,
          "xref": "x",
          "y": 3,
          "yref": "y"
         },
         {
          "showarrow": false,
          "text": "L",
          "x": 143,
          "xref": "x",
          "y": 3,
          "yref": "y"
         },
         {
          "showarrow": false,
          "text": "R",
          "x": 144,
          "xref": "x",
          "y": 3,
          "yref": "y"
         },
         {
          "showarrow": false,
          "text": "E",
          "x": 145,
          "xref": "x",
          "y": 3,
          "yref": "y"
         },
         {
          "showarrow": false,
          "text": "P",
          "x": 146,
          "xref": "x",
          "y": 3,
          "yref": "y"
         },
         {
          "showarrow": false,
          "text": "G",
          "x": 147,
          "xref": "x",
          "y": 3,
          "yref": "y"
         },
         {
          "showarrow": false,
          "text": "P",
          "x": 148,
          "xref": "x",
          "y": 3,
          "yref": "y"
         },
         {
          "showarrow": false,
          "text": "-",
          "x": 149,
          "xref": "x",
          "y": 3,
          "yref": "y"
         },
         {
          "showarrow": false,
          "text": "P",
          "x": 150,
          "xref": "x",
          "y": 3,
          "yref": "y"
         },
         {
          "showarrow": false,
          "text": "-",
          "x": 151,
          "xref": "x",
          "y": 3,
          "yref": "y"
         },
         {
          "showarrow": false,
          "text": "-",
          "x": 152,
          "xref": "x",
          "y": 3,
          "yref": "y"
         },
         {
          "showarrow": false,
          "text": "G",
          "x": 153,
          "xref": "x",
          "y": 3,
          "yref": "y"
         },
         {
          "showarrow": false,
          "text": "L",
          "x": 154,
          "xref": "x",
          "y": 3,
          "yref": "y"
         },
         {
          "showarrow": false,
          "text": "S",
          "x": 155,
          "xref": "x",
          "y": 3,
          "yref": "y"
         },
         {
          "showarrow": false,
          "text": "-",
          "x": 156,
          "xref": "x",
          "y": 3,
          "yref": "y"
         },
         {
          "showarrow": false,
          "text": "-",
          "x": 157,
          "xref": "x",
          "y": 3,
          "yref": "y"
         },
         {
          "showarrow": false,
          "text": "-",
          "x": 158,
          "xref": "x",
          "y": 3,
          "yref": "y"
         },
         {
          "showarrow": false,
          "text": "H",
          "x": 159,
          "xref": "x",
          "y": 3,
          "yref": "y"
         },
         {
          "showarrow": false,
          "text": "-",
          "x": 160,
          "xref": "x",
          "y": 3,
          "yref": "y"
         },
         {
          "showarrow": false,
          "text": "-",
          "x": 161,
          "xref": "x",
          "y": 3,
          "yref": "y"
         },
         {
          "showarrow": false,
          "text": "-",
          "x": 162,
          "xref": "x",
          "y": 3,
          "yref": "y"
         },
         {
          "showarrow": false,
          "text": "-",
          "x": 163,
          "xref": "x",
          "y": 3,
          "yref": "y"
         },
         {
          "showarrow": false,
          "text": "Q",
          "x": 164,
          "xref": "x",
          "y": 3,
          "yref": "y"
         },
         {
          "showarrow": false,
          "text": "L",
          "x": 165,
          "xref": "x",
          "y": 3,
          "yref": "y"
         },
         {
          "showarrow": false,
          "text": "M",
          "x": 166,
          "xref": "x",
          "y": 3,
          "yref": "y"
         },
         {
          "showarrow": false,
          "text": "S",
          "x": 167,
          "xref": "x",
          "y": 3,
          "yref": "y"
         },
         {
          "showarrow": false,
          "text": "G",
          "x": 168,
          "xref": "x",
          "y": 3,
          "yref": "y"
         },
         {
          "showarrow": false,
          "text": "M",
          "x": 169,
          "xref": "x",
          "y": 3,
          "yref": "y"
         },
         {
          "showarrow": false,
          "text": "P",
          "x": 170,
          "xref": "x",
          "y": 3,
          "yref": "y"
         },
         {
          "showarrow": false,
          "text": "G",
          "x": 171,
          "xref": "x",
          "y": 3,
          "yref": "y"
         },
         {
          "showarrow": false,
          "text": "A",
          "x": 172,
          "xref": "x",
          "y": 3,
          "yref": "y"
         },
         {
          "showarrow": false,
          "text": "P",
          "x": 173,
          "xref": "x",
          "y": 3,
          "yref": "y"
         },
         {
          "showarrow": false,
          "text": "L",
          "x": 174,
          "xref": "x",
          "y": 3,
          "yref": "y"
         },
         {
          "showarrow": false,
          "text": "L",
          "x": 175,
          "xref": "x",
          "y": 3,
          "yref": "y"
         },
         {
          "showarrow": false,
          "text": "P",
          "x": 176,
          "xref": "x",
          "y": 3,
          "yref": "y"
         },
         {
          "showarrow": false,
          "text": "E",
          "x": 177,
          "xref": "x",
          "y": 3,
          "yref": "y"
         },
         {
          "showarrow": false,
          "text": "G",
          "x": 178,
          "xref": "x",
          "y": 3,
          "yref": "y"
         },
         {
          "showarrow": false,
          "text": "P",
          "x": 179,
          "xref": "x",
          "y": 3,
          "yref": "y"
         },
         {
          "showarrow": false,
          "text": "R",
          "x": 180,
          "xref": "x",
          "y": 3,
          "yref": "y"
         },
         {
          "showarrow": false,
          "text": "E",
          "x": 181,
          "xref": "x",
          "y": 3,
          "yref": "y"
         },
         {
          "showarrow": false,
          "text": "A",
          "x": 182,
          "xref": "x",
          "y": 3,
          "yref": "y"
         },
         {
          "showarrow": false,
          "text": "T",
          "x": 183,
          "xref": "x",
          "y": 3,
          "yref": "y"
         },
         {
          "showarrow": false,
          "text": "R",
          "x": 184,
          "xref": "x",
          "y": 3,
          "yref": "y"
         },
         {
          "showarrow": false,
          "text": "Q",
          "x": 185,
          "xref": "x",
          "y": 3,
          "yref": "y"
         },
         {
          "showarrow": false,
          "text": "P",
          "x": 186,
          "xref": "x",
          "y": 3,
          "yref": "y"
         },
         {
          "showarrow": false,
          "text": "S",
          "x": 187,
          "xref": "x",
          "y": 3,
          "yref": "y"
         },
         {
          "showarrow": false,
          "text": "G",
          "x": 188,
          "xref": "x",
          "y": 3,
          "yref": "y"
         },
         {
          "showarrow": false,
          "text": "T",
          "x": 189,
          "xref": "x",
          "y": 3,
          "yref": "y"
         },
         {
          "showarrow": false,
          "text": "G",
          "x": 190,
          "xref": "x",
          "y": 3,
          "yref": "y"
         },
         {
          "showarrow": false,
          "text": "P",
          "x": 191,
          "xref": "x",
          "y": 3,
          "yref": "y"
         },
         {
          "showarrow": false,
          "text": "E",
          "x": 192,
          "xref": "x",
          "y": 3,
          "yref": "y"
         },
         {
          "showarrow": false,
          "text": "D",
          "x": 193,
          "xref": "x",
          "y": 3,
          "yref": "y"
         },
         {
          "showarrow": false,
          "text": "T",
          "x": 194,
          "xref": "x",
          "y": 3,
          "yref": "y"
         },
         {
          "showarrow": false,
          "text": "E",
          "x": 195,
          "xref": "x",
          "y": 3,
          "yref": "y"
         },
         {
          "showarrow": false,
          "text": "-",
          "x": 196,
          "xref": "x",
          "y": 3,
          "yref": "y"
         },
         {
          "showarrow": false,
          "text": "G",
          "x": 197,
          "xref": "x",
          "y": 3,
          "yref": "y"
         },
         {
          "showarrow": false,
          "text": "-",
          "x": 198,
          "xref": "x",
          "y": 3,
          "yref": "y"
         },
         {
          "showarrow": false,
          "text": "G",
          "x": 199,
          "xref": "x",
          "y": 3,
          "yref": "y"
         },
         {
          "showarrow": false,
          "text": "R",
          "x": 200,
          "xref": "x",
          "y": 3,
          "yref": "y"
         },
         {
          "showarrow": false,
          "text": "H",
          "x": 201,
          "xref": "x",
          "y": 3,
          "yref": "y"
         },
         {
          "showarrow": false,
          "text": "-",
          "x": 202,
          "xref": "x",
          "y": 3,
          "yref": "y"
         },
         {
          "showarrow": false,
          "text": "A",
          "x": 203,
          "xref": "x",
          "y": 3,
          "yref": "y"
         },
         {
          "showarrow": false,
          "text": "P",
          "x": 204,
          "xref": "x",
          "y": 3,
          "yref": "y"
         },
         {
          "showarrow": false,
          "text": "E",
          "x": 205,
          "xref": "x",
          "y": 3,
          "yref": "y"
         },
         {
          "showarrow": false,
          "text": "L",
          "x": 206,
          "xref": "x",
          "y": 3,
          "yref": "y"
         },
         {
          "showarrow": false,
          "text": "L",
          "x": 207,
          "xref": "x",
          "y": 3,
          "yref": "y"
         },
         {
          "showarrow": false,
          "text": "K",
          "x": 208,
          "xref": "x",
          "y": 3,
          "yref": "y"
         },
         {
          "showarrow": false,
          "text": "H",
          "x": 209,
          "xref": "x",
          "y": 3,
          "yref": "y"
         },
         {
          "showarrow": false,
          "text": "Q",
          "x": 210,
          "xref": "x",
          "y": 3,
          "yref": "y"
         },
         {
          "showarrow": false,
          "text": "L",
          "x": 211,
          "xref": "x",
          "y": 3,
          "yref": "y"
         },
         {
          "showarrow": false,
          "text": "L",
          "x": 212,
          "xref": "x",
          "y": 3,
          "yref": "y"
         },
         {
          "showarrow": false,
          "text": "G",
          "x": 213,
          "xref": "x",
          "y": 3,
          "yref": "y"
         },
         {
          "showarrow": false,
          "text": "D",
          "x": 214,
          "xref": "x",
          "y": 3,
          "yref": "y"
         },
         {
          "showarrow": false,
          "text": "L",
          "x": 215,
          "xref": "x",
          "y": 3,
          "yref": "y"
         },
         {
          "showarrow": false,
          "text": "H",
          "x": 216,
          "xref": "x",
          "y": 3,
          "yref": "y"
         },
         {
          "showarrow": false,
          "text": "Q",
          "x": 217,
          "xref": "x",
          "y": 3,
          "yref": "y"
         },
         {
          "showarrow": false,
          "text": "E",
          "x": 218,
          "xref": "x",
          "y": 3,
          "yref": "y"
         },
         {
          "showarrow": false,
          "text": "G",
          "x": 219,
          "xref": "x",
          "y": 3,
          "yref": "y"
         },
         {
          "showarrow": false,
          "text": "P",
          "x": 220,
          "xref": "x",
          "y": 3,
          "yref": "y"
         },
         {
          "showarrow": false,
          "text": "P",
          "x": 221,
          "xref": "x",
          "y": 3,
          "yref": "y"
         },
         {
          "showarrow": false,
          "text": "L",
          "x": 222,
          "xref": "x",
          "y": 3,
          "yref": "y"
         },
         {
          "showarrow": false,
          "text": "K",
          "x": 223,
          "xref": "x",
          "y": 3,
          "yref": "y"
         },
         {
          "showarrow": false,
          "text": "-",
          "x": 224,
          "xref": "x",
          "y": 3,
          "yref": "y"
         },
         {
          "showarrow": false,
          "text": "G",
          "x": 225,
          "xref": "x",
          "y": 3,
          "yref": "y"
         },
         {
          "showarrow": false,
          "text": "A",
          "x": 226,
          "xref": "x",
          "y": 3,
          "yref": "y"
         },
         {
          "showarrow": false,
          "text": "G",
          "x": 227,
          "xref": "x",
          "y": 3,
          "yref": "y"
         },
         {
          "showarrow": false,
          "text": "G",
          "x": 228,
          "xref": "x",
          "y": 3,
          "yref": "y"
         },
         {
          "showarrow": false,
          "text": "K",
          "x": 229,
          "xref": "x",
          "y": 3,
          "yref": "y"
         },
         {
          "showarrow": false,
          "text": "E",
          "x": 230,
          "xref": "x",
          "y": 3,
          "yref": "y"
         },
         {
          "showarrow": false,
          "text": "R",
          "x": 231,
          "xref": "x",
          "y": 3,
          "yref": "y"
         },
         {
          "showarrow": false,
          "text": "P",
          "x": 232,
          "xref": "x",
          "y": 3,
          "yref": "y"
         },
         {
          "showarrow": false,
          "text": "G",
          "x": 233,
          "xref": "x",
          "y": 3,
          "yref": "y"
         },
         {
          "showarrow": false,
          "text": "S",
          "x": 234,
          "xref": "x",
          "y": 3,
          "yref": "y"
         },
         {
          "showarrow": false,
          "text": "K",
          "x": 235,
          "xref": "x",
          "y": 3,
          "yref": "y"
         },
         {
          "showarrow": false,
          "text": "E",
          "x": 236,
          "xref": "x",
          "y": 3,
          "yref": "y"
         },
         {
          "showarrow": false,
          "text": "E",
          "x": 237,
          "xref": "x",
          "y": 3,
          "yref": "y"
         },
         {
          "showarrow": false,
          "text": "V",
          "x": 238,
          "xref": "x",
          "y": 3,
          "yref": "y"
         },
         {
          "showarrow": false,
          "text": "D",
          "x": 239,
          "xref": "x",
          "y": 3,
          "yref": "y"
         },
         {
          "showarrow": false,
          "text": "E",
          "x": 240,
          "xref": "x",
          "y": 3,
          "yref": "y"
         },
         {
          "showarrow": false,
          "text": "D",
          "x": 241,
          "xref": "x",
          "y": 3,
          "yref": "y"
         },
         {
          "showarrow": false,
          "text": "R",
          "x": 242,
          "xref": "x",
          "y": 3,
          "yref": "y"
         },
         {
          "showarrow": false,
          "text": "D",
          "x": 243,
          "xref": "x",
          "y": 3,
          "yref": "y"
         },
         {
          "showarrow": false,
          "text": "V",
          "x": 244,
          "xref": "x",
          "y": 3,
          "yref": "y"
         },
         {
          "showarrow": false,
          "text": "D",
          "x": 245,
          "xref": "x",
          "y": 3,
          "yref": "y"
         },
         {
          "showarrow": false,
          "text": "E",
          "x": 246,
          "xref": "x",
          "y": 3,
          "yref": "y"
         },
         {
          "showarrow": false,
          "text": "S",
          "x": 247,
          "xref": "x",
          "y": 3,
          "yref": "y"
         },
         {
          "showarrow": false,
          "text": "S",
          "x": 248,
          "xref": "x",
          "y": 3,
          "yref": "y"
         },
         {
          "showarrow": false,
          "text": "L",
          "x": 249,
          "xref": "x",
          "y": 3,
          "yref": "y"
         },
         {
          "showarrow": false,
          "text": "Q",
          "x": 250,
          "xref": "x",
          "y": 3,
          "yref": "y"
         },
         {
          "showarrow": false,
          "text": "D",
          "x": 251,
          "xref": "x",
          "y": 3,
          "yref": "y"
         },
         {
          "showarrow": false,
          "text": "S",
          "x": 252,
          "xref": "x",
          "y": 3,
          "yref": "y"
         },
         {
          "showarrow": false,
          "text": "P",
          "x": 253,
          "xref": "x",
          "y": 3,
          "yref": "y"
         },
         {
          "showarrow": false,
          "text": "P",
          "x": 254,
          "xref": "x",
          "y": 3,
          "yref": "y"
         },
         {
          "showarrow": false,
          "text": "S",
          "x": 255,
          "xref": "x",
          "y": 3,
          "yref": "y"
         },
         {
          "showarrow": false,
          "text": "K",
          "x": 256,
          "xref": "x",
          "y": 3,
          "yref": "y"
         },
         {
          "showarrow": false,
          "text": "A",
          "x": 257,
          "xref": "x",
          "y": 3,
          "yref": "y"
         },
         {
          "showarrow": false,
          "text": "S",
          "x": 258,
          "xref": "x",
          "y": 3,
          "yref": "y"
         },
         {
          "showarrow": false,
          "text": "-",
          "x": 259,
          "xref": "x",
          "y": 3,
          "yref": "y"
         },
         {
          "showarrow": false,
          "text": "-",
          "x": 260,
          "xref": "x",
          "y": 3,
          "yref": "y"
         },
         {
          "showarrow": false,
          "text": "-",
          "x": 261,
          "xref": "x",
          "y": 3,
          "yref": "y"
         },
         {
          "showarrow": false,
          "text": "P",
          "x": 262,
          "xref": "x",
          "y": 3,
          "yref": "y"
         },
         {
          "showarrow": false,
          "text": "A",
          "x": 263,
          "xref": "x",
          "y": 3,
          "yref": "y"
         },
         {
          "showarrow": false,
          "text": "Q",
          "x": 264,
          "xref": "x",
          "y": 3,
          "yref": "y"
         },
         {
          "showarrow": false,
          "text": "D",
          "x": 265,
          "xref": "x",
          "y": 3,
          "yref": "y"
         },
         {
          "showarrow": false,
          "text": "-",
          "x": 266,
          "xref": "x",
          "y": 3,
          "yref": "y"
         },
         {
          "showarrow": false,
          "text": "-",
          "x": 267,
          "xref": "x",
          "y": 3,
          "yref": "y"
         },
         {
          "showarrow": false,
          "text": "-",
          "x": 268,
          "xref": "x",
          "y": 3,
          "yref": "y"
         },
         {
          "showarrow": false,
          "text": "-",
          "x": 269,
          "xref": "x",
          "y": 3,
          "yref": "y"
         },
         {
          "showarrow": false,
          "text": "G",
          "x": 270,
          "xref": "x",
          "y": 3,
          "yref": "y"
         },
         {
          "showarrow": false,
          "text": "R",
          "x": 271,
          "xref": "x",
          "y": 3,
          "yref": "y"
         },
         {
          "showarrow": false,
          "text": "-",
          "x": 272,
          "xref": "x",
          "y": 3,
          "yref": "y"
         },
         {
          "showarrow": false,
          "text": "-",
          "x": 273,
          "xref": "x",
          "y": 3,
          "yref": "y"
         },
         {
          "showarrow": false,
          "text": "-",
          "x": 274,
          "xref": "x",
          "y": 3,
          "yref": "y"
         },
         {
          "showarrow": false,
          "text": "-",
          "x": 275,
          "xref": "x",
          "y": 3,
          "yref": "y"
         },
         {
          "showarrow": false,
          "text": "P",
          "x": 276,
          "xref": "x",
          "y": 3,
          "yref": "y"
         },
         {
          "showarrow": false,
          "text": "-",
          "x": 277,
          "xref": "x",
          "y": 3,
          "yref": "y"
         },
         {
          "showarrow": false,
          "text": "P",
          "x": 278,
          "xref": "x",
          "y": 3,
          "yref": "y"
         },
         {
          "showarrow": false,
          "text": "Q",
          "x": 279,
          "xref": "x",
          "y": 3,
          "yref": "y"
         },
         {
          "showarrow": false,
          "text": "T",
          "x": 280,
          "xref": "x",
          "y": 3,
          "yref": "y"
         },
         {
          "showarrow": false,
          "text": "A",
          "x": 281,
          "xref": "x",
          "y": 3,
          "yref": "y"
         },
         {
          "showarrow": false,
          "text": "A",
          "x": 282,
          "xref": "x",
          "y": 3,
          "yref": "y"
         },
         {
          "showarrow": false,
          "text": "R",
          "x": 283,
          "xref": "x",
          "y": 3,
          "yref": "y"
         },
         {
          "showarrow": false,
          "text": "-",
          "x": 284,
          "xref": "x",
          "y": 3,
          "yref": "y"
         },
         {
          "showarrow": false,
          "text": "-",
          "x": 285,
          "xref": "x",
          "y": 3,
          "yref": "y"
         },
         {
          "showarrow": false,
          "text": "-",
          "x": 286,
          "xref": "x",
          "y": 3,
          "yref": "y"
         },
         {
          "showarrow": false,
          "text": "-",
          "x": 287,
          "xref": "x",
          "y": 3,
          "yref": "y"
         },
         {
          "showarrow": false,
          "text": "-",
          "x": 288,
          "xref": "x",
          "y": 3,
          "yref": "y"
         },
         {
          "showarrow": false,
          "text": "E",
          "x": 289,
          "xref": "x",
          "y": 3,
          "yref": "y"
         },
         {
          "showarrow": false,
          "text": "-",
          "x": 290,
          "xref": "x",
          "y": 3,
          "yref": "y"
         },
         {
          "showarrow": false,
          "text": "A",
          "x": 291,
          "xref": "x",
          "y": 3,
          "yref": "y"
         },
         {
          "showarrow": false,
          "text": "T",
          "x": 292,
          "xref": "x",
          "y": 3,
          "yref": "y"
         },
         {
          "showarrow": false,
          "text": "S",
          "x": 293,
          "xref": "x",
          "y": 3,
          "yref": "y"
         },
         {
          "showarrow": false,
          "text": "I",
          "x": 294,
          "xref": "x",
          "y": 3,
          "yref": "y"
         },
         {
          "showarrow": false,
          "text": "P",
          "x": 295,
          "xref": "x",
          "y": 3,
          "yref": "y"
         },
         {
          "showarrow": false,
          "text": "G",
          "x": 296,
          "xref": "x",
          "y": 3,
          "yref": "y"
         },
         {
          "showarrow": false,
          "text": "F",
          "x": 297,
          "xref": "x",
          "y": 3,
          "yref": "y"
         },
         {
          "showarrow": false,
          "text": "P",
          "x": 298,
          "xref": "x",
          "y": 3,
          "yref": "y"
         },
         {
          "showarrow": false,
          "text": "A",
          "x": 299,
          "xref": "x",
          "y": 3,
          "yref": "y"
         },
         {
          "showarrow": false,
          "text": "E",
          "x": 300,
          "xref": "x",
          "y": 3,
          "yref": "y"
         },
         {
          "showarrow": false,
          "text": "G",
          "x": 301,
          "xref": "x",
          "y": 3,
          "yref": "y"
         },
         {
          "showarrow": false,
          "text": "A",
          "x": 302,
          "xref": "x",
          "y": 3,
          "yref": "y"
         },
         {
          "showarrow": false,
          "text": "I",
          "x": 303,
          "xref": "x",
          "y": 3,
          "yref": "y"
         },
         {
          "showarrow": false,
          "text": "P",
          "x": 304,
          "xref": "x",
          "y": 3,
          "yref": "y"
         },
         {
          "showarrow": false,
          "text": "L",
          "x": 305,
          "xref": "x",
          "y": 3,
          "yref": "y"
         },
         {
          "showarrow": false,
          "text": "P",
          "x": 306,
          "xref": "x",
          "y": 3,
          "yref": "y"
         },
         {
          "showarrow": false,
          "text": "V",
          "x": 307,
          "xref": "x",
          "y": 3,
          "yref": "y"
         },
         {
          "showarrow": false,
          "text": "D",
          "x": 308,
          "xref": "x",
          "y": 3,
          "yref": "y"
         },
         {
          "showarrow": false,
          "text": "F",
          "x": 309,
          "xref": "x",
          "y": 3,
          "yref": "y"
         },
         {
          "showarrow": false,
          "text": "L",
          "x": 310,
          "xref": "x",
          "y": 3,
          "yref": "y"
         },
         {
          "showarrow": false,
          "text": "S",
          "x": 311,
          "xref": "x",
          "y": 3,
          "yref": "y"
         },
         {
          "showarrow": false,
          "text": "K",
          "x": 312,
          "xref": "x",
          "y": 3,
          "yref": "y"
         },
         {
          "showarrow": false,
          "text": "V",
          "x": 313,
          "xref": "x",
          "y": 3,
          "yref": "y"
         },
         {
          "showarrow": false,
          "text": "S",
          "x": 314,
          "xref": "x",
          "y": 3,
          "yref": "y"
         },
         {
          "showarrow": false,
          "text": "T",
          "x": 315,
          "xref": "x",
          "y": 3,
          "yref": "y"
         },
         {
          "showarrow": false,
          "text": "E",
          "x": 316,
          "xref": "x",
          "y": 3,
          "yref": "y"
         },
         {
          "showarrow": false,
          "text": "I",
          "x": 317,
          "xref": "x",
          "y": 3,
          "yref": "y"
         },
         {
          "showarrow": false,
          "text": "-",
          "x": 318,
          "xref": "x",
          "y": 3,
          "yref": "y"
         },
         {
          "showarrow": false,
          "text": "P",
          "x": 319,
          "xref": "x",
          "y": 3,
          "yref": "y"
         },
         {
          "showarrow": false,
          "text": "A",
          "x": 320,
          "xref": "x",
          "y": 3,
          "yref": "y"
         },
         {
          "showarrow": false,
          "text": "S",
          "x": 321,
          "xref": "x",
          "y": 3,
          "yref": "y"
         },
         {
          "showarrow": false,
          "text": "E",
          "x": 322,
          "xref": "x",
          "y": 3,
          "yref": "y"
         },
         {
          "showarrow": false,
          "text": "-",
          "x": 323,
          "xref": "x",
          "y": 3,
          "yref": "y"
         },
         {
          "showarrow": false,
          "text": "P",
          "x": 324,
          "xref": "x",
          "y": 3,
          "yref": "y"
         },
         {
          "showarrow": false,
          "text": "D",
          "x": 325,
          "xref": "x",
          "y": 3,
          "yref": "y"
         },
         {
          "showarrow": false,
          "text": "G",
          "x": 326,
          "xref": "x",
          "y": 3,
          "yref": "y"
         },
         {
          "showarrow": false,
          "text": "P",
          "x": 327,
          "xref": "x",
          "y": 3,
          "yref": "y"
         },
         {
          "showarrow": false,
          "text": "S",
          "x": 328,
          "xref": "x",
          "y": 3,
          "yref": "y"
         },
         {
          "showarrow": false,
          "text": "A",
          "x": 329,
          "xref": "x",
          "y": 3,
          "yref": "y"
         },
         {
          "showarrow": false,
          "text": "G",
          "x": 330,
          "xref": "x",
          "y": 3,
          "yref": "y"
         },
         {
          "showarrow": false,
          "text": "R",
          "x": 331,
          "xref": "x",
          "y": 3,
          "yref": "y"
         },
         {
          "showarrow": false,
          "text": "A",
          "x": 332,
          "xref": "x",
          "y": 3,
          "yref": "y"
         },
         {
          "showarrow": false,
          "text": "K",
          "x": 333,
          "xref": "x",
          "y": 3,
          "yref": "y"
         },
         {
          "showarrow": false,
          "text": "-",
          "x": 334,
          "xref": "x",
          "y": 3,
          "yref": "y"
         },
         {
          "showarrow": false,
          "text": "G",
          "x": 335,
          "xref": "x",
          "y": 3,
          "yref": "y"
         },
         {
          "showarrow": false,
          "text": "Q",
          "x": 336,
          "xref": "x",
          "y": 3,
          "yref": "y"
         },
         {
          "showarrow": false,
          "text": "D",
          "x": 337,
          "xref": "x",
          "y": 3,
          "yref": "y"
         },
         {
          "showarrow": false,
          "text": "A",
          "x": 338,
          "xref": "x",
          "y": 3,
          "yref": "y"
         },
         {
          "showarrow": false,
          "text": "-",
          "x": 339,
          "xref": "x",
          "y": 3,
          "yref": "y"
         },
         {
          "showarrow": false,
          "text": "H",
          "x": 340,
          "xref": "x",
          "y": 3,
          "yref": "y"
         },
         {
          "showarrow": false,
          "text": "L",
          "x": 341,
          "xref": "x",
          "y": 3,
          "yref": "y"
         },
         {
          "showarrow": false,
          "text": "E",
          "x": 342,
          "xref": "x",
          "y": 3,
          "yref": "y"
         },
         {
          "showarrow": false,
          "text": "F",
          "x": 343,
          "xref": "x",
          "y": 3,
          "yref": "y"
         },
         {
          "showarrow": false,
          "text": "T",
          "x": 344,
          "xref": "x",
          "y": 3,
          "yref": "y"
         },
         {
          "showarrow": false,
          "text": "F",
          "x": 345,
          "xref": "x",
          "y": 3,
          "yref": "y"
         },
         {
          "showarrow": false,
          "text": "H",
          "x": 346,
          "xref": "x",
          "y": 3,
          "yref": "y"
         },
         {
          "showarrow": false,
          "text": "V",
          "x": 347,
          "xref": "x",
          "y": 3,
          "yref": "y"
         },
         {
          "showarrow": false,
          "text": "E",
          "x": 348,
          "xref": "x",
          "y": 3,
          "yref": "y"
         },
         {
          "showarrow": false,
          "text": "I",
          "x": 349,
          "xref": "x",
          "y": 3,
          "yref": "y"
         },
         {
          "showarrow": false,
          "text": "-",
          "x": 350,
          "xref": "x",
          "y": 3,
          "yref": "y"
         },
         {
          "showarrow": false,
          "text": "-",
          "x": 351,
          "xref": "x",
          "y": 3,
          "yref": "y"
         },
         {
          "showarrow": false,
          "text": "-",
          "x": 352,
          "xref": "x",
          "y": 3,
          "yref": "y"
         },
         {
          "showarrow": false,
          "text": "T",
          "x": 353,
          "xref": "x",
          "y": 3,
          "yref": "y"
         },
         {
          "showarrow": false,
          "text": "P",
          "x": 354,
          "xref": "x",
          "y": 3,
          "yref": "y"
         },
         {
          "showarrow": false,
          "text": "N",
          "x": 355,
          "xref": "x",
          "y": 3,
          "yref": "y"
         },
         {
          "showarrow": false,
          "text": "V",
          "x": 356,
          "xref": "x",
          "y": 3,
          "yref": "y"
         },
         {
          "showarrow": false,
          "text": "Q",
          "x": 357,
          "xref": "x",
          "y": 3,
          "yref": "y"
         },
         {
          "showarrow": false,
          "text": "K",
          "x": 358,
          "xref": "x",
          "y": 3,
          "yref": "y"
         },
         {
          "showarrow": false,
          "text": "E",
          "x": 359,
          "xref": "x",
          "y": 3,
          "yref": "y"
         },
         {
          "showarrow": false,
          "text": "Q",
          "x": 360,
          "xref": "x",
          "y": 3,
          "yref": "y"
         },
         {
          "showarrow": false,
          "text": "A",
          "x": 361,
          "xref": "x",
          "y": 3,
          "yref": "y"
         },
         {
          "showarrow": false,
          "text": "H",
          "x": 362,
          "xref": "x",
          "y": 3,
          "yref": "y"
         },
         {
          "showarrow": false,
          "text": "-",
          "x": 363,
          "xref": "x",
          "y": 3,
          "yref": "y"
         },
         {
          "showarrow": false,
          "text": "-",
          "x": 364,
          "xref": "x",
          "y": 3,
          "yref": "y"
         },
         {
          "showarrow": false,
          "text": "S",
          "x": 365,
          "xref": "x",
          "y": 3,
          "yref": "y"
         },
         {
          "showarrow": false,
          "text": "E",
          "x": 366,
          "xref": "x",
          "y": 3,
          "yref": "y"
         },
         {
          "showarrow": false,
          "text": "E",
          "x": 367,
          "xref": "x",
          "y": 3,
          "yref": "y"
         },
         {
          "showarrow": false,
          "text": "H",
          "x": 368,
          "xref": "x",
          "y": 3,
          "yref": "y"
         },
         {
          "showarrow": false,
          "text": "L",
          "x": 369,
          "xref": "x",
          "y": 3,
          "yref": "y"
         },
         {
          "showarrow": false,
          "text": "G",
          "x": 370,
          "xref": "x",
          "y": 3,
          "yref": "y"
         },
         {
          "showarrow": false,
          "text": "R",
          "x": 371,
          "xref": "x",
          "y": 3,
          "yref": "y"
         },
         {
          "showarrow": false,
          "text": "A",
          "x": 372,
          "xref": "x",
          "y": 3,
          "yref": "y"
         },
         {
          "showarrow": false,
          "text": "A",
          "x": 373,
          "xref": "x",
          "y": 3,
          "yref": "y"
         },
         {
          "showarrow": false,
          "text": "F",
          "x": 374,
          "xref": "x",
          "y": 3,
          "yref": "y"
         },
         {
          "showarrow": false,
          "text": "P",
          "x": 375,
          "xref": "x",
          "y": 3,
          "yref": "y"
         },
         {
          "showarrow": false,
          "text": "G",
          "x": 376,
          "xref": "x",
          "y": 3,
          "yref": "y"
         },
         {
          "showarrow": false,
          "text": "A",
          "x": 377,
          "xref": "x",
          "y": 3,
          "yref": "y"
         },
         {
          "showarrow": false,
          "text": "P",
          "x": 378,
          "xref": "x",
          "y": 3,
          "yref": "y"
         },
         {
          "showarrow": false,
          "text": "G",
          "x": 379,
          "xref": "x",
          "y": 3,
          "yref": "y"
         },
         {
          "showarrow": false,
          "text": "E",
          "x": 380,
          "xref": "x",
          "y": 3,
          "yref": "y"
         },
         {
          "showarrow": false,
          "text": "G",
          "x": 381,
          "xref": "x",
          "y": 3,
          "yref": "y"
         },
         {
          "showarrow": false,
          "text": "P",
          "x": 382,
          "xref": "x",
          "y": 3,
          "yref": "y"
         },
         {
          "showarrow": false,
          "text": "E",
          "x": 383,
          "xref": "x",
          "y": 3,
          "yref": "y"
         },
         {
          "showarrow": false,
          "text": "-",
          "x": 384,
          "xref": "x",
          "y": 3,
          "yref": "y"
         },
         {
          "showarrow": false,
          "text": "-",
          "x": 385,
          "xref": "x",
          "y": 3,
          "yref": "y"
         },
         {
          "showarrow": false,
          "text": "A",
          "x": 386,
          "xref": "x",
          "y": 3,
          "yref": "y"
         },
         {
          "showarrow": false,
          "text": "R",
          "x": 387,
          "xref": "x",
          "y": 3,
          "yref": "y"
         },
         {
          "showarrow": false,
          "text": "-",
          "x": 388,
          "xref": "x",
          "y": 3,
          "yref": "y"
         },
         {
          "showarrow": false,
          "text": "-",
          "x": 389,
          "xref": "x",
          "y": 3,
          "yref": "y"
         },
         {
          "showarrow": false,
          "text": "G",
          "x": 390,
          "xref": "x",
          "y": 3,
          "yref": "y"
         },
         {
          "showarrow": false,
          "text": "-",
          "x": 391,
          "xref": "x",
          "y": 3,
          "yref": "y"
         },
         {
          "showarrow": false,
          "text": "P",
          "x": 392,
          "xref": "x",
          "y": 3,
          "yref": "y"
         },
         {
          "showarrow": false,
          "text": "S",
          "x": 393,
          "xref": "x",
          "y": 3,
          "yref": "y"
         },
         {
          "showarrow": false,
          "text": "L",
          "x": 394,
          "xref": "x",
          "y": 3,
          "yref": "y"
         },
         {
          "showarrow": false,
          "text": "G",
          "x": 395,
          "xref": "x",
          "y": 3,
          "yref": "y"
         },
         {
          "showarrow": false,
          "text": "E",
          "x": 396,
          "xref": "x",
          "y": 3,
          "yref": "y"
         },
         {
          "showarrow": false,
          "text": "D",
          "x": 397,
          "xref": "x",
          "y": 3,
          "yref": "y"
         },
         {
          "showarrow": false,
          "text": "T",
          "x": 398,
          "xref": "x",
          "y": 3,
          "yref": "y"
         },
         {
          "showarrow": false,
          "text": "K",
          "x": 399,
          "xref": "x",
          "y": 3,
          "yref": "y"
         },
         {
          "showarrow": false,
          "text": "E",
          "x": 400,
          "xref": "x",
          "y": 3,
          "yref": "y"
         },
         {
          "showarrow": false,
          "text": "A",
          "x": 401,
          "xref": "x",
          "y": 3,
          "yref": "y"
         },
         {
          "showarrow": false,
          "text": "D",
          "x": 402,
          "xref": "x",
          "y": 3,
          "yref": "y"
         },
         {
          "showarrow": false,
          "text": "L",
          "x": 403,
          "xref": "x",
          "y": 3,
          "yref": "y"
         },
         {
          "showarrow": false,
          "text": "P",
          "x": 404,
          "xref": "x",
          "y": 3,
          "yref": "y"
         },
         {
          "showarrow": false,
          "text": "E",
          "x": 405,
          "xref": "x",
          "y": 3,
          "yref": "y"
         },
         {
          "showarrow": false,
          "text": "P",
          "x": 406,
          "xref": "x",
          "y": 3,
          "yref": "y"
         },
         {
          "showarrow": false,
          "text": "S",
          "x": 407,
          "xref": "x",
          "y": 3,
          "yref": "y"
         },
         {
          "showarrow": false,
          "text": "E",
          "x": 408,
          "xref": "x",
          "y": 3,
          "yref": "y"
         },
         {
          "showarrow": false,
          "text": "K",
          "x": 409,
          "xref": "x",
          "y": 3,
          "yref": "y"
         },
         {
          "showarrow": false,
          "text": "Q",
          "x": 410,
          "xref": "x",
          "y": 3,
          "yref": "y"
         },
         {
          "showarrow": false,
          "text": "-",
          "x": 411,
          "xref": "x",
          "y": 3,
          "yref": "y"
         },
         {
          "showarrow": false,
          "text": "P",
          "x": 412,
          "xref": "x",
          "y": 3,
          "yref": "y"
         },
         {
          "showarrow": false,
          "text": "A",
          "x": 413,
          "xref": "x",
          "y": 3,
          "yref": "y"
         },
         {
          "showarrow": false,
          "text": "A",
          "x": 414,
          "xref": "x",
          "y": 3,
          "yref": "y"
         },
         {
          "showarrow": false,
          "text": "A",
          "x": 415,
          "xref": "x",
          "y": 3,
          "yref": "y"
         },
         {
          "showarrow": false,
          "text": "-",
          "x": 416,
          "xref": "x",
          "y": 3,
          "yref": "y"
         },
         {
          "showarrow": false,
          "text": "P",
          "x": 417,
          "xref": "x",
          "y": 3,
          "yref": "y"
         },
         {
          "showarrow": false,
          "text": "R",
          "x": 418,
          "xref": "x",
          "y": 3,
          "yref": "y"
         },
         {
          "showarrow": false,
          "text": "G",
          "x": 419,
          "xref": "x",
          "y": 3,
          "yref": "y"
         },
         {
          "showarrow": false,
          "text": "K",
          "x": 420,
          "xref": "x",
          "y": 3,
          "yref": "y"
         },
         {
          "showarrow": false,
          "text": "P",
          "x": 421,
          "xref": "x",
          "y": 3,
          "yref": "y"
         },
         {
          "showarrow": false,
          "text": "V",
          "x": 422,
          "xref": "x",
          "y": 3,
          "yref": "y"
         },
         {
          "showarrow": false,
          "text": "S",
          "x": 423,
          "xref": "x",
          "y": 3,
          "yref": "y"
         },
         {
          "showarrow": false,
          "text": "R",
          "x": 424,
          "xref": "x",
          "y": 3,
          "yref": "y"
         },
         {
          "showarrow": false,
          "text": "V",
          "x": 425,
          "xref": "x",
          "y": 3,
          "yref": "y"
         },
         {
          "showarrow": false,
          "text": "P",
          "x": 426,
          "xref": "x",
          "y": 3,
          "yref": "y"
         },
         {
          "showarrow": false,
          "text": "Q",
          "x": 427,
          "xref": "x",
          "y": 3,
          "yref": "y"
         },
         {
          "showarrow": false,
          "text": "L",
          "x": 428,
          "xref": "x",
          "y": 3,
          "yref": "y"
         },
         {
          "showarrow": false,
          "text": "K",
          "x": 429,
          "xref": "x",
          "y": 3,
          "yref": "y"
         },
         {
          "showarrow": false,
          "text": "A",
          "x": 430,
          "xref": "x",
          "y": 3,
          "yref": "y"
         },
         {
          "showarrow": false,
          "text": "R",
          "x": 431,
          "xref": "x",
          "y": 3,
          "yref": "y"
         },
         {
          "showarrow": false,
          "text": "M",
          "x": 432,
          "xref": "x",
          "y": 3,
          "yref": "y"
         },
         {
          "showarrow": false,
          "text": "V",
          "x": 433,
          "xref": "x",
          "y": 3,
          "yref": "y"
         },
         {
          "showarrow": false,
          "text": "S",
          "x": 434,
          "xref": "x",
          "y": 3,
          "yref": "y"
         },
         {
          "showarrow": false,
          "text": "K",
          "x": 435,
          "xref": "x",
          "y": 3,
          "yref": "y"
         },
         {
          "showarrow": false,
          "text": "S",
          "x": 436,
          "xref": "x",
          "y": 3,
          "yref": "y"
         },
         {
          "showarrow": false,
          "text": "K",
          "x": 437,
          "xref": "x",
          "y": 3,
          "yref": "y"
         },
         {
          "showarrow": false,
          "text": "D",
          "x": 438,
          "xref": "x",
          "y": 3,
          "yref": "y"
         },
         {
          "showarrow": false,
          "text": "G",
          "x": 439,
          "xref": "x",
          "y": 3,
          "yref": "y"
         },
         {
          "showarrow": false,
          "text": "T",
          "x": 440,
          "xref": "x",
          "y": 3,
          "yref": "y"
         },
         {
          "showarrow": false,
          "text": "G",
          "x": 441,
          "xref": "x",
          "y": 3,
          "yref": "y"
         },
         {
          "showarrow": false,
          "text": "S",
          "x": 442,
          "xref": "x",
          "y": 3,
          "yref": "y"
         },
         {
          "showarrow": false,
          "text": "D",
          "x": 443,
          "xref": "x",
          "y": 3,
          "yref": "y"
         },
         {
          "showarrow": false,
          "text": "D",
          "x": 444,
          "xref": "x",
          "y": 3,
          "yref": "y"
         },
         {
          "showarrow": false,
          "text": "K",
          "x": 445,
          "xref": "x",
          "y": 3,
          "yref": "y"
         },
         {
          "showarrow": false,
          "text": "K",
          "x": 446,
          "xref": "x",
          "y": 3,
          "yref": "y"
         },
         {
          "showarrow": false,
          "text": "A",
          "x": 447,
          "xref": "x",
          "y": 3,
          "yref": "y"
         },
         {
          "showarrow": false,
          "text": "K",
          "x": 448,
          "xref": "x",
          "y": 3,
          "yref": "y"
         },
         {
          "showarrow": false,
          "text": "T",
          "x": 449,
          "xref": "x",
          "y": 3,
          "yref": "y"
         },
         {
          "showarrow": false,
          "text": "S",
          "x": 450,
          "xref": "x",
          "y": 3,
          "yref": "y"
         },
         {
          "showarrow": false,
          "text": "T",
          "x": 451,
          "xref": "x",
          "y": 3,
          "yref": "y"
         },
         {
          "showarrow": false,
          "text": "R",
          "x": 452,
          "xref": "x",
          "y": 3,
          "yref": "y"
         },
         {
          "showarrow": false,
          "text": "S",
          "x": 453,
          "xref": "x",
          "y": 3,
          "yref": "y"
         },
         {
          "showarrow": false,
          "text": "S",
          "x": 454,
          "xref": "x",
          "y": 3,
          "yref": "y"
         },
         {
          "showarrow": false,
          "text": "A",
          "x": 455,
          "xref": "x",
          "y": 3,
          "yref": "y"
         },
         {
          "showarrow": false,
          "text": "K",
          "x": 456,
          "xref": "x",
          "y": 3,
          "yref": "y"
         },
         {
          "showarrow": false,
          "text": "T",
          "x": 457,
          "xref": "x",
          "y": 3,
          "yref": "y"
         },
         {
          "showarrow": false,
          "text": "L",
          "x": 458,
          "xref": "x",
          "y": 3,
          "yref": "y"
         },
         {
          "showarrow": false,
          "text": "K",
          "x": 459,
          "xref": "x",
          "y": 3,
          "yref": "y"
         },
         {
          "showarrow": false,
          "text": "N",
          "x": 460,
          "xref": "x",
          "y": 3,
          "yref": "y"
         },
         {
          "showarrow": false,
          "text": "R",
          "x": 461,
          "xref": "x",
          "y": 3,
          "yref": "y"
         },
         {
          "showarrow": false,
          "text": "P",
          "x": 462,
          "xref": "x",
          "y": 3,
          "yref": "y"
         },
         {
          "showarrow": false,
          "text": "C",
          "x": 463,
          "xref": "x",
          "y": 3,
          "yref": "y"
         },
         {
          "showarrow": false,
          "text": "L",
          "x": 464,
          "xref": "x",
          "y": 3,
          "yref": "y"
         },
         {
          "showarrow": false,
          "text": "S",
          "x": 465,
          "xref": "x",
          "y": 3,
          "yref": "y"
         },
         {
          "showarrow": false,
          "text": "P",
          "x": 466,
          "xref": "x",
          "y": 3,
          "yref": "y"
         },
         {
          "showarrow": false,
          "text": "K",
          "x": 467,
          "xref": "x",
          "y": 3,
          "yref": "y"
         },
         {
          "showarrow": false,
          "text": "H",
          "x": 468,
          "xref": "x",
          "y": 3,
          "yref": "y"
         },
         {
          "showarrow": false,
          "text": "P",
          "x": 469,
          "xref": "x",
          "y": 3,
          "yref": "y"
         },
         {
          "showarrow": false,
          "text": "T",
          "x": 470,
          "xref": "x",
          "y": 3,
          "yref": "y"
         },
         {
          "showarrow": false,
          "text": "P",
          "x": 471,
          "xref": "x",
          "y": 3,
          "yref": "y"
         },
         {
          "showarrow": false,
          "text": "G",
          "x": 472,
          "xref": "x",
          "y": 3,
          "yref": "y"
         },
         {
          "showarrow": false,
          "text": "S",
          "x": 473,
          "xref": "x",
          "y": 3,
          "yref": "y"
         },
         {
          "showarrow": false,
          "text": "S",
          "x": 474,
          "xref": "x",
          "y": 3,
          "yref": "y"
         },
         {
          "showarrow": false,
          "text": "D",
          "x": 475,
          "xref": "x",
          "y": 3,
          "yref": "y"
         },
         {
          "showarrow": false,
          "text": "P",
          "x": 476,
          "xref": "x",
          "y": 3,
          "yref": "y"
         },
         {
          "showarrow": false,
          "text": "L",
          "x": 477,
          "xref": "x",
          "y": 3,
          "yref": "y"
         },
         {
          "showarrow": false,
          "text": "I",
          "x": 478,
          "xref": "x",
          "y": 3,
          "yref": "y"
         },
         {
          "showarrow": false,
          "text": "Q",
          "x": 479,
          "xref": "x",
          "y": 3,
          "yref": "y"
         },
         {
          "showarrow": false,
          "text": "P",
          "x": 480,
          "xref": "x",
          "y": 3,
          "yref": "y"
         },
         {
          "showarrow": false,
          "text": "S",
          "x": 481,
          "xref": "x",
          "y": 3,
          "yref": "y"
         },
         {
          "showarrow": false,
          "text": "S",
          "x": 482,
          "xref": "x",
          "y": 3,
          "yref": "y"
         },
         {
          "showarrow": false,
          "text": "P",
          "x": 483,
          "xref": "x",
          "y": 3,
          "yref": "y"
         },
         {
          "showarrow": false,
          "text": "A",
          "x": 484,
          "xref": "x",
          "y": 3,
          "yref": "y"
         },
         {
          "showarrow": false,
          "text": "V",
          "x": 485,
          "xref": "x",
          "y": 3,
          "yref": "y"
         },
         {
          "showarrow": false,
          "text": "C",
          "x": 486,
          "xref": "x",
          "y": 3,
          "yref": "y"
         },
         {
          "showarrow": false,
          "text": "P",
          "x": 487,
          "xref": "x",
          "y": 3,
          "yref": "y"
         },
         {
          "showarrow": false,
          "text": "E",
          "x": 488,
          "xref": "x",
          "y": 3,
          "yref": "y"
         },
         {
          "showarrow": false,
          "text": "P",
          "x": 489,
          "xref": "x",
          "y": 3,
          "yref": "y"
         },
         {
          "showarrow": false,
          "text": "P",
          "x": 490,
          "xref": "x",
          "y": 3,
          "yref": "y"
         },
         {
          "showarrow": false,
          "text": "S",
          "x": 491,
          "xref": "x",
          "y": 3,
          "yref": "y"
         },
         {
          "showarrow": false,
          "text": "S",
          "x": 492,
          "xref": "x",
          "y": 3,
          "yref": "y"
         },
         {
          "showarrow": false,
          "text": "P",
          "x": 493,
          "xref": "x",
          "y": 3,
          "yref": "y"
         },
         {
          "showarrow": false,
          "text": "K",
          "x": 494,
          "xref": "x",
          "y": 3,
          "yref": "y"
         },
         {
          "showarrow": false,
          "text": "Y",
          "x": 495,
          "xref": "x",
          "y": 3,
          "yref": "y"
         },
         {
          "showarrow": false,
          "text": "V",
          "x": 496,
          "xref": "x",
          "y": 3,
          "yref": "y"
         },
         {
          "showarrow": false,
          "text": "-",
          "x": 497,
          "xref": "x",
          "y": 3,
          "yref": "y"
         },
         {
          "showarrow": false,
          "text": "-",
          "x": 498,
          "xref": "x",
          "y": 3,
          "yref": "y"
         },
         {
          "showarrow": false,
          "text": "S",
          "x": 499,
          "xref": "x",
          "y": 3,
          "yref": "y"
         },
         {
          "showarrow": false,
          "text": "S",
          "x": 500,
          "xref": "x",
          "y": 3,
          "yref": "y"
         },
         {
          "showarrow": false,
          "text": "V",
          "x": 501,
          "xref": "x",
          "y": 3,
          "yref": "y"
         },
         {
          "showarrow": false,
          "text": "T",
          "x": 502,
          "xref": "x",
          "y": 3,
          "yref": "y"
         },
         {
          "showarrow": false,
          "text": "P",
          "x": 503,
          "xref": "x",
          "y": 3,
          "yref": "y"
         },
         {
          "showarrow": false,
          "text": "R",
          "x": 504,
          "xref": "x",
          "y": 3,
          "yref": "y"
         },
         {
          "showarrow": false,
          "text": "T",
          "x": 505,
          "xref": "x",
          "y": 3,
          "yref": "y"
         },
         {
          "showarrow": false,
          "text": "G",
          "x": 506,
          "xref": "x",
          "y": 3,
          "yref": "y"
         },
         {
          "showarrow": false,
          "text": "S",
          "x": 507,
          "xref": "x",
          "y": 3,
          "yref": "y"
         },
         {
          "showarrow": false,
          "text": "S",
          "x": 508,
          "xref": "x",
          "y": 3,
          "yref": "y"
         },
         {
          "showarrow": false,
          "text": "G",
          "x": 509,
          "xref": "x",
          "y": 3,
          "yref": "y"
         },
         {
          "showarrow": false,
          "text": "A",
          "x": 510,
          "xref": "x",
          "y": 3,
          "yref": "y"
         },
         {
          "showarrow": false,
          "text": "K",
          "x": 511,
          "xref": "x",
          "y": 3,
          "yref": "y"
         },
         {
          "showarrow": false,
          "text": "E",
          "x": 512,
          "xref": "x",
          "y": 3,
          "yref": "y"
         },
         {
          "showarrow": false,
          "text": "M",
          "x": 513,
          "xref": "x",
          "y": 3,
          "yref": "y"
         },
         {
          "showarrow": false,
          "text": "K",
          "x": 514,
          "xref": "x",
          "y": 3,
          "yref": "y"
         },
         {
          "showarrow": false,
          "text": "L",
          "x": 515,
          "xref": "x",
          "y": 3,
          "yref": "y"
         },
         {
          "showarrow": false,
          "text": "K",
          "x": 516,
          "xref": "x",
          "y": 3,
          "yref": "y"
         },
         {
          "showarrow": false,
          "text": "G",
          "x": 517,
          "xref": "x",
          "y": 3,
          "yref": "y"
         },
         {
          "showarrow": false,
          "text": "A",
          "x": 518,
          "xref": "x",
          "y": 3,
          "yref": "y"
         },
         {
          "showarrow": false,
          "text": "D",
          "x": 519,
          "xref": "x",
          "y": 3,
          "yref": "y"
         },
         {
          "showarrow": false,
          "text": "G",
          "x": 520,
          "xref": "x",
          "y": 3,
          "yref": "y"
         },
         {
          "showarrow": false,
          "text": "K",
          "x": 521,
          "xref": "x",
          "y": 3,
          "yref": "y"
         },
         {
          "showarrow": false,
          "text": "T",
          "x": 522,
          "xref": "x",
          "y": 3,
          "yref": "y"
         },
         {
          "showarrow": false,
          "text": "-",
          "x": 523,
          "xref": "x",
          "y": 3,
          "yref": "y"
         },
         {
          "showarrow": false,
          "text": "-",
          "x": 524,
          "xref": "x",
          "y": 3,
          "yref": "y"
         },
         {
          "showarrow": false,
          "text": "K",
          "x": 525,
          "xref": "x",
          "y": 3,
          "yref": "y"
         },
         {
          "showarrow": false,
          "text": "I",
          "x": 526,
          "xref": "x",
          "y": 3,
          "yref": "y"
         },
         {
          "showarrow": false,
          "text": "A",
          "x": 527,
          "xref": "x",
          "y": 3,
          "yref": "y"
         },
         {
          "showarrow": false,
          "text": "T",
          "x": 528,
          "xref": "x",
          "y": 3,
          "yref": "y"
         },
         {
          "showarrow": false,
          "text": "P",
          "x": 529,
          "xref": "x",
          "y": 3,
          "yref": "y"
         },
         {
          "showarrow": false,
          "text": "R",
          "x": 530,
          "xref": "x",
          "y": 3,
          "yref": "y"
         },
         {
          "showarrow": false,
          "text": "G",
          "x": 531,
          "xref": "x",
          "y": 3,
          "yref": "y"
         },
         {
          "showarrow": false,
          "text": "A",
          "x": 532,
          "xref": "x",
          "y": 3,
          "yref": "y"
         },
         {
          "showarrow": false,
          "text": "A",
          "x": 533,
          "xref": "x",
          "y": 3,
          "yref": "y"
         },
         {
          "showarrow": false,
          "text": "P",
          "x": 534,
          "xref": "x",
          "y": 3,
          "yref": "y"
         },
         {
          "showarrow": false,
          "text": "P",
          "x": 535,
          "xref": "x",
          "y": 3,
          "yref": "y"
         },
         {
          "showarrow": false,
          "text": "G",
          "x": 536,
          "xref": "x",
          "y": 3,
          "yref": "y"
         },
         {
          "showarrow": false,
          "text": "Q",
          "x": 537,
          "xref": "x",
          "y": 3,
          "yref": "y"
         },
         {
          "showarrow": false,
          "text": "K",
          "x": 538,
          "xref": "x",
          "y": 3,
          "yref": "y"
         },
         {
          "showarrow": false,
          "text": "G",
          "x": 539,
          "xref": "x",
          "y": 3,
          "yref": "y"
         },
         {
          "showarrow": false,
          "text": "Q",
          "x": 540,
          "xref": "x",
          "y": 3,
          "yref": "y"
         },
         {
          "showarrow": false,
          "text": "A",
          "x": 541,
          "xref": "x",
          "y": 3,
          "yref": "y"
         },
         {
          "showarrow": false,
          "text": "N",
          "x": 542,
          "xref": "x",
          "y": 3,
          "yref": "y"
         },
         {
          "showarrow": false,
          "text": "A",
          "x": 543,
          "xref": "x",
          "y": 3,
          "yref": "y"
         },
         {
          "showarrow": false,
          "text": "T",
          "x": 544,
          "xref": "x",
          "y": 3,
          "yref": "y"
         },
         {
          "showarrow": false,
          "text": "R",
          "x": 545,
          "xref": "x",
          "y": 3,
          "yref": "y"
         },
         {
          "showarrow": false,
          "text": "I",
          "x": 546,
          "xref": "x",
          "y": 3,
          "yref": "y"
         },
         {
          "showarrow": false,
          "text": "P",
          "x": 547,
          "xref": "x",
          "y": 3,
          "yref": "y"
         },
         {
          "showarrow": false,
          "text": "A",
          "x": 548,
          "xref": "x",
          "y": 3,
          "yref": "y"
         },
         {
          "showarrow": false,
          "text": "K",
          "x": 549,
          "xref": "x",
          "y": 3,
          "yref": "y"
         },
         {
          "showarrow": false,
          "text": "T",
          "x": 550,
          "xref": "x",
          "y": 3,
          "yref": "y"
         },
         {
          "showarrow": false,
          "text": "P",
          "x": 551,
          "xref": "x",
          "y": 3,
          "yref": "y"
         },
         {
          "showarrow": false,
          "text": "P",
          "x": 552,
          "xref": "x",
          "y": 3,
          "yref": "y"
         },
         {
          "showarrow": false,
          "text": "A",
          "x": 553,
          "xref": "x",
          "y": 3,
          "yref": "y"
         },
         {
          "showarrow": false,
          "text": "P",
          "x": 554,
          "xref": "x",
          "y": 3,
          "yref": "y"
         },
         {
          "showarrow": false,
          "text": "K",
          "x": 555,
          "xref": "x",
          "y": 3,
          "yref": "y"
         },
         {
          "showarrow": false,
          "text": "T",
          "x": 556,
          "xref": "x",
          "y": 3,
          "yref": "y"
         },
         {
          "showarrow": false,
          "text": "P",
          "x": 557,
          "xref": "x",
          "y": 3,
          "yref": "y"
         },
         {
          "showarrow": false,
          "text": "P",
          "x": 558,
          "xref": "x",
          "y": 3,
          "yref": "y"
         },
         {
          "showarrow": false,
          "text": "S",
          "x": 559,
          "xref": "x",
          "y": 3,
          "yref": "y"
         },
         {
          "showarrow": false,
          "text": "S",
          "x": 560,
          "xref": "x",
          "y": 3,
          "yref": "y"
         },
         {
          "showarrow": false,
          "text": "A",
          "x": 561,
          "xref": "x",
          "y": 3,
          "yref": "y"
         },
         {
          "showarrow": false,
          "text": "T",
          "x": 562,
          "xref": "x",
          "y": 3,
          "yref": "y"
         },
         {
          "showarrow": false,
          "text": "K",
          "x": 563,
          "xref": "x",
          "y": 3,
          "yref": "y"
         },
         {
          "showarrow": false,
          "text": "Q",
          "x": 564,
          "xref": "x",
          "y": 3,
          "yref": "y"
         },
         {
          "showarrow": false,
          "text": "V",
          "x": 565,
          "xref": "x",
          "y": 3,
          "yref": "y"
         },
         {
          "showarrow": false,
          "text": "Q",
          "x": 566,
          "xref": "x",
          "y": 3,
          "yref": "y"
         },
         {
          "showarrow": false,
          "text": "R",
          "x": 567,
          "xref": "x",
          "y": 3,
          "yref": "y"
         },
         {
          "showarrow": false,
          "text": "R",
          "x": 568,
          "xref": "x",
          "y": 3,
          "yref": "y"
         },
         {
          "showarrow": false,
          "text": "P",
          "x": 569,
          "xref": "x",
          "y": 3,
          "yref": "y"
         },
         {
          "showarrow": false,
          "text": "P",
          "x": 570,
          "xref": "x",
          "y": 3,
          "yref": "y"
         },
         {
          "showarrow": false,
          "text": "P",
          "x": 571,
          "xref": "x",
          "y": 3,
          "yref": "y"
         },
         {
          "showarrow": false,
          "text": "A",
          "x": 572,
          "xref": "x",
          "y": 3,
          "yref": "y"
         },
         {
          "showarrow": false,
          "text": "G",
          "x": 573,
          "xref": "x",
          "y": 3,
          "yref": "y"
         },
         {
          "showarrow": false,
          "text": "P",
          "x": 574,
          "xref": "x",
          "y": 3,
          "yref": "y"
         },
         {
          "showarrow": false,
          "text": "R",
          "x": 575,
          "xref": "x",
          "y": 3,
          "yref": "y"
         },
         {
          "showarrow": false,
          "text": "S",
          "x": 576,
          "xref": "x",
          "y": 3,
          "yref": "y"
         },
         {
          "showarrow": false,
          "text": "E",
          "x": 577,
          "xref": "x",
          "y": 3,
          "yref": "y"
         },
         {
          "showarrow": false,
          "text": "R",
          "x": 578,
          "xref": "x",
          "y": 3,
          "yref": "y"
         },
         {
          "showarrow": false,
          "text": "G",
          "x": 579,
          "xref": "x",
          "y": 3,
          "yref": "y"
         },
         {
          "showarrow": false,
          "text": "E",
          "x": 580,
          "xref": "x",
          "y": 3,
          "yref": "y"
         },
         {
          "showarrow": false,
          "text": "P",
          "x": 581,
          "xref": "x",
          "y": 3,
          "yref": "y"
         },
         {
          "showarrow": false,
          "text": "P",
          "x": 582,
          "xref": "x",
          "y": 3,
          "yref": "y"
         },
         {
          "showarrow": false,
          "text": "K",
          "x": 583,
          "xref": "x",
          "y": 3,
          "yref": "y"
         },
         {
          "showarrow": false,
          "text": "S",
          "x": 584,
          "xref": "x",
          "y": 3,
          "yref": "y"
         },
         {
          "showarrow": false,
          "text": "G",
          "x": 585,
          "xref": "x",
          "y": 3,
          "yref": "y"
         },
         {
          "showarrow": false,
          "text": "D",
          "x": 586,
          "xref": "x",
          "y": 3,
          "yref": "y"
         },
         {
          "showarrow": false,
          "text": "-",
          "x": 587,
          "xref": "x",
          "y": 3,
          "yref": "y"
         },
         {
          "showarrow": false,
          "text": "R",
          "x": 588,
          "xref": "x",
          "y": 3,
          "yref": "y"
         },
         {
          "showarrow": false,
          "text": "S",
          "x": 589,
          "xref": "x",
          "y": 3,
          "yref": "y"
         },
         {
          "showarrow": false,
          "text": "G",
          "x": 590,
          "xref": "x",
          "y": 3,
          "yref": "y"
         },
         {
          "showarrow": false,
          "text": "Y",
          "x": 591,
          "xref": "x",
          "y": 3,
          "yref": "y"
         },
         {
          "showarrow": false,
          "text": "S",
          "x": 592,
          "xref": "x",
          "y": 3,
          "yref": "y"
         },
         {
          "showarrow": false,
          "text": "S",
          "x": 593,
          "xref": "x",
          "y": 3,
          "yref": "y"
         },
         {
          "showarrow": false,
          "text": "P",
          "x": 594,
          "xref": "x",
          "y": 3,
          "yref": "y"
         },
         {
          "showarrow": false,
          "text": "G",
          "x": 595,
          "xref": "x",
          "y": 3,
          "yref": "y"
         },
         {
          "showarrow": false,
          "text": "S",
          "x": 596,
          "xref": "x",
          "y": 3,
          "yref": "y"
         },
         {
          "showarrow": false,
          "text": "P",
          "x": 597,
          "xref": "x",
          "y": 3,
          "yref": "y"
         },
         {
          "showarrow": false,
          "text": "G",
          "x": 598,
          "xref": "x",
          "y": 3,
          "yref": "y"
         },
         {
          "showarrow": false,
          "text": "T",
          "x": 599,
          "xref": "x",
          "y": 3,
          "yref": "y"
         },
         {
          "showarrow": false,
          "text": "P",
          "x": 600,
          "xref": "x",
          "y": 3,
          "yref": "y"
         },
         {
          "showarrow": false,
          "text": "G",
          "x": 601,
          "xref": "x",
          "y": 3,
          "yref": "y"
         },
         {
          "showarrow": false,
          "text": "S",
          "x": 602,
          "xref": "x",
          "y": 3,
          "yref": "y"
         },
         {
          "showarrow": false,
          "text": "R",
          "x": 603,
          "xref": "x",
          "y": 3,
          "yref": "y"
         },
         {
          "showarrow": false,
          "text": "S",
          "x": 604,
          "xref": "x",
          "y": 3,
          "yref": "y"
         },
         {
          "showarrow": false,
          "text": "R",
          "x": 605,
          "xref": "x",
          "y": 3,
          "yref": "y"
         },
         {
          "showarrow": false,
          "text": "T",
          "x": 606,
          "xref": "x",
          "y": 3,
          "yref": "y"
         },
         {
          "showarrow": false,
          "text": "P",
          "x": 607,
          "xref": "x",
          "y": 3,
          "yref": "y"
         },
         {
          "showarrow": false,
          "text": "S",
          "x": 608,
          "xref": "x",
          "y": 3,
          "yref": "y"
         },
         {
          "showarrow": false,
          "text": "L",
          "x": 609,
          "xref": "x",
          "y": 3,
          "yref": "y"
         },
         {
          "showarrow": false,
          "text": "P",
          "x": 610,
          "xref": "x",
          "y": 3,
          "yref": "y"
         },
         {
          "showarrow": false,
          "text": "T",
          "x": 611,
          "xref": "x",
          "y": 3,
          "yref": "y"
         },
         {
          "showarrow": false,
          "text": "P",
          "x": 612,
          "xref": "x",
          "y": 3,
          "yref": "y"
         },
         {
          "showarrow": false,
          "text": "P",
          "x": 613,
          "xref": "x",
          "y": 3,
          "yref": "y"
         },
         {
          "showarrow": false,
          "text": "-",
          "x": 614,
          "xref": "x",
          "y": 3,
          "yref": "y"
         },
         {
          "showarrow": false,
          "text": "T",
          "x": 615,
          "xref": "x",
          "y": 3,
          "yref": "y"
         },
         {
          "showarrow": false,
          "text": "R",
          "x": 616,
          "xref": "x",
          "y": 3,
          "yref": "y"
         },
         {
          "showarrow": false,
          "text": "E",
          "x": 617,
          "xref": "x",
          "y": 3,
          "yref": "y"
         },
         {
          "showarrow": false,
          "text": "P",
          "x": 618,
          "xref": "x",
          "y": 3,
          "yref": "y"
         },
         {
          "showarrow": false,
          "text": "K",
          "x": 619,
          "xref": "x",
          "y": 3,
          "yref": "y"
         },
         {
          "showarrow": false,
          "text": "K",
          "x": 620,
          "xref": "x",
          "y": 3,
          "yref": "y"
         },
         {
          "showarrow": false,
          "text": "V",
          "x": 621,
          "xref": "x",
          "y": 3,
          "yref": "y"
         },
         {
          "showarrow": false,
          "text": "A",
          "x": 622,
          "xref": "x",
          "y": 3,
          "yref": "y"
         },
         {
          "showarrow": false,
          "text": "V",
          "x": 623,
          "xref": "x",
          "y": 3,
          "yref": "y"
         },
         {
          "showarrow": false,
          "text": "V",
          "x": 624,
          "xref": "x",
          "y": 3,
          "yref": "y"
         },
         {
          "showarrow": false,
          "text": "R",
          "x": 625,
          "xref": "x",
          "y": 3,
          "yref": "y"
         },
         {
          "showarrow": false,
          "text": "T",
          "x": 626,
          "xref": "x",
          "y": 3,
          "yref": "y"
         },
         {
          "showarrow": false,
          "text": "P",
          "x": 627,
          "xref": "x",
          "y": 3,
          "yref": "y"
         },
         {
          "showarrow": false,
          "text": "P",
          "x": 628,
          "xref": "x",
          "y": 3,
          "yref": "y"
         },
         {
          "showarrow": false,
          "text": "K",
          "x": 629,
          "xref": "x",
          "y": 3,
          "yref": "y"
         },
         {
          "showarrow": false,
          "text": "S",
          "x": 630,
          "xref": "x",
          "y": 3,
          "yref": "y"
         },
         {
          "showarrow": false,
          "text": "P",
          "x": 631,
          "xref": "x",
          "y": 3,
          "yref": "y"
         },
         {
          "showarrow": false,
          "text": "S",
          "x": 632,
          "xref": "x",
          "y": 3,
          "yref": "y"
         },
         {
          "showarrow": false,
          "text": "S",
          "x": 633,
          "xref": "x",
          "y": 3,
          "yref": "y"
         },
         {
          "showarrow": false,
          "text": "A",
          "x": 634,
          "xref": "x",
          "y": 3,
          "yref": "y"
         },
         {
          "showarrow": false,
          "text": "K",
          "x": 635,
          "xref": "x",
          "y": 3,
          "yref": "y"
         },
         {
          "showarrow": false,
          "text": "S",
          "x": 636,
          "xref": "x",
          "y": 3,
          "yref": "y"
         },
         {
          "showarrow": false,
          "text": "R",
          "x": 637,
          "xref": "x",
          "y": 3,
          "yref": "y"
         },
         {
          "showarrow": false,
          "text": "L",
          "x": 638,
          "xref": "x",
          "y": 3,
          "yref": "y"
         },
         {
          "showarrow": false,
          "text": "Q",
          "x": 639,
          "xref": "x",
          "y": 3,
          "yref": "y"
         },
         {
          "showarrow": false,
          "text": "T",
          "x": 640,
          "xref": "x",
          "y": 3,
          "yref": "y"
         },
         {
          "showarrow": false,
          "text": "A",
          "x": 641,
          "xref": "x",
          "y": 3,
          "yref": "y"
         },
         {
          "showarrow": false,
          "text": "P",
          "x": 642,
          "xref": "x",
          "y": 3,
          "yref": "y"
         },
         {
          "showarrow": false,
          "text": "V",
          "x": 643,
          "xref": "x",
          "y": 3,
          "yref": "y"
         },
         {
          "showarrow": false,
          "text": "P",
          "x": 644,
          "xref": "x",
          "y": 3,
          "yref": "y"
         },
         {
          "showarrow": false,
          "text": "M",
          "x": 645,
          "xref": "x",
          "y": 3,
          "yref": "y"
         },
         {
          "showarrow": false,
          "text": "P",
          "x": 646,
          "xref": "x",
          "y": 3,
          "yref": "y"
         },
         {
          "showarrow": false,
          "text": "D",
          "x": 647,
          "xref": "x",
          "y": 3,
          "yref": "y"
         },
         {
          "showarrow": false,
          "text": "L",
          "x": 648,
          "xref": "x",
          "y": 3,
          "yref": "y"
         },
         {
          "showarrow": false,
          "text": "K",
          "x": 649,
          "xref": "x",
          "y": 3,
          "yref": "y"
         },
         {
          "showarrow": false,
          "text": "N",
          "x": 650,
          "xref": "x",
          "y": 3,
          "yref": "y"
         },
         {
          "showarrow": false,
          "text": "V",
          "x": 651,
          "xref": "x",
          "y": 3,
          "yref": "y"
         },
         {
          "showarrow": false,
          "text": "K",
          "x": 652,
          "xref": "x",
          "y": 3,
          "yref": "y"
         },
         {
          "showarrow": false,
          "text": "S",
          "x": 653,
          "xref": "x",
          "y": 3,
          "yref": "y"
         },
         {
          "showarrow": false,
          "text": "K",
          "x": 654,
          "xref": "x",
          "y": 3,
          "yref": "y"
         },
         {
          "showarrow": false,
          "text": "I",
          "x": 655,
          "xref": "x",
          "y": 3,
          "yref": "y"
         },
         {
          "showarrow": false,
          "text": "G",
          "x": 656,
          "xref": "x",
          "y": 3,
          "yref": "y"
         },
         {
          "showarrow": false,
          "text": "S",
          "x": 657,
          "xref": "x",
          "y": 3,
          "yref": "y"
         },
         {
          "showarrow": false,
          "text": "T",
          "x": 658,
          "xref": "x",
          "y": 3,
          "yref": "y"
         },
         {
          "showarrow": false,
          "text": "E",
          "x": 659,
          "xref": "x",
          "y": 3,
          "yref": "y"
         },
         {
          "showarrow": false,
          "text": "N",
          "x": 660,
          "xref": "x",
          "y": 3,
          "yref": "y"
         },
         {
          "showarrow": false,
          "text": "L",
          "x": 661,
          "xref": "x",
          "y": 3,
          "yref": "y"
         },
         {
          "showarrow": false,
          "text": "K",
          "x": 662,
          "xref": "x",
          "y": 3,
          "yref": "y"
         },
         {
          "showarrow": false,
          "text": "H",
          "x": 663,
          "xref": "x",
          "y": 3,
          "yref": "y"
         },
         {
          "showarrow": false,
          "text": "Q",
          "x": 664,
          "xref": "x",
          "y": 3,
          "yref": "y"
         },
         {
          "showarrow": false,
          "text": "P",
          "x": 665,
          "xref": "x",
          "y": 3,
          "yref": "y"
         },
         {
          "showarrow": false,
          "text": "G",
          "x": 666,
          "xref": "x",
          "y": 3,
          "yref": "y"
         },
         {
          "showarrow": false,
          "text": "G",
          "x": 667,
          "xref": "x",
          "y": 3,
          "yref": "y"
         },
         {
          "showarrow": false,
          "text": "G",
          "x": 668,
          "xref": "x",
          "y": 3,
          "yref": "y"
         },
         {
          "showarrow": false,
          "text": "K",
          "x": 669,
          "xref": "x",
          "y": 3,
          "yref": "y"
         },
         {
          "showarrow": false,
          "text": "V",
          "x": 670,
          "xref": "x",
          "y": 3,
          "yref": "y"
         },
         {
          "showarrow": false,
          "text": "Q",
          "x": 671,
          "xref": "x",
          "y": 3,
          "yref": "y"
         },
         {
          "showarrow": false,
          "text": "I",
          "x": 672,
          "xref": "x",
          "y": 3,
          "yref": "y"
         },
         {
          "showarrow": false,
          "text": "I",
          "x": 673,
          "xref": "x",
          "y": 3,
          "yref": "y"
         },
         {
          "showarrow": false,
          "text": "N",
          "x": 674,
          "xref": "x",
          "y": 3,
          "yref": "y"
         },
         {
          "showarrow": false,
          "text": "K",
          "x": 675,
          "xref": "x",
          "y": 3,
          "yref": "y"
         },
         {
          "showarrow": false,
          "text": "K",
          "x": 676,
          "xref": "x",
          "y": 3,
          "yref": "y"
         },
         {
          "showarrow": false,
          "text": "L",
          "x": 677,
          "xref": "x",
          "y": 3,
          "yref": "y"
         },
         {
          "showarrow": false,
          "text": "D",
          "x": 678,
          "xref": "x",
          "y": 3,
          "yref": "y"
         },
         {
          "showarrow": false,
          "text": "L",
          "x": 679,
          "xref": "x",
          "y": 3,
          "yref": "y"
         },
         {
          "showarrow": false,
          "text": "S",
          "x": 680,
          "xref": "x",
          "y": 3,
          "yref": "y"
         },
         {
          "showarrow": false,
          "text": "N",
          "x": 681,
          "xref": "x",
          "y": 3,
          "yref": "y"
         },
         {
          "showarrow": false,
          "text": "V",
          "x": 682,
          "xref": "x",
          "y": 3,
          "yref": "y"
         },
         {
          "showarrow": false,
          "text": "Q",
          "x": 683,
          "xref": "x",
          "y": 3,
          "yref": "y"
         },
         {
          "showarrow": false,
          "text": "S",
          "x": 684,
          "xref": "x",
          "y": 3,
          "yref": "y"
         },
         {
          "showarrow": false,
          "text": "K",
          "x": 685,
          "xref": "x",
          "y": 3,
          "yref": "y"
         },
         {
          "showarrow": false,
          "text": "C",
          "x": 686,
          "xref": "x",
          "y": 3,
          "yref": "y"
         },
         {
          "showarrow": false,
          "text": "G",
          "x": 687,
          "xref": "x",
          "y": 3,
          "yref": "y"
         },
         {
          "showarrow": false,
          "text": "S",
          "x": 688,
          "xref": "x",
          "y": 3,
          "yref": "y"
         },
         {
          "showarrow": false,
          "text": "K",
          "x": 689,
          "xref": "x",
          "y": 3,
          "yref": "y"
         },
         {
          "showarrow": false,
          "text": "D",
          "x": 690,
          "xref": "x",
          "y": 3,
          "yref": "y"
         },
         {
          "showarrow": false,
          "text": "N",
          "x": 691,
          "xref": "x",
          "y": 3,
          "yref": "y"
         },
         {
          "showarrow": false,
          "text": "I",
          "x": 692,
          "xref": "x",
          "y": 3,
          "yref": "y"
         },
         {
          "showarrow": false,
          "text": "K",
          "x": 693,
          "xref": "x",
          "y": 3,
          "yref": "y"
         },
         {
          "showarrow": false,
          "text": "H",
          "x": 694,
          "xref": "x",
          "y": 3,
          "yref": "y"
         },
         {
          "showarrow": false,
          "text": "V",
          "x": 695,
          "xref": "x",
          "y": 3,
          "yref": "y"
         },
         {
          "showarrow": false,
          "text": "P",
          "x": 696,
          "xref": "x",
          "y": 3,
          "yref": "y"
         },
         {
          "showarrow": false,
          "text": "G",
          "x": 697,
          "xref": "x",
          "y": 3,
          "yref": "y"
         },
         {
          "showarrow": false,
          "text": "G",
          "x": 698,
          "xref": "x",
          "y": 3,
          "yref": "y"
         },
         {
          "showarrow": false,
          "text": "G",
          "x": 699,
          "xref": "x",
          "y": 3,
          "yref": "y"
         },
         {
          "showarrow": false,
          "text": "S",
          "x": 700,
          "xref": "x",
          "y": 3,
          "yref": "y"
         },
         {
          "showarrow": false,
          "text": "V",
          "x": 701,
          "xref": "x",
          "y": 3,
          "yref": "y"
         },
         {
          "showarrow": false,
          "text": "Q",
          "x": 702,
          "xref": "x",
          "y": 3,
          "yref": "y"
         },
         {
          "showarrow": false,
          "text": "I",
          "x": 703,
          "xref": "x",
          "y": 3,
          "yref": "y"
         },
         {
          "showarrow": false,
          "text": "V",
          "x": 704,
          "xref": "x",
          "y": 3,
          "yref": "y"
         },
         {
          "showarrow": false,
          "text": "Y",
          "x": 705,
          "xref": "x",
          "y": 3,
          "yref": "y"
         },
         {
          "showarrow": false,
          "text": "K",
          "x": 706,
          "xref": "x",
          "y": 3,
          "yref": "y"
         },
         {
          "showarrow": false,
          "text": "P",
          "x": 707,
          "xref": "x",
          "y": 3,
          "yref": "y"
         },
         {
          "showarrow": false,
          "text": "V",
          "x": 708,
          "xref": "x",
          "y": 3,
          "yref": "y"
         },
         {
          "showarrow": false,
          "text": "D",
          "x": 709,
          "xref": "x",
          "y": 3,
          "yref": "y"
         },
         {
          "showarrow": false,
          "text": "L",
          "x": 710,
          "xref": "x",
          "y": 3,
          "yref": "y"
         },
         {
          "showarrow": false,
          "text": "S",
          "x": 711,
          "xref": "x",
          "y": 3,
          "yref": "y"
         },
         {
          "showarrow": false,
          "text": "K",
          "x": 712,
          "xref": "x",
          "y": 3,
          "yref": "y"
         },
         {
          "showarrow": false,
          "text": "V",
          "x": 713,
          "xref": "x",
          "y": 3,
          "yref": "y"
         },
         {
          "showarrow": false,
          "text": "T",
          "x": 714,
          "xref": "x",
          "y": 3,
          "yref": "y"
         },
         {
          "showarrow": false,
          "text": "S",
          "x": 715,
          "xref": "x",
          "y": 3,
          "yref": "y"
         },
         {
          "showarrow": false,
          "text": "K",
          "x": 716,
          "xref": "x",
          "y": 3,
          "yref": "y"
         },
         {
          "showarrow": false,
          "text": "C",
          "x": 717,
          "xref": "x",
          "y": 3,
          "yref": "y"
         },
         {
          "showarrow": false,
          "text": "G",
          "x": 718,
          "xref": "x",
          "y": 3,
          "yref": "y"
         },
         {
          "showarrow": false,
          "text": "S",
          "x": 719,
          "xref": "x",
          "y": 3,
          "yref": "y"
         },
         {
          "showarrow": false,
          "text": "L",
          "x": 720,
          "xref": "x",
          "y": 3,
          "yref": "y"
         },
         {
          "showarrow": false,
          "text": "G",
          "x": 721,
          "xref": "x",
          "y": 3,
          "yref": "y"
         },
         {
          "showarrow": false,
          "text": "N",
          "x": 722,
          "xref": "x",
          "y": 3,
          "yref": "y"
         },
         {
          "showarrow": false,
          "text": "I",
          "x": 723,
          "xref": "x",
          "y": 3,
          "yref": "y"
         },
         {
          "showarrow": false,
          "text": "H",
          "x": 724,
          "xref": "x",
          "y": 3,
          "yref": "y"
         },
         {
          "showarrow": false,
          "text": "H",
          "x": 725,
          "xref": "x",
          "y": 3,
          "yref": "y"
         },
         {
          "showarrow": false,
          "text": "K",
          "x": 726,
          "xref": "x",
          "y": 3,
          "yref": "y"
         },
         {
          "showarrow": false,
          "text": "P",
          "x": 727,
          "xref": "x",
          "y": 3,
          "yref": "y"
         },
         {
          "showarrow": false,
          "text": "G",
          "x": 728,
          "xref": "x",
          "y": 3,
          "yref": "y"
         },
         {
          "showarrow": false,
          "text": "G",
          "x": 729,
          "xref": "x",
          "y": 3,
          "yref": "y"
         },
         {
          "showarrow": false,
          "text": "G",
          "x": 730,
          "xref": "x",
          "y": 3,
          "yref": "y"
         },
         {
          "showarrow": false,
          "text": "Q",
          "x": 731,
          "xref": "x",
          "y": 3,
          "yref": "y"
         },
         {
          "showarrow": false,
          "text": "V",
          "x": 732,
          "xref": "x",
          "y": 3,
          "yref": "y"
         },
         {
          "showarrow": false,
          "text": "E",
          "x": 733,
          "xref": "x",
          "y": 3,
          "yref": "y"
         },
         {
          "showarrow": false,
          "text": "V",
          "x": 734,
          "xref": "x",
          "y": 3,
          "yref": "y"
         },
         {
          "showarrow": false,
          "text": "K",
          "x": 735,
          "xref": "x",
          "y": 3,
          "yref": "y"
         },
         {
          "showarrow": false,
          "text": "S",
          "x": 736,
          "xref": "x",
          "y": 3,
          "yref": "y"
         },
         {
          "showarrow": false,
          "text": "E",
          "x": 737,
          "xref": "x",
          "y": 3,
          "yref": "y"
         },
         {
          "showarrow": false,
          "text": "K",
          "x": 738,
          "xref": "x",
          "y": 3,
          "yref": "y"
         },
         {
          "showarrow": false,
          "text": "L",
          "x": 739,
          "xref": "x",
          "y": 3,
          "yref": "y"
         },
         {
          "showarrow": false,
          "text": "D",
          "x": 740,
          "xref": "x",
          "y": 3,
          "yref": "y"
         },
         {
          "showarrow": false,
          "text": "F",
          "x": 741,
          "xref": "x",
          "y": 3,
          "yref": "y"
         },
         {
          "showarrow": false,
          "text": "K",
          "x": 742,
          "xref": "x",
          "y": 3,
          "yref": "y"
         },
         {
          "showarrow": false,
          "text": "D",
          "x": 743,
          "xref": "x",
          "y": 3,
          "yref": "y"
         },
         {
          "showarrow": false,
          "text": "R",
          "x": 744,
          "xref": "x",
          "y": 3,
          "yref": "y"
         },
         {
          "showarrow": false,
          "text": "V",
          "x": 745,
          "xref": "x",
          "y": 3,
          "yref": "y"
         },
         {
          "showarrow": false,
          "text": "Q",
          "x": 746,
          "xref": "x",
          "y": 3,
          "yref": "y"
         },
         {
          "showarrow": false,
          "text": "S",
          "x": 747,
          "xref": "x",
          "y": 3,
          "yref": "y"
         },
         {
          "showarrow": false,
          "text": "K",
          "x": 748,
          "xref": "x",
          "y": 3,
          "yref": "y"
         },
         {
          "showarrow": false,
          "text": "I",
          "x": 749,
          "xref": "x",
          "y": 3,
          "yref": "y"
         },
         {
          "showarrow": false,
          "text": "G",
          "x": 750,
          "xref": "x",
          "y": 3,
          "yref": "y"
         },
         {
          "showarrow": false,
          "text": "S",
          "x": 751,
          "xref": "x",
          "y": 3,
          "yref": "y"
         },
         {
          "showarrow": false,
          "text": "L",
          "x": 752,
          "xref": "x",
          "y": 3,
          "yref": "y"
         },
         {
          "showarrow": false,
          "text": "D",
          "x": 753,
          "xref": "x",
          "y": 3,
          "yref": "y"
         },
         {
          "showarrow": false,
          "text": "N",
          "x": 754,
          "xref": "x",
          "y": 3,
          "yref": "y"
         },
         {
          "showarrow": false,
          "text": "I",
          "x": 755,
          "xref": "x",
          "y": 3,
          "yref": "y"
         },
         {
          "showarrow": false,
          "text": "T",
          "x": 756,
          "xref": "x",
          "y": 3,
          "yref": "y"
         },
         {
          "showarrow": false,
          "text": "H",
          "x": 757,
          "xref": "x",
          "y": 3,
          "yref": "y"
         },
         {
          "showarrow": false,
          "text": "V",
          "x": 758,
          "xref": "x",
          "y": 3,
          "yref": "y"
         },
         {
          "showarrow": false,
          "text": "P",
          "x": 759,
          "xref": "x",
          "y": 3,
          "yref": "y"
         },
         {
          "showarrow": false,
          "text": "G",
          "x": 760,
          "xref": "x",
          "y": 3,
          "yref": "y"
         },
         {
          "showarrow": false,
          "text": "G",
          "x": 761,
          "xref": "x",
          "y": 3,
          "yref": "y"
         },
         {
          "showarrow": false,
          "text": "G",
          "x": 762,
          "xref": "x",
          "y": 3,
          "yref": "y"
         },
         {
          "showarrow": false,
          "text": "N",
          "x": 763,
          "xref": "x",
          "y": 3,
          "yref": "y"
         },
         {
          "showarrow": false,
          "text": "K",
          "x": 764,
          "xref": "x",
          "y": 3,
          "yref": "y"
         },
         {
          "showarrow": false,
          "text": "K",
          "x": 765,
          "xref": "x",
          "y": 3,
          "yref": "y"
         },
         {
          "showarrow": false,
          "text": "I",
          "x": 766,
          "xref": "x",
          "y": 3,
          "yref": "y"
         },
         {
          "showarrow": false,
          "text": "E",
          "x": 767,
          "xref": "x",
          "y": 3,
          "yref": "y"
         },
         {
          "showarrow": false,
          "text": "T",
          "x": 768,
          "xref": "x",
          "y": 3,
          "yref": "y"
         },
         {
          "showarrow": false,
          "text": "H",
          "x": 769,
          "xref": "x",
          "y": 3,
          "yref": "y"
         },
         {
          "showarrow": false,
          "text": "K",
          "x": 770,
          "xref": "x",
          "y": 3,
          "yref": "y"
         },
         {
          "showarrow": false,
          "text": "L",
          "x": 771,
          "xref": "x",
          "y": 3,
          "yref": "y"
         },
         {
          "showarrow": false,
          "text": "T",
          "x": 772,
          "xref": "x",
          "y": 3,
          "yref": "y"
         },
         {
          "showarrow": false,
          "text": "F",
          "x": 773,
          "xref": "x",
          "y": 3,
          "yref": "y"
         },
         {
          "showarrow": false,
          "text": "R",
          "x": 774,
          "xref": "x",
          "y": 3,
          "yref": "y"
         },
         {
          "showarrow": false,
          "text": "E",
          "x": 775,
          "xref": "x",
          "y": 3,
          "yref": "y"
         },
         {
          "showarrow": false,
          "text": "N",
          "x": 776,
          "xref": "x",
          "y": 3,
          "yref": "y"
         },
         {
          "showarrow": false,
          "text": "A",
          "x": 777,
          "xref": "x",
          "y": 3,
          "yref": "y"
         },
         {
          "showarrow": false,
          "text": "K",
          "x": 778,
          "xref": "x",
          "y": 3,
          "yref": "y"
         },
         {
          "showarrow": false,
          "text": "A",
          "x": 779,
          "xref": "x",
          "y": 3,
          "yref": "y"
         },
         {
          "showarrow": false,
          "text": "K",
          "x": 780,
          "xref": "x",
          "y": 3,
          "yref": "y"
         },
         {
          "showarrow": false,
          "text": "T",
          "x": 781,
          "xref": "x",
          "y": 3,
          "yref": "y"
         },
         {
          "showarrow": false,
          "text": "D",
          "x": 782,
          "xref": "x",
          "y": 3,
          "yref": "y"
         },
         {
          "showarrow": false,
          "text": "H",
          "x": 783,
          "xref": "x",
          "y": 3,
          "yref": "y"
         },
         {
          "showarrow": false,
          "text": "G",
          "x": 784,
          "xref": "x",
          "y": 3,
          "yref": "y"
         },
         {
          "showarrow": false,
          "text": "A",
          "x": 785,
          "xref": "x",
          "y": 3,
          "yref": "y"
         },
         {
          "showarrow": false,
          "text": "E",
          "x": 786,
          "xref": "x",
          "y": 3,
          "yref": "y"
         },
         {
          "showarrow": false,
          "text": "I",
          "x": 787,
          "xref": "x",
          "y": 3,
          "yref": "y"
         },
         {
          "showarrow": false,
          "text": "V",
          "x": 788,
          "xref": "x",
          "y": 3,
          "yref": "y"
         },
         {
          "showarrow": false,
          "text": "Y",
          "x": 789,
          "xref": "x",
          "y": 3,
          "yref": "y"
         },
         {
          "showarrow": false,
          "text": "K",
          "x": 790,
          "xref": "x",
          "y": 3,
          "yref": "y"
         },
         {
          "showarrow": false,
          "text": "S",
          "x": 791,
          "xref": "x",
          "y": 3,
          "yref": "y"
         },
         {
          "showarrow": false,
          "text": "P",
          "x": 792,
          "xref": "x",
          "y": 3,
          "yref": "y"
         },
         {
          "showarrow": false,
          "text": "V",
          "x": 793,
          "xref": "x",
          "y": 3,
          "yref": "y"
         },
         {
          "showarrow": false,
          "text": "V",
          "x": 794,
          "xref": "x",
          "y": 3,
          "yref": "y"
         },
         {
          "showarrow": false,
          "text": "S",
          "x": 795,
          "xref": "x",
          "y": 3,
          "yref": "y"
         },
         {
          "showarrow": false,
          "text": "G",
          "x": 796,
          "xref": "x",
          "y": 3,
          "yref": "y"
         },
         {
          "showarrow": false,
          "text": "D",
          "x": 797,
          "xref": "x",
          "y": 3,
          "yref": "y"
         },
         {
          "showarrow": false,
          "text": "T",
          "x": 798,
          "xref": "x",
          "y": 3,
          "yref": "y"
         },
         {
          "showarrow": false,
          "text": "S",
          "x": 799,
          "xref": "x",
          "y": 3,
          "yref": "y"
         },
         {
          "showarrow": false,
          "text": "P",
          "x": 800,
          "xref": "x",
          "y": 3,
          "yref": "y"
         },
         {
          "showarrow": false,
          "text": "R",
          "x": 801,
          "xref": "x",
          "y": 3,
          "yref": "y"
         },
         {
          "showarrow": false,
          "text": "H",
          "x": 802,
          "xref": "x",
          "y": 3,
          "yref": "y"
         },
         {
          "showarrow": false,
          "text": "L",
          "x": 803,
          "xref": "x",
          "y": 3,
          "yref": "y"
         },
         {
          "showarrow": false,
          "text": "S",
          "x": 804,
          "xref": "x",
          "y": 3,
          "yref": "y"
         },
         {
          "showarrow": false,
          "text": "N",
          "x": 805,
          "xref": "x",
          "y": 3,
          "yref": "y"
         },
         {
          "showarrow": false,
          "text": "V",
          "x": 806,
          "xref": "x",
          "y": 3,
          "yref": "y"
         },
         {
          "showarrow": false,
          "text": "S",
          "x": 807,
          "xref": "x",
          "y": 3,
          "yref": "y"
         },
         {
          "showarrow": false,
          "text": "S",
          "x": 808,
          "xref": "x",
          "y": 3,
          "yref": "y"
         },
         {
          "showarrow": false,
          "text": "T",
          "x": 809,
          "xref": "x",
          "y": 3,
          "yref": "y"
         },
         {
          "showarrow": false,
          "text": "G",
          "x": 810,
          "xref": "x",
          "y": 3,
          "yref": "y"
         },
         {
          "showarrow": false,
          "text": "S",
          "x": 811,
          "xref": "x",
          "y": 3,
          "yref": "y"
         },
         {
          "showarrow": false,
          "text": "I",
          "x": 812,
          "xref": "x",
          "y": 3,
          "yref": "y"
         },
         {
          "showarrow": false,
          "text": "D",
          "x": 813,
          "xref": "x",
          "y": 3,
          "yref": "y"
         },
         {
          "showarrow": false,
          "text": "M",
          "x": 814,
          "xref": "x",
          "y": 3,
          "yref": "y"
         },
         {
          "showarrow": false,
          "text": "V",
          "x": 815,
          "xref": "x",
          "y": 3,
          "yref": "y"
         },
         {
          "showarrow": false,
          "text": "D",
          "x": 816,
          "xref": "x",
          "y": 3,
          "yref": "y"
         },
         {
          "showarrow": false,
          "text": "S",
          "x": 817,
          "xref": "x",
          "y": 3,
          "yref": "y"
         },
         {
          "showarrow": false,
          "text": "P",
          "x": 818,
          "xref": "x",
          "y": 3,
          "yref": "y"
         },
         {
          "showarrow": false,
          "text": "Q",
          "x": 819,
          "xref": "x",
          "y": 3,
          "yref": "y"
         },
         {
          "showarrow": false,
          "text": "L",
          "x": 820,
          "xref": "x",
          "y": 3,
          "yref": "y"
         },
         {
          "showarrow": false,
          "text": "A",
          "x": 821,
          "xref": "x",
          "y": 3,
          "yref": "y"
         },
         {
          "showarrow": false,
          "text": "T",
          "x": 822,
          "xref": "x",
          "y": 3,
          "yref": "y"
         },
         {
          "showarrow": false,
          "text": "L",
          "x": 823,
          "xref": "x",
          "y": 3,
          "yref": "y"
         },
         {
          "showarrow": false,
          "text": "A",
          "x": 824,
          "xref": "x",
          "y": 3,
          "yref": "y"
         },
         {
          "showarrow": false,
          "text": "D",
          "x": 825,
          "xref": "x",
          "y": 3,
          "yref": "y"
         },
         {
          "showarrow": false,
          "text": "E",
          "x": 826,
          "xref": "x",
          "y": 3,
          "yref": "y"
         },
         {
          "showarrow": false,
          "text": "V",
          "x": 827,
          "xref": "x",
          "y": 3,
          "yref": "y"
         },
         {
          "showarrow": false,
          "text": "S",
          "x": 828,
          "xref": "x",
          "y": 3,
          "yref": "y"
         },
         {
          "showarrow": false,
          "text": "A",
          "x": 829,
          "xref": "x",
          "y": 3,
          "yref": "y"
         },
         {
          "showarrow": false,
          "text": "S",
          "x": 830,
          "xref": "x",
          "y": 3,
          "yref": "y"
         },
         {
          "showarrow": false,
          "text": "L",
          "x": 831,
          "xref": "x",
          "y": 3,
          "yref": "y"
         },
         {
          "showarrow": false,
          "text": "A",
          "x": 832,
          "xref": "x",
          "y": 3,
          "yref": "y"
         },
         {
          "showarrow": false,
          "text": "K",
          "x": 833,
          "xref": "x",
          "y": 3,
          "yref": "y"
         },
         {
          "showarrow": false,
          "text": "Q",
          "x": 834,
          "xref": "x",
          "y": 3,
          "yref": "y"
         },
         {
          "showarrow": false,
          "text": "G",
          "x": 835,
          "xref": "x",
          "y": 3,
          "yref": "y"
         },
         {
          "showarrow": false,
          "text": "L",
          "x": 836,
          "xref": "x",
          "y": 3,
          "yref": "y"
         }
        ],
        "template": {
         "data": {
          "bar": [
           {
            "error_x": {
             "color": "#2a3f5f"
            },
            "error_y": {
             "color": "#2a3f5f"
            },
            "marker": {
             "line": {
              "color": "#E5ECF6",
              "width": 0.5
             },
             "pattern": {
              "fillmode": "overlay",
              "size": 10,
              "solidity": 0.2
             }
            },
            "type": "bar"
           }
          ],
          "barpolar": [
           {
            "marker": {
             "line": {
              "color": "#E5ECF6",
              "width": 0.5
             },
             "pattern": {
              "fillmode": "overlay",
              "size": 10,
              "solidity": 0.2
             }
            },
            "type": "barpolar"
           }
          ],
          "carpet": [
           {
            "aaxis": {
             "endlinecolor": "#2a3f5f",
             "gridcolor": "white",
             "linecolor": "white",
             "minorgridcolor": "white",
             "startlinecolor": "#2a3f5f"
            },
            "baxis": {
             "endlinecolor": "#2a3f5f",
             "gridcolor": "white",
             "linecolor": "white",
             "minorgridcolor": "white",
             "startlinecolor": "#2a3f5f"
            },
            "type": "carpet"
           }
          ],
          "choropleth": [
           {
            "colorbar": {
             "outlinewidth": 0,
             "ticks": ""
            },
            "type": "choropleth"
           }
          ],
          "contour": [
           {
            "colorbar": {
             "outlinewidth": 0,
             "ticks": ""
            },
            "colorscale": [
             [
              0,
              "#0d0887"
             ],
             [
              0.1111111111111111,
              "#46039f"
             ],
             [
              0.2222222222222222,
              "#7201a8"
             ],
             [
              0.3333333333333333,
              "#9c179e"
             ],
             [
              0.4444444444444444,
              "#bd3786"
             ],
             [
              0.5555555555555556,
              "#d8576b"
             ],
             [
              0.6666666666666666,
              "#ed7953"
             ],
             [
              0.7777777777777778,
              "#fb9f3a"
             ],
             [
              0.8888888888888888,
              "#fdca26"
             ],
             [
              1,
              "#f0f921"
             ]
            ],
            "type": "contour"
           }
          ],
          "contourcarpet": [
           {
            "colorbar": {
             "outlinewidth": 0,
             "ticks": ""
            },
            "type": "contourcarpet"
           }
          ],
          "heatmap": [
           {
            "colorbar": {
             "outlinewidth": 0,
             "ticks": ""
            },
            "colorscale": [
             [
              0,
              "#0d0887"
             ],
             [
              0.1111111111111111,
              "#46039f"
             ],
             [
              0.2222222222222222,
              "#7201a8"
             ],
             [
              0.3333333333333333,
              "#9c179e"
             ],
             [
              0.4444444444444444,
              "#bd3786"
             ],
             [
              0.5555555555555556,
              "#d8576b"
             ],
             [
              0.6666666666666666,
              "#ed7953"
             ],
             [
              0.7777777777777778,
              "#fb9f3a"
             ],
             [
              0.8888888888888888,
              "#fdca26"
             ],
             [
              1,
              "#f0f921"
             ]
            ],
            "type": "heatmap"
           }
          ],
          "heatmapgl": [
           {
            "colorbar": {
             "outlinewidth": 0,
             "ticks": ""
            },
            "colorscale": [
             [
              0,
              "#0d0887"
             ],
             [
              0.1111111111111111,
              "#46039f"
             ],
             [
              0.2222222222222222,
              "#7201a8"
             ],
             [
              0.3333333333333333,
              "#9c179e"
             ],
             [
              0.4444444444444444,
              "#bd3786"
             ],
             [
              0.5555555555555556,
              "#d8576b"
             ],
             [
              0.6666666666666666,
              "#ed7953"
             ],
             [
              0.7777777777777778,
              "#fb9f3a"
             ],
             [
              0.8888888888888888,
              "#fdca26"
             ],
             [
              1,
              "#f0f921"
             ]
            ],
            "type": "heatmapgl"
           }
          ],
          "histogram": [
           {
            "marker": {
             "pattern": {
              "fillmode": "overlay",
              "size": 10,
              "solidity": 0.2
             }
            },
            "type": "histogram"
           }
          ],
          "histogram2d": [
           {
            "colorbar": {
             "outlinewidth": 0,
             "ticks": ""
            },
            "colorscale": [
             [
              0,
              "#0d0887"
             ],
             [
              0.1111111111111111,
              "#46039f"
             ],
             [
              0.2222222222222222,
              "#7201a8"
             ],
             [
              0.3333333333333333,
              "#9c179e"
             ],
             [
              0.4444444444444444,
              "#bd3786"
             ],
             [
              0.5555555555555556,
              "#d8576b"
             ],
             [
              0.6666666666666666,
              "#ed7953"
             ],
             [
              0.7777777777777778,
              "#fb9f3a"
             ],
             [
              0.8888888888888888,
              "#fdca26"
             ],
             [
              1,
              "#f0f921"
             ]
            ],
            "type": "histogram2d"
           }
          ],
          "histogram2dcontour": [
           {
            "colorbar": {
             "outlinewidth": 0,
             "ticks": ""
            },
            "colorscale": [
             [
              0,
              "#0d0887"
             ],
             [
              0.1111111111111111,
              "#46039f"
             ],
             [
              0.2222222222222222,
              "#7201a8"
             ],
             [
              0.3333333333333333,
              "#9c179e"
             ],
             [
              0.4444444444444444,
              "#bd3786"
             ],
             [
              0.5555555555555556,
              "#d8576b"
             ],
             [
              0.6666666666666666,
              "#ed7953"
             ],
             [
              0.7777777777777778,
              "#fb9f3a"
             ],
             [
              0.8888888888888888,
              "#fdca26"
             ],
             [
              1,
              "#f0f921"
             ]
            ],
            "type": "histogram2dcontour"
           }
          ],
          "mesh3d": [
           {
            "colorbar": {
             "outlinewidth": 0,
             "ticks": ""
            },
            "type": "mesh3d"
           }
          ],
          "parcoords": [
           {
            "line": {
             "colorbar": {
              "outlinewidth": 0,
              "ticks": ""
             }
            },
            "type": "parcoords"
           }
          ],
          "pie": [
           {
            "automargin": true,
            "type": "pie"
           }
          ],
          "scatter": [
           {
            "fillpattern": {
             "fillmode": "overlay",
             "size": 10,
             "solidity": 0.2
            },
            "type": "scatter"
           }
          ],
          "scatter3d": [
           {
            "line": {
             "colorbar": {
              "outlinewidth": 0,
              "ticks": ""
             }
            },
            "marker": {
             "colorbar": {
              "outlinewidth": 0,
              "ticks": ""
             }
            },
            "type": "scatter3d"
           }
          ],
          "scattercarpet": [
           {
            "marker": {
             "colorbar": {
              "outlinewidth": 0,
              "ticks": ""
             }
            },
            "type": "scattercarpet"
           }
          ],
          "scattergeo": [
           {
            "marker": {
             "colorbar": {
              "outlinewidth": 0,
              "ticks": ""
             }
            },
            "type": "scattergeo"
           }
          ],
          "scattergl": [
           {
            "marker": {
             "colorbar": {
              "outlinewidth": 0,
              "ticks": ""
             }
            },
            "type": "scattergl"
           }
          ],
          "scattermapbox": [
           {
            "marker": {
             "colorbar": {
              "outlinewidth": 0,
              "ticks": ""
             }
            },
            "type": "scattermapbox"
           }
          ],
          "scatterpolar": [
           {
            "marker": {
             "colorbar": {
              "outlinewidth": 0,
              "ticks": ""
             }
            },
            "type": "scatterpolar"
           }
          ],
          "scatterpolargl": [
           {
            "marker": {
             "colorbar": {
              "outlinewidth": 0,
              "ticks": ""
             }
            },
            "type": "scatterpolargl"
           }
          ],
          "scatterternary": [
           {
            "marker": {
             "colorbar": {
              "outlinewidth": 0,
              "ticks": ""
             }
            },
            "type": "scatterternary"
           }
          ],
          "surface": [
           {
            "colorbar": {
             "outlinewidth": 0,
             "ticks": ""
            },
            "colorscale": [
             [
              0,
              "#0d0887"
             ],
             [
              0.1111111111111111,
              "#46039f"
             ],
             [
              0.2222222222222222,
              "#7201a8"
             ],
             [
              0.3333333333333333,
              "#9c179e"
             ],
             [
              0.4444444444444444,
              "#bd3786"
             ],
             [
              0.5555555555555556,
              "#d8576b"
             ],
             [
              0.6666666666666666,
              "#ed7953"
             ],
             [
              0.7777777777777778,
              "#fb9f3a"
             ],
             [
              0.8888888888888888,
              "#fdca26"
             ],
             [
              1,
              "#f0f921"
             ]
            ],
            "type": "surface"
           }
          ],
          "table": [
           {
            "cells": {
             "fill": {
              "color": "#EBF0F8"
             },
             "line": {
              "color": "white"
             }
            },
            "header": {
             "fill": {
              "color": "#C8D4E3"
             },
             "line": {
              "color": "white"
             }
            },
            "type": "table"
           }
          ]
         },
         "layout": {
          "annotationdefaults": {
           "arrowcolor": "#2a3f5f",
           "arrowhead": 0,
           "arrowwidth": 1
          },
          "autotypenumbers": "strict",
          "coloraxis": {
           "colorbar": {
            "outlinewidth": 0,
            "ticks": ""
           }
          },
          "colorscale": {
           "diverging": [
            [
             0,
             "#8e0152"
            ],
            [
             0.1,
             "#c51b7d"
            ],
            [
             0.2,
             "#de77ae"
            ],
            [
             0.3,
             "#f1b6da"
            ],
            [
             0.4,
             "#fde0ef"
            ],
            [
             0.5,
             "#f7f7f7"
            ],
            [
             0.6,
             "#e6f5d0"
            ],
            [
             0.7,
             "#b8e186"
            ],
            [
             0.8,
             "#7fbc41"
            ],
            [
             0.9,
             "#4d9221"
            ],
            [
             1,
             "#276419"
            ]
           ],
           "sequential": [
            [
             0,
             "#0d0887"
            ],
            [
             0.1111111111111111,
             "#46039f"
            ],
            [
             0.2222222222222222,
             "#7201a8"
            ],
            [
             0.3333333333333333,
             "#9c179e"
            ],
            [
             0.4444444444444444,
             "#bd3786"
            ],
            [
             0.5555555555555556,
             "#d8576b"
            ],
            [
             0.6666666666666666,
             "#ed7953"
            ],
            [
             0.7777777777777778,
             "#fb9f3a"
            ],
            [
             0.8888888888888888,
             "#fdca26"
            ],
            [
             1,
             "#f0f921"
            ]
           ],
           "sequentialminus": [
            [
             0,
             "#0d0887"
            ],
            [
             0.1111111111111111,
             "#46039f"
            ],
            [
             0.2222222222222222,
             "#7201a8"
            ],
            [
             0.3333333333333333,
             "#9c179e"
            ],
            [
             0.4444444444444444,
             "#bd3786"
            ],
            [
             0.5555555555555556,
             "#d8576b"
            ],
            [
             0.6666666666666666,
             "#ed7953"
            ],
            [
             0.7777777777777778,
             "#fb9f3a"
            ],
            [
             0.8888888888888888,
             "#fdca26"
            ],
            [
             1,
             "#f0f921"
            ]
           ]
          },
          "colorway": [
           "#636efa",
           "#EF553B",
           "#00cc96",
           "#ab63fa",
           "#FFA15A",
           "#19d3f3",
           "#FF6692",
           "#B6E880",
           "#FF97FF",
           "#FECB52"
          ],
          "font": {
           "color": "#2a3f5f"
          },
          "geo": {
           "bgcolor": "white",
           "lakecolor": "white",
           "landcolor": "#E5ECF6",
           "showlakes": true,
           "showland": true,
           "subunitcolor": "white"
          },
          "hoverlabel": {
           "align": "left"
          },
          "hovermode": "closest",
          "mapbox": {
           "style": "light"
          },
          "paper_bgcolor": "white",
          "plot_bgcolor": "#E5ECF6",
          "polar": {
           "angularaxis": {
            "gridcolor": "white",
            "linecolor": "white",
            "ticks": ""
           },
           "bgcolor": "#E5ECF6",
           "radialaxis": {
            "gridcolor": "white",
            "linecolor": "white",
            "ticks": ""
           }
          },
          "scene": {
           "xaxis": {
            "backgroundcolor": "#E5ECF6",
            "gridcolor": "white",
            "gridwidth": 2,
            "linecolor": "white",
            "showbackground": true,
            "ticks": "",
            "zerolinecolor": "white"
           },
           "yaxis": {
            "backgroundcolor": "#E5ECF6",
            "gridcolor": "white",
            "gridwidth": 2,
            "linecolor": "white",
            "showbackground": true,
            "ticks": "",
            "zerolinecolor": "white"
           },
           "zaxis": {
            "backgroundcolor": "#E5ECF6",
            "gridcolor": "white",
            "gridwidth": 2,
            "linecolor": "white",
            "showbackground": true,
            "ticks": "",
            "zerolinecolor": "white"
           }
          },
          "shapedefaults": {
           "line": {
            "color": "#2a3f5f"
           }
          },
          "ternary": {
           "aaxis": {
            "gridcolor": "white",
            "linecolor": "white",
            "ticks": ""
           },
           "baxis": {
            "gridcolor": "white",
            "linecolor": "white",
            "ticks": ""
           },
           "bgcolor": "#E5ECF6",
           "caxis": {
            "gridcolor": "white",
            "linecolor": "white",
            "ticks": ""
           }
          },
          "title": {
           "x": 0.05
          },
          "xaxis": {
           "automargin": true,
           "gridcolor": "white",
           "linecolor": "white",
           "ticks": "",
           "title": {
            "standoff": 15
           },
           "zerolinecolor": "white",
           "zerolinewidth": 2
          },
          "yaxis": {
           "automargin": true,
           "gridcolor": "white",
           "linecolor": "white",
           "ticks": "",
           "title": {
            "standoff": 15
           },
           "zerolinecolor": "white",
           "zerolinewidth": 2
          }
         }
        },
        "title": {
         "text": "Multiple Sequence Alignment (MSA) Visualization<br>Gap: -10, Match: 10, Mismatch: -10"
        },
        "xaxis": {
         "side": "bottom",
         "ticks": ""
        },
        "yaxis": {
         "ticks": ""
        }
       }
      }
     },
     "metadata": {},
     "output_type": "display_data"
    }
   ],
   "source": [
    "\n",
    "# seq1 = \"ATTGCCATT\"\n",
    "# seq2 = \"ATGGCCATT\"\n",
    "# seq3 = \"ATCCAATTTT\"\n",
    "# seq4 = \"ATCTTCTT\"\n",
    "# seq5 = \"ACTGACC\"\n",
    "seq1 = open_seq('TAU_HUMAN.fasta')\n",
    "seq2 = open_seq('TAU_MOUSE.fasta')\n",
    "seq3 = open_seq('TAU_RAT.fasta')\n",
    "seq4 = open_seq('TAU_PANTR.fasta')\n",
    "seqs = [seq1, seq2, seq3, seq4]\n",
    "\n",
    "gap = -10\n",
    "match = 10\n",
    "mismatch = -10\n",
    "\n",
    "\n",
    "matrix_of_score, msa_score, index_of_aligment= central_aligment(seqs, gap, match, mismatch)\n",
    "\n",
    "MSA = get_MSA(seqs, index_of_aligment)\n",
    "print(\"MSA: \" + MSA)\n",
    "\n",
    "globalAlignment = final_MSA(seqs, MSA,  gap, match, mismatch)\n",
    "print(\"Matching sequences each with each\" + str(globalAlignment))\n",
    "\n",
    "final = final_final_version(MSA, globalAlignment)\n",
    "# print(\"Final version, first sequence is MSA\" + str(final))\n",
    "grafic_show(final, gap, match, mismatch)\n",
    "\n",
    "save_results_global(seqs, seqs, gap, mismatch, match, matrix_of_score, MSA, globalAlignment, final, file_name=\"wyniki.txt\")\n",
    "\n",
    "\n",
    "\n"
   ]
  },
  {
   "cell_type": "markdown",
   "metadata": {},
   "source": [
    "# Wywołanie - 4 sekwencje ewolucyjnie niepowiązane"
   ]
  },
  {
   "cell_type": "code",
   "execution_count": 12,
   "metadata": {},
   "outputs": [
    {
     "name": "stdout",
     "output_type": "stream",
     "text": [
      "MSA: GDSLYFNGCQIRQAITKPLDLTRASKIMFVLQIGSISQTES\n",
      "Matching sequences each with each{1: ('GDSLYFNGCQIRQAITKPLDLTRASKIMFVLQIGSISQTES', 'GDSLYFNGCQIRQAITKPLDLTRASKIMFVLQIGSISQTE-'), 2: ('GDSLYFNGC-QIRQAITKPL--D-LTRASKIMFVLQIGSI-SQTES---', 'MEV-YRRSEAQLELVGTL-LSQDSLT--SPI---LP-GFAMSM-EKVFV'), 3: ('-GDSLYFNGCQIRQAITKPLDLTRASKIMF-VLQIG---S--ISQTES----', 'EG----FNN---RV---KVLKR-RCYGI-FNVDHIFQRFSLDINGYEWFPAP')}\n"
     ]
    },
    {
     "data": {
      "application/vnd.plotly.v1+json": {
       "config": {
        "plotlyServerURL": "https://plot.ly"
       },
       "data": [
        {
         "colorscale": [
          [
           0,
           "rgb(103,0,31)"
          ],
          [
           0.1,
           "rgb(178,24,43)"
          ],
          [
           0.2,
           "rgb(214,96,77)"
          ],
          [
           0.3,
           "rgb(244,165,130)"
          ],
          [
           0.4,
           "rgb(253,219,199)"
          ],
          [
           0.5,
           "rgb(247,247,247)"
          ],
          [
           0.6,
           "rgb(209,229,240)"
          ],
          [
           0.7,
           "rgb(146,197,222)"
          ],
          [
           0.8,
           "rgb(67,147,195)"
          ],
          [
           0.9,
           "rgb(33,102,172)"
          ],
          [
           1,
           "rgb(5,48,97)"
          ]
         ],
         "showscale": false,
         "type": "heatmap",
         "x": [
          "1",
          "2",
          "3",
          "4",
          "5",
          "6",
          "7",
          "8",
          "9",
          "10",
          "11",
          "12",
          "13",
          "14",
          "15",
          "16",
          "17",
          "18",
          "19",
          "20",
          "21",
          "22",
          "23",
          "24",
          "25",
          "26",
          "27",
          "28",
          "29",
          "30",
          "31",
          "32",
          "33",
          "34",
          "35",
          "36",
          "37",
          "38",
          "39",
          "40",
          "41",
          "42",
          "43",
          "44",
          "45",
          "46",
          "47",
          "48",
          "49",
          "50",
          "51",
          "52",
          "53",
          "54",
          "55",
          "56",
          "57",
          "58",
          "59",
          "60"
         ],
         "y": [
          "MSA",
          "Seq 2",
          "Seq 3",
          "Seq 4"
         ],
         "z": [
          [
           50,
           6,
           3,
           16,
           10,
           20,
           5,
           12,
           6,
           2,
           50,
           14,
           8,
           15,
           14,
           1,
           8,
           17,
           9,
           13,
           10,
           50,
           50,
           3,
           50,
           10,
           17,
           15,
           1,
           16,
           50,
           9,
           8,
           11,
           5,
           18,
           50,
           50,
           50,
           10,
           50,
           50,
           14,
           8,
           6,
           16,
           8,
           50,
           50,
           50,
           50,
           50,
           16,
           14,
           17,
           4,
           16,
           50,
           50,
           50
          ],
          [
           50,
           6,
           3,
           16,
           10,
           20,
           5,
           12,
           6,
           2,
           50,
           14,
           8,
           15,
           14,
           1,
           8,
           17,
           9,
           13,
           10,
           50,
           50,
           3,
           50,
           10,
           17,
           15,
           1,
           16,
           50,
           9,
           8,
           11,
           5,
           18,
           50,
           50,
           50,
           10,
           50,
           50,
           14,
           8,
           6,
           16,
           8,
           50,
           50,
           50,
           50,
           50,
           16,
           14,
           17,
           4,
           50,
           50,
           50,
           50
          ],
          [
           50,
           11,
           4,
           18,
           50,
           20,
           15,
           15,
           16,
           4,
           1,
           14,
           10,
           4,
           10,
           18,
           6,
           17,
           10,
           50,
           10,
           16,
           14,
           3,
           16,
           10,
           17,
           50,
           50,
           16,
           50,
           13,
           8,
           50,
           50,
           50,
           50,
           50,
           50,
           10,
           50,
           50,
           13,
           50,
           6,
           5,
           1,
           11,
           50,
           50,
           50,
           50,
           16,
           11,
           50,
           4,
           9,
           18,
           5,
           18
          ],
          [
           4,
           6,
           50,
           50,
           50,
           50,
           5,
           12,
           12,
           50,
           50,
           50,
           50,
           15,
           18,
           50,
           50,
           50,
           9,
           18,
           50,
           50,
           10,
           50,
           9,
           15,
           50,
           15,
           2,
           20,
           6,
           8,
           50,
           5,
           12,
           18,
           3,
           7,
           8,
           5,
           50,
           14,
           15,
           5,
           16,
           10,
           50,
           50,
           50,
           3,
           8,
           12,
           6,
           20,
           4,
           19,
           5,
           13,
           1,
           13
          ]
         ]
        }
       ],
       "layout": {
        "annotations": [
         {
          "showarrow": false,
          "text": "-",
          "x": 0,
          "xref": "x",
          "y": 0,
          "yref": "y"
         },
         {
          "showarrow": false,
          "text": "G",
          "x": 1,
          "xref": "x",
          "y": 0,
          "yref": "y"
         },
         {
          "showarrow": false,
          "text": "D",
          "x": 2,
          "xref": "x",
          "y": 0,
          "yref": "y"
         },
         {
          "showarrow": false,
          "text": "S",
          "x": 3,
          "xref": "x",
          "y": 0,
          "yref": "y"
         },
         {
          "showarrow": false,
          "text": "L",
          "x": 4,
          "xref": "x",
          "y": 0,
          "yref": "y"
         },
         {
          "showarrow": false,
          "text": "Y",
          "x": 5,
          "xref": "x",
          "y": 0,
          "yref": "y"
         },
         {
          "showarrow": false,
          "text": "F",
          "x": 6,
          "xref": "x",
          "y": 0,
          "yref": "y"
         },
         {
          "showarrow": false,
          "text": "N",
          "x": 7,
          "xref": "x",
          "y": 0,
          "yref": "y"
         },
         {
          "showarrow": false,
          "text": "G",
          "x": 8,
          "xref": "x",
          "y": 0,
          "yref": "y"
         },
         {
          "showarrow": false,
          "text": "C",
          "x": 9,
          "xref": "x",
          "y": 0,
          "yref": "y"
         },
         {
          "showarrow": false,
          "text": "-",
          "x": 10,
          "xref": "x",
          "y": 0,
          "yref": "y"
         },
         {
          "showarrow": false,
          "text": "Q",
          "x": 11,
          "xref": "x",
          "y": 0,
          "yref": "y"
         },
         {
          "showarrow": false,
          "text": "I",
          "x": 12,
          "xref": "x",
          "y": 0,
          "yref": "y"
         },
         {
          "showarrow": false,
          "text": "R",
          "x": 13,
          "xref": "x",
          "y": 0,
          "yref": "y"
         },
         {
          "showarrow": false,
          "text": "Q",
          "x": 14,
          "xref": "x",
          "y": 0,
          "yref": "y"
         },
         {
          "showarrow": false,
          "text": "A",
          "x": 15,
          "xref": "x",
          "y": 0,
          "yref": "y"
         },
         {
          "showarrow": false,
          "text": "I",
          "x": 16,
          "xref": "x",
          "y": 0,
          "yref": "y"
         },
         {
          "showarrow": false,
          "text": "T",
          "x": 17,
          "xref": "x",
          "y": 0,
          "yref": "y"
         },
         {
          "showarrow": false,
          "text": "K",
          "x": 18,
          "xref": "x",
          "y": 0,
          "yref": "y"
         },
         {
          "showarrow": false,
          "text": "P",
          "x": 19,
          "xref": "x",
          "y": 0,
          "yref": "y"
         },
         {
          "showarrow": false,
          "text": "L",
          "x": 20,
          "xref": "x",
          "y": 0,
          "yref": "y"
         },
         {
          "showarrow": false,
          "text": "-",
          "x": 21,
          "xref": "x",
          "y": 0,
          "yref": "y"
         },
         {
          "showarrow": false,
          "text": "-",
          "x": 22,
          "xref": "x",
          "y": 0,
          "yref": "y"
         },
         {
          "showarrow": false,
          "text": "D",
          "x": 23,
          "xref": "x",
          "y": 0,
          "yref": "y"
         },
         {
          "showarrow": false,
          "text": "-",
          "x": 24,
          "xref": "x",
          "y": 0,
          "yref": "y"
         },
         {
          "showarrow": false,
          "text": "L",
          "x": 25,
          "xref": "x",
          "y": 0,
          "yref": "y"
         },
         {
          "showarrow": false,
          "text": "T",
          "x": 26,
          "xref": "x",
          "y": 0,
          "yref": "y"
         },
         {
          "showarrow": false,
          "text": "R",
          "x": 27,
          "xref": "x",
          "y": 0,
          "yref": "y"
         },
         {
          "showarrow": false,
          "text": "A",
          "x": 28,
          "xref": "x",
          "y": 0,
          "yref": "y"
         },
         {
          "showarrow": false,
          "text": "S",
          "x": 29,
          "xref": "x",
          "y": 0,
          "yref": "y"
         },
         {
          "showarrow": false,
          "text": "-",
          "x": 30,
          "xref": "x",
          "y": 0,
          "yref": "y"
         },
         {
          "showarrow": false,
          "text": "K",
          "x": 31,
          "xref": "x",
          "y": 0,
          "yref": "y"
         },
         {
          "showarrow": false,
          "text": "I",
          "x": 32,
          "xref": "x",
          "y": 0,
          "yref": "y"
         },
         {
          "showarrow": false,
          "text": "M",
          "x": 33,
          "xref": "x",
          "y": 0,
          "yref": "y"
         },
         {
          "showarrow": false,
          "text": "F",
          "x": 34,
          "xref": "x",
          "y": 0,
          "yref": "y"
         },
         {
          "showarrow": false,
          "text": "V",
          "x": 35,
          "xref": "x",
          "y": 0,
          "yref": "y"
         },
         {
          "showarrow": false,
          "text": "-",
          "x": 36,
          "xref": "x",
          "y": 0,
          "yref": "y"
         },
         {
          "showarrow": false,
          "text": "-",
          "x": 37,
          "xref": "x",
          "y": 0,
          "yref": "y"
         },
         {
          "showarrow": false,
          "text": "-",
          "x": 38,
          "xref": "x",
          "y": 0,
          "yref": "y"
         },
         {
          "showarrow": false,
          "text": "L",
          "x": 39,
          "xref": "x",
          "y": 0,
          "yref": "y"
         },
         {
          "showarrow": false,
          "text": "-",
          "x": 40,
          "xref": "x",
          "y": 0,
          "yref": "y"
         },
         {
          "showarrow": false,
          "text": "-",
          "x": 41,
          "xref": "x",
          "y": 0,
          "yref": "y"
         },
         {
          "showarrow": false,
          "text": "Q",
          "x": 42,
          "xref": "x",
          "y": 0,
          "yref": "y"
         },
         {
          "showarrow": false,
          "text": "I",
          "x": 43,
          "xref": "x",
          "y": 0,
          "yref": "y"
         },
         {
          "showarrow": false,
          "text": "G",
          "x": 44,
          "xref": "x",
          "y": 0,
          "yref": "y"
         },
         {
          "showarrow": false,
          "text": "S",
          "x": 45,
          "xref": "x",
          "y": 0,
          "yref": "y"
         },
         {
          "showarrow": false,
          "text": "I",
          "x": 46,
          "xref": "x",
          "y": 0,
          "yref": "y"
         },
         {
          "showarrow": false,
          "text": "-",
          "x": 47,
          "xref": "x",
          "y": 0,
          "yref": "y"
         },
         {
          "showarrow": false,
          "text": "-",
          "x": 48,
          "xref": "x",
          "y": 0,
          "yref": "y"
         },
         {
          "showarrow": false,
          "text": "-",
          "x": 49,
          "xref": "x",
          "y": 0,
          "yref": "y"
         },
         {
          "showarrow": false,
          "text": "-",
          "x": 50,
          "xref": "x",
          "y": 0,
          "yref": "y"
         },
         {
          "showarrow": false,
          "text": "-",
          "x": 51,
          "xref": "x",
          "y": 0,
          "yref": "y"
         },
         {
          "showarrow": false,
          "text": "S",
          "x": 52,
          "xref": "x",
          "y": 0,
          "yref": "y"
         },
         {
          "showarrow": false,
          "text": "Q",
          "x": 53,
          "xref": "x",
          "y": 0,
          "yref": "y"
         },
         {
          "showarrow": false,
          "text": "T",
          "x": 54,
          "xref": "x",
          "y": 0,
          "yref": "y"
         },
         {
          "showarrow": false,
          "text": "E",
          "x": 55,
          "xref": "x",
          "y": 0,
          "yref": "y"
         },
         {
          "showarrow": false,
          "text": "S",
          "x": 56,
          "xref": "x",
          "y": 0,
          "yref": "y"
         },
         {
          "showarrow": false,
          "text": "-",
          "x": 57,
          "xref": "x",
          "y": 0,
          "yref": "y"
         },
         {
          "showarrow": false,
          "text": "-",
          "x": 58,
          "xref": "x",
          "y": 0,
          "yref": "y"
         },
         {
          "showarrow": false,
          "text": "-",
          "x": 59,
          "xref": "x",
          "y": 0,
          "yref": "y"
         },
         {
          "showarrow": false,
          "text": "-",
          "x": 0,
          "xref": "x",
          "y": 1,
          "yref": "y"
         },
         {
          "showarrow": false,
          "text": "G",
          "x": 1,
          "xref": "x",
          "y": 1,
          "yref": "y"
         },
         {
          "showarrow": false,
          "text": "D",
          "x": 2,
          "xref": "x",
          "y": 1,
          "yref": "y"
         },
         {
          "showarrow": false,
          "text": "S",
          "x": 3,
          "xref": "x",
          "y": 1,
          "yref": "y"
         },
         {
          "showarrow": false,
          "text": "L",
          "x": 4,
          "xref": "x",
          "y": 1,
          "yref": "y"
         },
         {
          "showarrow": false,
          "text": "Y",
          "x": 5,
          "xref": "x",
          "y": 1,
          "yref": "y"
         },
         {
          "showarrow": false,
          "text": "F",
          "x": 6,
          "xref": "x",
          "y": 1,
          "yref": "y"
         },
         {
          "showarrow": false,
          "text": "N",
          "x": 7,
          "xref": "x",
          "y": 1,
          "yref": "y"
         },
         {
          "showarrow": false,
          "text": "G",
          "x": 8,
          "xref": "x",
          "y": 1,
          "yref": "y"
         },
         {
          "showarrow": false,
          "text": "C",
          "x": 9,
          "xref": "x",
          "y": 1,
          "yref": "y"
         },
         {
          "showarrow": false,
          "text": "-",
          "x": 10,
          "xref": "x",
          "y": 1,
          "yref": "y"
         },
         {
          "showarrow": false,
          "text": "Q",
          "x": 11,
          "xref": "x",
          "y": 1,
          "yref": "y"
         },
         {
          "showarrow": false,
          "text": "I",
          "x": 12,
          "xref": "x",
          "y": 1,
          "yref": "y"
         },
         {
          "showarrow": false,
          "text": "R",
          "x": 13,
          "xref": "x",
          "y": 1,
          "yref": "y"
         },
         {
          "showarrow": false,
          "text": "Q",
          "x": 14,
          "xref": "x",
          "y": 1,
          "yref": "y"
         },
         {
          "showarrow": false,
          "text": "A",
          "x": 15,
          "xref": "x",
          "y": 1,
          "yref": "y"
         },
         {
          "showarrow": false,
          "text": "I",
          "x": 16,
          "xref": "x",
          "y": 1,
          "yref": "y"
         },
         {
          "showarrow": false,
          "text": "T",
          "x": 17,
          "xref": "x",
          "y": 1,
          "yref": "y"
         },
         {
          "showarrow": false,
          "text": "K",
          "x": 18,
          "xref": "x",
          "y": 1,
          "yref": "y"
         },
         {
          "showarrow": false,
          "text": "P",
          "x": 19,
          "xref": "x",
          "y": 1,
          "yref": "y"
         },
         {
          "showarrow": false,
          "text": "L",
          "x": 20,
          "xref": "x",
          "y": 1,
          "yref": "y"
         },
         {
          "showarrow": false,
          "text": "-",
          "x": 21,
          "xref": "x",
          "y": 1,
          "yref": "y"
         },
         {
          "showarrow": false,
          "text": "-",
          "x": 22,
          "xref": "x",
          "y": 1,
          "yref": "y"
         },
         {
          "showarrow": false,
          "text": "D",
          "x": 23,
          "xref": "x",
          "y": 1,
          "yref": "y"
         },
         {
          "showarrow": false,
          "text": "-",
          "x": 24,
          "xref": "x",
          "y": 1,
          "yref": "y"
         },
         {
          "showarrow": false,
          "text": "L",
          "x": 25,
          "xref": "x",
          "y": 1,
          "yref": "y"
         },
         {
          "showarrow": false,
          "text": "T",
          "x": 26,
          "xref": "x",
          "y": 1,
          "yref": "y"
         },
         {
          "showarrow": false,
          "text": "R",
          "x": 27,
          "xref": "x",
          "y": 1,
          "yref": "y"
         },
         {
          "showarrow": false,
          "text": "A",
          "x": 28,
          "xref": "x",
          "y": 1,
          "yref": "y"
         },
         {
          "showarrow": false,
          "text": "S",
          "x": 29,
          "xref": "x",
          "y": 1,
          "yref": "y"
         },
         {
          "showarrow": false,
          "text": "-",
          "x": 30,
          "xref": "x",
          "y": 1,
          "yref": "y"
         },
         {
          "showarrow": false,
          "text": "K",
          "x": 31,
          "xref": "x",
          "y": 1,
          "yref": "y"
         },
         {
          "showarrow": false,
          "text": "I",
          "x": 32,
          "xref": "x",
          "y": 1,
          "yref": "y"
         },
         {
          "showarrow": false,
          "text": "M",
          "x": 33,
          "xref": "x",
          "y": 1,
          "yref": "y"
         },
         {
          "showarrow": false,
          "text": "F",
          "x": 34,
          "xref": "x",
          "y": 1,
          "yref": "y"
         },
         {
          "showarrow": false,
          "text": "V",
          "x": 35,
          "xref": "x",
          "y": 1,
          "yref": "y"
         },
         {
          "showarrow": false,
          "text": "-",
          "x": 36,
          "xref": "x",
          "y": 1,
          "yref": "y"
         },
         {
          "showarrow": false,
          "text": "-",
          "x": 37,
          "xref": "x",
          "y": 1,
          "yref": "y"
         },
         {
          "showarrow": false,
          "text": "-",
          "x": 38,
          "xref": "x",
          "y": 1,
          "yref": "y"
         },
         {
          "showarrow": false,
          "text": "L",
          "x": 39,
          "xref": "x",
          "y": 1,
          "yref": "y"
         },
         {
          "showarrow": false,
          "text": "-",
          "x": 40,
          "xref": "x",
          "y": 1,
          "yref": "y"
         },
         {
          "showarrow": false,
          "text": "-",
          "x": 41,
          "xref": "x",
          "y": 1,
          "yref": "y"
         },
         {
          "showarrow": false,
          "text": "Q",
          "x": 42,
          "xref": "x",
          "y": 1,
          "yref": "y"
         },
         {
          "showarrow": false,
          "text": "I",
          "x": 43,
          "xref": "x",
          "y": 1,
          "yref": "y"
         },
         {
          "showarrow": false,
          "text": "G",
          "x": 44,
          "xref": "x",
          "y": 1,
          "yref": "y"
         },
         {
          "showarrow": false,
          "text": "S",
          "x": 45,
          "xref": "x",
          "y": 1,
          "yref": "y"
         },
         {
          "showarrow": false,
          "text": "I",
          "x": 46,
          "xref": "x",
          "y": 1,
          "yref": "y"
         },
         {
          "showarrow": false,
          "text": "-",
          "x": 47,
          "xref": "x",
          "y": 1,
          "yref": "y"
         },
         {
          "showarrow": false,
          "text": "-",
          "x": 48,
          "xref": "x",
          "y": 1,
          "yref": "y"
         },
         {
          "showarrow": false,
          "text": "-",
          "x": 49,
          "xref": "x",
          "y": 1,
          "yref": "y"
         },
         {
          "showarrow": false,
          "text": "-",
          "x": 50,
          "xref": "x",
          "y": 1,
          "yref": "y"
         },
         {
          "showarrow": false,
          "text": "-",
          "x": 51,
          "xref": "x",
          "y": 1,
          "yref": "y"
         },
         {
          "showarrow": false,
          "text": "S",
          "x": 52,
          "xref": "x",
          "y": 1,
          "yref": "y"
         },
         {
          "showarrow": false,
          "text": "Q",
          "x": 53,
          "xref": "x",
          "y": 1,
          "yref": "y"
         },
         {
          "showarrow": false,
          "text": "T",
          "x": 54,
          "xref": "x",
          "y": 1,
          "yref": "y"
         },
         {
          "showarrow": false,
          "text": "E",
          "x": 55,
          "xref": "x",
          "y": 1,
          "yref": "y"
         },
         {
          "showarrow": false,
          "text": "-",
          "x": 56,
          "xref": "x",
          "y": 1,
          "yref": "y"
         },
         {
          "showarrow": false,
          "text": "-",
          "x": 57,
          "xref": "x",
          "y": 1,
          "yref": "y"
         },
         {
          "showarrow": false,
          "text": "-",
          "x": 58,
          "xref": "x",
          "y": 1,
          "yref": "y"
         },
         {
          "showarrow": false,
          "text": "-",
          "x": 59,
          "xref": "x",
          "y": 1,
          "yref": "y"
         },
         {
          "showarrow": false,
          "text": "-",
          "x": 0,
          "xref": "x",
          "y": 2,
          "yref": "y"
         },
         {
          "showarrow": false,
          "text": "M",
          "x": 1,
          "xref": "x",
          "y": 2,
          "yref": "y"
         },
         {
          "showarrow": false,
          "text": "E",
          "x": 2,
          "xref": "x",
          "y": 2,
          "yref": "y"
         },
         {
          "showarrow": false,
          "text": "V",
          "x": 3,
          "xref": "x",
          "y": 2,
          "yref": "y"
         },
         {
          "showarrow": false,
          "text": "-",
          "x": 4,
          "xref": "x",
          "y": 2,
          "yref": "y"
         },
         {
          "showarrow": false,
          "text": "Y",
          "x": 5,
          "xref": "x",
          "y": 2,
          "yref": "y"
         },
         {
          "showarrow": false,
          "text": "R",
          "x": 6,
          "xref": "x",
          "y": 2,
          "yref": "y"
         },
         {
          "showarrow": false,
          "text": "R",
          "x": 7,
          "xref": "x",
          "y": 2,
          "yref": "y"
         },
         {
          "showarrow": false,
          "text": "S",
          "x": 8,
          "xref": "x",
          "y": 2,
          "yref": "y"
         },
         {
          "showarrow": false,
          "text": "E",
          "x": 9,
          "xref": "x",
          "y": 2,
          "yref": "y"
         },
         {
          "showarrow": false,
          "text": "A",
          "x": 10,
          "xref": "x",
          "y": 2,
          "yref": "y"
         },
         {
          "showarrow": false,
          "text": "Q",
          "x": 11,
          "xref": "x",
          "y": 2,
          "yref": "y"
         },
         {
          "showarrow": false,
          "text": "L",
          "x": 12,
          "xref": "x",
          "y": 2,
          "yref": "y"
         },
         {
          "showarrow": false,
          "text": "E",
          "x": 13,
          "xref": "x",
          "y": 2,
          "yref": "y"
         },
         {
          "showarrow": false,
          "text": "L",
          "x": 14,
          "xref": "x",
          "y": 2,
          "yref": "y"
         },
         {
          "showarrow": false,
          "text": "V",
          "x": 15,
          "xref": "x",
          "y": 2,
          "yref": "y"
         },
         {
          "showarrow": false,
          "text": "G",
          "x": 16,
          "xref": "x",
          "y": 2,
          "yref": "y"
         },
         {
          "showarrow": false,
          "text": "T",
          "x": 17,
          "xref": "x",
          "y": 2,
          "yref": "y"
         },
         {
          "showarrow": false,
          "text": "L",
          "x": 18,
          "xref": "x",
          "y": 2,
          "yref": "y"
         },
         {
          "showarrow": false,
          "text": "-",
          "x": 19,
          "xref": "x",
          "y": 2,
          "yref": "y"
         },
         {
          "showarrow": false,
          "text": "L",
          "x": 20,
          "xref": "x",
          "y": 2,
          "yref": "y"
         },
         {
          "showarrow": false,
          "text": "S",
          "x": 21,
          "xref": "x",
          "y": 2,
          "yref": "y"
         },
         {
          "showarrow": false,
          "text": "Q",
          "x": 22,
          "xref": "x",
          "y": 2,
          "yref": "y"
         },
         {
          "showarrow": false,
          "text": "D",
          "x": 23,
          "xref": "x",
          "y": 2,
          "yref": "y"
         },
         {
          "showarrow": false,
          "text": "S",
          "x": 24,
          "xref": "x",
          "y": 2,
          "yref": "y"
         },
         {
          "showarrow": false,
          "text": "L",
          "x": 25,
          "xref": "x",
          "y": 2,
          "yref": "y"
         },
         {
          "showarrow": false,
          "text": "T",
          "x": 26,
          "xref": "x",
          "y": 2,
          "yref": "y"
         },
         {
          "showarrow": false,
          "text": "-",
          "x": 27,
          "xref": "x",
          "y": 2,
          "yref": "y"
         },
         {
          "showarrow": false,
          "text": "-",
          "x": 28,
          "xref": "x",
          "y": 2,
          "yref": "y"
         },
         {
          "showarrow": false,
          "text": "S",
          "x": 29,
          "xref": "x",
          "y": 2,
          "yref": "y"
         },
         {
          "showarrow": false,
          "text": "-",
          "x": 30,
          "xref": "x",
          "y": 2,
          "yref": "y"
         },
         {
          "showarrow": false,
          "text": "P",
          "x": 31,
          "xref": "x",
          "y": 2,
          "yref": "y"
         },
         {
          "showarrow": false,
          "text": "I",
          "x": 32,
          "xref": "x",
          "y": 2,
          "yref": "y"
         },
         {
          "showarrow": false,
          "text": "-",
          "x": 33,
          "xref": "x",
          "y": 2,
          "yref": "y"
         },
         {
          "showarrow": false,
          "text": "-",
          "x": 34,
          "xref": "x",
          "y": 2,
          "yref": "y"
         },
         {
          "showarrow": false,
          "text": "-",
          "x": 35,
          "xref": "x",
          "y": 2,
          "yref": "y"
         },
         {
          "showarrow": false,
          "text": "-",
          "x": 36,
          "xref": "x",
          "y": 2,
          "yref": "y"
         },
         {
          "showarrow": false,
          "text": "-",
          "x": 37,
          "xref": "x",
          "y": 2,
          "yref": "y"
         },
         {
          "showarrow": false,
          "text": "-",
          "x": 38,
          "xref": "x",
          "y": 2,
          "yref": "y"
         },
         {
          "showarrow": false,
          "text": "L",
          "x": 39,
          "xref": "x",
          "y": 2,
          "yref": "y"
         },
         {
          "showarrow": false,
          "text": "-",
          "x": 40,
          "xref": "x",
          "y": 2,
          "yref": "y"
         },
         {
          "showarrow": false,
          "text": "-",
          "x": 41,
          "xref": "x",
          "y": 2,
          "yref": "y"
         },
         {
          "showarrow": false,
          "text": "P",
          "x": 42,
          "xref": "x",
          "y": 2,
          "yref": "y"
         },
         {
          "showarrow": false,
          "text": "-",
          "x": 43,
          "xref": "x",
          "y": 2,
          "yref": "y"
         },
         {
          "showarrow": false,
          "text": "G",
          "x": 44,
          "xref": "x",
          "y": 2,
          "yref": "y"
         },
         {
          "showarrow": false,
          "text": "F",
          "x": 45,
          "xref": "x",
          "y": 2,
          "yref": "y"
         },
         {
          "showarrow": false,
          "text": "A",
          "x": 46,
          "xref": "x",
          "y": 2,
          "yref": "y"
         },
         {
          "showarrow": false,
          "text": "M",
          "x": 47,
          "xref": "x",
          "y": 2,
          "yref": "y"
         },
         {
          "showarrow": false,
          "text": "-",
          "x": 48,
          "xref": "x",
          "y": 2,
          "yref": "y"
         },
         {
          "showarrow": false,
          "text": "-",
          "x": 49,
          "xref": "x",
          "y": 2,
          "yref": "y"
         },
         {
          "showarrow": false,
          "text": "-",
          "x": 50,
          "xref": "x",
          "y": 2,
          "yref": "y"
         },
         {
          "showarrow": false,
          "text": "-",
          "x": 51,
          "xref": "x",
          "y": 2,
          "yref": "y"
         },
         {
          "showarrow": false,
          "text": "S",
          "x": 52,
          "xref": "x",
          "y": 2,
          "yref": "y"
         },
         {
          "showarrow": false,
          "text": "M",
          "x": 53,
          "xref": "x",
          "y": 2,
          "yref": "y"
         },
         {
          "showarrow": false,
          "text": "-",
          "x": 54,
          "xref": "x",
          "y": 2,
          "yref": "y"
         },
         {
          "showarrow": false,
          "text": "E",
          "x": 55,
          "xref": "x",
          "y": 2,
          "yref": "y"
         },
         {
          "showarrow": false,
          "text": "K",
          "x": 56,
          "xref": "x",
          "y": 2,
          "yref": "y"
         },
         {
          "showarrow": false,
          "text": "V",
          "x": 57,
          "xref": "x",
          "y": 2,
          "yref": "y"
         },
         {
          "showarrow": false,
          "text": "F",
          "x": 58,
          "xref": "x",
          "y": 2,
          "yref": "y"
         },
         {
          "showarrow": false,
          "text": "V",
          "x": 59,
          "xref": "x",
          "y": 2,
          "yref": "y"
         },
         {
          "showarrow": false,
          "text": "E",
          "x": 0,
          "xref": "x",
          "y": 3,
          "yref": "y"
         },
         {
          "showarrow": false,
          "text": "G",
          "x": 1,
          "xref": "x",
          "y": 3,
          "yref": "y"
         },
         {
          "showarrow": false,
          "text": "-",
          "x": 2,
          "xref": "x",
          "y": 3,
          "yref": "y"
         },
         {
          "showarrow": false,
          "text": "-",
          "x": 3,
          "xref": "x",
          "y": 3,
          "yref": "y"
         },
         {
          "showarrow": false,
          "text": "-",
          "x": 4,
          "xref": "x",
          "y": 3,
          "yref": "y"
         },
         {
          "showarrow": false,
          "text": "-",
          "x": 5,
          "xref": "x",
          "y": 3,
          "yref": "y"
         },
         {
          "showarrow": false,
          "text": "F",
          "x": 6,
          "xref": "x",
          "y": 3,
          "yref": "y"
         },
         {
          "showarrow": false,
          "text": "N",
          "x": 7,
          "xref": "x",
          "y": 3,
          "yref": "y"
         },
         {
          "showarrow": false,
          "text": "N",
          "x": 8,
          "xref": "x",
          "y": 3,
          "yref": "y"
         },
         {
          "showarrow": false,
          "text": "-",
          "x": 9,
          "xref": "x",
          "y": 3,
          "yref": "y"
         },
         {
          "showarrow": false,
          "text": "-",
          "x": 10,
          "xref": "x",
          "y": 3,
          "yref": "y"
         },
         {
          "showarrow": false,
          "text": "-",
          "x": 11,
          "xref": "x",
          "y": 3,
          "yref": "y"
         },
         {
          "showarrow": false,
          "text": "-",
          "x": 12,
          "xref": "x",
          "y": 3,
          "yref": "y"
         },
         {
          "showarrow": false,
          "text": "R",
          "x": 13,
          "xref": "x",
          "y": 3,
          "yref": "y"
         },
         {
          "showarrow": false,
          "text": "V",
          "x": 14,
          "xref": "x",
          "y": 3,
          "yref": "y"
         },
         {
          "showarrow": false,
          "text": "-",
          "x": 15,
          "xref": "x",
          "y": 3,
          "yref": "y"
         },
         {
          "showarrow": false,
          "text": "-",
          "x": 16,
          "xref": "x",
          "y": 3,
          "yref": "y"
         },
         {
          "showarrow": false,
          "text": "-",
          "x": 17,
          "xref": "x",
          "y": 3,
          "yref": "y"
         },
         {
          "showarrow": false,
          "text": "K",
          "x": 18,
          "xref": "x",
          "y": 3,
          "yref": "y"
         },
         {
          "showarrow": false,
          "text": "V",
          "x": 19,
          "xref": "x",
          "y": 3,
          "yref": "y"
         },
         {
          "showarrow": false,
          "text": "-",
          "x": 20,
          "xref": "x",
          "y": 3,
          "yref": "y"
         },
         {
          "showarrow": false,
          "text": "-",
          "x": 21,
          "xref": "x",
          "y": 3,
          "yref": "y"
         },
         {
          "showarrow": false,
          "text": "L",
          "x": 22,
          "xref": "x",
          "y": 3,
          "yref": "y"
         },
         {
          "showarrow": false,
          "text": "-",
          "x": 23,
          "xref": "x",
          "y": 3,
          "yref": "y"
         },
         {
          "showarrow": false,
          "text": "K",
          "x": 24,
          "xref": "x",
          "y": 3,
          "yref": "y"
         },
         {
          "showarrow": false,
          "text": "R",
          "x": 25,
          "xref": "x",
          "y": 3,
          "yref": "y"
         },
         {
          "showarrow": false,
          "text": "-",
          "x": 26,
          "xref": "x",
          "y": 3,
          "yref": "y"
         },
         {
          "showarrow": false,
          "text": "R",
          "x": 27,
          "xref": "x",
          "y": 3,
          "yref": "y"
         },
         {
          "showarrow": false,
          "text": "C",
          "x": 28,
          "xref": "x",
          "y": 3,
          "yref": "y"
         },
         {
          "showarrow": false,
          "text": "Y",
          "x": 29,
          "xref": "x",
          "y": 3,
          "yref": "y"
         },
         {
          "showarrow": false,
          "text": "G",
          "x": 30,
          "xref": "x",
          "y": 3,
          "yref": "y"
         },
         {
          "showarrow": false,
          "text": "I",
          "x": 31,
          "xref": "x",
          "y": 3,
          "yref": "y"
         },
         {
          "showarrow": false,
          "text": "-",
          "x": 32,
          "xref": "x",
          "y": 3,
          "yref": "y"
         },
         {
          "showarrow": false,
          "text": "F",
          "x": 33,
          "xref": "x",
          "y": 3,
          "yref": "y"
         },
         {
          "showarrow": false,
          "text": "N",
          "x": 34,
          "xref": "x",
          "y": 3,
          "yref": "y"
         },
         {
          "showarrow": false,
          "text": "V",
          "x": 35,
          "xref": "x",
          "y": 3,
          "yref": "y"
         },
         {
          "showarrow": false,
          "text": "D",
          "x": 36,
          "xref": "x",
          "y": 3,
          "yref": "y"
         },
         {
          "showarrow": false,
          "text": "H",
          "x": 37,
          "xref": "x",
          "y": 3,
          "yref": "y"
         },
         {
          "showarrow": false,
          "text": "I",
          "x": 38,
          "xref": "x",
          "y": 3,
          "yref": "y"
         },
         {
          "showarrow": false,
          "text": "F",
          "x": 39,
          "xref": "x",
          "y": 3,
          "yref": "y"
         },
         {
          "showarrow": false,
          "text": "-",
          "x": 40,
          "xref": "x",
          "y": 3,
          "yref": "y"
         },
         {
          "showarrow": false,
          "text": "Q",
          "x": 41,
          "xref": "x",
          "y": 3,
          "yref": "y"
         },
         {
          "showarrow": false,
          "text": "R",
          "x": 42,
          "xref": "x",
          "y": 3,
          "yref": "y"
         },
         {
          "showarrow": false,
          "text": "F",
          "x": 43,
          "xref": "x",
          "y": 3,
          "yref": "y"
         },
         {
          "showarrow": false,
          "text": "S",
          "x": 44,
          "xref": "x",
          "y": 3,
          "yref": "y"
         },
         {
          "showarrow": false,
          "text": "L",
          "x": 45,
          "xref": "x",
          "y": 3,
          "yref": "y"
         },
         {
          "showarrow": false,
          "text": "-",
          "x": 46,
          "xref": "x",
          "y": 3,
          "yref": "y"
         },
         {
          "showarrow": false,
          "text": "-",
          "x": 47,
          "xref": "x",
          "y": 3,
          "yref": "y"
         },
         {
          "showarrow": false,
          "text": "-",
          "x": 48,
          "xref": "x",
          "y": 3,
          "yref": "y"
         },
         {
          "showarrow": false,
          "text": "D",
          "x": 49,
          "xref": "x",
          "y": 3,
          "yref": "y"
         },
         {
          "showarrow": false,
          "text": "I",
          "x": 50,
          "xref": "x",
          "y": 3,
          "yref": "y"
         },
         {
          "showarrow": false,
          "text": "N",
          "x": 51,
          "xref": "x",
          "y": 3,
          "yref": "y"
         },
         {
          "showarrow": false,
          "text": "G",
          "x": 52,
          "xref": "x",
          "y": 3,
          "yref": "y"
         },
         {
          "showarrow": false,
          "text": "Y",
          "x": 53,
          "xref": "x",
          "y": 3,
          "yref": "y"
         },
         {
          "showarrow": false,
          "text": "E",
          "x": 54,
          "xref": "x",
          "y": 3,
          "yref": "y"
         },
         {
          "showarrow": false,
          "text": "W",
          "x": 55,
          "xref": "x",
          "y": 3,
          "yref": "y"
         },
         {
          "showarrow": false,
          "text": "F",
          "x": 56,
          "xref": "x",
          "y": 3,
          "yref": "y"
         },
         {
          "showarrow": false,
          "text": "P",
          "x": 57,
          "xref": "x",
          "y": 3,
          "yref": "y"
         },
         {
          "showarrow": false,
          "text": "A",
          "x": 58,
          "xref": "x",
          "y": 3,
          "yref": "y"
         },
         {
          "showarrow": false,
          "text": "P",
          "x": 59,
          "xref": "x",
          "y": 3,
          "yref": "y"
         }
        ],
        "template": {
         "data": {
          "bar": [
           {
            "error_x": {
             "color": "#2a3f5f"
            },
            "error_y": {
             "color": "#2a3f5f"
            },
            "marker": {
             "line": {
              "color": "#E5ECF6",
              "width": 0.5
             },
             "pattern": {
              "fillmode": "overlay",
              "size": 10,
              "solidity": 0.2
             }
            },
            "type": "bar"
           }
          ],
          "barpolar": [
           {
            "marker": {
             "line": {
              "color": "#E5ECF6",
              "width": 0.5
             },
             "pattern": {
              "fillmode": "overlay",
              "size": 10,
              "solidity": 0.2
             }
            },
            "type": "barpolar"
           }
          ],
          "carpet": [
           {
            "aaxis": {
             "endlinecolor": "#2a3f5f",
             "gridcolor": "white",
             "linecolor": "white",
             "minorgridcolor": "white",
             "startlinecolor": "#2a3f5f"
            },
            "baxis": {
             "endlinecolor": "#2a3f5f",
             "gridcolor": "white",
             "linecolor": "white",
             "minorgridcolor": "white",
             "startlinecolor": "#2a3f5f"
            },
            "type": "carpet"
           }
          ],
          "choropleth": [
           {
            "colorbar": {
             "outlinewidth": 0,
             "ticks": ""
            },
            "type": "choropleth"
           }
          ],
          "contour": [
           {
            "colorbar": {
             "outlinewidth": 0,
             "ticks": ""
            },
            "colorscale": [
             [
              0,
              "#0d0887"
             ],
             [
              0.1111111111111111,
              "#46039f"
             ],
             [
              0.2222222222222222,
              "#7201a8"
             ],
             [
              0.3333333333333333,
              "#9c179e"
             ],
             [
              0.4444444444444444,
              "#bd3786"
             ],
             [
              0.5555555555555556,
              "#d8576b"
             ],
             [
              0.6666666666666666,
              "#ed7953"
             ],
             [
              0.7777777777777778,
              "#fb9f3a"
             ],
             [
              0.8888888888888888,
              "#fdca26"
             ],
             [
              1,
              "#f0f921"
             ]
            ],
            "type": "contour"
           }
          ],
          "contourcarpet": [
           {
            "colorbar": {
             "outlinewidth": 0,
             "ticks": ""
            },
            "type": "contourcarpet"
           }
          ],
          "heatmap": [
           {
            "colorbar": {
             "outlinewidth": 0,
             "ticks": ""
            },
            "colorscale": [
             [
              0,
              "#0d0887"
             ],
             [
              0.1111111111111111,
              "#46039f"
             ],
             [
              0.2222222222222222,
              "#7201a8"
             ],
             [
              0.3333333333333333,
              "#9c179e"
             ],
             [
              0.4444444444444444,
              "#bd3786"
             ],
             [
              0.5555555555555556,
              "#d8576b"
             ],
             [
              0.6666666666666666,
              "#ed7953"
             ],
             [
              0.7777777777777778,
              "#fb9f3a"
             ],
             [
              0.8888888888888888,
              "#fdca26"
             ],
             [
              1,
              "#f0f921"
             ]
            ],
            "type": "heatmap"
           }
          ],
          "heatmapgl": [
           {
            "colorbar": {
             "outlinewidth": 0,
             "ticks": ""
            },
            "colorscale": [
             [
              0,
              "#0d0887"
             ],
             [
              0.1111111111111111,
              "#46039f"
             ],
             [
              0.2222222222222222,
              "#7201a8"
             ],
             [
              0.3333333333333333,
              "#9c179e"
             ],
             [
              0.4444444444444444,
              "#bd3786"
             ],
             [
              0.5555555555555556,
              "#d8576b"
             ],
             [
              0.6666666666666666,
              "#ed7953"
             ],
             [
              0.7777777777777778,
              "#fb9f3a"
             ],
             [
              0.8888888888888888,
              "#fdca26"
             ],
             [
              1,
              "#f0f921"
             ]
            ],
            "type": "heatmapgl"
           }
          ],
          "histogram": [
           {
            "marker": {
             "pattern": {
              "fillmode": "overlay",
              "size": 10,
              "solidity": 0.2
             }
            },
            "type": "histogram"
           }
          ],
          "histogram2d": [
           {
            "colorbar": {
             "outlinewidth": 0,
             "ticks": ""
            },
            "colorscale": [
             [
              0,
              "#0d0887"
             ],
             [
              0.1111111111111111,
              "#46039f"
             ],
             [
              0.2222222222222222,
              "#7201a8"
             ],
             [
              0.3333333333333333,
              "#9c179e"
             ],
             [
              0.4444444444444444,
              "#bd3786"
             ],
             [
              0.5555555555555556,
              "#d8576b"
             ],
             [
              0.6666666666666666,
              "#ed7953"
             ],
             [
              0.7777777777777778,
              "#fb9f3a"
             ],
             [
              0.8888888888888888,
              "#fdca26"
             ],
             [
              1,
              "#f0f921"
             ]
            ],
            "type": "histogram2d"
           }
          ],
          "histogram2dcontour": [
           {
            "colorbar": {
             "outlinewidth": 0,
             "ticks": ""
            },
            "colorscale": [
             [
              0,
              "#0d0887"
             ],
             [
              0.1111111111111111,
              "#46039f"
             ],
             [
              0.2222222222222222,
              "#7201a8"
             ],
             [
              0.3333333333333333,
              "#9c179e"
             ],
             [
              0.4444444444444444,
              "#bd3786"
             ],
             [
              0.5555555555555556,
              "#d8576b"
             ],
             [
              0.6666666666666666,
              "#ed7953"
             ],
             [
              0.7777777777777778,
              "#fb9f3a"
             ],
             [
              0.8888888888888888,
              "#fdca26"
             ],
             [
              1,
              "#f0f921"
             ]
            ],
            "type": "histogram2dcontour"
           }
          ],
          "mesh3d": [
           {
            "colorbar": {
             "outlinewidth": 0,
             "ticks": ""
            },
            "type": "mesh3d"
           }
          ],
          "parcoords": [
           {
            "line": {
             "colorbar": {
              "outlinewidth": 0,
              "ticks": ""
             }
            },
            "type": "parcoords"
           }
          ],
          "pie": [
           {
            "automargin": true,
            "type": "pie"
           }
          ],
          "scatter": [
           {
            "fillpattern": {
             "fillmode": "overlay",
             "size": 10,
             "solidity": 0.2
            },
            "type": "scatter"
           }
          ],
          "scatter3d": [
           {
            "line": {
             "colorbar": {
              "outlinewidth": 0,
              "ticks": ""
             }
            },
            "marker": {
             "colorbar": {
              "outlinewidth": 0,
              "ticks": ""
             }
            },
            "type": "scatter3d"
           }
          ],
          "scattercarpet": [
           {
            "marker": {
             "colorbar": {
              "outlinewidth": 0,
              "ticks": ""
             }
            },
            "type": "scattercarpet"
           }
          ],
          "scattergeo": [
           {
            "marker": {
             "colorbar": {
              "outlinewidth": 0,
              "ticks": ""
             }
            },
            "type": "scattergeo"
           }
          ],
          "scattergl": [
           {
            "marker": {
             "colorbar": {
              "outlinewidth": 0,
              "ticks": ""
             }
            },
            "type": "scattergl"
           }
          ],
          "scattermapbox": [
           {
            "marker": {
             "colorbar": {
              "outlinewidth": 0,
              "ticks": ""
             }
            },
            "type": "scattermapbox"
           }
          ],
          "scatterpolar": [
           {
            "marker": {
             "colorbar": {
              "outlinewidth": 0,
              "ticks": ""
             }
            },
            "type": "scatterpolar"
           }
          ],
          "scatterpolargl": [
           {
            "marker": {
             "colorbar": {
              "outlinewidth": 0,
              "ticks": ""
             }
            },
            "type": "scatterpolargl"
           }
          ],
          "scatterternary": [
           {
            "marker": {
             "colorbar": {
              "outlinewidth": 0,
              "ticks": ""
             }
            },
            "type": "scatterternary"
           }
          ],
          "surface": [
           {
            "colorbar": {
             "outlinewidth": 0,
             "ticks": ""
            },
            "colorscale": [
             [
              0,
              "#0d0887"
             ],
             [
              0.1111111111111111,
              "#46039f"
             ],
             [
              0.2222222222222222,
              "#7201a8"
             ],
             [
              0.3333333333333333,
              "#9c179e"
             ],
             [
              0.4444444444444444,
              "#bd3786"
             ],
             [
              0.5555555555555556,
              "#d8576b"
             ],
             [
              0.6666666666666666,
              "#ed7953"
             ],
             [
              0.7777777777777778,
              "#fb9f3a"
             ],
             [
              0.8888888888888888,
              "#fdca26"
             ],
             [
              1,
              "#f0f921"
             ]
            ],
            "type": "surface"
           }
          ],
          "table": [
           {
            "cells": {
             "fill": {
              "color": "#EBF0F8"
             },
             "line": {
              "color": "white"
             }
            },
            "header": {
             "fill": {
              "color": "#C8D4E3"
             },
             "line": {
              "color": "white"
             }
            },
            "type": "table"
           }
          ]
         },
         "layout": {
          "annotationdefaults": {
           "arrowcolor": "#2a3f5f",
           "arrowhead": 0,
           "arrowwidth": 1
          },
          "autotypenumbers": "strict",
          "coloraxis": {
           "colorbar": {
            "outlinewidth": 0,
            "ticks": ""
           }
          },
          "colorscale": {
           "diverging": [
            [
             0,
             "#8e0152"
            ],
            [
             0.1,
             "#c51b7d"
            ],
            [
             0.2,
             "#de77ae"
            ],
            [
             0.3,
             "#f1b6da"
            ],
            [
             0.4,
             "#fde0ef"
            ],
            [
             0.5,
             "#f7f7f7"
            ],
            [
             0.6,
             "#e6f5d0"
            ],
            [
             0.7,
             "#b8e186"
            ],
            [
             0.8,
             "#7fbc41"
            ],
            [
             0.9,
             "#4d9221"
            ],
            [
             1,
             "#276419"
            ]
           ],
           "sequential": [
            [
             0,
             "#0d0887"
            ],
            [
             0.1111111111111111,
             "#46039f"
            ],
            [
             0.2222222222222222,
             "#7201a8"
            ],
            [
             0.3333333333333333,
             "#9c179e"
            ],
            [
             0.4444444444444444,
             "#bd3786"
            ],
            [
             0.5555555555555556,
             "#d8576b"
            ],
            [
             0.6666666666666666,
             "#ed7953"
            ],
            [
             0.7777777777777778,
             "#fb9f3a"
            ],
            [
             0.8888888888888888,
             "#fdca26"
            ],
            [
             1,
             "#f0f921"
            ]
           ],
           "sequentialminus": [
            [
             0,
             "#0d0887"
            ],
            [
             0.1111111111111111,
             "#46039f"
            ],
            [
             0.2222222222222222,
             "#7201a8"
            ],
            [
             0.3333333333333333,
             "#9c179e"
            ],
            [
             0.4444444444444444,
             "#bd3786"
            ],
            [
             0.5555555555555556,
             "#d8576b"
            ],
            [
             0.6666666666666666,
             "#ed7953"
            ],
            [
             0.7777777777777778,
             "#fb9f3a"
            ],
            [
             0.8888888888888888,
             "#fdca26"
            ],
            [
             1,
             "#f0f921"
            ]
           ]
          },
          "colorway": [
           "#636efa",
           "#EF553B",
           "#00cc96",
           "#ab63fa",
           "#FFA15A",
           "#19d3f3",
           "#FF6692",
           "#B6E880",
           "#FF97FF",
           "#FECB52"
          ],
          "font": {
           "color": "#2a3f5f"
          },
          "geo": {
           "bgcolor": "white",
           "lakecolor": "white",
           "landcolor": "#E5ECF6",
           "showlakes": true,
           "showland": true,
           "subunitcolor": "white"
          },
          "hoverlabel": {
           "align": "left"
          },
          "hovermode": "closest",
          "mapbox": {
           "style": "light"
          },
          "paper_bgcolor": "white",
          "plot_bgcolor": "#E5ECF6",
          "polar": {
           "angularaxis": {
            "gridcolor": "white",
            "linecolor": "white",
            "ticks": ""
           },
           "bgcolor": "#E5ECF6",
           "radialaxis": {
            "gridcolor": "white",
            "linecolor": "white",
            "ticks": ""
           }
          },
          "scene": {
           "xaxis": {
            "backgroundcolor": "#E5ECF6",
            "gridcolor": "white",
            "gridwidth": 2,
            "linecolor": "white",
            "showbackground": true,
            "ticks": "",
            "zerolinecolor": "white"
           },
           "yaxis": {
            "backgroundcolor": "#E5ECF6",
            "gridcolor": "white",
            "gridwidth": 2,
            "linecolor": "white",
            "showbackground": true,
            "ticks": "",
            "zerolinecolor": "white"
           },
           "zaxis": {
            "backgroundcolor": "#E5ECF6",
            "gridcolor": "white",
            "gridwidth": 2,
            "linecolor": "white",
            "showbackground": true,
            "ticks": "",
            "zerolinecolor": "white"
           }
          },
          "shapedefaults": {
           "line": {
            "color": "#2a3f5f"
           }
          },
          "ternary": {
           "aaxis": {
            "gridcolor": "white",
            "linecolor": "white",
            "ticks": ""
           },
           "baxis": {
            "gridcolor": "white",
            "linecolor": "white",
            "ticks": ""
           },
           "bgcolor": "#E5ECF6",
           "caxis": {
            "gridcolor": "white",
            "linecolor": "white",
            "ticks": ""
           }
          },
          "title": {
           "x": 0.05
          },
          "xaxis": {
           "automargin": true,
           "gridcolor": "white",
           "linecolor": "white",
           "ticks": "",
           "title": {
            "standoff": 15
           },
           "zerolinecolor": "white",
           "zerolinewidth": 2
          },
          "yaxis": {
           "automargin": true,
           "gridcolor": "white",
           "linecolor": "white",
           "ticks": "",
           "title": {
            "standoff": 15
           },
           "zerolinecolor": "white",
           "zerolinewidth": 2
          }
         }
        },
        "title": {
         "text": "Multiple Sequence Alignment (MSA) Visualization<br>Gap: -10, Match: 10, Mismatch: -10"
        },
        "xaxis": {
         "side": "bottom",
         "ticks": ""
        },
        "yaxis": {
         "ticks": ""
        }
       }
      }
     },
     "metadata": {},
     "output_type": "display_data"
    }
   ],
   "source": [
    "\n",
    "# seq1 = \"ATTGCCATT\"\n",
    "# seq2 = \"ATGGCCATT\"\n",
    "# seq3 = \"ATCCAATTTT\"\n",
    "# seq4 = \"ATCTTCTT\"\n",
    "# seq5 = \"ACTGACC\"\n",
    "seq1 = open_seq('A4ZIF1.fasta')\n",
    "seq2 = open_seq('A4ZIC9.fasta')\n",
    "seq3 = open_seq('A0A947GKN1.fasta')\n",
    "seq4 = open_seq('A0A947DFW8.fasta')\n",
    "seqs = [seq1, seq2, seq3, seq4]\n",
    "\n",
    "gap = -10\n",
    "match = 10\n",
    "mismatch = -10\n",
    "\n",
    "\n",
    "matrix_of_score, msa_score, index_of_aligment= central_aligment(seqs, gap, match, mismatch)\n",
    "\n",
    "MSA = get_MSA(seqs, index_of_aligment)\n",
    "print(\"MSA: \" + MSA)\n",
    "\n",
    "globalAlignment = final_MSA(seqs, MSA,  gap, match, mismatch)\n",
    "print(\"Matching sequences each with each\" + str(globalAlignment))\n",
    "\n",
    "final = final_final_version(MSA, globalAlignment)\n",
    "# print(\"Final version, first sequence is MSA\" + str(final))\n",
    "grafic_show(final, gap, match, mismatch)\n",
    "\n",
    "save_results_global(seqs, seqs, gap, mismatch, match, matrix_of_score, MSA, globalAlignment, final, file_name=\"wyniki.txt\")\n",
    "\n",
    "\n"
   ]
  },
  {
   "cell_type": "markdown",
   "metadata": {},
   "source": [
    "# Schemat blokowy algorytmu"
   ]
  },
  {
   "attachments": {
    "schemat_algorytmu.drawio.png": {
     "image/png": "[encoded data removed]"
    }
   },
   "cell_type": "markdown",
   "metadata": {},
   "source": [
    "![schemat_algorytmu.drawio.png](attachment:schemat_algorytmu.drawio.png)"
   ]
  },
  {
   "cell_type": "markdown",
   "metadata": {},
   "source": [
    "\n",
    "\n",
    "## Złożoność Czasowa\n",
    "\n",
    "- Funkcja `central_alignment` dominuje złożoność czasową z złożonością $O(k^2 \\cdot n \\cdot m)$, , gdzie k to liczba sekwencji, a n i m to średnie długości sekwencji. Funkcja dopasowuje każdą sekwencję do każdej innej.\n",
    "- Funkcja `final_MSA` również ma wpływ na złożoność czasową z złożonością $O(k \\cdot n \\cdot m)$, gdzie k to liczba sekwencji, a n i m to średnie długości sekwencji. Funkcja dopasowuje każdą sekwencję do centralnej.\n",
    "\n",
    "### Łączna Złożoność Czasowa:\n",
    "$O(k^2 \\cdot n \\cdot m) + O(k \\cdot n \\cdot m)$\n",
    "\n",
    "## Złożoność Pamięciowa\n",
    "\n",
    "- Funkcja `central_alignment` dominuje złożoność pamięciową z złożonością $O(k^2 + k \\cdot n \\cdot m)$, przechowuje macierze wyników dopasowania i macierze dynamicznego programowania dla każdej pary sekwencji.\n",
    "- Funkcja `final_MSA` również wpływa na złożoność pamięciową z złożonością $O(k \\cdot n \\cdot m)$, na przechowanie macierzy dopasowania i wyników.\n",
    "\n",
    "### Łączna Złożoność Pamięciowa:\n",
    "$O(k^2 + k \\cdot n \\cdot m) + O(k \\cdot n \\cdot m)$\n"
   ]
  }
 ],
 "metadata": {
  "kernelspec": {
   "display_name": "Python 3",
   "language": "python",
   "name": "python3"
  },
  "language_info": {
   "codemirror_mode": {
    "name": "ipython",
    "version": 3
   },
   "file_extension": ".py",
   "mimetype": "text/x-python",
   "name": "python",
   "nbconvert_exporter": "python",
   "pygments_lexer": "ipython3",
   "version": "3.11.5"
  }
 },
 "nbformat": 4,
 "nbformat_minor": 2
}
